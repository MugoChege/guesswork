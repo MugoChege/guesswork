{
  "nbformat": 4,
  "nbformat_minor": 0,
  "metadata": {
    "colab": {
      "name": "The one for football.ipynb",
      "provenance": [],
      "collapsed_sections": [
        "mmri7zIQLfQe",
        "Y_DWFFiELlW5",
        "5aHP2CGfezLk",
        "yCSVyZsPfCAt",
        "WwFU6eta8cSo",
        "-1jzYXe7ustd"
      ],
      "toc_visible": true
    },
    "kernelspec": {
      "name": "python3",
      "display_name": "Python 3"
    }
  },
  "cells": [
    {
      "cell_type": "markdown",
      "metadata": {
        "id": "mmri7zIQLfQe"
      },
      "source": [
        "#1. PROBLEM STATEMENT"
      ]
    },
    {
      "cell_type": "markdown",
      "metadata": {
        "id": "gHGn0dakzzfV"
      },
      "source": [
        "###Defining the question"
      ]
    },
    {
      "cell_type": "markdown",
      "metadata": {
        "id": "TUXPSgIxyC9w"
      },
      "source": [
        "A necessity has arisen for a model that can predict the scores of a match up between two different soccer teams based on the past matches played by the teams. A model shall be made that can predict the outcome of a match of two teams is required for a company."
      ]
    },
    {
      "cell_type": "markdown",
      "metadata": {
        "id": "ENe3QKBdz4iT"
      },
      "source": [
        "###Metric of success"
      ]
    },
    {
      "cell_type": "markdown",
      "metadata": {
        "id": "APw9YqApzZ9S"
      },
      "source": [
        "Ability to predict scores"
      ]
    },
    {
      "cell_type": "markdown",
      "metadata": {
        "id": "CIO6EAlTz7fu"
      },
      "source": [
        "###Context"
      ]
    },
    {
      "cell_type": "markdown",
      "metadata": {
        "id": "YFVlvqeQzrZA"
      },
      "source": [
        "The ranking of the teams is done using a points system that is determined by the following [document.](https://img.fifa.com/image/upload/edbm045h0udbwkqew35a.pdf)"
      ]
    },
    {
      "cell_type": "markdown",
      "metadata": {
        "id": "jYcBlqEs1Y_R"
      },
      "source": [
        "A potential issue may arise due to the dispersion of the point within the ranking system. The points difference between two teams that are consecutive on the ranking system may vary. This is; the points between the first and second team may be a single point while the second and the third forty points. "
      ]
    },
    {
      "cell_type": "markdown",
      "metadata": {
        "id": "59BzBCd_0A-7"
      },
      "source": [
        "###Approptiateness if available data"
      ]
    },
    {
      "cell_type": "markdown",
      "metadata": {
        "id": "Y_DWFFiELlW5"
      },
      "source": [
        "#DATA PROCESSING"
      ]
    },
    {
      "cell_type": "markdown",
      "metadata": {
        "id": "HZqB-hgdLuUD"
      },
      "source": [
        "##Prerequisites"
      ]
    },
    {
      "cell_type": "markdown",
      "metadata": {
        "id": "QKjGCO4fSz-Z"
      },
      "source": [
        "Loading the libraries that shall be used in this project."
      ]
    },
    {
      "cell_type": "code",
      "metadata": {
        "id": "r2u38vtkRNcF"
      },
      "source": [
        "import pandas as pd\n",
        "import numpy as np\n",
        "import matplotlib.pyplot as plt\n",
        "import seaborn as sb"
      ],
      "execution_count": 326,
      "outputs": []
    },
    {
      "cell_type": "markdown",
      "metadata": {
        "id": "ocYB6nXXX6eQ"
      },
      "source": [
        "##Reading the data"
      ]
    },
    {
      "cell_type": "markdown",
      "metadata": {
        "id": "4hgUld4US74G"
      },
      "source": [
        "Loading the data from the provided datasets"
      ]
    },
    {
      "cell_type": "code",
      "metadata": {
        "id": "u4u4d7C_Q2w9"
      },
      "source": [
        "with open('/content/fifa_ranking.csv', 'r') as d:\n",
        "  ranking = pd.read_csv(d)"
      ],
      "execution_count": 327,
      "outputs": []
    },
    {
      "cell_type": "code",
      "metadata": {
        "id": "MNcLWvnGRG8B"
      },
      "source": [
        "with open('/content/results.csv' , 'r') as f:\n",
        "  results = pd.read_csv(f)"
      ],
      "execution_count": 328,
      "outputs": []
    },
    {
      "cell_type": "markdown",
      "metadata": {
        "id": "yastM4s5Xzyh"
      },
      "source": [
        "##Checking the data"
      ]
    },
    {
      "cell_type": "markdown",
      "metadata": {
        "id": "N1L1sGfnTEZq"
      },
      "source": [
        "Previewing the datasets and getting a general view of what they entail."
      ]
    },
    {
      "cell_type": "code",
      "metadata": {
        "id": "kkMkVpyKRfmi",
        "outputId": "96323473-3389-4c8e-a7fd-9c1e1bf0c273",
        "colab": {
          "base_uri": "https://localhost:8080/",
          "height": 543
        }
      },
      "source": [
        "results.head(10)"
      ],
      "execution_count": 329,
      "outputs": [
        {
          "output_type": "execute_result",
          "data": {
            "text/html": [
              "<div>\n",
              "<style scoped>\n",
              "    .dataframe tbody tr th:only-of-type {\n",
              "        vertical-align: middle;\n",
              "    }\n",
              "\n",
              "    .dataframe tbody tr th {\n",
              "        vertical-align: top;\n",
              "    }\n",
              "\n",
              "    .dataframe thead th {\n",
              "        text-align: right;\n",
              "    }\n",
              "</style>\n",
              "<table border=\"1\" class=\"dataframe\">\n",
              "  <thead>\n",
              "    <tr style=\"text-align: right;\">\n",
              "      <th></th>\n",
              "      <th>date</th>\n",
              "      <th>home_team</th>\n",
              "      <th>away_team</th>\n",
              "      <th>home_score</th>\n",
              "      <th>away_score</th>\n",
              "      <th>tournament</th>\n",
              "      <th>city</th>\n",
              "      <th>country</th>\n",
              "      <th>neutral</th>\n",
              "    </tr>\n",
              "  </thead>\n",
              "  <tbody>\n",
              "    <tr>\n",
              "      <th>0</th>\n",
              "      <td>1872-11-30</td>\n",
              "      <td>Scotland</td>\n",
              "      <td>England</td>\n",
              "      <td>0</td>\n",
              "      <td>0</td>\n",
              "      <td>Friendly</td>\n",
              "      <td>Glasgow</td>\n",
              "      <td>Scotland</td>\n",
              "      <td>False</td>\n",
              "    </tr>\n",
              "    <tr>\n",
              "      <th>1</th>\n",
              "      <td>1873-03-08</td>\n",
              "      <td>England</td>\n",
              "      <td>Scotland</td>\n",
              "      <td>4</td>\n",
              "      <td>2</td>\n",
              "      <td>Friendly</td>\n",
              "      <td>London</td>\n",
              "      <td>England</td>\n",
              "      <td>False</td>\n",
              "    </tr>\n",
              "    <tr>\n",
              "      <th>2</th>\n",
              "      <td>1874-03-07</td>\n",
              "      <td>Scotland</td>\n",
              "      <td>England</td>\n",
              "      <td>2</td>\n",
              "      <td>1</td>\n",
              "      <td>Friendly</td>\n",
              "      <td>Glasgow</td>\n",
              "      <td>Scotland</td>\n",
              "      <td>False</td>\n",
              "    </tr>\n",
              "    <tr>\n",
              "      <th>3</th>\n",
              "      <td>1875-03-06</td>\n",
              "      <td>England</td>\n",
              "      <td>Scotland</td>\n",
              "      <td>2</td>\n",
              "      <td>2</td>\n",
              "      <td>Friendly</td>\n",
              "      <td>London</td>\n",
              "      <td>England</td>\n",
              "      <td>False</td>\n",
              "    </tr>\n",
              "    <tr>\n",
              "      <th>4</th>\n",
              "      <td>1876-03-04</td>\n",
              "      <td>Scotland</td>\n",
              "      <td>England</td>\n",
              "      <td>3</td>\n",
              "      <td>0</td>\n",
              "      <td>Friendly</td>\n",
              "      <td>Glasgow</td>\n",
              "      <td>Scotland</td>\n",
              "      <td>False</td>\n",
              "    </tr>\n",
              "    <tr>\n",
              "      <th>5</th>\n",
              "      <td>1876-03-25</td>\n",
              "      <td>Scotland</td>\n",
              "      <td>Wales</td>\n",
              "      <td>4</td>\n",
              "      <td>0</td>\n",
              "      <td>Friendly</td>\n",
              "      <td>Glasgow</td>\n",
              "      <td>Scotland</td>\n",
              "      <td>False</td>\n",
              "    </tr>\n",
              "    <tr>\n",
              "      <th>6</th>\n",
              "      <td>1877-03-03</td>\n",
              "      <td>England</td>\n",
              "      <td>Scotland</td>\n",
              "      <td>1</td>\n",
              "      <td>3</td>\n",
              "      <td>Friendly</td>\n",
              "      <td>London</td>\n",
              "      <td>England</td>\n",
              "      <td>False</td>\n",
              "    </tr>\n",
              "    <tr>\n",
              "      <th>7</th>\n",
              "      <td>1877-03-05</td>\n",
              "      <td>Wales</td>\n",
              "      <td>Scotland</td>\n",
              "      <td>0</td>\n",
              "      <td>2</td>\n",
              "      <td>Friendly</td>\n",
              "      <td>Wrexham</td>\n",
              "      <td>Wales</td>\n",
              "      <td>False</td>\n",
              "    </tr>\n",
              "    <tr>\n",
              "      <th>8</th>\n",
              "      <td>1878-03-02</td>\n",
              "      <td>Scotland</td>\n",
              "      <td>England</td>\n",
              "      <td>7</td>\n",
              "      <td>2</td>\n",
              "      <td>Friendly</td>\n",
              "      <td>Glasgow</td>\n",
              "      <td>Scotland</td>\n",
              "      <td>False</td>\n",
              "    </tr>\n",
              "    <tr>\n",
              "      <th>9</th>\n",
              "      <td>1878-03-23</td>\n",
              "      <td>Scotland</td>\n",
              "      <td>Wales</td>\n",
              "      <td>9</td>\n",
              "      <td>0</td>\n",
              "      <td>Friendly</td>\n",
              "      <td>Glasgow</td>\n",
              "      <td>Scotland</td>\n",
              "      <td>False</td>\n",
              "    </tr>\n",
              "  </tbody>\n",
              "</table>\n",
              "</div>"
            ],
            "text/plain": [
              "         date home_team away_team  ...     city   country neutral\n",
              "0  1872-11-30  Scotland   England  ...  Glasgow  Scotland   False\n",
              "1  1873-03-08   England  Scotland  ...   London   England   False\n",
              "2  1874-03-07  Scotland   England  ...  Glasgow  Scotland   False\n",
              "3  1875-03-06   England  Scotland  ...   London   England   False\n",
              "4  1876-03-04  Scotland   England  ...  Glasgow  Scotland   False\n",
              "5  1876-03-25  Scotland     Wales  ...  Glasgow  Scotland   False\n",
              "6  1877-03-03   England  Scotland  ...   London   England   False\n",
              "7  1877-03-05     Wales  Scotland  ...  Wrexham     Wales   False\n",
              "8  1878-03-02  Scotland   England  ...  Glasgow  Scotland   False\n",
              "9  1878-03-23  Scotland     Wales  ...  Glasgow  Scotland   False\n",
              "\n",
              "[10 rows x 9 columns]"
            ]
          },
          "metadata": {
            "tags": []
          },
          "execution_count": 329
        }
      ]
    },
    {
      "cell_type": "code",
      "metadata": {
        "id": "XwjD_u4qRh1_",
        "outputId": "f5adcd14-8e1f-4539-da31-625eb7ab9b10",
        "colab": {
          "base_uri": "https://localhost:8080/",
          "height": 543
        }
      },
      "source": [
        "ranking.head(10)"
      ],
      "execution_count": 330,
      "outputs": [
        {
          "output_type": "execute_result",
          "data": {
            "text/html": [
              "<div>\n",
              "<style scoped>\n",
              "    .dataframe tbody tr th:only-of-type {\n",
              "        vertical-align: middle;\n",
              "    }\n",
              "\n",
              "    .dataframe tbody tr th {\n",
              "        vertical-align: top;\n",
              "    }\n",
              "\n",
              "    .dataframe thead th {\n",
              "        text-align: right;\n",
              "    }\n",
              "</style>\n",
              "<table border=\"1\" class=\"dataframe\">\n",
              "  <thead>\n",
              "    <tr style=\"text-align: right;\">\n",
              "      <th></th>\n",
              "      <th>rank</th>\n",
              "      <th>country_full</th>\n",
              "      <th>country_abrv</th>\n",
              "      <th>total_points</th>\n",
              "      <th>previous_points</th>\n",
              "      <th>rank_change</th>\n",
              "      <th>cur_year_avg</th>\n",
              "      <th>cur_year_avg_weighted</th>\n",
              "      <th>last_year_avg</th>\n",
              "      <th>last_year_avg_weighted</th>\n",
              "      <th>two_year_ago_avg</th>\n",
              "      <th>two_year_ago_weighted</th>\n",
              "      <th>three_year_ago_avg</th>\n",
              "      <th>three_year_ago_weighted</th>\n",
              "      <th>confederation</th>\n",
              "      <th>rank_date</th>\n",
              "    </tr>\n",
              "  </thead>\n",
              "  <tbody>\n",
              "    <tr>\n",
              "      <th>0</th>\n",
              "      <td>1</td>\n",
              "      <td>Germany</td>\n",
              "      <td>GER</td>\n",
              "      <td>0.0</td>\n",
              "      <td>57</td>\n",
              "      <td>0</td>\n",
              "      <td>0.0</td>\n",
              "      <td>0.0</td>\n",
              "      <td>0.0</td>\n",
              "      <td>0.0</td>\n",
              "      <td>0.0</td>\n",
              "      <td>0.0</td>\n",
              "      <td>0.0</td>\n",
              "      <td>0.0</td>\n",
              "      <td>UEFA</td>\n",
              "      <td>1993-08-08</td>\n",
              "    </tr>\n",
              "    <tr>\n",
              "      <th>1</th>\n",
              "      <td>2</td>\n",
              "      <td>Italy</td>\n",
              "      <td>ITA</td>\n",
              "      <td>0.0</td>\n",
              "      <td>57</td>\n",
              "      <td>0</td>\n",
              "      <td>0.0</td>\n",
              "      <td>0.0</td>\n",
              "      <td>0.0</td>\n",
              "      <td>0.0</td>\n",
              "      <td>0.0</td>\n",
              "      <td>0.0</td>\n",
              "      <td>0.0</td>\n",
              "      <td>0.0</td>\n",
              "      <td>UEFA</td>\n",
              "      <td>1993-08-08</td>\n",
              "    </tr>\n",
              "    <tr>\n",
              "      <th>2</th>\n",
              "      <td>3</td>\n",
              "      <td>Switzerland</td>\n",
              "      <td>SUI</td>\n",
              "      <td>0.0</td>\n",
              "      <td>50</td>\n",
              "      <td>9</td>\n",
              "      <td>0.0</td>\n",
              "      <td>0.0</td>\n",
              "      <td>0.0</td>\n",
              "      <td>0.0</td>\n",
              "      <td>0.0</td>\n",
              "      <td>0.0</td>\n",
              "      <td>0.0</td>\n",
              "      <td>0.0</td>\n",
              "      <td>UEFA</td>\n",
              "      <td>1993-08-08</td>\n",
              "    </tr>\n",
              "    <tr>\n",
              "      <th>3</th>\n",
              "      <td>4</td>\n",
              "      <td>Sweden</td>\n",
              "      <td>SWE</td>\n",
              "      <td>0.0</td>\n",
              "      <td>55</td>\n",
              "      <td>0</td>\n",
              "      <td>0.0</td>\n",
              "      <td>0.0</td>\n",
              "      <td>0.0</td>\n",
              "      <td>0.0</td>\n",
              "      <td>0.0</td>\n",
              "      <td>0.0</td>\n",
              "      <td>0.0</td>\n",
              "      <td>0.0</td>\n",
              "      <td>UEFA</td>\n",
              "      <td>1993-08-08</td>\n",
              "    </tr>\n",
              "    <tr>\n",
              "      <th>4</th>\n",
              "      <td>5</td>\n",
              "      <td>Argentina</td>\n",
              "      <td>ARG</td>\n",
              "      <td>0.0</td>\n",
              "      <td>51</td>\n",
              "      <td>5</td>\n",
              "      <td>0.0</td>\n",
              "      <td>0.0</td>\n",
              "      <td>0.0</td>\n",
              "      <td>0.0</td>\n",
              "      <td>0.0</td>\n",
              "      <td>0.0</td>\n",
              "      <td>0.0</td>\n",
              "      <td>0.0</td>\n",
              "      <td>CONMEBOL</td>\n",
              "      <td>1993-08-08</td>\n",
              "    </tr>\n",
              "    <tr>\n",
              "      <th>5</th>\n",
              "      <td>6</td>\n",
              "      <td>Republic of Ireland</td>\n",
              "      <td>IRL</td>\n",
              "      <td>0.0</td>\n",
              "      <td>54</td>\n",
              "      <td>0</td>\n",
              "      <td>0.0</td>\n",
              "      <td>0.0</td>\n",
              "      <td>0.0</td>\n",
              "      <td>0.0</td>\n",
              "      <td>0.0</td>\n",
              "      <td>0.0</td>\n",
              "      <td>0.0</td>\n",
              "      <td>0.0</td>\n",
              "      <td>UEFA</td>\n",
              "      <td>1993-08-08</td>\n",
              "    </tr>\n",
              "    <tr>\n",
              "      <th>6</th>\n",
              "      <td>7</td>\n",
              "      <td>Russia</td>\n",
              "      <td>RUS</td>\n",
              "      <td>0.0</td>\n",
              "      <td>52</td>\n",
              "      <td>1</td>\n",
              "      <td>0.0</td>\n",
              "      <td>0.0</td>\n",
              "      <td>0.0</td>\n",
              "      <td>0.0</td>\n",
              "      <td>0.0</td>\n",
              "      <td>0.0</td>\n",
              "      <td>0.0</td>\n",
              "      <td>0.0</td>\n",
              "      <td>UEFA</td>\n",
              "      <td>1993-08-08</td>\n",
              "    </tr>\n",
              "    <tr>\n",
              "      <th>7</th>\n",
              "      <td>8</td>\n",
              "      <td>Brazil</td>\n",
              "      <td>BRA</td>\n",
              "      <td>0.0</td>\n",
              "      <td>55</td>\n",
              "      <td>-5</td>\n",
              "      <td>0.0</td>\n",
              "      <td>0.0</td>\n",
              "      <td>0.0</td>\n",
              "      <td>0.0</td>\n",
              "      <td>0.0</td>\n",
              "      <td>0.0</td>\n",
              "      <td>0.0</td>\n",
              "      <td>0.0</td>\n",
              "      <td>CONMEBOL</td>\n",
              "      <td>1993-08-08</td>\n",
              "    </tr>\n",
              "    <tr>\n",
              "      <th>8</th>\n",
              "      <td>9</td>\n",
              "      <td>Norway</td>\n",
              "      <td>NOR</td>\n",
              "      <td>0.0</td>\n",
              "      <td>49</td>\n",
              "      <td>5</td>\n",
              "      <td>0.0</td>\n",
              "      <td>0.0</td>\n",
              "      <td>0.0</td>\n",
              "      <td>0.0</td>\n",
              "      <td>0.0</td>\n",
              "      <td>0.0</td>\n",
              "      <td>0.0</td>\n",
              "      <td>0.0</td>\n",
              "      <td>UEFA</td>\n",
              "      <td>1993-08-08</td>\n",
              "    </tr>\n",
              "    <tr>\n",
              "      <th>9</th>\n",
              "      <td>10</td>\n",
              "      <td>Denmark</td>\n",
              "      <td>DEN</td>\n",
              "      <td>0.0</td>\n",
              "      <td>51</td>\n",
              "      <td>-1</td>\n",
              "      <td>0.0</td>\n",
              "      <td>0.0</td>\n",
              "      <td>0.0</td>\n",
              "      <td>0.0</td>\n",
              "      <td>0.0</td>\n",
              "      <td>0.0</td>\n",
              "      <td>0.0</td>\n",
              "      <td>0.0</td>\n",
              "      <td>UEFA</td>\n",
              "      <td>1993-08-08</td>\n",
              "    </tr>\n",
              "  </tbody>\n",
              "</table>\n",
              "</div>"
            ],
            "text/plain": [
              "   rank         country_full  ... confederation   rank_date\n",
              "0     1              Germany  ...          UEFA  1993-08-08\n",
              "1     2                Italy  ...          UEFA  1993-08-08\n",
              "2     3          Switzerland  ...          UEFA  1993-08-08\n",
              "3     4               Sweden  ...          UEFA  1993-08-08\n",
              "4     5            Argentina  ...      CONMEBOL  1993-08-08\n",
              "5     6  Republic of Ireland  ...          UEFA  1993-08-08\n",
              "6     7               Russia  ...          UEFA  1993-08-08\n",
              "7     8               Brazil  ...      CONMEBOL  1993-08-08\n",
              "8     9               Norway  ...          UEFA  1993-08-08\n",
              "9    10              Denmark  ...          UEFA  1993-08-08\n",
              "\n",
              "[10 rows x 16 columns]"
            ]
          },
          "metadata": {
            "tags": []
          },
          "execution_count": 330
        }
      ]
    },
    {
      "cell_type": "code",
      "metadata": {
        "id": "UiNl0gFjR2dJ",
        "outputId": "3c4f75a9-6a18-4fcb-9612-a132f61bbad1",
        "colab": {
          "base_uri": "https://localhost:8080/"
        }
      },
      "source": [
        "results.shape"
      ],
      "execution_count": 331,
      "outputs": [
        {
          "output_type": "execute_result",
          "data": {
            "text/plain": [
              "(40839, 9)"
            ]
          },
          "metadata": {
            "tags": []
          },
          "execution_count": 331
        }
      ]
    },
    {
      "cell_type": "code",
      "metadata": {
        "id": "FA6jLudtR7LP",
        "outputId": "c8286917-df33-4ad9-a5a6-55a7eb231469",
        "colab": {
          "base_uri": "https://localhost:8080/"
        }
      },
      "source": [
        "ranking.shape"
      ],
      "execution_count": 332,
      "outputs": [
        {
          "output_type": "execute_result",
          "data": {
            "text/plain": [
              "(57793, 16)"
            ]
          },
          "metadata": {
            "tags": []
          },
          "execution_count": 332
        }
      ]
    },
    {
      "cell_type": "code",
      "metadata": {
        "id": "ojFN1RZGYIaa",
        "outputId": "5f1ac7a7-5a51-44c0-e5d5-b403d1f0a51c",
        "colab": {
          "base_uri": "https://localhost:8080/"
        }
      },
      "source": [
        "ranking.dtypes"
      ],
      "execution_count": 333,
      "outputs": [
        {
          "output_type": "execute_result",
          "data": {
            "text/plain": [
              "rank                         int64\n",
              "country_full                object\n",
              "country_abrv                object\n",
              "total_points               float64\n",
              "previous_points              int64\n",
              "rank_change                  int64\n",
              "cur_year_avg               float64\n",
              "cur_year_avg_weighted      float64\n",
              "last_year_avg              float64\n",
              "last_year_avg_weighted     float64\n",
              "two_year_ago_avg           float64\n",
              "two_year_ago_weighted      float64\n",
              "three_year_ago_avg         float64\n",
              "three_year_ago_weighted    float64\n",
              "confederation               object\n",
              "rank_date                   object\n",
              "dtype: object"
            ]
          },
          "metadata": {
            "tags": []
          },
          "execution_count": 333
        }
      ]
    },
    {
      "cell_type": "code",
      "metadata": {
        "id": "kSVbYm_qYLnx",
        "outputId": "3ea495c5-616e-49cd-d4fb-68eb1aa4b872",
        "colab": {
          "base_uri": "https://localhost:8080/"
        }
      },
      "source": [
        "results.dtypes"
      ],
      "execution_count": 334,
      "outputs": [
        {
          "output_type": "execute_result",
          "data": {
            "text/plain": [
              "date          object\n",
              "home_team     object\n",
              "away_team     object\n",
              "home_score     int64\n",
              "away_score     int64\n",
              "tournament    object\n",
              "city          object\n",
              "country       object\n",
              "neutral         bool\n",
              "dtype: object"
            ]
          },
          "metadata": {
            "tags": []
          },
          "execution_count": 334
        }
      ]
    },
    {
      "cell_type": "code",
      "metadata": {
        "id": "Ia-_c3g34iBw"
      },
      "source": [
        "#Changing the date and the time of the dataset to an object that\n",
        "# the programming will allow for manipulation.\n",
        "\n",
        "ranking['rank_date'] = pd.to_datetime(ranking['rank_date'])"
      ],
      "execution_count": 335,
      "outputs": []
    },
    {
      "cell_type": "code",
      "metadata": {
        "id": "OaTbJ1M0FnbW"
      },
      "source": [
        "#Changing the date and the time of the dataset to an object that\n",
        "# the programming will allow for manipulation.\n",
        "\n",
        "results['date'] = pd.to_datetime(results['date'])"
      ],
      "execution_count": 336,
      "outputs": []
    },
    {
      "cell_type": "markdown",
      "metadata": {
        "id": "LE9iqGAggN79"
      },
      "source": [
        "##External Data Source Validation"
      ]
    },
    {
      "cell_type": "markdown",
      "metadata": {
        "id": "VFF2fFRyTkSK"
      },
      "source": [
        "An assumption in made that will be investigated here that the ranking is much more placement on a list rather than the metric on the teams strength within the dataset. This shall be investigated by the maximum value on the list of every year of the ranking dataset. "
      ]
    },
    {
      "cell_type": "markdown",
      "metadata": {
        "id": "gNCVqhCTT9TV"
      },
      "source": [
        "Also the context; here meaning the number of years that are within our datasets records can be found."
      ]
    },
    {
      "cell_type": "code",
      "metadata": {
        "id": "NaPhte7AUGmc"
      },
      "source": [
        "foryear = ranking.copy()"
      ],
      "execution_count": 337,
      "outputs": []
    },
    {
      "cell_type": "code",
      "metadata": {
        "id": "_TGqrSUOUPm7"
      },
      "source": [
        "foryear['year']= ''\n",
        "for r ,row in foryear.iterrows():\n",
        "  t = foryear.loc[r , 'rank_date']\n",
        "  foryear.loc[r, 'year'] = t.strftime('%Y')"
      ],
      "execution_count": 338,
      "outputs": []
    },
    {
      "cell_type": "code",
      "metadata": {
        "id": "qq5CWDJVUk5-",
        "outputId": "6f6eb40e-faf9-4b44-fd74-10c6766ee1c8",
        "colab": {
          "base_uri": "https://localhost:8080/",
          "height": 1000
        }
      },
      "source": [
        "foryear.groupby(['year']).max()"
      ],
      "execution_count": 339,
      "outputs": [
        {
          "output_type": "execute_result",
          "data": {
            "text/html": [
              "<div>\n",
              "<style scoped>\n",
              "    .dataframe tbody tr th:only-of-type {\n",
              "        vertical-align: middle;\n",
              "    }\n",
              "\n",
              "    .dataframe tbody tr th {\n",
              "        vertical-align: top;\n",
              "    }\n",
              "\n",
              "    .dataframe thead th {\n",
              "        text-align: right;\n",
              "    }\n",
              "</style>\n",
              "<table border=\"1\" class=\"dataframe\">\n",
              "  <thead>\n",
              "    <tr style=\"text-align: right;\">\n",
              "      <th></th>\n",
              "      <th>rank</th>\n",
              "      <th>country_full</th>\n",
              "      <th>country_abrv</th>\n",
              "      <th>total_points</th>\n",
              "      <th>previous_points</th>\n",
              "      <th>rank_change</th>\n",
              "      <th>cur_year_avg</th>\n",
              "      <th>cur_year_avg_weighted</th>\n",
              "      <th>last_year_avg</th>\n",
              "      <th>last_year_avg_weighted</th>\n",
              "      <th>two_year_ago_avg</th>\n",
              "      <th>two_year_ago_weighted</th>\n",
              "      <th>three_year_ago_avg</th>\n",
              "      <th>three_year_ago_weighted</th>\n",
              "      <th>confederation</th>\n",
              "      <th>rank_date</th>\n",
              "    </tr>\n",
              "    <tr>\n",
              "      <th>year</th>\n",
              "      <th></th>\n",
              "      <th></th>\n",
              "      <th></th>\n",
              "      <th></th>\n",
              "      <th></th>\n",
              "      <th></th>\n",
              "      <th></th>\n",
              "      <th></th>\n",
              "      <th></th>\n",
              "      <th></th>\n",
              "      <th></th>\n",
              "      <th></th>\n",
              "      <th></th>\n",
              "      <th></th>\n",
              "      <th></th>\n",
              "      <th></th>\n",
              "    </tr>\n",
              "  </thead>\n",
              "  <tbody>\n",
              "    <tr>\n",
              "      <th>1993</th>\n",
              "      <td>167</td>\n",
              "      <td>Zimbabwe</td>\n",
              "      <td>ZIM</td>\n",
              "      <td>0.00</td>\n",
              "      <td>59</td>\n",
              "      <td>53</td>\n",
              "      <td>0.00</td>\n",
              "      <td>0.00</td>\n",
              "      <td>0.00</td>\n",
              "      <td>0.00</td>\n",
              "      <td>0.00</td>\n",
              "      <td>0.00</td>\n",
              "      <td>0.00</td>\n",
              "      <td>0.00</td>\n",
              "      <td>UEFA</td>\n",
              "      <td>1993-12-23</td>\n",
              "    </tr>\n",
              "    <tr>\n",
              "      <th>1994</th>\n",
              "      <td>176</td>\n",
              "      <td>Zimbabwe</td>\n",
              "      <td>ZIM</td>\n",
              "      <td>0.00</td>\n",
              "      <td>66</td>\n",
              "      <td>92</td>\n",
              "      <td>0.00</td>\n",
              "      <td>0.00</td>\n",
              "      <td>0.00</td>\n",
              "      <td>0.00</td>\n",
              "      <td>0.00</td>\n",
              "      <td>0.00</td>\n",
              "      <td>0.00</td>\n",
              "      <td>0.00</td>\n",
              "      <td>UEFA</td>\n",
              "      <td>1994-12-20</td>\n",
              "    </tr>\n",
              "    <tr>\n",
              "      <th>1995</th>\n",
              "      <td>180</td>\n",
              "      <td>Zimbabwe</td>\n",
              "      <td>ZIM</td>\n",
              "      <td>0.00</td>\n",
              "      <td>68</td>\n",
              "      <td>72</td>\n",
              "      <td>0.00</td>\n",
              "      <td>0.00</td>\n",
              "      <td>0.00</td>\n",
              "      <td>0.00</td>\n",
              "      <td>0.00</td>\n",
              "      <td>0.00</td>\n",
              "      <td>0.00</td>\n",
              "      <td>0.00</td>\n",
              "      <td>UEFA</td>\n",
              "      <td>1995-12-19</td>\n",
              "    </tr>\n",
              "    <tr>\n",
              "      <th>1996</th>\n",
              "      <td>188</td>\n",
              "      <td>Zimbabwe</td>\n",
              "      <td>ZIM</td>\n",
              "      <td>0.00</td>\n",
              "      <td>69</td>\n",
              "      <td>65</td>\n",
              "      <td>0.00</td>\n",
              "      <td>0.00</td>\n",
              "      <td>0.00</td>\n",
              "      <td>0.00</td>\n",
              "      <td>0.00</td>\n",
              "      <td>0.00</td>\n",
              "      <td>0.00</td>\n",
              "      <td>0.00</td>\n",
              "      <td>UEFA</td>\n",
              "      <td>1996-12-18</td>\n",
              "    </tr>\n",
              "    <tr>\n",
              "      <th>1997</th>\n",
              "      <td>192</td>\n",
              "      <td>Zimbabwe</td>\n",
              "      <td>ZIM</td>\n",
              "      <td>0.00</td>\n",
              "      <td>72</td>\n",
              "      <td>33</td>\n",
              "      <td>0.00</td>\n",
              "      <td>0.00</td>\n",
              "      <td>0.00</td>\n",
              "      <td>0.00</td>\n",
              "      <td>0.00</td>\n",
              "      <td>0.00</td>\n",
              "      <td>0.00</td>\n",
              "      <td>0.00</td>\n",
              "      <td>UEFA</td>\n",
              "      <td>1997-12-23</td>\n",
              "    </tr>\n",
              "    <tr>\n",
              "      <th>1998</th>\n",
              "      <td>198</td>\n",
              "      <td>Zimbabwe</td>\n",
              "      <td>ZIM</td>\n",
              "      <td>0.00</td>\n",
              "      <td>73</td>\n",
              "      <td>53</td>\n",
              "      <td>0.00</td>\n",
              "      <td>0.00</td>\n",
              "      <td>0.00</td>\n",
              "      <td>0.00</td>\n",
              "      <td>0.00</td>\n",
              "      <td>0.00</td>\n",
              "      <td>0.00</td>\n",
              "      <td>0.00</td>\n",
              "      <td>UEFA</td>\n",
              "      <td>1998-12-23</td>\n",
              "    </tr>\n",
              "    <tr>\n",
              "      <th>1999</th>\n",
              "      <td>202</td>\n",
              "      <td>Zimbabwe</td>\n",
              "      <td>ZIM</td>\n",
              "      <td>0.00</td>\n",
              "      <td>842</td>\n",
              "      <td>32</td>\n",
              "      <td>0.00</td>\n",
              "      <td>0.00</td>\n",
              "      <td>0.00</td>\n",
              "      <td>0.00</td>\n",
              "      <td>0.00</td>\n",
              "      <td>0.00</td>\n",
              "      <td>0.00</td>\n",
              "      <td>0.00</td>\n",
              "      <td>UEFA</td>\n",
              "      <td>1999-12-22</td>\n",
              "    </tr>\n",
              "    <tr>\n",
              "      <th>2000</th>\n",
              "      <td>203</td>\n",
              "      <td>Zimbabwe</td>\n",
              "      <td>ZIM</td>\n",
              "      <td>0.00</td>\n",
              "      <td>839</td>\n",
              "      <td>32</td>\n",
              "      <td>0.00</td>\n",
              "      <td>0.00</td>\n",
              "      <td>0.00</td>\n",
              "      <td>0.00</td>\n",
              "      <td>0.00</td>\n",
              "      <td>0.00</td>\n",
              "      <td>0.00</td>\n",
              "      <td>0.00</td>\n",
              "      <td>UEFA</td>\n",
              "      <td>2000-12-20</td>\n",
              "    </tr>\n",
              "    <tr>\n",
              "      <th>2001</th>\n",
              "      <td>203</td>\n",
              "      <td>Zimbabwe</td>\n",
              "      <td>ZIM</td>\n",
              "      <td>0.00</td>\n",
              "      <td>821</td>\n",
              "      <td>25</td>\n",
              "      <td>0.00</td>\n",
              "      <td>0.00</td>\n",
              "      <td>0.00</td>\n",
              "      <td>0.00</td>\n",
              "      <td>0.00</td>\n",
              "      <td>0.00</td>\n",
              "      <td>0.00</td>\n",
              "      <td>0.00</td>\n",
              "      <td>UEFA</td>\n",
              "      <td>2001-12-19</td>\n",
              "    </tr>\n",
              "    <tr>\n",
              "      <th>2002</th>\n",
              "      <td>203</td>\n",
              "      <td>Zimbabwe</td>\n",
              "      <td>ZIM</td>\n",
              "      <td>0.00</td>\n",
              "      <td>859</td>\n",
              "      <td>41</td>\n",
              "      <td>0.00</td>\n",
              "      <td>0.00</td>\n",
              "      <td>0.00</td>\n",
              "      <td>0.00</td>\n",
              "      <td>0.00</td>\n",
              "      <td>0.00</td>\n",
              "      <td>0.00</td>\n",
              "      <td>0.00</td>\n",
              "      <td>UEFA</td>\n",
              "      <td>2002-12-18</td>\n",
              "    </tr>\n",
              "    <tr>\n",
              "      <th>2003</th>\n",
              "      <td>204</td>\n",
              "      <td>Zimbabwe</td>\n",
              "      <td>ZIM</td>\n",
              "      <td>0.00</td>\n",
              "      <td>856</td>\n",
              "      <td>30</td>\n",
              "      <td>0.00</td>\n",
              "      <td>0.00</td>\n",
              "      <td>0.00</td>\n",
              "      <td>0.00</td>\n",
              "      <td>0.00</td>\n",
              "      <td>0.00</td>\n",
              "      <td>0.00</td>\n",
              "      <td>0.00</td>\n",
              "      <td>UEFA</td>\n",
              "      <td>2003-12-15</td>\n",
              "    </tr>\n",
              "    <tr>\n",
              "      <th>2004</th>\n",
              "      <td>205</td>\n",
              "      <td>Zimbabwe</td>\n",
              "      <td>ZIM</td>\n",
              "      <td>0.00</td>\n",
              "      <td>849</td>\n",
              "      <td>40</td>\n",
              "      <td>0.00</td>\n",
              "      <td>0.00</td>\n",
              "      <td>0.00</td>\n",
              "      <td>0.00</td>\n",
              "      <td>0.00</td>\n",
              "      <td>0.00</td>\n",
              "      <td>0.00</td>\n",
              "      <td>0.00</td>\n",
              "      <td>UEFA</td>\n",
              "      <td>2004-12-20</td>\n",
              "    </tr>\n",
              "    <tr>\n",
              "      <th>2005</th>\n",
              "      <td>205</td>\n",
              "      <td>Zimbabwe</td>\n",
              "      <td>ZIM</td>\n",
              "      <td>0.00</td>\n",
              "      <td>846</td>\n",
              "      <td>20</td>\n",
              "      <td>0.00</td>\n",
              "      <td>0.00</td>\n",
              "      <td>0.00</td>\n",
              "      <td>0.00</td>\n",
              "      <td>0.00</td>\n",
              "      <td>0.00</td>\n",
              "      <td>0.00</td>\n",
              "      <td>0.00</td>\n",
              "      <td>UEFA</td>\n",
              "      <td>2005-12-16</td>\n",
              "    </tr>\n",
              "    <tr>\n",
              "      <th>2006</th>\n",
              "      <td>207</td>\n",
              "      <td>Zimbabwe</td>\n",
              "      <td>ZIM</td>\n",
              "      <td>0.00</td>\n",
              "      <td>1649</td>\n",
              "      <td>59</td>\n",
              "      <td>0.00</td>\n",
              "      <td>0.00</td>\n",
              "      <td>0.00</td>\n",
              "      <td>0.00</td>\n",
              "      <td>0.00</td>\n",
              "      <td>0.00</td>\n",
              "      <td>0.00</td>\n",
              "      <td>0.00</td>\n",
              "      <td>UEFA</td>\n",
              "      <td>2006-12-18</td>\n",
              "    </tr>\n",
              "    <tr>\n",
              "      <th>2007</th>\n",
              "      <td>201</td>\n",
              "      <td>Zimbabwe</td>\n",
              "      <td>ZIM</td>\n",
              "      <td>0.00</td>\n",
              "      <td>1653</td>\n",
              "      <td>51</td>\n",
              "      <td>0.00</td>\n",
              "      <td>0.00</td>\n",
              "      <td>0.00</td>\n",
              "      <td>0.00</td>\n",
              "      <td>0.00</td>\n",
              "      <td>0.00</td>\n",
              "      <td>0.00</td>\n",
              "      <td>0.00</td>\n",
              "      <td>UEFA</td>\n",
              "      <td>2007-12-17</td>\n",
              "    </tr>\n",
              "    <tr>\n",
              "      <th>2008</th>\n",
              "      <td>202</td>\n",
              "      <td>Zimbabwe</td>\n",
              "      <td>ZIM</td>\n",
              "      <td>0.00</td>\n",
              "      <td>1657</td>\n",
              "      <td>58</td>\n",
              "      <td>0.00</td>\n",
              "      <td>0.00</td>\n",
              "      <td>0.00</td>\n",
              "      <td>0.00</td>\n",
              "      <td>0.00</td>\n",
              "      <td>0.00</td>\n",
              "      <td>0.00</td>\n",
              "      <td>0.00</td>\n",
              "      <td>UEFA</td>\n",
              "      <td>2008-12-17</td>\n",
              "    </tr>\n",
              "    <tr>\n",
              "      <th>2009</th>\n",
              "      <td>203</td>\n",
              "      <td>Zimbabwe</td>\n",
              "      <td>ZIM</td>\n",
              "      <td>0.00</td>\n",
              "      <td>1761</td>\n",
              "      <td>50</td>\n",
              "      <td>0.00</td>\n",
              "      <td>0.00</td>\n",
              "      <td>0.00</td>\n",
              "      <td>0.00</td>\n",
              "      <td>0.00</td>\n",
              "      <td>0.00</td>\n",
              "      <td>0.00</td>\n",
              "      <td>0.00</td>\n",
              "      <td>UEFA</td>\n",
              "      <td>2009-12-16</td>\n",
              "    </tr>\n",
              "    <tr>\n",
              "      <th>2010</th>\n",
              "      <td>203</td>\n",
              "      <td>Zimbabwe</td>\n",
              "      <td>ZIM</td>\n",
              "      <td>0.00</td>\n",
              "      <td>1920</td>\n",
              "      <td>60</td>\n",
              "      <td>0.00</td>\n",
              "      <td>0.00</td>\n",
              "      <td>0.00</td>\n",
              "      <td>0.00</td>\n",
              "      <td>0.00</td>\n",
              "      <td>0.00</td>\n",
              "      <td>0.00</td>\n",
              "      <td>0.00</td>\n",
              "      <td>UEFA</td>\n",
              "      <td>2010-12-15</td>\n",
              "    </tr>\n",
              "    <tr>\n",
              "      <th>2011</th>\n",
              "      <td>206</td>\n",
              "      <td>Zimbabwe</td>\n",
              "      <td>ZIM</td>\n",
              "      <td>1624.45</td>\n",
              "      <td>1887</td>\n",
              "      <td>57</td>\n",
              "      <td>748.05</td>\n",
              "      <td>748.05</td>\n",
              "      <td>1088.30</td>\n",
              "      <td>544.15</td>\n",
              "      <td>1045.51</td>\n",
              "      <td>313.65</td>\n",
              "      <td>1045.71</td>\n",
              "      <td>209.14</td>\n",
              "      <td>UEFA</td>\n",
              "      <td>2011-12-21</td>\n",
              "    </tr>\n",
              "    <tr>\n",
              "      <th>2012</th>\n",
              "      <td>207</td>\n",
              "      <td>Zimbabwe</td>\n",
              "      <td>ZIM</td>\n",
              "      <td>1691.12</td>\n",
              "      <td>1691</td>\n",
              "      <td>53</td>\n",
              "      <td>846.31</td>\n",
              "      <td>846.31</td>\n",
              "      <td>1159.71</td>\n",
              "      <td>579.85</td>\n",
              "      <td>1089.40</td>\n",
              "      <td>326.82</td>\n",
              "      <td>1136.57</td>\n",
              "      <td>227.31</td>\n",
              "      <td>UEFA</td>\n",
              "      <td>2012-12-19</td>\n",
              "    </tr>\n",
              "    <tr>\n",
              "      <th>2013</th>\n",
              "      <td>207</td>\n",
              "      <td>Zimbabwe</td>\n",
              "      <td>ZIM</td>\n",
              "      <td>1614.36</td>\n",
              "      <td>1614</td>\n",
              "      <td>59</td>\n",
              "      <td>912.48</td>\n",
              "      <td>912.48</td>\n",
              "      <td>846.31</td>\n",
              "      <td>423.16</td>\n",
              "      <td>1159.71</td>\n",
              "      <td>347.91</td>\n",
              "      <td>1089.40</td>\n",
              "      <td>217.88</td>\n",
              "      <td>UEFA</td>\n",
              "      <td>2013-12-19</td>\n",
              "    </tr>\n",
              "    <tr>\n",
              "      <th>2014</th>\n",
              "      <td>209</td>\n",
              "      <td>Zimbabwe</td>\n",
              "      <td>ZIM</td>\n",
              "      <td>1765.05</td>\n",
              "      <td>1765</td>\n",
              "      <td>82</td>\n",
              "      <td>1158.66</td>\n",
              "      <td>1158.66</td>\n",
              "      <td>912.48</td>\n",
              "      <td>456.24</td>\n",
              "      <td>866.35</td>\n",
              "      <td>259.90</td>\n",
              "      <td>1119.11</td>\n",
              "      <td>223.82</td>\n",
              "      <td>UEFA</td>\n",
              "      <td>2014-12-18</td>\n",
              "    </tr>\n",
              "    <tr>\n",
              "      <th>2015</th>\n",
              "      <td>209</td>\n",
              "      <td>Zimbabwe</td>\n",
              "      <td>ZIM</td>\n",
              "      <td>1775.03</td>\n",
              "      <td>1775</td>\n",
              "      <td>69</td>\n",
              "      <td>1153.12</td>\n",
              "      <td>1153.12</td>\n",
              "      <td>1169.57</td>\n",
              "      <td>584.79</td>\n",
              "      <td>912.48</td>\n",
              "      <td>273.74</td>\n",
              "      <td>871.49</td>\n",
              "      <td>174.30</td>\n",
              "      <td>UEFA</td>\n",
              "      <td>2015-12-03</td>\n",
              "    </tr>\n",
              "    <tr>\n",
              "      <th>2016</th>\n",
              "      <td>205</td>\n",
              "      <td>Zimbabwe</td>\n",
              "      <td>ZIM</td>\n",
              "      <td>1645.74</td>\n",
              "      <td>1646</td>\n",
              "      <td>54</td>\n",
              "      <td>934.24</td>\n",
              "      <td>934.24</td>\n",
              "      <td>1153.12</td>\n",
              "      <td>576.56</td>\n",
              "      <td>1158.66</td>\n",
              "      <td>347.60</td>\n",
              "      <td>878.81</td>\n",
              "      <td>175.76</td>\n",
              "      <td>UEFA</td>\n",
              "      <td>2016-12-22</td>\n",
              "    </tr>\n",
              "    <tr>\n",
              "      <th>2017</th>\n",
              "      <td>206</td>\n",
              "      <td>Zimbabwe</td>\n",
              "      <td>ZIM</td>\n",
              "      <td>1715.02</td>\n",
              "      <td>1715</td>\n",
              "      <td>57</td>\n",
              "      <td>1038.91</td>\n",
              "      <td>1038.91</td>\n",
              "      <td>934.24</td>\n",
              "      <td>467.12</td>\n",
              "      <td>1153.12</td>\n",
              "      <td>345.94</td>\n",
              "      <td>1158.66</td>\n",
              "      <td>231.73</td>\n",
              "      <td>UEFA</td>\n",
              "      <td>2017-12-21</td>\n",
              "    </tr>\n",
              "    <tr>\n",
              "      <th>2018</th>\n",
              "      <td>207</td>\n",
              "      <td>Zimbabwe</td>\n",
              "      <td>ZIM</td>\n",
              "      <td>1609.01</td>\n",
              "      <td>1609</td>\n",
              "      <td>40</td>\n",
              "      <td>863.86</td>\n",
              "      <td>863.86</td>\n",
              "      <td>1082.36</td>\n",
              "      <td>541.18</td>\n",
              "      <td>850.55</td>\n",
              "      <td>255.17</td>\n",
              "      <td>1200.77</td>\n",
              "      <td>240.15</td>\n",
              "      <td>UEFA</td>\n",
              "      <td>2018-06-07</td>\n",
              "    </tr>\n",
              "  </tbody>\n",
              "</table>\n",
              "</div>"
            ],
            "text/plain": [
              "      rank country_full  ... confederation  rank_date\n",
              "year                     ...                         \n",
              "1993   167     Zimbabwe  ...          UEFA 1993-12-23\n",
              "1994   176     Zimbabwe  ...          UEFA 1994-12-20\n",
              "1995   180     Zimbabwe  ...          UEFA 1995-12-19\n",
              "1996   188     Zimbabwe  ...          UEFA 1996-12-18\n",
              "1997   192     Zimbabwe  ...          UEFA 1997-12-23\n",
              "1998   198     Zimbabwe  ...          UEFA 1998-12-23\n",
              "1999   202     Zimbabwe  ...          UEFA 1999-12-22\n",
              "2000   203     Zimbabwe  ...          UEFA 2000-12-20\n",
              "2001   203     Zimbabwe  ...          UEFA 2001-12-19\n",
              "2002   203     Zimbabwe  ...          UEFA 2002-12-18\n",
              "2003   204     Zimbabwe  ...          UEFA 2003-12-15\n",
              "2004   205     Zimbabwe  ...          UEFA 2004-12-20\n",
              "2005   205     Zimbabwe  ...          UEFA 2005-12-16\n",
              "2006   207     Zimbabwe  ...          UEFA 2006-12-18\n",
              "2007   201     Zimbabwe  ...          UEFA 2007-12-17\n",
              "2008   202     Zimbabwe  ...          UEFA 2008-12-17\n",
              "2009   203     Zimbabwe  ...          UEFA 2009-12-16\n",
              "2010   203     Zimbabwe  ...          UEFA 2010-12-15\n",
              "2011   206     Zimbabwe  ...          UEFA 2011-12-21\n",
              "2012   207     Zimbabwe  ...          UEFA 2012-12-19\n",
              "2013   207     Zimbabwe  ...          UEFA 2013-12-19\n",
              "2014   209     Zimbabwe  ...          UEFA 2014-12-18\n",
              "2015   209     Zimbabwe  ...          UEFA 2015-12-03\n",
              "2016   205     Zimbabwe  ...          UEFA 2016-12-22\n",
              "2017   206     Zimbabwe  ...          UEFA 2017-12-21\n",
              "2018   207     Zimbabwe  ...          UEFA 2018-06-07\n",
              "\n",
              "[26 rows x 16 columns]"
            ]
          },
          "metadata": {
            "tags": []
          },
          "execution_count": 339
        }
      ]
    },
    {
      "cell_type": "markdown",
      "metadata": {
        "id": "BBeRru82VT1r"
      },
      "source": [
        "From the above we can see that the lowest rank (rank with the highest number) is simillar to the information about the datasets from this [link](https://www.fifa.com/fifa-world-ranking/ranking-table/men/) to the FIFA website to which the data originated."
      ]
    },
    {
      "cell_type": "markdown",
      "metadata": {
        "id": "ljt2zyFvN7pw"
      },
      "source": [
        "##Data Preparation"
      ]
    },
    {
      "cell_type": "markdown",
      "metadata": {
        "id": "8jPaMOZAV-NV"
      },
      "source": [
        "Here the data shall be prepared for use in the building of the models."
      ]
    },
    {
      "cell_type": "code",
      "metadata": {
        "id": "Np1evgQU1GLP"
      },
      "source": [
        "res = results.copy()\n",
        "rank = ranking.copy()"
      ],
      "execution_count": 340,
      "outputs": []
    },
    {
      "cell_type": "markdown",
      "metadata": {
        "id": "fqXN4mnO0MtZ"
      },
      "source": [
        "###Duplicates and Nulls"
      ]
    },
    {
      "cell_type": "code",
      "metadata": {
        "id": "RzCu4BDc0UTi",
        "outputId": "c941038f-7376-4c1a-e9b7-bb7152eee6af",
        "colab": {
          "base_uri": "https://localhost:8080/"
        }
      },
      "source": [
        "res.duplicated().sum()"
      ],
      "execution_count": 341,
      "outputs": [
        {
          "output_type": "execute_result",
          "data": {
            "text/plain": [
              "0"
            ]
          },
          "metadata": {
            "tags": []
          },
          "execution_count": 341
        }
      ]
    },
    {
      "cell_type": "code",
      "metadata": {
        "id": "8wy1ixLY0dVC",
        "outputId": "07b8abb5-3c81-4b63-ad85-5bc34bf9f7c7",
        "colab": {
          "base_uri": "https://localhost:8080/"
        }
      },
      "source": [
        "rank.duplicated().sum()"
      ],
      "execution_count": 342,
      "outputs": [
        {
          "output_type": "execute_result",
          "data": {
            "text/plain": [
              "37"
            ]
          },
          "metadata": {
            "tags": []
          },
          "execution_count": 342
        }
      ]
    },
    {
      "cell_type": "code",
      "metadata": {
        "id": "kjGXkLxK0hed"
      },
      "source": [
        "rank.drop_duplicates(inplace = True)"
      ],
      "execution_count": 343,
      "outputs": []
    },
    {
      "cell_type": "markdown",
      "metadata": {
        "id": "sOKBwIr40Q1r"
      },
      "source": [
        "###Prepairing"
      ]
    },
    {
      "cell_type": "code",
      "metadata": {
        "id": "clKz9Z8S4-7C"
      },
      "source": [
        "#A new column year is created since ranking is done annualy and the year the\n",
        "#team is ranked is indicated by the record of the ranking \n",
        "\n",
        "rank['year']= ''\n",
        "for r ,row in rank.iterrows():\n",
        "  t = rank.loc[r , 'rank_date']\n",
        "  rank.loc[r, 'year'] = t.strftime('%Y')"
      ],
      "execution_count": 344,
      "outputs": []
    },
    {
      "cell_type": "code",
      "metadata": {
        "id": "CJlLqkhIWPlp"
      },
      "source": [
        "ye = rank['year'].unique()\n",
        "co = rank['country_full'].unique()"
      ],
      "execution_count": 345,
      "outputs": []
    },
    {
      "cell_type": "code",
      "metadata": {
        "id": "fWrv32qIXSyD"
      },
      "source": [
        "#Creating a new dataframe with the year of ranking as columns and the country as\n",
        "#index to see the gradual change in ranking over time of each team\n",
        "\n",
        "rot = pd.DataFrame(columns= ye, index = co)"
      ],
      "execution_count": 346,
      "outputs": []
    },
    {
      "cell_type": "code",
      "metadata": {
        "id": "ajFGN6TwXlnK"
      },
      "source": [
        "#Filling in of the dataframe that has been created in the previous cell from the \n",
        "#ranking dataset\n",
        "\n",
        "for e , rows in rot.iterrows():\n",
        "  y = rank[rank['country_full'] == e]\n",
        "  for u , row2 in y.iterrows():\n",
        "    rot.loc[e , row2['year']] = row2['rank']"
      ],
      "execution_count": 347,
      "outputs": []
    },
    {
      "cell_type": "code",
      "metadata": {
        "id": "0jE_w7n4Y1az",
        "outputId": "0c223937-571d-4cb7-90d7-f9f0970b387f",
        "colab": {
          "base_uri": "https://localhost:8080/",
          "height": 452
        }
      },
      "source": [
        "rot"
      ],
      "execution_count": 348,
      "outputs": [
        {
          "output_type": "execute_result",
          "data": {
            "text/html": [
              "<div>\n",
              "<style scoped>\n",
              "    .dataframe tbody tr th:only-of-type {\n",
              "        vertical-align: middle;\n",
              "    }\n",
              "\n",
              "    .dataframe tbody tr th {\n",
              "        vertical-align: top;\n",
              "    }\n",
              "\n",
              "    .dataframe thead th {\n",
              "        text-align: right;\n",
              "    }\n",
              "</style>\n",
              "<table border=\"1\" class=\"dataframe\">\n",
              "  <thead>\n",
              "    <tr style=\"text-align: right;\">\n",
              "      <th></th>\n",
              "      <th>1993</th>\n",
              "      <th>1994</th>\n",
              "      <th>1995</th>\n",
              "      <th>1996</th>\n",
              "      <th>1997</th>\n",
              "      <th>1998</th>\n",
              "      <th>1999</th>\n",
              "      <th>2000</th>\n",
              "      <th>2001</th>\n",
              "      <th>2002</th>\n",
              "      <th>2003</th>\n",
              "      <th>2004</th>\n",
              "      <th>2005</th>\n",
              "      <th>2006</th>\n",
              "      <th>2007</th>\n",
              "      <th>2008</th>\n",
              "      <th>2009</th>\n",
              "      <th>2010</th>\n",
              "      <th>2011</th>\n",
              "      <th>2012</th>\n",
              "      <th>2013</th>\n",
              "      <th>2014</th>\n",
              "      <th>2015</th>\n",
              "      <th>2016</th>\n",
              "      <th>2017</th>\n",
              "      <th>2018</th>\n",
              "    </tr>\n",
              "  </thead>\n",
              "  <tbody>\n",
              "    <tr>\n",
              "      <th>Germany</th>\n",
              "      <td>1</td>\n",
              "      <td>5</td>\n",
              "      <td>2</td>\n",
              "      <td>2</td>\n",
              "      <td>2</td>\n",
              "      <td>3</td>\n",
              "      <td>5</td>\n",
              "      <td>11</td>\n",
              "      <td>12</td>\n",
              "      <td>4</td>\n",
              "      <td>12</td>\n",
              "      <td>19</td>\n",
              "      <td>16</td>\n",
              "      <td>6</td>\n",
              "      <td>5</td>\n",
              "      <td>2</td>\n",
              "      <td>6</td>\n",
              "      <td>3</td>\n",
              "      <td>3</td>\n",
              "      <td>2</td>\n",
              "      <td>2</td>\n",
              "      <td>1</td>\n",
              "      <td>4</td>\n",
              "      <td>3</td>\n",
              "      <td>1</td>\n",
              "      <td>1</td>\n",
              "    </tr>\n",
              "    <tr>\n",
              "      <th>Italy</th>\n",
              "      <td>2</td>\n",
              "      <td>4</td>\n",
              "      <td>3</td>\n",
              "      <td>10</td>\n",
              "      <td>9</td>\n",
              "      <td>7</td>\n",
              "      <td>14</td>\n",
              "      <td>4</td>\n",
              "      <td>6</td>\n",
              "      <td>13</td>\n",
              "      <td>10</td>\n",
              "      <td>10</td>\n",
              "      <td>12</td>\n",
              "      <td>2</td>\n",
              "      <td>3</td>\n",
              "      <td>4</td>\n",
              "      <td>4</td>\n",
              "      <td>14</td>\n",
              "      <td>9</td>\n",
              "      <td>4</td>\n",
              "      <td>7</td>\n",
              "      <td>11</td>\n",
              "      <td>15</td>\n",
              "      <td>16</td>\n",
              "      <td>14</td>\n",
              "      <td>19</td>\n",
              "    </tr>\n",
              "    <tr>\n",
              "      <th>Switzerland</th>\n",
              "      <td>12</td>\n",
              "      <td>7</td>\n",
              "      <td>18</td>\n",
              "      <td>47</td>\n",
              "      <td>62</td>\n",
              "      <td>83</td>\n",
              "      <td>47</td>\n",
              "      <td>58</td>\n",
              "      <td>63</td>\n",
              "      <td>44</td>\n",
              "      <td>44</td>\n",
              "      <td>51</td>\n",
              "      <td>35</td>\n",
              "      <td>17</td>\n",
              "      <td>44</td>\n",
              "      <td>24</td>\n",
              "      <td>18</td>\n",
              "      <td>22</td>\n",
              "      <td>17</td>\n",
              "      <td>12</td>\n",
              "      <td>8</td>\n",
              "      <td>12</td>\n",
              "      <td>12</td>\n",
              "      <td>11</td>\n",
              "      <td>8</td>\n",
              "      <td>6</td>\n",
              "    </tr>\n",
              "    <tr>\n",
              "      <th>Sweden</th>\n",
              "      <td>9</td>\n",
              "      <td>3</td>\n",
              "      <td>13</td>\n",
              "      <td>17</td>\n",
              "      <td>18</td>\n",
              "      <td>18</td>\n",
              "      <td>16</td>\n",
              "      <td>23</td>\n",
              "      <td>16</td>\n",
              "      <td>25</td>\n",
              "      <td>19</td>\n",
              "      <td>13</td>\n",
              "      <td>14</td>\n",
              "      <td>14</td>\n",
              "      <td>24</td>\n",
              "      <td>32</td>\n",
              "      <td>42</td>\n",
              "      <td>33</td>\n",
              "      <td>18</td>\n",
              "      <td>20</td>\n",
              "      <td>27</td>\n",
              "      <td>44</td>\n",
              "      <td>35</td>\n",
              "      <td>41</td>\n",
              "      <td>18</td>\n",
              "      <td>24</td>\n",
              "    </tr>\n",
              "    <tr>\n",
              "      <th>Argentina</th>\n",
              "      <td>8</td>\n",
              "      <td>10</td>\n",
              "      <td>7</td>\n",
              "      <td>22</td>\n",
              "      <td>17</td>\n",
              "      <td>5</td>\n",
              "      <td>6</td>\n",
              "      <td>3</td>\n",
              "      <td>2</td>\n",
              "      <td>5</td>\n",
              "      <td>5</td>\n",
              "      <td>3</td>\n",
              "      <td>4</td>\n",
              "      <td>3</td>\n",
              "      <td>1</td>\n",
              "      <td>6</td>\n",
              "      <td>8</td>\n",
              "      <td>5</td>\n",
              "      <td>10</td>\n",
              "      <td>3</td>\n",
              "      <td>3</td>\n",
              "      <td>2</td>\n",
              "      <td>2</td>\n",
              "      <td>1</td>\n",
              "      <td>4</td>\n",
              "      <td>5</td>\n",
              "    </tr>\n",
              "    <tr>\n",
              "      <th>...</th>\n",
              "      <td>...</td>\n",
              "      <td>...</td>\n",
              "      <td>...</td>\n",
              "      <td>...</td>\n",
              "      <td>...</td>\n",
              "      <td>...</td>\n",
              "      <td>...</td>\n",
              "      <td>...</td>\n",
              "      <td>...</td>\n",
              "      <td>...</td>\n",
              "      <td>...</td>\n",
              "      <td>...</td>\n",
              "      <td>...</td>\n",
              "      <td>...</td>\n",
              "      <td>...</td>\n",
              "      <td>...</td>\n",
              "      <td>...</td>\n",
              "      <td>...</td>\n",
              "      <td>...</td>\n",
              "      <td>...</td>\n",
              "      <td>...</td>\n",
              "      <td>...</td>\n",
              "      <td>...</td>\n",
              "      <td>...</td>\n",
              "      <td>...</td>\n",
              "      <td>...</td>\n",
              "    </tr>\n",
              "    <tr>\n",
              "      <th>Montenegro</th>\n",
              "      <td>NaN</td>\n",
              "      <td>NaN</td>\n",
              "      <td>NaN</td>\n",
              "      <td>NaN</td>\n",
              "      <td>NaN</td>\n",
              "      <td>NaN</td>\n",
              "      <td>NaN</td>\n",
              "      <td>NaN</td>\n",
              "      <td>NaN</td>\n",
              "      <td>NaN</td>\n",
              "      <td>NaN</td>\n",
              "      <td>NaN</td>\n",
              "      <td>NaN</td>\n",
              "      <td>NaN</td>\n",
              "      <td>172</td>\n",
              "      <td>112</td>\n",
              "      <td>74</td>\n",
              "      <td>25</td>\n",
              "      <td>51</td>\n",
              "      <td>31</td>\n",
              "      <td>52</td>\n",
              "      <td>59</td>\n",
              "      <td>85</td>\n",
              "      <td>63</td>\n",
              "      <td>46</td>\n",
              "      <td>43</td>\n",
              "    </tr>\n",
              "    <tr>\n",
              "      <th>Curaçao</th>\n",
              "      <td>NaN</td>\n",
              "      <td>NaN</td>\n",
              "      <td>NaN</td>\n",
              "      <td>NaN</td>\n",
              "      <td>NaN</td>\n",
              "      <td>NaN</td>\n",
              "      <td>NaN</td>\n",
              "      <td>NaN</td>\n",
              "      <td>NaN</td>\n",
              "      <td>NaN</td>\n",
              "      <td>NaN</td>\n",
              "      <td>NaN</td>\n",
              "      <td>NaN</td>\n",
              "      <td>NaN</td>\n",
              "      <td>NaN</td>\n",
              "      <td>NaN</td>\n",
              "      <td>NaN</td>\n",
              "      <td>NaN</td>\n",
              "      <td>151</td>\n",
              "      <td>177</td>\n",
              "      <td>178</td>\n",
              "      <td>158</td>\n",
              "      <td>151</td>\n",
              "      <td>75</td>\n",
              "      <td>83</td>\n",
              "      <td>81</td>\n",
              "    </tr>\n",
              "    <tr>\n",
              "      <th>South Sudan</th>\n",
              "      <td>NaN</td>\n",
              "      <td>NaN</td>\n",
              "      <td>NaN</td>\n",
              "      <td>NaN</td>\n",
              "      <td>NaN</td>\n",
              "      <td>NaN</td>\n",
              "      <td>NaN</td>\n",
              "      <td>NaN</td>\n",
              "      <td>NaN</td>\n",
              "      <td>NaN</td>\n",
              "      <td>NaN</td>\n",
              "      <td>NaN</td>\n",
              "      <td>NaN</td>\n",
              "      <td>NaN</td>\n",
              "      <td>NaN</td>\n",
              "      <td>NaN</td>\n",
              "      <td>NaN</td>\n",
              "      <td>NaN</td>\n",
              "      <td>NaN</td>\n",
              "      <td>199</td>\n",
              "      <td>201</td>\n",
              "      <td>189</td>\n",
              "      <td>138</td>\n",
              "      <td>168</td>\n",
              "      <td>153</td>\n",
              "      <td>156</td>\n",
              "    </tr>\n",
              "    <tr>\n",
              "      <th>Kosovo</th>\n",
              "      <td>NaN</td>\n",
              "      <td>NaN</td>\n",
              "      <td>NaN</td>\n",
              "      <td>NaN</td>\n",
              "      <td>NaN</td>\n",
              "      <td>NaN</td>\n",
              "      <td>NaN</td>\n",
              "      <td>NaN</td>\n",
              "      <td>NaN</td>\n",
              "      <td>NaN</td>\n",
              "      <td>NaN</td>\n",
              "      <td>NaN</td>\n",
              "      <td>NaN</td>\n",
              "      <td>NaN</td>\n",
              "      <td>NaN</td>\n",
              "      <td>NaN</td>\n",
              "      <td>NaN</td>\n",
              "      <td>NaN</td>\n",
              "      <td>NaN</td>\n",
              "      <td>NaN</td>\n",
              "      <td>NaN</td>\n",
              "      <td>NaN</td>\n",
              "      <td>NaN</td>\n",
              "      <td>165</td>\n",
              "      <td>177</td>\n",
              "      <td>141</td>\n",
              "    </tr>\n",
              "    <tr>\n",
              "      <th>Gibraltar</th>\n",
              "      <td>NaN</td>\n",
              "      <td>NaN</td>\n",
              "      <td>NaN</td>\n",
              "      <td>NaN</td>\n",
              "      <td>NaN</td>\n",
              "      <td>NaN</td>\n",
              "      <td>NaN</td>\n",
              "      <td>NaN</td>\n",
              "      <td>NaN</td>\n",
              "      <td>NaN</td>\n",
              "      <td>NaN</td>\n",
              "      <td>NaN</td>\n",
              "      <td>NaN</td>\n",
              "      <td>NaN</td>\n",
              "      <td>NaN</td>\n",
              "      <td>NaN</td>\n",
              "      <td>NaN</td>\n",
              "      <td>NaN</td>\n",
              "      <td>NaN</td>\n",
              "      <td>NaN</td>\n",
              "      <td>NaN</td>\n",
              "      <td>NaN</td>\n",
              "      <td>NaN</td>\n",
              "      <td>205</td>\n",
              "      <td>206</td>\n",
              "      <td>195</td>\n",
              "    </tr>\n",
              "  </tbody>\n",
              "</table>\n",
              "<p>216 rows × 26 columns</p>\n",
              "</div>"
            ],
            "text/plain": [
              "            1993 1994 1995 1996 1997 1998  ... 2013 2014 2015 2016 2017 2018\n",
              "Germany        1    5    2    2    2    3  ...    2    1    4    3    1    1\n",
              "Italy          2    4    3   10    9    7  ...    7   11   15   16   14   19\n",
              "Switzerland   12    7   18   47   62   83  ...    8   12   12   11    8    6\n",
              "Sweden         9    3   13   17   18   18  ...   27   44   35   41   18   24\n",
              "Argentina      8   10    7   22   17    5  ...    3    2    2    1    4    5\n",
              "...          ...  ...  ...  ...  ...  ...  ...  ...  ...  ...  ...  ...  ...\n",
              "Montenegro   NaN  NaN  NaN  NaN  NaN  NaN  ...   52   59   85   63   46   43\n",
              "Curaçao      NaN  NaN  NaN  NaN  NaN  NaN  ...  178  158  151   75   83   81\n",
              "South Sudan  NaN  NaN  NaN  NaN  NaN  NaN  ...  201  189  138  168  153  156\n",
              "Kosovo       NaN  NaN  NaN  NaN  NaN  NaN  ...  NaN  NaN  NaN  165  177  141\n",
              "Gibraltar    NaN  NaN  NaN  NaN  NaN  NaN  ...  NaN  NaN  NaN  205  206  195\n",
              "\n",
              "[216 rows x 26 columns]"
            ]
          },
          "metadata": {
            "tags": []
          },
          "execution_count": 348
        }
      ]
    },
    {
      "cell_type": "code",
      "metadata": {
        "id": "9ToPuztQF3WK"
      },
      "source": [
        "#A new column year is created to match the teams that played to the ranking that\n",
        "#attained within that year\n",
        "\n",
        "res['year']= ''\n",
        "for r ,row in res.iterrows():\n",
        "  t = res.loc[r , 'date']\n",
        "  res.loc[r, 'year'] = t.strftime('%Y')"
      ],
      "execution_count": 349,
      "outputs": []
    },
    {
      "cell_type": "code",
      "metadata": {
        "id": "pK1lAsoBGKfv",
        "outputId": "5cb01dbd-7206-4ea9-e2d2-6a33deef6f04",
        "colab": {
          "base_uri": "https://localhost:8080/",
          "height": 543
        }
      },
      "source": [
        "res.head(10)"
      ],
      "execution_count": 350,
      "outputs": [
        {
          "output_type": "execute_result",
          "data": {
            "text/html": [
              "<div>\n",
              "<style scoped>\n",
              "    .dataframe tbody tr th:only-of-type {\n",
              "        vertical-align: middle;\n",
              "    }\n",
              "\n",
              "    .dataframe tbody tr th {\n",
              "        vertical-align: top;\n",
              "    }\n",
              "\n",
              "    .dataframe thead th {\n",
              "        text-align: right;\n",
              "    }\n",
              "</style>\n",
              "<table border=\"1\" class=\"dataframe\">\n",
              "  <thead>\n",
              "    <tr style=\"text-align: right;\">\n",
              "      <th></th>\n",
              "      <th>date</th>\n",
              "      <th>home_team</th>\n",
              "      <th>away_team</th>\n",
              "      <th>home_score</th>\n",
              "      <th>away_score</th>\n",
              "      <th>tournament</th>\n",
              "      <th>city</th>\n",
              "      <th>country</th>\n",
              "      <th>neutral</th>\n",
              "      <th>year</th>\n",
              "    </tr>\n",
              "  </thead>\n",
              "  <tbody>\n",
              "    <tr>\n",
              "      <th>0</th>\n",
              "      <td>1872-11-30</td>\n",
              "      <td>Scotland</td>\n",
              "      <td>England</td>\n",
              "      <td>0</td>\n",
              "      <td>0</td>\n",
              "      <td>Friendly</td>\n",
              "      <td>Glasgow</td>\n",
              "      <td>Scotland</td>\n",
              "      <td>False</td>\n",
              "      <td>1872</td>\n",
              "    </tr>\n",
              "    <tr>\n",
              "      <th>1</th>\n",
              "      <td>1873-03-08</td>\n",
              "      <td>England</td>\n",
              "      <td>Scotland</td>\n",
              "      <td>4</td>\n",
              "      <td>2</td>\n",
              "      <td>Friendly</td>\n",
              "      <td>London</td>\n",
              "      <td>England</td>\n",
              "      <td>False</td>\n",
              "      <td>1873</td>\n",
              "    </tr>\n",
              "    <tr>\n",
              "      <th>2</th>\n",
              "      <td>1874-03-07</td>\n",
              "      <td>Scotland</td>\n",
              "      <td>England</td>\n",
              "      <td>2</td>\n",
              "      <td>1</td>\n",
              "      <td>Friendly</td>\n",
              "      <td>Glasgow</td>\n",
              "      <td>Scotland</td>\n",
              "      <td>False</td>\n",
              "      <td>1874</td>\n",
              "    </tr>\n",
              "    <tr>\n",
              "      <th>3</th>\n",
              "      <td>1875-03-06</td>\n",
              "      <td>England</td>\n",
              "      <td>Scotland</td>\n",
              "      <td>2</td>\n",
              "      <td>2</td>\n",
              "      <td>Friendly</td>\n",
              "      <td>London</td>\n",
              "      <td>England</td>\n",
              "      <td>False</td>\n",
              "      <td>1875</td>\n",
              "    </tr>\n",
              "    <tr>\n",
              "      <th>4</th>\n",
              "      <td>1876-03-04</td>\n",
              "      <td>Scotland</td>\n",
              "      <td>England</td>\n",
              "      <td>3</td>\n",
              "      <td>0</td>\n",
              "      <td>Friendly</td>\n",
              "      <td>Glasgow</td>\n",
              "      <td>Scotland</td>\n",
              "      <td>False</td>\n",
              "      <td>1876</td>\n",
              "    </tr>\n",
              "    <tr>\n",
              "      <th>5</th>\n",
              "      <td>1876-03-25</td>\n",
              "      <td>Scotland</td>\n",
              "      <td>Wales</td>\n",
              "      <td>4</td>\n",
              "      <td>0</td>\n",
              "      <td>Friendly</td>\n",
              "      <td>Glasgow</td>\n",
              "      <td>Scotland</td>\n",
              "      <td>False</td>\n",
              "      <td>1876</td>\n",
              "    </tr>\n",
              "    <tr>\n",
              "      <th>6</th>\n",
              "      <td>1877-03-03</td>\n",
              "      <td>England</td>\n",
              "      <td>Scotland</td>\n",
              "      <td>1</td>\n",
              "      <td>3</td>\n",
              "      <td>Friendly</td>\n",
              "      <td>London</td>\n",
              "      <td>England</td>\n",
              "      <td>False</td>\n",
              "      <td>1877</td>\n",
              "    </tr>\n",
              "    <tr>\n",
              "      <th>7</th>\n",
              "      <td>1877-03-05</td>\n",
              "      <td>Wales</td>\n",
              "      <td>Scotland</td>\n",
              "      <td>0</td>\n",
              "      <td>2</td>\n",
              "      <td>Friendly</td>\n",
              "      <td>Wrexham</td>\n",
              "      <td>Wales</td>\n",
              "      <td>False</td>\n",
              "      <td>1877</td>\n",
              "    </tr>\n",
              "    <tr>\n",
              "      <th>8</th>\n",
              "      <td>1878-03-02</td>\n",
              "      <td>Scotland</td>\n",
              "      <td>England</td>\n",
              "      <td>7</td>\n",
              "      <td>2</td>\n",
              "      <td>Friendly</td>\n",
              "      <td>Glasgow</td>\n",
              "      <td>Scotland</td>\n",
              "      <td>False</td>\n",
              "      <td>1878</td>\n",
              "    </tr>\n",
              "    <tr>\n",
              "      <th>9</th>\n",
              "      <td>1878-03-23</td>\n",
              "      <td>Scotland</td>\n",
              "      <td>Wales</td>\n",
              "      <td>9</td>\n",
              "      <td>0</td>\n",
              "      <td>Friendly</td>\n",
              "      <td>Glasgow</td>\n",
              "      <td>Scotland</td>\n",
              "      <td>False</td>\n",
              "      <td>1878</td>\n",
              "    </tr>\n",
              "  </tbody>\n",
              "</table>\n",
              "</div>"
            ],
            "text/plain": [
              "        date home_team away_team  home_score  ...     city   country neutral  year\n",
              "0 1872-11-30  Scotland   England           0  ...  Glasgow  Scotland   False  1872\n",
              "1 1873-03-08   England  Scotland           4  ...   London   England   False  1873\n",
              "2 1874-03-07  Scotland   England           2  ...  Glasgow  Scotland   False  1874\n",
              "3 1875-03-06   England  Scotland           2  ...   London   England   False  1875\n",
              "4 1876-03-04  Scotland   England           3  ...  Glasgow  Scotland   False  1876\n",
              "5 1876-03-25  Scotland     Wales           4  ...  Glasgow  Scotland   False  1876\n",
              "6 1877-03-03   England  Scotland           1  ...   London   England   False  1877\n",
              "7 1877-03-05     Wales  Scotland           0  ...  Wrexham     Wales   False  1877\n",
              "8 1878-03-02  Scotland   England           7  ...  Glasgow  Scotland   False  1878\n",
              "9 1878-03-23  Scotland     Wales           9  ...  Glasgow  Scotland   False  1878\n",
              "\n",
              "[10 rows x 10 columns]"
            ]
          },
          "metadata": {
            "tags": []
          },
          "execution_count": 350
        }
      ]
    },
    {
      "cell_type": "code",
      "metadata": {
        "id": "nTsXbm4YFUMu"
      },
      "source": [
        "#Merging of the resulting datasets\n",
        "\n",
        "col = rot.columns\n",
        "\n",
        "q = 0\n",
        "for y in col:\n",
        "  sm = res[res['year'] == y]\n",
        "  grank = pd.DataFrame(rot[y])\n",
        "  grank.columns = ['home rank']\n",
        "  sm = pd.merge(sm, grank,left_on = 'home_team', right_index = True) \n",
        "  grank = pd.DataFrame(rot[y])\n",
        "  grank.columns = ['away rank']\n",
        "  sm = pd.merge(sm, grank,left_on = 'away_team', right_index = True)\n",
        "  if q == 0:\n",
        "    tal = sm\n",
        "    q = 1\n",
        "  tal = pd.concat([tal , sm])"
      ],
      "execution_count": 351,
      "outputs": []
    },
    {
      "cell_type": "code",
      "metadata": {
        "id": "UxpCvq2YJB4c",
        "outputId": "3a61e1fd-a4ad-4e6c-c062-681a3f6790b2",
        "colab": {
          "base_uri": "https://localhost:8080/",
          "height": 594
        }
      },
      "source": [
        "tal.head(10)"
      ],
      "execution_count": 352,
      "outputs": [
        {
          "output_type": "execute_result",
          "data": {
            "text/html": [
              "<div>\n",
              "<style scoped>\n",
              "    .dataframe tbody tr th:only-of-type {\n",
              "        vertical-align: middle;\n",
              "    }\n",
              "\n",
              "    .dataframe tbody tr th {\n",
              "        vertical-align: top;\n",
              "    }\n",
              "\n",
              "    .dataframe thead th {\n",
              "        text-align: right;\n",
              "    }\n",
              "</style>\n",
              "<table border=\"1\" class=\"dataframe\">\n",
              "  <thead>\n",
              "    <tr style=\"text-align: right;\">\n",
              "      <th></th>\n",
              "      <th>date</th>\n",
              "      <th>home_team</th>\n",
              "      <th>away_team</th>\n",
              "      <th>home_score</th>\n",
              "      <th>away_score</th>\n",
              "      <th>tournament</th>\n",
              "      <th>city</th>\n",
              "      <th>country</th>\n",
              "      <th>neutral</th>\n",
              "      <th>year</th>\n",
              "      <th>home rank</th>\n",
              "      <th>away rank</th>\n",
              "    </tr>\n",
              "  </thead>\n",
              "  <tbody>\n",
              "    <tr>\n",
              "      <th>17361</th>\n",
              "      <td>1993-01-01</td>\n",
              "      <td>Ghana</td>\n",
              "      <td>Mali</td>\n",
              "      <td>1</td>\n",
              "      <td>1</td>\n",
              "      <td>Friendly</td>\n",
              "      <td>Libreville</td>\n",
              "      <td>Gabon</td>\n",
              "      <td>True</td>\n",
              "      <td>1993</td>\n",
              "      <td>37</td>\n",
              "      <td>70</td>\n",
              "    </tr>\n",
              "    <tr>\n",
              "      <th>17833</th>\n",
              "      <td>1993-07-04</td>\n",
              "      <td>Gabon</td>\n",
              "      <td>Mali</td>\n",
              "      <td>0</td>\n",
              "      <td>2</td>\n",
              "      <td>Friendly</td>\n",
              "      <td>Moanda</td>\n",
              "      <td>Gabon</td>\n",
              "      <td>False</td>\n",
              "      <td>1993</td>\n",
              "      <td>60</td>\n",
              "      <td>70</td>\n",
              "    </tr>\n",
              "    <tr>\n",
              "      <th>17364</th>\n",
              "      <td>1993-01-03</td>\n",
              "      <td>Burkina Faso</td>\n",
              "      <td>Mali</td>\n",
              "      <td>1</td>\n",
              "      <td>0</td>\n",
              "      <td>Friendly</td>\n",
              "      <td>Libreville</td>\n",
              "      <td>Gabon</td>\n",
              "      <td>True</td>\n",
              "      <td>1993</td>\n",
              "      <td>127</td>\n",
              "      <td>70</td>\n",
              "    </tr>\n",
              "    <tr>\n",
              "      <th>18079</th>\n",
              "      <td>1993-12-03</td>\n",
              "      <td>Sierra Leone</td>\n",
              "      <td>Mali</td>\n",
              "      <td>2</td>\n",
              "      <td>0</td>\n",
              "      <td>Amílcar Cabral Cup</td>\n",
              "      <td>Freetown</td>\n",
              "      <td>Sierra Leone</td>\n",
              "      <td>False</td>\n",
              "      <td>1993</td>\n",
              "      <td>76</td>\n",
              "      <td>70</td>\n",
              "    </tr>\n",
              "    <tr>\n",
              "      <th>18067</th>\n",
              "      <td>1993-11-27</td>\n",
              "      <td>Senegal</td>\n",
              "      <td>Mali</td>\n",
              "      <td>0</td>\n",
              "      <td>1</td>\n",
              "      <td>Amílcar Cabral Cup</td>\n",
              "      <td>Freetown</td>\n",
              "      <td>Sierra Leone</td>\n",
              "      <td>True</td>\n",
              "      <td>1993</td>\n",
              "      <td>56</td>\n",
              "      <td>70</td>\n",
              "    </tr>\n",
              "    <tr>\n",
              "      <th>17534</th>\n",
              "      <td>1993-04-09</td>\n",
              "      <td>Egypt</td>\n",
              "      <td>Mali</td>\n",
              "      <td>2</td>\n",
              "      <td>1</td>\n",
              "      <td>African Cup of Nations qualification</td>\n",
              "      <td>Cairo</td>\n",
              "      <td>Egypt</td>\n",
              "      <td>False</td>\n",
              "      <td>1993</td>\n",
              "      <td>26</td>\n",
              "      <td>70</td>\n",
              "    </tr>\n",
              "    <tr>\n",
              "      <th>17604</th>\n",
              "      <td>1993-04-25</td>\n",
              "      <td>Morocco</td>\n",
              "      <td>Mali</td>\n",
              "      <td>1</td>\n",
              "      <td>0</td>\n",
              "      <td>African Cup of Nations qualification</td>\n",
              "      <td>Casablanca</td>\n",
              "      <td>Morocco</td>\n",
              "      <td>False</td>\n",
              "      <td>1993</td>\n",
              "      <td>30</td>\n",
              "      <td>70</td>\n",
              "    </tr>\n",
              "    <tr>\n",
              "      <th>17964</th>\n",
              "      <td>1993-09-15</td>\n",
              "      <td>Morocco</td>\n",
              "      <td>Mali</td>\n",
              "      <td>3</td>\n",
              "      <td>0</td>\n",
              "      <td>Friendly</td>\n",
              "      <td>Casablanca</td>\n",
              "      <td>Morocco</td>\n",
              "      <td>False</td>\n",
              "      <td>1993</td>\n",
              "      <td>30</td>\n",
              "      <td>70</td>\n",
              "    </tr>\n",
              "    <tr>\n",
              "      <th>18080</th>\n",
              "      <td>1993-12-05</td>\n",
              "      <td>Gambia</td>\n",
              "      <td>Mali</td>\n",
              "      <td>2</td>\n",
              "      <td>0</td>\n",
              "      <td>Amílcar Cabral Cup</td>\n",
              "      <td>Freetown</td>\n",
              "      <td>Sierra Leone</td>\n",
              "      <td>True</td>\n",
              "      <td>1993</td>\n",
              "      <td>125</td>\n",
              "      <td>70</td>\n",
              "    </tr>\n",
              "    <tr>\n",
              "      <th>17390</th>\n",
              "      <td>1993-01-23</td>\n",
              "      <td>Ghana</td>\n",
              "      <td>Niger</td>\n",
              "      <td>4</td>\n",
              "      <td>0</td>\n",
              "      <td>Friendly</td>\n",
              "      <td>Kumasi</td>\n",
              "      <td>Ghana</td>\n",
              "      <td>False</td>\n",
              "      <td>1993</td>\n",
              "      <td>37</td>\n",
              "      <td>81</td>\n",
              "    </tr>\n",
              "  </tbody>\n",
              "</table>\n",
              "</div>"
            ],
            "text/plain": [
              "            date     home_team away_team  ...  year  home rank away rank\n",
              "17361 1993-01-01         Ghana      Mali  ...  1993         37        70\n",
              "17833 1993-07-04         Gabon      Mali  ...  1993         60        70\n",
              "17364 1993-01-03  Burkina Faso      Mali  ...  1993        127        70\n",
              "18079 1993-12-03  Sierra Leone      Mali  ...  1993         76        70\n",
              "18067 1993-11-27       Senegal      Mali  ...  1993         56        70\n",
              "17534 1993-04-09         Egypt      Mali  ...  1993         26        70\n",
              "17604 1993-04-25       Morocco      Mali  ...  1993         30        70\n",
              "17964 1993-09-15       Morocco      Mali  ...  1993         30        70\n",
              "18080 1993-12-05        Gambia      Mali  ...  1993        125        70\n",
              "17390 1993-01-23         Ghana     Niger  ...  1993         37        81\n",
              "\n",
              "[10 rows x 12 columns]"
            ]
          },
          "metadata": {
            "tags": []
          },
          "execution_count": 352
        }
      ]
    },
    {
      "cell_type": "markdown",
      "metadata": {
        "id": "qOa9Je7JeECB"
      },
      "source": [
        "##Tidying"
      ]
    },
    {
      "cell_type": "markdown",
      "metadata": {
        "id": "ZlDqatPSXle1"
      },
      "source": [
        "The resulting datasets from the above process shall be cleaned and anomalies sought."
      ]
    },
    {
      "cell_type": "code",
      "metadata": {
        "id": "ZfACa8Dmm33W"
      },
      "source": [
        "randr = tal.copy()\n",
        "chron = rot.copy()"
      ],
      "execution_count": 353,
      "outputs": []
    },
    {
      "cell_type": "code",
      "metadata": {
        "id": "lwq4-yiu2J7y",
        "outputId": "085b09b7-b3f5-4e98-e0f0-5558978bbb51",
        "colab": {
          "base_uri": "https://localhost:8080/"
        }
      },
      "source": [
        "randr.shape"
      ],
      "execution_count": 354,
      "outputs": [
        {
          "output_type": "execute_result",
          "data": {
            "text/plain": [
              "(19205, 12)"
            ]
          },
          "metadata": {
            "tags": []
          },
          "execution_count": 354
        }
      ]
    },
    {
      "cell_type": "code",
      "metadata": {
        "id": "aUUeVlfg2Of6",
        "outputId": "78ccc8d7-3a48-4e6a-93e6-593e1720431f",
        "colab": {
          "base_uri": "https://localhost:8080/"
        }
      },
      "source": [
        "chron.shape"
      ],
      "execution_count": 355,
      "outputs": [
        {
          "output_type": "execute_result",
          "data": {
            "text/plain": [
              "(216, 26)"
            ]
          },
          "metadata": {
            "tags": []
          },
          "execution_count": 355
        }
      ]
    },
    {
      "cell_type": "markdown",
      "metadata": {
        "id": "5aHP2CGfezLk"
      },
      "source": [
        "###Anomalies"
      ]
    },
    {
      "cell_type": "code",
      "metadata": {
        "id": "az5T743ed78B",
        "outputId": "649b5ca4-f7cd-452f-9185-9e5756060396",
        "colab": {
          "base_uri": "https://localhost:8080/"
        }
      },
      "source": [
        "randr.dtypes"
      ],
      "execution_count": 356,
      "outputs": [
        {
          "output_type": "execute_result",
          "data": {
            "text/plain": [
              "date          datetime64[ns]\n",
              "home_team             object\n",
              "away_team             object\n",
              "home_score             int64\n",
              "away_score             int64\n",
              "tournament            object\n",
              "city                  object\n",
              "country               object\n",
              "neutral                 bool\n",
              "year                  object\n",
              "home rank             object\n",
              "away rank             object\n",
              "dtype: object"
            ]
          },
          "metadata": {
            "tags": []
          },
          "execution_count": 356
        }
      ]
    },
    {
      "cell_type": "code",
      "metadata": {
        "id": "yp27QDl3ffAc",
        "outputId": "fca10221-41c2-4803-af67-0aaa5a34ed41",
        "colab": {
          "base_uri": "https://localhost:8080/"
        }
      },
      "source": [
        "chron.dtypes"
      ],
      "execution_count": 357,
      "outputs": [
        {
          "output_type": "execute_result",
          "data": {
            "text/plain": [
              "1993    object\n",
              "1994    object\n",
              "1995    object\n",
              "1996    object\n",
              "1997    object\n",
              "1998    object\n",
              "1999    object\n",
              "2000    object\n",
              "2001    object\n",
              "2002    object\n",
              "2003    object\n",
              "2004    object\n",
              "2005    object\n",
              "2006    object\n",
              "2007    object\n",
              "2008    object\n",
              "2009    object\n",
              "2010    object\n",
              "2011    object\n",
              "2012    object\n",
              "2013    object\n",
              "2014    object\n",
              "2015    object\n",
              "2016    object\n",
              "2017    object\n",
              "2018    object\n",
              "dtype: object"
            ]
          },
          "metadata": {
            "tags": []
          },
          "execution_count": 357
        }
      ]
    },
    {
      "cell_type": "code",
      "metadata": {
        "id": "bGQKWujqjhqo",
        "outputId": "5c4d1fb4-1aed-4fc5-ee4d-eaaf05d7ca6d",
        "colab": {
          "base_uri": "https://localhost:8080/"
        }
      },
      "source": [
        "randr['home rank'] = pd.to_numeric(randr['home rank'])\n",
        "randr['away rank'] = pd.to_numeric(randr['away rank'])\n",
        "randr.dtypes"
      ],
      "execution_count": 358,
      "outputs": [
        {
          "output_type": "execute_result",
          "data": {
            "text/plain": [
              "date          datetime64[ns]\n",
              "home_team             object\n",
              "away_team             object\n",
              "home_score             int64\n",
              "away_score             int64\n",
              "tournament            object\n",
              "city                  object\n",
              "country               object\n",
              "neutral                 bool\n",
              "year                  object\n",
              "home rank            float64\n",
              "away rank            float64\n",
              "dtype: object"
            ]
          },
          "metadata": {
            "tags": []
          },
          "execution_count": 358
        }
      ]
    },
    {
      "cell_type": "code",
      "metadata": {
        "id": "dO0_bLRG2wnY",
        "outputId": "ffaa6685-5dfc-4459-b5f7-f4d06a8d526c",
        "colab": {
          "base_uri": "https://localhost:8080/"
        }
      },
      "source": [
        "tn = chron.columns\n",
        "for z in tn:\n",
        "  chron[z] = pd.to_numeric(chron[z])\n",
        "\n",
        "chron.dtypes"
      ],
      "execution_count": 359,
      "outputs": [
        {
          "output_type": "execute_result",
          "data": {
            "text/plain": [
              "1993    float64\n",
              "1994    float64\n",
              "1995    float64\n",
              "1996    float64\n",
              "1997    float64\n",
              "1998    float64\n",
              "1999    float64\n",
              "2000    float64\n",
              "2001    float64\n",
              "2002    float64\n",
              "2003    float64\n",
              "2004    float64\n",
              "2005    float64\n",
              "2006    float64\n",
              "2007    float64\n",
              "2008    float64\n",
              "2009    float64\n",
              "2010    float64\n",
              "2011    float64\n",
              "2012    float64\n",
              "2013    float64\n",
              "2014    float64\n",
              "2015    float64\n",
              "2016    float64\n",
              "2017    float64\n",
              "2018    float64\n",
              "dtype: object"
            ]
          },
          "metadata": {
            "tags": []
          },
          "execution_count": 359
        }
      ]
    },
    {
      "cell_type": "markdown",
      "metadata": {
        "id": "TUPSlkc1kuQo"
      },
      "source": [
        "No anomalies found as to the conversion happened seemlessly"
      ]
    },
    {
      "cell_type": "markdown",
      "metadata": {
        "id": "K27Ug2O7ekPN"
      },
      "source": [
        "###Outlies"
      ]
    },
    {
      "cell_type": "code",
      "metadata": {
        "id": "f9uNV8d6WP59",
        "outputId": "8ffd7d9a-b972-4518-aaa5-28c7896c6332",
        "colab": {
          "base_uri": "https://localhost:8080/",
          "height": 283
        }
      },
      "source": [
        "randr.boxplot()"
      ],
      "execution_count": 360,
      "outputs": [
        {
          "output_type": "execute_result",
          "data": {
            "text/plain": [
              "<matplotlib.axes._subplots.AxesSubplot at 0x7fe0d7db9c50>"
            ]
          },
          "metadata": {
            "tags": []
          },
          "execution_count": 360
        },
        {
          "output_type": "display_data",
          "data": {
            "image/png": "[encoded data removed]",
            "text/plain": [
              "<Figure size 432x288 with 1 Axes>"
            ]
          },
          "metadata": {
            "tags": [],
            "needs_background": "light"
          }
        }
      ]
    },
    {
      "cell_type": "code",
      "metadata": {
        "id": "RQhLbWp8ZIKM",
        "outputId": "2ea40334-307e-4a41-bbc2-5b39a04fa763",
        "colab": {
          "base_uri": "https://localhost:8080/",
          "height": 583
        }
      },
      "source": [
        "randr[randr['home_score'] > 15]"
      ],
      "execution_count": 361,
      "outputs": [
        {
          "output_type": "execute_result",
          "data": {
            "text/html": [
              "<div>\n",
              "<style scoped>\n",
              "    .dataframe tbody tr th:only-of-type {\n",
              "        vertical-align: middle;\n",
              "    }\n",
              "\n",
              "    .dataframe tbody tr th {\n",
              "        vertical-align: top;\n",
              "    }\n",
              "\n",
              "    .dataframe thead th {\n",
              "        text-align: right;\n",
              "    }\n",
              "</style>\n",
              "<table border=\"1\" class=\"dataframe\">\n",
              "  <thead>\n",
              "    <tr style=\"text-align: right;\">\n",
              "      <th></th>\n",
              "      <th>date</th>\n",
              "      <th>home_team</th>\n",
              "      <th>away_team</th>\n",
              "      <th>home_score</th>\n",
              "      <th>away_score</th>\n",
              "      <th>tournament</th>\n",
              "      <th>city</th>\n",
              "      <th>country</th>\n",
              "      <th>neutral</th>\n",
              "      <th>year</th>\n",
              "      <th>home rank</th>\n",
              "      <th>away rank</th>\n",
              "    </tr>\n",
              "  </thead>\n",
              "  <tbody>\n",
              "    <tr>\n",
              "      <th>21552</th>\n",
              "      <td>1998-09-28</td>\n",
              "      <td>Australia</td>\n",
              "      <td>Cook Islands</td>\n",
              "      <td>16</td>\n",
              "      <td>0</td>\n",
              "      <td>Oceania Nations Cup</td>\n",
              "      <td>Brisbane</td>\n",
              "      <td>Australia</td>\n",
              "      <td>False</td>\n",
              "      <td>1998</td>\n",
              "      <td>39.0</td>\n",
              "      <td>173.0</td>\n",
              "    </tr>\n",
              "    <tr>\n",
              "      <th>22465</th>\n",
              "      <td>2000-01-26</td>\n",
              "      <td>China PR</td>\n",
              "      <td>Guam</td>\n",
              "      <td>19</td>\n",
              "      <td>0</td>\n",
              "      <td>AFC Asian Cup qualification</td>\n",
              "      <td>Hanoi</td>\n",
              "      <td>Vietnam</td>\n",
              "      <td>True</td>\n",
              "      <td>2000</td>\n",
              "      <td>75.0</td>\n",
              "      <td>199.0</td>\n",
              "    </tr>\n",
              "    <tr>\n",
              "      <th>23443</th>\n",
              "      <td>2000-11-26</td>\n",
              "      <td>Tajikistan</td>\n",
              "      <td>Guam</td>\n",
              "      <td>16</td>\n",
              "      <td>0</td>\n",
              "      <td>FIFA World Cup qualification</td>\n",
              "      <td>Tabriz</td>\n",
              "      <td>Iran</td>\n",
              "      <td>True</td>\n",
              "      <td>2000</td>\n",
              "      <td>134.0</td>\n",
              "      <td>199.0</td>\n",
              "    </tr>\n",
              "    <tr>\n",
              "      <th>22552</th>\n",
              "      <td>2000-02-14</td>\n",
              "      <td>Kuwait</td>\n",
              "      <td>Bhutan</td>\n",
              "      <td>20</td>\n",
              "      <td>0</td>\n",
              "      <td>AFC Asian Cup qualification</td>\n",
              "      <td>Kuwait City</td>\n",
              "      <td>Kuwait</td>\n",
              "      <td>False</td>\n",
              "      <td>2000</td>\n",
              "      <td>74.0</td>\n",
              "      <td>201.0</td>\n",
              "    </tr>\n",
              "    <tr>\n",
              "      <th>23019</th>\n",
              "      <td>2000-06-19</td>\n",
              "      <td>Australia</td>\n",
              "      <td>Cook Islands</td>\n",
              "      <td>17</td>\n",
              "      <td>0</td>\n",
              "      <td>Oceania Nations Cup</td>\n",
              "      <td>Papeete</td>\n",
              "      <td>French Polynesia</td>\n",
              "      <td>True</td>\n",
              "      <td>2000</td>\n",
              "      <td>73.0</td>\n",
              "      <td>170.0</td>\n",
              "    </tr>\n",
              "    <tr>\n",
              "      <th>23781</th>\n",
              "      <td>2001-04-11</td>\n",
              "      <td>Australia</td>\n",
              "      <td>American Samoa</td>\n",
              "      <td>31</td>\n",
              "      <td>0</td>\n",
              "      <td>FIFA World Cup qualification</td>\n",
              "      <td>Coffs Harbour</td>\n",
              "      <td>Australia</td>\n",
              "      <td>False</td>\n",
              "      <td>2001</td>\n",
              "      <td>48.0</td>\n",
              "      <td>201.0</td>\n",
              "    </tr>\n",
              "    <tr>\n",
              "      <th>23778</th>\n",
              "      <td>2001-04-09</td>\n",
              "      <td>Australia</td>\n",
              "      <td>Tonga</td>\n",
              "      <td>22</td>\n",
              "      <td>0</td>\n",
              "      <td>FIFA World Cup qualification</td>\n",
              "      <td>Coffs Harbour</td>\n",
              "      <td>Australia</td>\n",
              "      <td>False</td>\n",
              "      <td>2001</td>\n",
              "      <td>48.0</td>\n",
              "      <td>173.0</td>\n",
              "    </tr>\n",
              "    <tr>\n",
              "      <th>32507</th>\n",
              "      <td>2010-10-14</td>\n",
              "      <td>Dominican Republic</td>\n",
              "      <td>British Virgin Islands</td>\n",
              "      <td>17</td>\n",
              "      <td>0</td>\n",
              "      <td>CFU Caribbean Cup qualification</td>\n",
              "      <td>San Cristóbal</td>\n",
              "      <td>Dominican Republic</td>\n",
              "      <td>False</td>\n",
              "      <td>2010</td>\n",
              "      <td>168.0</td>\n",
              "      <td>176.0</td>\n",
              "    </tr>\n",
              "  </tbody>\n",
              "</table>\n",
              "</div>"
            ],
            "text/plain": [
              "            date           home_team  ... home rank  away rank\n",
              "21552 1998-09-28           Australia  ...      39.0      173.0\n",
              "22465 2000-01-26            China PR  ...      75.0      199.0\n",
              "23443 2000-11-26          Tajikistan  ...     134.0      199.0\n",
              "22552 2000-02-14              Kuwait  ...      74.0      201.0\n",
              "23019 2000-06-19           Australia  ...      73.0      170.0\n",
              "23781 2001-04-11           Australia  ...      48.0      201.0\n",
              "23778 2001-04-09           Australia  ...      48.0      173.0\n",
              "32507 2010-10-14  Dominican Republic  ...     168.0      176.0\n",
              "\n",
              "[8 rows x 12 columns]"
            ]
          },
          "metadata": {
            "tags": []
          },
          "execution_count": 361
        }
      ]
    },
    {
      "cell_type": "code",
      "metadata": {
        "id": "MFe_qsWjnv-j",
        "outputId": "9f8e557d-31fe-42cf-803a-ddeefb2ab5a3",
        "colab": {
          "base_uri": "https://localhost:8080/"
        }
      },
      "source": [
        "randr['home_score'].quantile(0.75)"
      ],
      "execution_count": 362,
      "outputs": [
        {
          "output_type": "execute_result",
          "data": {
            "text/plain": [
              "2.0"
            ]
          },
          "metadata": {
            "tags": []
          },
          "execution_count": 362
        }
      ]
    },
    {
      "cell_type": "code",
      "metadata": {
        "id": "BBsOZ4z4pAIG",
        "outputId": "e22e0630-c797-4da6-8afc-e16e43bdc21a",
        "colab": {
          "base_uri": "https://localhost:8080/"
        }
      },
      "source": [
        "randr['home_score'].quantile(0.25)"
      ],
      "execution_count": 363,
      "outputs": [
        {
          "output_type": "execute_result",
          "data": {
            "text/plain": [
              "0.0"
            ]
          },
          "metadata": {
            "tags": []
          },
          "execution_count": 363
        }
      ]
    },
    {
      "cell_type": "code",
      "metadata": {
        "id": "kuNpAErGiBMu"
      },
      "source": [
        "#todrop = ['home_score', 'away_score']\n",
        "#for m in todrop:\n",
        "#  qh3 = ti[m].quantile(0.75)\n",
        "#  qh1 = ti[m].quantile(0.75)\n",
        "#  dropped = ti[ti[m] < qh3]\n",
        "#  dropped = dropped[dropped[m] > qh1]\n",
        "#  ti =dropped\n",
        "#  print(qh3)\n",
        "#  print(qh1)"
      ],
      "execution_count": 364,
      "outputs": []
    },
    {
      "cell_type": "markdown",
      "metadata": {
        "id": "ycmLShpMk0tY"
      },
      "source": [
        "Outliers are retained within the datasets since they portray the extremes of the scoring of the teams."
      ]
    },
    {
      "cell_type": "markdown",
      "metadata": {
        "id": "kem8Mkdkrw1D"
      },
      "source": [
        "##Descriptive columns"
      ]
    },
    {
      "cell_type": "code",
      "metadata": {
        "id": "PXuFLbkq6Ivu"
      },
      "source": [
        "randr['status'] = ''"
      ],
      "execution_count": 365,
      "outputs": []
    },
    {
      "cell_type": "code",
      "metadata": {
        "id": "6O8C5KOJ6WCo"
      },
      "source": [
        "#Creation of a new column to describe the result of match using win, lose or draw.\n",
        "\n",
        "for a , row in randr.iterrows():\n",
        "  if row['home_score'] > row['away_score']:\n",
        "    randr.loc[a , 'status'] = 'Win'\n",
        "  elif row['home_score'] < row['away_score']:\n",
        "    randr.loc[a , 'status'] = 'Lose'\n",
        "  else:\n",
        "    randr.loc[a , 'status'] = 'Draw'"
      ],
      "execution_count": 366,
      "outputs": []
    },
    {
      "cell_type": "code",
      "metadata": {
        "id": "3xQmUQl67Tcr",
        "outputId": "30bc509c-def3-45ef-a34e-392ba75649c4",
        "colab": {
          "base_uri": "https://localhost:8080/",
          "height": 594
        }
      },
      "source": [
        "randr.head(10)"
      ],
      "execution_count": 367,
      "outputs": [
        {
          "output_type": "execute_result",
          "data": {
            "text/html": [
              "<div>\n",
              "<style scoped>\n",
              "    .dataframe tbody tr th:only-of-type {\n",
              "        vertical-align: middle;\n",
              "    }\n",
              "\n",
              "    .dataframe tbody tr th {\n",
              "        vertical-align: top;\n",
              "    }\n",
              "\n",
              "    .dataframe thead th {\n",
              "        text-align: right;\n",
              "    }\n",
              "</style>\n",
              "<table border=\"1\" class=\"dataframe\">\n",
              "  <thead>\n",
              "    <tr style=\"text-align: right;\">\n",
              "      <th></th>\n",
              "      <th>date</th>\n",
              "      <th>home_team</th>\n",
              "      <th>away_team</th>\n",
              "      <th>home_score</th>\n",
              "      <th>away_score</th>\n",
              "      <th>tournament</th>\n",
              "      <th>city</th>\n",
              "      <th>country</th>\n",
              "      <th>neutral</th>\n",
              "      <th>year</th>\n",
              "      <th>home rank</th>\n",
              "      <th>away rank</th>\n",
              "      <th>status</th>\n",
              "    </tr>\n",
              "  </thead>\n",
              "  <tbody>\n",
              "    <tr>\n",
              "      <th>17361</th>\n",
              "      <td>1993-01-01</td>\n",
              "      <td>Ghana</td>\n",
              "      <td>Mali</td>\n",
              "      <td>1</td>\n",
              "      <td>1</td>\n",
              "      <td>Friendly</td>\n",
              "      <td>Libreville</td>\n",
              "      <td>Gabon</td>\n",
              "      <td>True</td>\n",
              "      <td>1993</td>\n",
              "      <td>37.0</td>\n",
              "      <td>70.0</td>\n",
              "      <td>Draw</td>\n",
              "    </tr>\n",
              "    <tr>\n",
              "      <th>17833</th>\n",
              "      <td>1993-07-04</td>\n",
              "      <td>Gabon</td>\n",
              "      <td>Mali</td>\n",
              "      <td>0</td>\n",
              "      <td>2</td>\n",
              "      <td>Friendly</td>\n",
              "      <td>Moanda</td>\n",
              "      <td>Gabon</td>\n",
              "      <td>False</td>\n",
              "      <td>1993</td>\n",
              "      <td>60.0</td>\n",
              "      <td>70.0</td>\n",
              "      <td>Lose</td>\n",
              "    </tr>\n",
              "    <tr>\n",
              "      <th>17364</th>\n",
              "      <td>1993-01-03</td>\n",
              "      <td>Burkina Faso</td>\n",
              "      <td>Mali</td>\n",
              "      <td>1</td>\n",
              "      <td>0</td>\n",
              "      <td>Friendly</td>\n",
              "      <td>Libreville</td>\n",
              "      <td>Gabon</td>\n",
              "      <td>True</td>\n",
              "      <td>1993</td>\n",
              "      <td>127.0</td>\n",
              "      <td>70.0</td>\n",
              "      <td>Win</td>\n",
              "    </tr>\n",
              "    <tr>\n",
              "      <th>18079</th>\n",
              "      <td>1993-12-03</td>\n",
              "      <td>Sierra Leone</td>\n",
              "      <td>Mali</td>\n",
              "      <td>2</td>\n",
              "      <td>0</td>\n",
              "      <td>Amílcar Cabral Cup</td>\n",
              "      <td>Freetown</td>\n",
              "      <td>Sierra Leone</td>\n",
              "      <td>False</td>\n",
              "      <td>1993</td>\n",
              "      <td>76.0</td>\n",
              "      <td>70.0</td>\n",
              "      <td>Win</td>\n",
              "    </tr>\n",
              "    <tr>\n",
              "      <th>18067</th>\n",
              "      <td>1993-11-27</td>\n",
              "      <td>Senegal</td>\n",
              "      <td>Mali</td>\n",
              "      <td>0</td>\n",
              "      <td>1</td>\n",
              "      <td>Amílcar Cabral Cup</td>\n",
              "      <td>Freetown</td>\n",
              "      <td>Sierra Leone</td>\n",
              "      <td>True</td>\n",
              "      <td>1993</td>\n",
              "      <td>56.0</td>\n",
              "      <td>70.0</td>\n",
              "      <td>Lose</td>\n",
              "    </tr>\n",
              "    <tr>\n",
              "      <th>17534</th>\n",
              "      <td>1993-04-09</td>\n",
              "      <td>Egypt</td>\n",
              "      <td>Mali</td>\n",
              "      <td>2</td>\n",
              "      <td>1</td>\n",
              "      <td>African Cup of Nations qualification</td>\n",
              "      <td>Cairo</td>\n",
              "      <td>Egypt</td>\n",
              "      <td>False</td>\n",
              "      <td>1993</td>\n",
              "      <td>26.0</td>\n",
              "      <td>70.0</td>\n",
              "      <td>Win</td>\n",
              "    </tr>\n",
              "    <tr>\n",
              "      <th>17604</th>\n",
              "      <td>1993-04-25</td>\n",
              "      <td>Morocco</td>\n",
              "      <td>Mali</td>\n",
              "      <td>1</td>\n",
              "      <td>0</td>\n",
              "      <td>African Cup of Nations qualification</td>\n",
              "      <td>Casablanca</td>\n",
              "      <td>Morocco</td>\n",
              "      <td>False</td>\n",
              "      <td>1993</td>\n",
              "      <td>30.0</td>\n",
              "      <td>70.0</td>\n",
              "      <td>Win</td>\n",
              "    </tr>\n",
              "    <tr>\n",
              "      <th>17964</th>\n",
              "      <td>1993-09-15</td>\n",
              "      <td>Morocco</td>\n",
              "      <td>Mali</td>\n",
              "      <td>3</td>\n",
              "      <td>0</td>\n",
              "      <td>Friendly</td>\n",
              "      <td>Casablanca</td>\n",
              "      <td>Morocco</td>\n",
              "      <td>False</td>\n",
              "      <td>1993</td>\n",
              "      <td>30.0</td>\n",
              "      <td>70.0</td>\n",
              "      <td>Win</td>\n",
              "    </tr>\n",
              "    <tr>\n",
              "      <th>18080</th>\n",
              "      <td>1993-12-05</td>\n",
              "      <td>Gambia</td>\n",
              "      <td>Mali</td>\n",
              "      <td>2</td>\n",
              "      <td>0</td>\n",
              "      <td>Amílcar Cabral Cup</td>\n",
              "      <td>Freetown</td>\n",
              "      <td>Sierra Leone</td>\n",
              "      <td>True</td>\n",
              "      <td>1993</td>\n",
              "      <td>125.0</td>\n",
              "      <td>70.0</td>\n",
              "      <td>Win</td>\n",
              "    </tr>\n",
              "    <tr>\n",
              "      <th>17390</th>\n",
              "      <td>1993-01-23</td>\n",
              "      <td>Ghana</td>\n",
              "      <td>Niger</td>\n",
              "      <td>4</td>\n",
              "      <td>0</td>\n",
              "      <td>Friendly</td>\n",
              "      <td>Kumasi</td>\n",
              "      <td>Ghana</td>\n",
              "      <td>False</td>\n",
              "      <td>1993</td>\n",
              "      <td>37.0</td>\n",
              "      <td>81.0</td>\n",
              "      <td>Win</td>\n",
              "    </tr>\n",
              "  </tbody>\n",
              "</table>\n",
              "</div>"
            ],
            "text/plain": [
              "            date     home_team away_team  ...  home rank  away rank status\n",
              "17361 1993-01-01         Ghana      Mali  ...       37.0       70.0   Draw\n",
              "17833 1993-07-04         Gabon      Mali  ...       60.0       70.0   Lose\n",
              "17364 1993-01-03  Burkina Faso      Mali  ...      127.0       70.0    Win\n",
              "18079 1993-12-03  Sierra Leone      Mali  ...       76.0       70.0    Win\n",
              "18067 1993-11-27       Senegal      Mali  ...       56.0       70.0   Lose\n",
              "17534 1993-04-09         Egypt      Mali  ...       26.0       70.0    Win\n",
              "17604 1993-04-25       Morocco      Mali  ...       30.0       70.0    Win\n",
              "17964 1993-09-15       Morocco      Mali  ...       30.0       70.0    Win\n",
              "18080 1993-12-05        Gambia      Mali  ...      125.0       70.0    Win\n",
              "17390 1993-01-23         Ghana     Niger  ...       37.0       81.0    Win\n",
              "\n",
              "[10 rows x 13 columns]"
            ]
          },
          "metadata": {
            "tags": []
          },
          "execution_count": 367
        }
      ]
    },
    {
      "cell_type": "code",
      "metadata": {
        "id": "QKabqRVs71oi"
      },
      "source": [
        "#Changing of the tournament labels to accomodate for the necessary data processing\n",
        "\n",
        "for a , row in randr.iterrows():\n",
        "  if row['tournament'] == 'Friendly':\n",
        "    randr.loc[a , 'tournament'] = 'friendly'\n",
        "  elif row['tournament'] == 'FIFA World Cup':\n",
        "    randr.loc[a , 'tournament'] = 'worldcup'\n",
        "  else:\n",
        "    randr.loc[a , 'tournament'] = 'other'"
      ],
      "execution_count": 368,
      "outputs": []
    },
    {
      "cell_type": "code",
      "metadata": {
        "id": "CFnFusv1Ltit"
      },
      "source": [
        "randr.drop(columns=['date', 'city','country','neutral'], inplace= True)"
      ],
      "execution_count": 369,
      "outputs": []
    },
    {
      "cell_type": "code",
      "metadata": {
        "id": "IP-VrLb-8eEQ",
        "outputId": "f29807af-d08f-4aa4-835d-82b90675153e",
        "colab": {
          "base_uri": "https://localhost:8080/",
          "height": 426
        }
      },
      "source": [
        "randr.head(10)"
      ],
      "execution_count": 370,
      "outputs": [
        {
          "output_type": "execute_result",
          "data": {
            "text/html": [
              "<div>\n",
              "<style scoped>\n",
              "    .dataframe tbody tr th:only-of-type {\n",
              "        vertical-align: middle;\n",
              "    }\n",
              "\n",
              "    .dataframe tbody tr th {\n",
              "        vertical-align: top;\n",
              "    }\n",
              "\n",
              "    .dataframe thead th {\n",
              "        text-align: right;\n",
              "    }\n",
              "</style>\n",
              "<table border=\"1\" class=\"dataframe\">\n",
              "  <thead>\n",
              "    <tr style=\"text-align: right;\">\n",
              "      <th></th>\n",
              "      <th>home_team</th>\n",
              "      <th>away_team</th>\n",
              "      <th>home_score</th>\n",
              "      <th>away_score</th>\n",
              "      <th>tournament</th>\n",
              "      <th>year</th>\n",
              "      <th>home rank</th>\n",
              "      <th>away rank</th>\n",
              "      <th>status</th>\n",
              "    </tr>\n",
              "  </thead>\n",
              "  <tbody>\n",
              "    <tr>\n",
              "      <th>17361</th>\n",
              "      <td>Ghana</td>\n",
              "      <td>Mali</td>\n",
              "      <td>1</td>\n",
              "      <td>1</td>\n",
              "      <td>friendly</td>\n",
              "      <td>1993</td>\n",
              "      <td>37.0</td>\n",
              "      <td>70.0</td>\n",
              "      <td>Draw</td>\n",
              "    </tr>\n",
              "    <tr>\n",
              "      <th>17833</th>\n",
              "      <td>Gabon</td>\n",
              "      <td>Mali</td>\n",
              "      <td>0</td>\n",
              "      <td>2</td>\n",
              "      <td>friendly</td>\n",
              "      <td>1993</td>\n",
              "      <td>60.0</td>\n",
              "      <td>70.0</td>\n",
              "      <td>Lose</td>\n",
              "    </tr>\n",
              "    <tr>\n",
              "      <th>17364</th>\n",
              "      <td>Burkina Faso</td>\n",
              "      <td>Mali</td>\n",
              "      <td>1</td>\n",
              "      <td>0</td>\n",
              "      <td>friendly</td>\n",
              "      <td>1993</td>\n",
              "      <td>127.0</td>\n",
              "      <td>70.0</td>\n",
              "      <td>Win</td>\n",
              "    </tr>\n",
              "    <tr>\n",
              "      <th>18079</th>\n",
              "      <td>Sierra Leone</td>\n",
              "      <td>Mali</td>\n",
              "      <td>2</td>\n",
              "      <td>0</td>\n",
              "      <td>other</td>\n",
              "      <td>1993</td>\n",
              "      <td>76.0</td>\n",
              "      <td>70.0</td>\n",
              "      <td>Win</td>\n",
              "    </tr>\n",
              "    <tr>\n",
              "      <th>18067</th>\n",
              "      <td>Senegal</td>\n",
              "      <td>Mali</td>\n",
              "      <td>0</td>\n",
              "      <td>1</td>\n",
              "      <td>other</td>\n",
              "      <td>1993</td>\n",
              "      <td>56.0</td>\n",
              "      <td>70.0</td>\n",
              "      <td>Lose</td>\n",
              "    </tr>\n",
              "    <tr>\n",
              "      <th>17534</th>\n",
              "      <td>Egypt</td>\n",
              "      <td>Mali</td>\n",
              "      <td>2</td>\n",
              "      <td>1</td>\n",
              "      <td>other</td>\n",
              "      <td>1993</td>\n",
              "      <td>26.0</td>\n",
              "      <td>70.0</td>\n",
              "      <td>Win</td>\n",
              "    </tr>\n",
              "    <tr>\n",
              "      <th>17604</th>\n",
              "      <td>Morocco</td>\n",
              "      <td>Mali</td>\n",
              "      <td>1</td>\n",
              "      <td>0</td>\n",
              "      <td>other</td>\n",
              "      <td>1993</td>\n",
              "      <td>30.0</td>\n",
              "      <td>70.0</td>\n",
              "      <td>Win</td>\n",
              "    </tr>\n",
              "    <tr>\n",
              "      <th>17964</th>\n",
              "      <td>Morocco</td>\n",
              "      <td>Mali</td>\n",
              "      <td>3</td>\n",
              "      <td>0</td>\n",
              "      <td>friendly</td>\n",
              "      <td>1993</td>\n",
              "      <td>30.0</td>\n",
              "      <td>70.0</td>\n",
              "      <td>Win</td>\n",
              "    </tr>\n",
              "    <tr>\n",
              "      <th>18080</th>\n",
              "      <td>Gambia</td>\n",
              "      <td>Mali</td>\n",
              "      <td>2</td>\n",
              "      <td>0</td>\n",
              "      <td>other</td>\n",
              "      <td>1993</td>\n",
              "      <td>125.0</td>\n",
              "      <td>70.0</td>\n",
              "      <td>Win</td>\n",
              "    </tr>\n",
              "    <tr>\n",
              "      <th>17390</th>\n",
              "      <td>Ghana</td>\n",
              "      <td>Niger</td>\n",
              "      <td>4</td>\n",
              "      <td>0</td>\n",
              "      <td>friendly</td>\n",
              "      <td>1993</td>\n",
              "      <td>37.0</td>\n",
              "      <td>81.0</td>\n",
              "      <td>Win</td>\n",
              "    </tr>\n",
              "  </tbody>\n",
              "</table>\n",
              "</div>"
            ],
            "text/plain": [
              "          home_team away_team  home_score  ...  home rank away rank status\n",
              "17361         Ghana      Mali           1  ...       37.0      70.0   Draw\n",
              "17833         Gabon      Mali           0  ...       60.0      70.0   Lose\n",
              "17364  Burkina Faso      Mali           1  ...      127.0      70.0    Win\n",
              "18079  Sierra Leone      Mali           2  ...       76.0      70.0    Win\n",
              "18067       Senegal      Mali           0  ...       56.0      70.0   Lose\n",
              "17534         Egypt      Mali           2  ...       26.0      70.0    Win\n",
              "17604       Morocco      Mali           1  ...       30.0      70.0    Win\n",
              "17964       Morocco      Mali           3  ...       30.0      70.0    Win\n",
              "18080        Gambia      Mali           2  ...      125.0      70.0    Win\n",
              "17390         Ghana     Niger           4  ...       37.0      81.0    Win\n",
              "\n",
              "[10 rows x 9 columns]"
            ]
          },
          "metadata": {
            "tags": []
          },
          "execution_count": 370
        }
      ]
    },
    {
      "cell_type": "markdown",
      "metadata": {
        "id": "V3Ez2Vl5g7-a"
      },
      "source": [
        "#Exploratory Data Analysis"
      ]
    },
    {
      "cell_type": "code",
      "metadata": {
        "id": "kjxVTf31ruLH"
      },
      "source": [
        "rr = randr.copy()\n",
        "ch = chron.copy()"
      ],
      "execution_count": 371,
      "outputs": []
    },
    {
      "cell_type": "code",
      "metadata": {
        "id": "SWTzWTEpQmqf"
      },
      "source": [
        "rr.dropna(inplace= True)"
      ],
      "execution_count": 372,
      "outputs": []
    },
    {
      "cell_type": "markdown",
      "metadata": {
        "id": "bfW-bwov5zpA"
      },
      "source": [
        "###Graphs"
      ]
    },
    {
      "cell_type": "code",
      "metadata": {
        "id": "nm0ACnfPpwdY",
        "outputId": "f57a7558-ec67-4d1b-90fb-c284b27818dc",
        "colab": {
          "base_uri": "https://localhost:8080/",
          "height": 701
        }
      },
      "source": [
        "#A graph of rank vs score of the home team\n",
        "\n",
        "plt.figure(figsize=(15,15))\n",
        "\n",
        "plt.title('Rank vs Score of home team')\n",
        "plt.xlabel('Rank of home team')\n",
        "plt.ylabel('Number of goals scored')\n",
        "\n",
        "plt.scatter(rr['home rank'],rr['home_score'])\n",
        "plt.show()"
      ],
      "execution_count": 373,
      "outputs": [
        {
          "output_type": "display_data",
          "data": {
            "image/png": "[encoded data removed]",
            "text/plain": [
              "<Figure size 1080x1080 with 1 Axes>"
            ]
          },
          "metadata": {
            "tags": [],
            "needs_background": "light"
          }
        }
      ]
    },
    {
      "cell_type": "code",
      "metadata": {
        "id": "kL-9H0MWsdl7",
        "outputId": "e0ec7906-0dbb-4258-9195-2e9b1f374406",
        "colab": {
          "base_uri": "https://localhost:8080/",
          "height": 718
        }
      },
      "source": [
        "#A graph of rank vs score of the away team\n",
        "\n",
        "plt.figure(figsize=(15,15))\n",
        "\n",
        "plt.title('Rank vs Score of away team')\n",
        "plt.xlabel('Rank of away team')\n",
        "plt.ylabel('Number of goals scored')\n",
        "\n",
        "plt.scatter(rr['away rank'],rr['away_score'])"
      ],
      "execution_count": 374,
      "outputs": [
        {
          "output_type": "execute_result",
          "data": {
            "text/plain": [
              "<matplotlib.collections.PathCollection at 0x7fe0d7dd7dd8>"
            ]
          },
          "metadata": {
            "tags": []
          },
          "execution_count": 374
        },
        {
          "output_type": "display_data",
          "data": {
            "image/png": "[encoded data removed]",
            "text/plain": [
              "<Figure size 1080x1080 with 1 Axes>"
            ]
          },
          "metadata": {
            "tags": [],
            "needs_background": "light"
          }
        }
      ]
    },
    {
      "cell_type": "code",
      "metadata": {
        "id": "-iJR0iBnycYf",
        "outputId": "783d74b5-ee98-4cd1-95c5-689c8d94af7d",
        "colab": {
          "base_uri": "https://localhost:8080/",
          "height": 718
        }
      },
      "source": [
        "##A graph of away team scores vs home team scores\n",
        "\n",
        "plt.figure(figsize=(15,15))\n",
        "\n",
        "plt.title('Home score vs Away score')\n",
        "plt.xlabel('Number of home goals scored')\n",
        "plt.ylabel('Number of away goals scored')\n",
        "\n",
        "plt.scatter(rr['home_score'],rr['away_score'])"
      ],
      "execution_count": 375,
      "outputs": [
        {
          "output_type": "execute_result",
          "data": {
            "text/plain": [
              "<matplotlib.collections.PathCollection at 0x7fe0c705e9b0>"
            ]
          },
          "metadata": {
            "tags": []
          },
          "execution_count": 375
        },
        {
          "output_type": "display_data",
          "data": {
            "image/png": "[encoded data removed]",
            "text/plain": [
              "<Figure size 1080x1080 with 1 Axes>"
            ]
          },
          "metadata": {
            "tags": [],
            "needs_background": "light"
          }
        }
      ]
    },
    {
      "cell_type": "markdown",
      "metadata": {
        "id": "ttuWz-9nbIHF"
      },
      "source": [
        "From the graph above, some predictive properties can be found since the graph above closely resembles the line y = x^-1 with its boundary. This has potential to be used."
      ]
    },
    {
      "cell_type": "code",
      "metadata": {
        "id": "0sM_BXDPsviv",
        "outputId": "f98ef749-820c-4b17-caef-28d4f3b972ea",
        "colab": {
          "base_uri": "https://localhost:8080/",
          "height": 1000
        }
      },
      "source": [
        "#Graphs of the rank of different teams over the time period spanning the \n",
        "#ranked data dataset\n",
        "\n",
        "countries = ch.index\n",
        "\n",
        "for g in range(0,5):\n",
        "  plt.scatter(ch.columns,ch.loc[countries[g]])\n",
        "  plt.title(countries[g])\n",
        "  plt.xlabel('Rank of team')\n",
        "  plt.ylabel('Year')\n",
        "  plt.show()"
      ],
      "execution_count": 376,
      "outputs": [
        {
          "output_type": "display_data",
          "data": {
            "image/png": "[encoded data removed]",
            "text/plain": [
              "<Figure size 432x288 with 1 Axes>"
            ]
          },
          "metadata": {
            "tags": [],
            "needs_background": "light"
          }
        },
        {
          "output_type": "display_data",
          "data": {
            "image/png": "[encoded data removed]",
            "text/plain": [
              "<Figure size 432x288 with 1 Axes>"
            ]
          },
          "metadata": {
            "tags": [],
            "needs_background": "light"
          }
        },
        {
          "output_type": "display_data",
          "data": {
            "image/png": "[encoded data removed]",
            "text/plain": [
              "<Figure size 432x288 with 1 Axes>"
            ]
          },
          "metadata": {
            "tags": [],
            "needs_background": "light"
          }
        },
        {
          "output_type": "display_data",
          "data": {
            "image/png": "[encoded data removed]",
            "text/plain": [
              "<Figure size 432x288 with 1 Axes>"
            ]
          },
          "metadata": {
            "tags": [],
            "needs_background": "light"
          }
        },
        {
          "output_type": "display_data",
          "data": {
            "image/png": "[encoded data removed]",
            "text/plain": [
              "<Figure size 432x288 with 1 Axes>"
            ]
          },
          "metadata": {
            "tags": [],
            "needs_background": "light"
          }
        }
      ]
    },
    {
      "cell_type": "markdown",
      "metadata": {
        "id": "pInYvJLUbrzq"
      },
      "source": [
        "The points in the above graphs show predictive properties with a regressive line representing the points"
      ]
    },
    {
      "cell_type": "code",
      "metadata": {
        "id": "UTL9TulC96Lc"
      },
      "source": [
        "#More columns are made on the dataset that show the absolute difference between \n",
        "#some of the columns within the dataset.\n",
        "\n",
        "rr['deltascore'] = abs(rr['away_score'] - rr['home_score'])\n",
        "rr['deltarank'] = abs(rr['away rank'] - rr['home rank'])\n",
        "rr['difscore'] = (rr['home_score'] - rr['away_score'])\n",
        "rr['difrank'] = (rr['home rank'] - rr['away rank'])"
      ],
      "execution_count": 377,
      "outputs": []
    },
    {
      "cell_type": "markdown",
      "metadata": {
        "id": "SF_3EKPrcHRd"
      },
      "source": [
        "Following the graphs above having either a small range between the points. Further research is done; [link](https://en.wikipedia.org/wiki/FIFA_World_Rankings) that shows some teams retain their rank stronger than others which prompts the investigation of the difference in rank and difference in goal number."
      ]
    },
    {
      "cell_type": "code",
      "metadata": {
        "id": "Hiuer0L1-Y-u",
        "outputId": "5b7cd40d-36a9-4317-c12a-1abf2ef5938a",
        "colab": {
          "base_uri": "https://localhost:8080/",
          "height": 713
        }
      },
      "source": [
        "##A graph of the absolute difference of rank and score\n",
        "\n",
        "plt.figure(figsize=(15,15))\n",
        "\n",
        "plt.title('Differnce of the absolute of rank and score')\n",
        "plt.xlabel('Difference of absolute score')\n",
        "plt.ylabel('Difference of absolute rank')\n",
        "\n",
        "plt.scatter(rr['deltascore'],rr['deltarank'])"
      ],
      "execution_count": 378,
      "outputs": [
        {
          "output_type": "execute_result",
          "data": {
            "text/plain": [
              "<matplotlib.collections.PathCollection at 0x7fe0c710b588>"
            ]
          },
          "metadata": {
            "tags": []
          },
          "execution_count": 378
        },
        {
          "output_type": "display_data",
          "data": {
            "image/png": "[encoded data removed]",
            "text/plain": [
              "<Figure size 1080x1080 with 1 Axes>"
            ]
          },
          "metadata": {
            "tags": [],
            "needs_background": "light"
          }
        }
      ]
    },
    {
      "cell_type": "code",
      "metadata": {
        "id": "SviMVvIkGmec",
        "outputId": "2d1948a2-8255-452f-993c-349f3249233b",
        "colab": {
          "base_uri": "https://localhost:8080/",
          "height": 707
        }
      },
      "source": [
        "#The difference of rank against the difference in score\n",
        "\n",
        "plt.figure(figsize=(15,15))\n",
        "\n",
        "plt.title('Differnce of rank and score')\n",
        "plt.xlabel('Difference of score')\n",
        "plt.ylabel('Difference of rank')\n",
        "\n",
        "plt.scatter(rr['difscore'],rr['difrank'])"
      ],
      "execution_count": 379,
      "outputs": [
        {
          "output_type": "execute_result",
          "data": {
            "text/plain": [
              "<matplotlib.collections.PathCollection at 0x7fe0c6ec42b0>"
            ]
          },
          "metadata": {
            "tags": []
          },
          "execution_count": 379
        },
        {
          "output_type": "display_data",
          "data": {
            "image/png": "[encoded data removed]",
            "text/plain": [
              "<Figure size 1080x1080 with 1 Axes>"
            ]
          },
          "metadata": {
            "tags": [],
            "needs_background": "light"
          }
        }
      ]
    },
    {
      "cell_type": "markdown",
      "metadata": {
        "id": "K-vmvqjGdLz-"
      },
      "source": [
        "The points on the graph above seem to be biased on the 2nd quadrant and the 4th quadrant of the graph which should have a bit of correlation."
      ]
    },
    {
      "cell_type": "code",
      "metadata": {
        "id": "v0UZeh8ZGDln",
        "outputId": "0f38c088-8e39-45e0-8270-b50c0b1341d0",
        "colab": {
          "base_uri": "https://localhost:8080/",
          "height": 336
        }
      },
      "source": [
        "#Checking for correlation of the columns\n",
        "\n",
        "sb.heatmap(rr.corr()) "
      ],
      "execution_count": 380,
      "outputs": [
        {
          "output_type": "execute_result",
          "data": {
            "text/plain": [
              "<matplotlib.axes._subplots.AxesSubplot at 0x7fe0d7ca90b8>"
            ]
          },
          "metadata": {
            "tags": []
          },
          "execution_count": 380
        },
        {
          "output_type": "display_data",
          "data": {
            "image/png": "[encoded data removed]",
            "text/plain": [
              "<Figure size 432x288 with 2 Axes>"
            ]
          },
          "metadata": {
            "tags": [],
            "needs_background": "light"
          }
        }
      ]
    },
    {
      "cell_type": "markdown",
      "metadata": {
        "id": "JXMRbplPdy2R"
      },
      "source": [
        "Since on the search of outliers the home score and away score of 0 appeared within the quadrants the correlation between either the home score or away score to the difference in score is ignored."
      ]
    },
    {
      "cell_type": "code",
      "metadata": {
        "id": "U8QCpl9iOYdB",
        "outputId": "0706dc67-bd00-431b-b34c-45375be6111c",
        "colab": {
          "base_uri": "https://localhost:8080/"
        }
      },
      "source": [
        "#Confirmation on the correlation between the difference in score and \n",
        "#the difference in rank\n",
        "\n",
        "rr['difrank'].corr(rr['difscore'])"
      ],
      "execution_count": 381,
      "outputs": [
        {
          "output_type": "execute_result",
          "data": {
            "text/plain": [
              "-0.5972071273573477"
            ]
          },
          "metadata": {
            "tags": []
          },
          "execution_count": 381
        }
      ]
    },
    {
      "cell_type": "markdown",
      "metadata": {
        "id": "t_66KNQN-2Rm"
      },
      "source": [
        "#Feature Engineering"
      ]
    },
    {
      "cell_type": "markdown",
      "metadata": {
        "id": "yCSVyZsPfCAt"
      },
      "source": [
        "###Actual differences model"
      ]
    },
    {
      "cell_type": "markdown",
      "metadata": {
        "id": "QiGBLaneeiGM"
      },
      "source": [
        "A model is built of regression between the difference in rank and the difference in score due to their correlation"
      ]
    },
    {
      "cell_type": "code",
      "metadata": {
        "id": "1zjLgheCaIuN"
      },
      "source": [
        "from sklearn.model_selection import train_test_split\n",
        "\n",
        "X = rr['difrank'].values.reshape(-1,1)\n",
        "y = rr['difscore'].values.reshape(-1,1)\n",
        "\n",
        "ds_train, ds_test, dr_train, dr_test = train_test_split(X, y, test_size=0.3, random_state=1)"
      ],
      "execution_count": 382,
      "outputs": []
    },
    {
      "cell_type": "code",
      "metadata": {
        "id": "PrAswK6GbbnH",
        "outputId": "2f49e501-081c-490e-871a-72ee55c7a5be",
        "colab": {
          "base_uri": "https://localhost:8080/"
        }
      },
      "source": [
        "from sklearn.linear_model import LinearRegression\n",
        "\n",
        "regressor = LinearRegression()\n",
        "\n",
        "regressor.fit(ds_train, dr_train)\n",
        "\n",
        "print(regressor.intercept_)\n",
        "print(regressor.coef_)"
      ],
      "execution_count": 383,
      "outputs": [
        {
          "output_type": "stream",
          "text": [
            "[0.44763722]\n",
            "[[-0.02520718]]\n"
          ],
          "name": "stdout"
        }
      ]
    },
    {
      "cell_type": "code",
      "metadata": {
        "id": "O8_2-AoEcGBy",
        "outputId": "005e3559-7a3d-4013-a3b8-c39c191fe489",
        "colab": {
          "base_uri": "https://localhost:8080/",
          "height": 0
        }
      },
      "source": [
        "ds_predict = regressor.predict(dr_test)\n",
        "\n",
        "comparison_frame = pd.DataFrame({'Actual': ds_test.flatten(), 'Predicted': ds_predict.flatten()})\n",
        "\n",
        "comparison_frame.describe()\n",
        "  "
      ],
      "execution_count": 384,
      "outputs": [
        {
          "output_type": "execute_result",
          "data": {
            "text/html": [
              "<div>\n",
              "<style scoped>\n",
              "    .dataframe tbody tr th:only-of-type {\n",
              "        vertical-align: middle;\n",
              "    }\n",
              "\n",
              "    .dataframe tbody tr th {\n",
              "        vertical-align: top;\n",
              "    }\n",
              "\n",
              "    .dataframe thead th {\n",
              "        text-align: right;\n",
              "    }\n",
              "</style>\n",
              "<table border=\"1\" class=\"dataframe\">\n",
              "  <thead>\n",
              "    <tr style=\"text-align: right;\">\n",
              "      <th></th>\n",
              "      <th>Actual</th>\n",
              "      <th>Predicted</th>\n",
              "    </tr>\n",
              "  </thead>\n",
              "  <tbody>\n",
              "    <tr>\n",
              "      <th>count</th>\n",
              "      <td>5684.000000</td>\n",
              "      <td>5684.000000</td>\n",
              "    </tr>\n",
              "    <tr>\n",
              "      <th>mean</th>\n",
              "      <td>-2.938424</td>\n",
              "      <td>0.433858</td>\n",
              "    </tr>\n",
              "    <tr>\n",
              "      <th>std</th>\n",
              "      <td>52.544645</td>\n",
              "      <td>0.056144</td>\n",
              "    </tr>\n",
              "    <tr>\n",
              "      <th>min</th>\n",
              "      <td>-204.000000</td>\n",
              "      <td>-0.333785</td>\n",
              "    </tr>\n",
              "    <tr>\n",
              "      <th>25%</th>\n",
              "      <td>-36.000000</td>\n",
              "      <td>0.397223</td>\n",
              "    </tr>\n",
              "    <tr>\n",
              "      <th>50%</th>\n",
              "      <td>-4.000000</td>\n",
              "      <td>0.447637</td>\n",
              "    </tr>\n",
              "    <tr>\n",
              "      <th>75%</th>\n",
              "      <td>28.000000</td>\n",
              "      <td>0.472844</td>\n",
              "    </tr>\n",
              "    <tr>\n",
              "      <th>max</th>\n",
              "      <td>201.000000</td>\n",
              "      <td>0.825745</td>\n",
              "    </tr>\n",
              "  </tbody>\n",
              "</table>\n",
              "</div>"
            ],
            "text/plain": [
              "            Actual    Predicted\n",
              "count  5684.000000  5684.000000\n",
              "mean     -2.938424     0.433858\n",
              "std      52.544645     0.056144\n",
              "min    -204.000000    -0.333785\n",
              "25%     -36.000000     0.397223\n",
              "50%      -4.000000     0.447637\n",
              "75%      28.000000     0.472844\n",
              "max     201.000000     0.825745"
            ]
          },
          "metadata": {
            "tags": []
          },
          "execution_count": 384
        }
      ]
    },
    {
      "cell_type": "code",
      "metadata": {
        "id": "GGohBr_jdAKv",
        "outputId": "1d9d71f2-dc14-4353-e8c2-3ea087f08047",
        "colab": {
          "base_uri": "https://localhost:8080/",
          "height": 0
        }
      },
      "source": [
        "plt.figure(figsize=(15,15))\n",
        "plt.scatter(ds_test, dr_test)\n",
        "plt.plot(ds_test, ds_predict, color='red')\n",
        "plt.show()"
      ],
      "execution_count": 385,
      "outputs": [
        {
          "output_type": "display_data",
          "data": {
            "image/png": "[encoded data removed]",
            "text/plain": [
              "<Figure size 1080x1080 with 1 Axes>"
            ]
          },
          "metadata": {
            "tags": [],
            "needs_background": "light"
          }
        }
      ]
    },
    {
      "cell_type": "code",
      "metadata": {
        "id": "MmA8_63zmSK4",
        "outputId": "f3fa42fc-e24e-43bc-d93b-16843dad015a",
        "colab": {
          "base_uri": "https://localhost:8080/",
          "height": 0
        }
      },
      "source": [
        "reg1 = LinearRegression()\n",
        "\n",
        "reg1.fit(X, y)\n",
        "plt.scatter(X, y, color='blue') # You can put any color you like. This just helps us highlight the data points\n",
        "plt.plot(X, reg1.predict(X), color='red')"
      ],
      "execution_count": 386,
      "outputs": [
        {
          "output_type": "execute_result",
          "data": {
            "text/plain": [
              "[<matplotlib.lines.Line2D at 0x7fe0c629e518>]"
            ]
          },
          "metadata": {
            "tags": []
          },
          "execution_count": 386
        },
        {
          "output_type": "display_data",
          "data": {
            "image/png": "[encoded data removed]",
            "text/plain": [
              "<Figure size 432x288 with 1 Axes>"
            ]
          },
          "metadata": {
            "tags": [],
            "needs_background": "light"
          }
        }
      ]
    },
    {
      "cell_type": "code",
      "metadata": {
        "id": "1Xh_n5lvnE-I",
        "outputId": "ca11e27c-c361-4764-dc7d-259a059be019",
        "colab": {
          "base_uri": "https://localhost:8080/"
        }
      },
      "source": [
        "print(reg1.intercept_)\n",
        "print(reg1.coef_)"
      ],
      "execution_count": 387,
      "outputs": [
        {
          "output_type": "stream",
          "text": [
            "[0.45529924]\n",
            "[[-0.02515277]]\n"
          ],
          "name": "stdout"
        }
      ]
    },
    {
      "cell_type": "markdown",
      "metadata": {
        "id": "oXPg7iAYfHjs"
      },
      "source": [
        "###Home scores and Away scores model"
      ]
    },
    {
      "cell_type": "markdown",
      "metadata": {
        "id": "KOyp6LOievD_"
      },
      "source": [
        "Models are built based on the observation of the away scores and the home score graph. A polynomial line is used to try represent the away model when away team is winning and another is used for the home model when the home team is winning."
      ]
    },
    {
      "cell_type": "markdown",
      "metadata": {
        "id": "WwFU6eta8cSo"
      },
      "source": [
        "####Away model"
      ]
    },
    {
      "cell_type": "code",
      "metadata": {
        "id": "e5YmyTqmkFN5"
      },
      "source": [
        "from sklearn.preprocessing import PolynomialFeatures"
      ],
      "execution_count": 388,
      "outputs": []
    },
    {
      "cell_type": "code",
      "metadata": {
        "id": "HAyMWCEGkMaF"
      },
      "source": [
        "X = rr['away_score'].values.reshape(-1,1)\n",
        "y = rr['home_score'].values.reshape(-1,1)\n",
        "\n",
        "hs_train, hs_test, as_train, as_test = train_test_split(X, y, test_size=0.3, random_state=1)"
      ],
      "execution_count": 389,
      "outputs": []
    },
    {
      "cell_type": "code",
      "metadata": {
        "id": "p03fLQs1lBbf"
      },
      "source": [
        "poly_reg = PolynomialFeatures(degree = 2) \n",
        "X_poly = poly_reg.fit_transform(X)"
      ],
      "execution_count": 390,
      "outputs": []
    },
    {
      "cell_type": "code",
      "metadata": {
        "id": "f586Gx6W8nHH",
        "outputId": "6a8dc9cb-33d4-46e9-e948-e3331d05591e",
        "colab": {
          "base_uri": "https://localhost:8080/"
        }
      },
      "source": [
        "pol_reg = LinearRegression()\n",
        "pol_reg.fit(X_poly, y)"
      ],
      "execution_count": 391,
      "outputs": [
        {
          "output_type": "execute_result",
          "data": {
            "text/plain": [
              "LinearRegression(copy_X=True, fit_intercept=True, n_jobs=None, normalize=False)"
            ]
          },
          "metadata": {
            "tags": []
          },
          "execution_count": 391
        }
      ]
    },
    {
      "cell_type": "code",
      "metadata": {
        "id": "tCiwEkRpoPsf",
        "outputId": "2f6f61a6-abe9-44b2-ef2f-639d974a411a",
        "colab": {
          "base_uri": "https://localhost:8080/",
          "height": 0
        }
      },
      "source": [
        "plt.scatter(X, y, color='blue') # You can put any color you like. This just helps us highlight the data points\n",
        "plt.plot(X, pol_reg.predict(X_poly), color='red')"
      ],
      "execution_count": 392,
      "outputs": [
        {
          "output_type": "execute_result",
          "data": {
            "text/plain": [
              "[<matplotlib.lines.Line2D at 0x7fe0c6c8a2e8>]"
            ]
          },
          "metadata": {
            "tags": []
          },
          "execution_count": 392
        },
        {
          "output_type": "display_data",
          "data": {
            "image/png": "[encoded data removed]",
            "text/plain": [
              "<Figure size 432x288 with 1 Axes>"
            ]
          },
          "metadata": {
            "tags": [],
            "needs_background": "light"
          }
        }
      ]
    },
    {
      "cell_type": "markdown",
      "metadata": {
        "id": "-1jzYXe7ustd"
      },
      "source": [
        "####Home model"
      ]
    },
    {
      "cell_type": "code",
      "metadata": {
        "id": "gyWxKoqkust4"
      },
      "source": [
        "from sklearn.preprocessing import PolynomialFeatures"
      ],
      "execution_count": 393,
      "outputs": []
    },
    {
      "cell_type": "code",
      "metadata": {
        "id": "J-Pdc-JLusuU"
      },
      "source": [
        "X = rr['home_score'].values.reshape(-1,1)\n",
        "y = rr['away_score'].values.reshape(-1,1)\n",
        "\n",
        "hs_train, hs_test, as_train, as_test = train_test_split(X, y, test_size=0.3, random_state=1)"
      ],
      "execution_count": 394,
      "outputs": []
    },
    {
      "cell_type": "code",
      "metadata": {
        "id": "PclXJ4lBusug"
      },
      "source": [
        "poly_reg3 = PolynomialFeatures(degree = 2) \n",
        "X_poly2 = poly_reg3.fit_transform(X)"
      ],
      "execution_count": 395,
      "outputs": []
    },
    {
      "cell_type": "code",
      "metadata": {
        "id": "EWex-7Afusux",
        "outputId": "3f153b50-0337-4c6d-e9a1-5f055ad81a71",
        "colab": {
          "base_uri": "https://localhost:8080/"
        }
      },
      "source": [
        "pol_reg3 = LinearRegression()\n",
        "pol_reg3.fit(X_poly2, y)"
      ],
      "execution_count": 396,
      "outputs": [
        {
          "output_type": "execute_result",
          "data": {
            "text/plain": [
              "LinearRegression(copy_X=True, fit_intercept=True, n_jobs=None, normalize=False)"
            ]
          },
          "metadata": {
            "tags": []
          },
          "execution_count": 396
        }
      ]
    },
    {
      "cell_type": "code",
      "metadata": {
        "id": "llosVTZTusvE",
        "outputId": "8be8fa29-d066-4206-a796-c0387f581fe7",
        "colab": {
          "base_uri": "https://localhost:8080/",
          "height": 0
        }
      },
      "source": [
        "plt.scatter(X, y, color='blue') # You can put any color you like. This just helps us highlight the data points\n",
        "plt.plot(X, pol_reg3.predict(X_poly2), color='red')"
      ],
      "execution_count": 397,
      "outputs": [
        {
          "output_type": "execute_result",
          "data": {
            "text/plain": [
              "[<matplotlib.lines.Line2D at 0x7fe0c6c8a278>]"
            ]
          },
          "metadata": {
            "tags": []
          },
          "execution_count": 397
        },
        {
          "output_type": "display_data",
          "data": {
            "image/png": "[encoded data removed]",
            "text/plain": [
              "<Figure size 432x288 with 1 Axes>"
            ]
          },
          "metadata": {
            "tags": [],
            "needs_background": "light"
          }
        }
      ]
    },
    {
      "cell_type": "markdown",
      "metadata": {
        "id": "0je6q6aCwqY_"
      },
      "source": [
        "###Chronological spread of the team ranks"
      ]
    },
    {
      "cell_type": "markdown",
      "metadata": {
        "id": "3buJprM-fXra"
      },
      "source": [
        "For this dataset the data shall be biased to 1992 so that the first year of ranking available to analyse (1993) appears as 1 all the way to the last year"
      ]
    },
    {
      "cell_type": "code",
      "metadata": {
        "id": "h-G5Kzwfw3m0"
      },
      "source": [
        "yearcol = ch.columns\n",
        "yearcol = yearcol.astype(int)"
      ],
      "execution_count": 398,
      "outputs": []
    },
    {
      "cell_type": "code",
      "metadata": {
        "id": "Q0MfNNUIw8VY"
      },
      "source": [
        "yearcol = yearcol - 1992"
      ],
      "execution_count": 399,
      "outputs": []
    },
    {
      "cell_type": "code",
      "metadata": {
        "id": "jV0FjnwgzKCL"
      },
      "source": [
        "ch.columns = yearcol"
      ],
      "execution_count": 400,
      "outputs": []
    },
    {
      "cell_type": "code",
      "metadata": {
        "id": "0x_eoRSbzRBb",
        "outputId": "c06573f0-118f-45f2-9a47-b87553e64330",
        "colab": {
          "base_uri": "https://localhost:8080/",
          "height": 392
        }
      },
      "source": [
        "ch.head(10)"
      ],
      "execution_count": 401,
      "outputs": [
        {
          "output_type": "execute_result",
          "data": {
            "text/html": [
              "<div>\n",
              "<style scoped>\n",
              "    .dataframe tbody tr th:only-of-type {\n",
              "        vertical-align: middle;\n",
              "    }\n",
              "\n",
              "    .dataframe tbody tr th {\n",
              "        vertical-align: top;\n",
              "    }\n",
              "\n",
              "    .dataframe thead th {\n",
              "        text-align: right;\n",
              "    }\n",
              "</style>\n",
              "<table border=\"1\" class=\"dataframe\">\n",
              "  <thead>\n",
              "    <tr style=\"text-align: right;\">\n",
              "      <th></th>\n",
              "      <th>1</th>\n",
              "      <th>2</th>\n",
              "      <th>3</th>\n",
              "      <th>4</th>\n",
              "      <th>5</th>\n",
              "      <th>6</th>\n",
              "      <th>7</th>\n",
              "      <th>8</th>\n",
              "      <th>9</th>\n",
              "      <th>10</th>\n",
              "      <th>11</th>\n",
              "      <th>12</th>\n",
              "      <th>13</th>\n",
              "      <th>14</th>\n",
              "      <th>15</th>\n",
              "      <th>16</th>\n",
              "      <th>17</th>\n",
              "      <th>18</th>\n",
              "      <th>19</th>\n",
              "      <th>20</th>\n",
              "      <th>21</th>\n",
              "      <th>22</th>\n",
              "      <th>23</th>\n",
              "      <th>24</th>\n",
              "      <th>25</th>\n",
              "      <th>26</th>\n",
              "    </tr>\n",
              "  </thead>\n",
              "  <tbody>\n",
              "    <tr>\n",
              "      <th>Germany</th>\n",
              "      <td>1.0</td>\n",
              "      <td>5.0</td>\n",
              "      <td>2.0</td>\n",
              "      <td>2.0</td>\n",
              "      <td>2.0</td>\n",
              "      <td>3.0</td>\n",
              "      <td>5.0</td>\n",
              "      <td>11.0</td>\n",
              "      <td>12.0</td>\n",
              "      <td>4.0</td>\n",
              "      <td>12.0</td>\n",
              "      <td>19.0</td>\n",
              "      <td>16.0</td>\n",
              "      <td>6.0</td>\n",
              "      <td>5.0</td>\n",
              "      <td>2.0</td>\n",
              "      <td>6.0</td>\n",
              "      <td>3.0</td>\n",
              "      <td>3.0</td>\n",
              "      <td>2.0</td>\n",
              "      <td>2.0</td>\n",
              "      <td>1.0</td>\n",
              "      <td>4.0</td>\n",
              "      <td>3.0</td>\n",
              "      <td>1.0</td>\n",
              "      <td>1.0</td>\n",
              "    </tr>\n",
              "    <tr>\n",
              "      <th>Italy</th>\n",
              "      <td>2.0</td>\n",
              "      <td>4.0</td>\n",
              "      <td>3.0</td>\n",
              "      <td>10.0</td>\n",
              "      <td>9.0</td>\n",
              "      <td>7.0</td>\n",
              "      <td>14.0</td>\n",
              "      <td>4.0</td>\n",
              "      <td>6.0</td>\n",
              "      <td>13.0</td>\n",
              "      <td>10.0</td>\n",
              "      <td>10.0</td>\n",
              "      <td>12.0</td>\n",
              "      <td>2.0</td>\n",
              "      <td>3.0</td>\n",
              "      <td>4.0</td>\n",
              "      <td>4.0</td>\n",
              "      <td>14.0</td>\n",
              "      <td>9.0</td>\n",
              "      <td>4.0</td>\n",
              "      <td>7.0</td>\n",
              "      <td>11.0</td>\n",
              "      <td>15.0</td>\n",
              "      <td>16.0</td>\n",
              "      <td>14.0</td>\n",
              "      <td>19.0</td>\n",
              "    </tr>\n",
              "    <tr>\n",
              "      <th>Switzerland</th>\n",
              "      <td>12.0</td>\n",
              "      <td>7.0</td>\n",
              "      <td>18.0</td>\n",
              "      <td>47.0</td>\n",
              "      <td>62.0</td>\n",
              "      <td>83.0</td>\n",
              "      <td>47.0</td>\n",
              "      <td>58.0</td>\n",
              "      <td>63.0</td>\n",
              "      <td>44.0</td>\n",
              "      <td>44.0</td>\n",
              "      <td>51.0</td>\n",
              "      <td>35.0</td>\n",
              "      <td>17.0</td>\n",
              "      <td>44.0</td>\n",
              "      <td>24.0</td>\n",
              "      <td>18.0</td>\n",
              "      <td>22.0</td>\n",
              "      <td>17.0</td>\n",
              "      <td>12.0</td>\n",
              "      <td>8.0</td>\n",
              "      <td>12.0</td>\n",
              "      <td>12.0</td>\n",
              "      <td>11.0</td>\n",
              "      <td>8.0</td>\n",
              "      <td>6.0</td>\n",
              "    </tr>\n",
              "    <tr>\n",
              "      <th>Sweden</th>\n",
              "      <td>9.0</td>\n",
              "      <td>3.0</td>\n",
              "      <td>13.0</td>\n",
              "      <td>17.0</td>\n",
              "      <td>18.0</td>\n",
              "      <td>18.0</td>\n",
              "      <td>16.0</td>\n",
              "      <td>23.0</td>\n",
              "      <td>16.0</td>\n",
              "      <td>25.0</td>\n",
              "      <td>19.0</td>\n",
              "      <td>13.0</td>\n",
              "      <td>14.0</td>\n",
              "      <td>14.0</td>\n",
              "      <td>24.0</td>\n",
              "      <td>32.0</td>\n",
              "      <td>42.0</td>\n",
              "      <td>33.0</td>\n",
              "      <td>18.0</td>\n",
              "      <td>20.0</td>\n",
              "      <td>27.0</td>\n",
              "      <td>44.0</td>\n",
              "      <td>35.0</td>\n",
              "      <td>41.0</td>\n",
              "      <td>18.0</td>\n",
              "      <td>24.0</td>\n",
              "    </tr>\n",
              "    <tr>\n",
              "      <th>Argentina</th>\n",
              "      <td>8.0</td>\n",
              "      <td>10.0</td>\n",
              "      <td>7.0</td>\n",
              "      <td>22.0</td>\n",
              "      <td>17.0</td>\n",
              "      <td>5.0</td>\n",
              "      <td>6.0</td>\n",
              "      <td>3.0</td>\n",
              "      <td>2.0</td>\n",
              "      <td>5.0</td>\n",
              "      <td>5.0</td>\n",
              "      <td>3.0</td>\n",
              "      <td>4.0</td>\n",
              "      <td>3.0</td>\n",
              "      <td>1.0</td>\n",
              "      <td>6.0</td>\n",
              "      <td>8.0</td>\n",
              "      <td>5.0</td>\n",
              "      <td>10.0</td>\n",
              "      <td>3.0</td>\n",
              "      <td>3.0</td>\n",
              "      <td>2.0</td>\n",
              "      <td>2.0</td>\n",
              "      <td>1.0</td>\n",
              "      <td>4.0</td>\n",
              "      <td>5.0</td>\n",
              "    </tr>\n",
              "    <tr>\n",
              "      <th>Republic of Ireland</th>\n",
              "      <td>10.0</td>\n",
              "      <td>9.0</td>\n",
              "      <td>28.0</td>\n",
              "      <td>36.0</td>\n",
              "      <td>47.0</td>\n",
              "      <td>56.0</td>\n",
              "      <td>35.0</td>\n",
              "      <td>31.0</td>\n",
              "      <td>17.0</td>\n",
              "      <td>14.0</td>\n",
              "      <td>14.0</td>\n",
              "      <td>12.0</td>\n",
              "      <td>24.0</td>\n",
              "      <td>49.0</td>\n",
              "      <td>35.0</td>\n",
              "      <td>38.0</td>\n",
              "      <td>35.0</td>\n",
              "      <td>36.0</td>\n",
              "      <td>22.0</td>\n",
              "      <td>42.0</td>\n",
              "      <td>67.0</td>\n",
              "      <td>64.0</td>\n",
              "      <td>31.0</td>\n",
              "      <td>23.0</td>\n",
              "      <td>32.0</td>\n",
              "      <td>31.0</td>\n",
              "    </tr>\n",
              "    <tr>\n",
              "      <th>Russia</th>\n",
              "      <td>14.0</td>\n",
              "      <td>13.0</td>\n",
              "      <td>5.0</td>\n",
              "      <td>7.0</td>\n",
              "      <td>12.0</td>\n",
              "      <td>40.0</td>\n",
              "      <td>18.0</td>\n",
              "      <td>21.0</td>\n",
              "      <td>21.0</td>\n",
              "      <td>23.0</td>\n",
              "      <td>24.0</td>\n",
              "      <td>32.0</td>\n",
              "      <td>34.0</td>\n",
              "      <td>22.0</td>\n",
              "      <td>23.0</td>\n",
              "      <td>9.0</td>\n",
              "      <td>12.0</td>\n",
              "      <td>13.0</td>\n",
              "      <td>12.0</td>\n",
              "      <td>9.0</td>\n",
              "      <td>22.0</td>\n",
              "      <td>31.0</td>\n",
              "      <td>24.0</td>\n",
              "      <td>56.0</td>\n",
              "      <td>64.0</td>\n",
              "      <td>70.0</td>\n",
              "    </tr>\n",
              "    <tr>\n",
              "      <th>Brazil</th>\n",
              "      <td>3.0</td>\n",
              "      <td>1.0</td>\n",
              "      <td>1.0</td>\n",
              "      <td>1.0</td>\n",
              "      <td>1.0</td>\n",
              "      <td>1.0</td>\n",
              "      <td>1.0</td>\n",
              "      <td>1.0</td>\n",
              "      <td>3.0</td>\n",
              "      <td>1.0</td>\n",
              "      <td>1.0</td>\n",
              "      <td>1.0</td>\n",
              "      <td>1.0</td>\n",
              "      <td>1.0</td>\n",
              "      <td>2.0</td>\n",
              "      <td>5.0</td>\n",
              "      <td>2.0</td>\n",
              "      <td>4.0</td>\n",
              "      <td>6.0</td>\n",
              "      <td>18.0</td>\n",
              "      <td>10.0</td>\n",
              "      <td>6.0</td>\n",
              "      <td>6.0</td>\n",
              "      <td>2.0</td>\n",
              "      <td>2.0</td>\n",
              "      <td>2.0</td>\n",
              "    </tr>\n",
              "    <tr>\n",
              "      <th>Norway</th>\n",
              "      <td>4.0</td>\n",
              "      <td>8.0</td>\n",
              "      <td>10.0</td>\n",
              "      <td>14.0</td>\n",
              "      <td>13.0</td>\n",
              "      <td>14.0</td>\n",
              "      <td>7.0</td>\n",
              "      <td>14.0</td>\n",
              "      <td>26.0</td>\n",
              "      <td>26.0</td>\n",
              "      <td>42.0</td>\n",
              "      <td>35.0</td>\n",
              "      <td>38.0</td>\n",
              "      <td>50.0</td>\n",
              "      <td>29.0</td>\n",
              "      <td>59.0</td>\n",
              "      <td>32.0</td>\n",
              "      <td>12.0</td>\n",
              "      <td>25.0</td>\n",
              "      <td>24.0</td>\n",
              "      <td>54.0</td>\n",
              "      <td>67.0</td>\n",
              "      <td>54.0</td>\n",
              "      <td>83.0</td>\n",
              "      <td>59.0</td>\n",
              "      <td>53.0</td>\n",
              "    </tr>\n",
              "    <tr>\n",
              "      <th>Denmark</th>\n",
              "      <td>6.0</td>\n",
              "      <td>14.0</td>\n",
              "      <td>9.0</td>\n",
              "      <td>6.0</td>\n",
              "      <td>8.0</td>\n",
              "      <td>19.0</td>\n",
              "      <td>11.0</td>\n",
              "      <td>22.0</td>\n",
              "      <td>18.0</td>\n",
              "      <td>12.0</td>\n",
              "      <td>13.0</td>\n",
              "      <td>14.0</td>\n",
              "      <td>13.0</td>\n",
              "      <td>21.0</td>\n",
              "      <td>31.0</td>\n",
              "      <td>37.0</td>\n",
              "      <td>28.0</td>\n",
              "      <td>28.0</td>\n",
              "      <td>11.0</td>\n",
              "      <td>23.0</td>\n",
              "      <td>25.0</td>\n",
              "      <td>30.0</td>\n",
              "      <td>42.0</td>\n",
              "      <td>46.0</td>\n",
              "      <td>12.0</td>\n",
              "      <td>12.0</td>\n",
              "    </tr>\n",
              "  </tbody>\n",
              "</table>\n",
              "</div>"
            ],
            "text/plain": [
              "                       1     2     3     4     5   ...    22    23    24    25    26\n",
              "Germany               1.0   5.0   2.0   2.0   2.0  ...   1.0   4.0   3.0   1.0   1.0\n",
              "Italy                 2.0   4.0   3.0  10.0   9.0  ...  11.0  15.0  16.0  14.0  19.0\n",
              "Switzerland          12.0   7.0  18.0  47.0  62.0  ...  12.0  12.0  11.0   8.0   6.0\n",
              "Sweden                9.0   3.0  13.0  17.0  18.0  ...  44.0  35.0  41.0  18.0  24.0\n",
              "Argentina             8.0  10.0   7.0  22.0  17.0  ...   2.0   2.0   1.0   4.0   5.0\n",
              "Republic of Ireland  10.0   9.0  28.0  36.0  47.0  ...  64.0  31.0  23.0  32.0  31.0\n",
              "Russia               14.0  13.0   5.0   7.0  12.0  ...  31.0  24.0  56.0  64.0  70.0\n",
              "Brazil                3.0   1.0   1.0   1.0   1.0  ...   6.0   6.0   2.0   2.0   2.0\n",
              "Norway                4.0   8.0  10.0  14.0  13.0  ...  67.0  54.0  83.0  59.0  53.0\n",
              "Denmark               6.0  14.0   9.0   6.0   8.0  ...  30.0  42.0  46.0  12.0  12.0\n",
              "\n",
              "[10 rows x 26 columns]"
            ]
          },
          "metadata": {
            "tags": []
          },
          "execution_count": 401
        }
      ]
    },
    {
      "cell_type": "markdown",
      "metadata": {
        "id": "CAeoK5VlZfsH"
      },
      "source": [
        "#Multicollinearity"
      ]
    },
    {
      "cell_type": "markdown",
      "metadata": {
        "id": "WJb-8-RDfv0C"
      },
      "source": [
        "Multicollinearity is checked within the results and ranking dataset"
      ]
    },
    {
      "cell_type": "code",
      "metadata": {
        "id": "0LdxRoyrC4_Y",
        "outputId": "7b83707f-b636-46b6-b1f7-285f067631ff",
        "colab": {
          "base_uri": "https://localhost:8080/",
          "height": 331
        }
      },
      "source": [
        "co = rr.corr()\n",
        "co"
      ],
      "execution_count": 402,
      "outputs": [
        {
          "output_type": "execute_result",
          "data": {
            "text/html": [
              "<div>\n",
              "<style scoped>\n",
              "    .dataframe tbody tr th:only-of-type {\n",
              "        vertical-align: middle;\n",
              "    }\n",
              "\n",
              "    .dataframe tbody tr th {\n",
              "        vertical-align: top;\n",
              "    }\n",
              "\n",
              "    .dataframe thead th {\n",
              "        text-align: right;\n",
              "    }\n",
              "</style>\n",
              "<table border=\"1\" class=\"dataframe\">\n",
              "  <thead>\n",
              "    <tr style=\"text-align: right;\">\n",
              "      <th></th>\n",
              "      <th>home_score</th>\n",
              "      <th>away_score</th>\n",
              "      <th>home rank</th>\n",
              "      <th>away rank</th>\n",
              "      <th>deltascore</th>\n",
              "      <th>deltarank</th>\n",
              "      <th>difscore</th>\n",
              "      <th>difrank</th>\n",
              "    </tr>\n",
              "  </thead>\n",
              "  <tbody>\n",
              "    <tr>\n",
              "      <th>home_score</th>\n",
              "      <td>1.000000</td>\n",
              "      <td>-0.170400</td>\n",
              "      <td>-0.162536</td>\n",
              "      <td>0.336294</td>\n",
              "      <td>0.647318</td>\n",
              "      <td>0.152780</td>\n",
              "      <td>0.829861</td>\n",
              "      <td>-0.481669</td>\n",
              "    </tr>\n",
              "    <tr>\n",
              "      <th>away_score</th>\n",
              "      <td>-0.170400</td>\n",
              "      <td>1.000000</td>\n",
              "      <td>0.250020</td>\n",
              "      <td>-0.198545</td>\n",
              "      <td>0.188501</td>\n",
              "      <td>0.097634</td>\n",
              "      <td>-0.691219</td>\n",
              "      <td>0.430841</td>\n",
              "    </tr>\n",
              "    <tr>\n",
              "      <th>home rank</th>\n",
              "      <td>-0.162536</td>\n",
              "      <td>0.250020</td>\n",
              "      <td>1.000000</td>\n",
              "      <td>0.459635</td>\n",
              "      <td>0.037109</td>\n",
              "      <td>0.154209</td>\n",
              "      <td>-0.260773</td>\n",
              "      <td>0.503592</td>\n",
              "    </tr>\n",
              "    <tr>\n",
              "      <th>away rank</th>\n",
              "      <td>0.336294</td>\n",
              "      <td>-0.198545</td>\n",
              "      <td>0.459635</td>\n",
              "      <td>1.000000</td>\n",
              "      <td>0.228535</td>\n",
              "      <td>0.201068</td>\n",
              "      <td>0.359055</td>\n",
              "      <td>-0.535806</td>\n",
              "    </tr>\n",
              "    <tr>\n",
              "      <th>deltascore</th>\n",
              "      <td>0.647318</td>\n",
              "      <td>0.188501</td>\n",
              "      <td>0.037109</td>\n",
              "      <td>0.228535</td>\n",
              "      <td>1.000000</td>\n",
              "      <td>0.333658</td>\n",
              "      <td>0.367985</td>\n",
              "      <td>-0.187036</td>\n",
              "    </tr>\n",
              "    <tr>\n",
              "      <th>deltarank</th>\n",
              "      <td>0.152780</td>\n",
              "      <td>0.097634</td>\n",
              "      <td>0.154209</td>\n",
              "      <td>0.201068</td>\n",
              "      <td>0.333658</td>\n",
              "      <td>1.000000</td>\n",
              "      <td>0.056759</td>\n",
              "      <td>-0.048987</td>\n",
              "    </tr>\n",
              "    <tr>\n",
              "      <th>difscore</th>\n",
              "      <td>0.829861</td>\n",
              "      <td>-0.691219</td>\n",
              "      <td>-0.260773</td>\n",
              "      <td>0.359055</td>\n",
              "      <td>0.367985</td>\n",
              "      <td>0.056759</td>\n",
              "      <td>1.000000</td>\n",
              "      <td>-0.597207</td>\n",
              "    </tr>\n",
              "    <tr>\n",
              "      <th>difrank</th>\n",
              "      <td>-0.481669</td>\n",
              "      <td>0.430841</td>\n",
              "      <td>0.503592</td>\n",
              "      <td>-0.535806</td>\n",
              "      <td>-0.187036</td>\n",
              "      <td>-0.048987</td>\n",
              "      <td>-0.597207</td>\n",
              "      <td>1.000000</td>\n",
              "    </tr>\n",
              "  </tbody>\n",
              "</table>\n",
              "</div>"
            ],
            "text/plain": [
              "            home_score  away_score  home rank  ...  deltarank  difscore   difrank\n",
              "home_score    1.000000   -0.170400  -0.162536  ...   0.152780  0.829861 -0.481669\n",
              "away_score   -0.170400    1.000000   0.250020  ...   0.097634 -0.691219  0.430841\n",
              "home rank    -0.162536    0.250020   1.000000  ...   0.154209 -0.260773  0.503592\n",
              "away rank     0.336294   -0.198545   0.459635  ...   0.201068  0.359055 -0.535806\n",
              "deltascore    0.647318    0.188501   0.037109  ...   0.333658  0.367985 -0.187036\n",
              "deltarank     0.152780    0.097634   0.154209  ...   1.000000  0.056759 -0.048987\n",
              "difscore      0.829861   -0.691219  -0.260773  ...   0.056759  1.000000 -0.597207\n",
              "difrank      -0.481669    0.430841   0.503592  ...  -0.048987 -0.597207  1.000000\n",
              "\n",
              "[8 rows x 8 columns]"
            ]
          },
          "metadata": {
            "tags": []
          },
          "execution_count": 402
        }
      ]
    },
    {
      "cell_type": "code",
      "metadata": {
        "id": "LLY9essKDUON",
        "outputId": "610a1c28-1967-4c63-f7ee-c9d9f51fa416",
        "colab": {
          "base_uri": "https://localhost:8080/",
          "height": 314
        }
      },
      "source": [
        "pd.DataFrame(np.linalg.inv(co.values), index = co.index , columns = co.columns)"
      ],
      "execution_count": 403,
      "outputs": [
        {
          "output_type": "execute_result",
          "data": {
            "text/html": [
              "<div>\n",
              "<style scoped>\n",
              "    .dataframe tbody tr th:only-of-type {\n",
              "        vertical-align: middle;\n",
              "    }\n",
              "\n",
              "    .dataframe tbody tr th {\n",
              "        vertical-align: top;\n",
              "    }\n",
              "\n",
              "    .dataframe thead th {\n",
              "        text-align: right;\n",
              "    }\n",
              "</style>\n",
              "<table border=\"1\" class=\"dataframe\">\n",
              "  <thead>\n",
              "    <tr style=\"text-align: right;\">\n",
              "      <th></th>\n",
              "      <th>home_score</th>\n",
              "      <th>away_score</th>\n",
              "      <th>home rank</th>\n",
              "      <th>away rank</th>\n",
              "      <th>deltascore</th>\n",
              "      <th>deltarank</th>\n",
              "      <th>difscore</th>\n",
              "      <th>difrank</th>\n",
              "    </tr>\n",
              "  </thead>\n",
              "  <tbody>\n",
              "    <tr>\n",
              "      <th>home_score</th>\n",
              "      <td>2.027096e+12</td>\n",
              "      <td>-1.565166e+12</td>\n",
              "      <td>-3.029373e+11</td>\n",
              "      <td>3.099696e+11</td>\n",
              "      <td>-0.455087</td>\n",
              "      <td>0.113723</td>\n",
              "      <td>-2.764079e+12</td>\n",
              "      <td>3.186401e+11</td>\n",
              "    </tr>\n",
              "    <tr>\n",
              "      <th>away_score</th>\n",
              "      <td>-1.565166e+12</td>\n",
              "      <td>1.208499e+12</td>\n",
              "      <td>2.339046e+11</td>\n",
              "      <td>-2.393344e+11</td>\n",
              "      <td>-1.417147</td>\n",
              "      <td>0.005028</td>\n",
              "      <td>2.134206e+12</td>\n",
              "      <td>-2.460291e+11</td>\n",
              "    </tr>\n",
              "    <tr>\n",
              "      <th>home rank</th>\n",
              "      <td>-3.197671e+11</td>\n",
              "      <td>2.468993e+11</td>\n",
              "      <td>5.218788e+13</td>\n",
              "      <td>-5.339936e+13</td>\n",
              "      <td>-0.763670</td>\n",
              "      <td>-0.066097</td>\n",
              "      <td>4.360235e+11</td>\n",
              "      <td>-5.489306e+13</td>\n",
              "    </tr>\n",
              "    <tr>\n",
              "      <th>away rank</th>\n",
              "      <td>3.271901e+11</td>\n",
              "      <td>-2.526307e+11</td>\n",
              "      <td>-5.339936e+13</td>\n",
              "      <td>5.463897e+13</td>\n",
              "      <td>0.680101</td>\n",
              "      <td>-0.154537</td>\n",
              "      <td>-4.461452e+11</td>\n",
              "      <td>5.616734e+13</td>\n",
              "    </tr>\n",
              "    <tr>\n",
              "      <th>deltascore</th>\n",
              "      <td>-4.549193e-01</td>\n",
              "      <td>-1.417277e+00</td>\n",
              "      <td>-7.544273e-01</td>\n",
              "      <td>6.706434e-01</td>\n",
              "      <td>2.238875</td>\n",
              "      <td>-0.443218</td>\n",
              "      <td>-1.439301e+00</td>\n",
              "      <td>6.682362e-01</td>\n",
              "    </tr>\n",
              "    <tr>\n",
              "      <th>deltarank</th>\n",
              "      <td>1.136896e-01</td>\n",
              "      <td>5.053795e-03</td>\n",
              "      <td>-6.771653e-02</td>\n",
              "      <td>-1.528796e-01</td>\n",
              "      <td>-0.443218</td>\n",
              "      <td>1.168868</td>\n",
              "      <td>4.767531e-02</td>\n",
              "      <td>7.604338e-03</td>\n",
              "    </tr>\n",
              "    <tr>\n",
              "      <th>difscore</th>\n",
              "      <td>-2.764079e+12</td>\n",
              "      <td>2.134206e+12</td>\n",
              "      <td>4.130749e+11</td>\n",
              "      <td>-4.226639e+11</td>\n",
              "      <td>-1.439072</td>\n",
              "      <td>0.047630</td>\n",
              "      <td>3.769003e+12</td>\n",
              "      <td>-4.344867e+11</td>\n",
              "    </tr>\n",
              "    <tr>\n",
              "      <th>difrank</th>\n",
              "      <td>3.363423e+11</td>\n",
              "      <td>-2.596973e+11</td>\n",
              "      <td>-5.489306e+13</td>\n",
              "      <td>5.616734e+13</td>\n",
              "      <td>0.677958</td>\n",
              "      <td>0.005901</td>\n",
              "      <td>-4.586249e+11</td>\n",
              "      <td>5.773846e+13</td>\n",
              "    </tr>\n",
              "  </tbody>\n",
              "</table>\n",
              "</div>"
            ],
            "text/plain": [
              "              home_score    away_score  ...      difscore       difrank\n",
              "home_score  2.027096e+12 -1.565166e+12  ... -2.764079e+12  3.186401e+11\n",
              "away_score -1.565166e+12  1.208499e+12  ...  2.134206e+12 -2.460291e+11\n",
              "home rank  -3.197671e+11  2.468993e+11  ...  4.360235e+11 -5.489306e+13\n",
              "away rank   3.271901e+11 -2.526307e+11  ... -4.461452e+11  5.616734e+13\n",
              "deltascore -4.549193e-01 -1.417277e+00  ... -1.439301e+00  6.682362e-01\n",
              "deltarank   1.136896e-01  5.053795e-03  ...  4.767531e-02  7.604338e-03\n",
              "difscore   -2.764079e+12  2.134206e+12  ...  3.769003e+12 -4.344867e+11\n",
              "difrank     3.363423e+11 -2.596973e+11  ... -4.586249e+11  5.773846e+13\n",
              "\n",
              "[8 rows x 8 columns]"
            ]
          },
          "metadata": {
            "tags": []
          },
          "execution_count": 403
        }
      ]
    },
    {
      "cell_type": "markdown",
      "metadata": {
        "id": "AAgCWXgW6KFp"
      },
      "source": [
        "#Building on a model"
      ]
    },
    {
      "cell_type": "markdown",
      "metadata": {
        "id": "S8zsLZuLg_uM"
      },
      "source": [
        "The model shall be used to predict the rank of the team within the coming itteration of ranking. This in turn shall be used to predict the goad difference between the two teams which shall then be used to predict the actual goals scored using the away vs home scores model."
      ]
    },
    {
      "cell_type": "code",
      "metadata": {
        "id": "cCcaome5eZZs"
      },
      "source": [
        "def get_rank (team):\n",
        "  from sklearn.preprocessing import PolynomialFeatures\n",
        "\n",
        "  y2 = ch.loc[team].values.reshape(-1, 1)\n",
        "  X2 = ch.columns.values.reshape(-1, 1)\n",
        "\n",
        "  #hs_train, hs_test, as_train, as_test = train_test_split(X, y, test_size=0.3, random_state=1)\n",
        "  for wert in range (1, int(len(ch.columns) / 4)):\n",
        "    poly_reg10 = PolynomialFeatures(degree = wert) \n",
        "    X_poly10 = poly_reg10.fit_transform(X2)\n",
        "\n",
        "    pol_reg30 = LinearRegression()\n",
        "    pol_reg30.fit(X_poly10, y2)\n",
        "\n",
        "    n = 0\n",
        "\n",
        "    for tyu in range (1,28):\n",
        "      b = pol_reg30.predict(poly_reg10.fit_transform([[tyu]]))\n",
        "      b = b[0,0]\n",
        "      if b <= 0:\n",
        "        n = 1\n",
        "    \n",
        "    if n == 1:\n",
        "      continue\n",
        "\n",
        "    ert = pol_reg30.predict(poly_reg10.fit_transform([[27]]))\n",
        "    ert2 = pol_reg30.predict(poly_reg10.fit_transform([[28]]))\n",
        "    ert = ert[0,0]\n",
        "    ert2 = ert2[0,0]\n",
        "\n",
        "  plt.scatter(X2, y2) \n",
        "  plt.plot(X2, pol_reg30.predict(X_poly10), color='red')\n",
        "  plt.title(team)\n",
        "  plt.show()\n",
        "  return (int(round(ert)),int(round(ert2)))"
      ],
      "execution_count": 404,
      "outputs": []
    },
    {
      "cell_type": "code",
      "metadata": {
        "id": "wMmYty6BH9he",
        "outputId": "c67ef450-f1cc-4b99-bc7f-dd7fafd74845",
        "colab": {
          "base_uri": "https://localhost:8080/",
          "height": 298
        }
      },
      "source": [
        "get_rank('Germany')"
      ],
      "execution_count": 405,
      "outputs": [
        {
          "output_type": "display_data",
          "data": {
            "image/png": "[encoded data removed]",
            "text/plain": [
              "<Figure size 432x288 with 1 Axes>"
            ]
          },
          "metadata": {
            "tags": [],
            "needs_background": "light"
          }
        },
        {
          "output_type": "execute_result",
          "data": {
            "text/plain": [
              "(7, 12)"
            ]
          },
          "metadata": {
            "tags": []
          },
          "execution_count": 405
        }
      ]
    },
    {
      "cell_type": "markdown",
      "metadata": {
        "id": "ZaBtixMyGbXI"
      },
      "source": [
        "#2. PREDICTIONS"
      ]
    },
    {
      "cell_type": "code",
      "metadata": {
        "id": "Qd1-0YfZHE9n",
        "outputId": "820c3b87-e015-4107-d2b8-b83c9523a4b3",
        "colab": {
          "base_uri": "https://localhost:8080/",
          "height": 666
        }
      },
      "source": [
        "#Calls on the function that has the model to predict ranks\n",
        "\n",
        "#h = input('Home team:')\n",
        "#a = input('Away team:')\n",
        "\n",
        "h = 'Germany'\n",
        "a = 'Italy'\n",
        "print (\"Home team rank predictions\")\n",
        "ho = get_rank(h)\n",
        "print (\"Away team rank predictions\")\n",
        "aw = get_rank(a)\n",
        "print ('Predicted rank for team ' + h + ' this year: %d'  %ho[0])\n",
        "print ('Predicted rank for team ' + h + ' next year: %d'  %ho[1])\n",
        "print ('Predicted rank for team ' + a + ' this year: %d'  %aw[0])\n",
        "print ('Predicted rank for team ' + a + ' next year: %d'  %aw[1])\n",
        "\n",
        "#projected rank difference\n",
        "prd = ho[0] - aw[0]\n",
        "\n",
        "pds = (reg1.predict([[prd]]))\n",
        "\n",
        "pds = round(pds[0,0])\n",
        "\n",
        "if pds > 0 :\n",
        "  print('Home team is predicted to win by: %d' %pds)\n",
        "elif pds < 0 :\n",
        "  print('Home team is predicted to lose by: %d' %abs(pds))\n",
        "else:\n",
        "  print('Home team is predicted to draw')"
      ],
      "execution_count": 406,
      "outputs": [
        {
          "output_type": "stream",
          "text": [
            "Home team rank predictions\n"
          ],
          "name": "stdout"
        },
        {
          "output_type": "display_data",
          "data": {
            "image/png": "[encoded data removed]",
            "text/plain": [
              "<Figure size 432x288 with 1 Axes>"
            ]
          },
          "metadata": {
            "tags": [],
            "needs_background": "light"
          }
        },
        {
          "output_type": "stream",
          "text": [
            "Away team rank predictions\n"
          ],
          "name": "stdout"
        },
        {
          "output_type": "display_data",
          "data": {
            "image/png": "[encoded data removed]",
            "text/plain": [
              "<Figure size 432x288 with 1 Axes>"
            ]
          },
          "metadata": {
            "tags": [],
            "needs_background": "light"
          }
        },
        {
          "output_type": "stream",
          "text": [
            "Predicted rank for team Germany this year: 7\n",
            "Predicted rank for team Germany next year: 12\n",
            "Predicted rank for team Italy this year: 19\n",
            "Predicted rank for team Italy next year: 19\n",
            "Home team is predicted to win by: 1\n"
          ],
          "name": "stdout"
        }
      ]
    },
    {
      "cell_type": "markdown",
      "metadata": {
        "id": "wa-BvZewj3kY"
      },
      "source": [
        "#3. CHALLENGE THE SOLUTION"
      ]
    },
    {
      "cell_type": "markdown",
      "metadata": {
        "id": "dlGdy0XIkFlg"
      },
      "source": [
        "The following can be used to get better insights on the data:\n",
        "1.   Using the designated point scored by teams to predict the performace.\n",
        "2.   Using of more data to analyse.\n",
        "3. Having information on the individual player statistics to try predict the performance of a team.\n",
        "\n"
      ]
    }
  ]
}