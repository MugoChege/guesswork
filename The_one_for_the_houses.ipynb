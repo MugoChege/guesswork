{
  "nbformat": 4,
  "nbformat_minor": 0,
  "metadata": {
    "colab": {
      "name": "The one for the houses.ipynb",
      "provenance": [],
      "collapsed_sections": [],
      "toc_visible": true
    },
    "kernelspec": {
      "name": "python3",
      "display_name": "Python 3"
    }
  },
  "cells": [
    {
      "cell_type": "markdown",
      "metadata": {
        "id": "O-UWMaf5kxks"
      },
      "source": [
        "#Prerequistites"
      ]
    },
    {
      "cell_type": "markdown",
      "metadata": {
        "id": "PzBNyRW3k1PD"
      },
      "source": [
        "The libraries that shall be used within the project are listed here accompanied by necessary variables and stages within the project"
      ]
    },
    {
      "cell_type": "code",
      "metadata": {
        "id": "qTumjnZGidvI"
      },
      "source": [
        "import pandas as pd\n",
        "import numpy as np\n",
        "import seaborn as sns\n",
        "import matplotlib.pyplot as plt\n",
        "from sklearn.model_selection import GridSearchCV\n",
        "from sklearn.linear_model import Ridge\n",
        "from sklearn.linear_model import LinearRegression\n",
        "from sklearn.metrics import mean_squared_error"
      ],
      "execution_count": 2,
      "outputs": []
    },
    {
      "cell_type": "markdown",
      "metadata": {
        "id": "IymsgTHxozyL"
      },
      "source": [
        "#PROBLEM STATEMENT"
      ]
    },
    {
      "cell_type": "markdown",
      "metadata": {
        "id": "37hlZP12wB22"
      },
      "source": [
        "##Specifying the question"
      ]
    },
    {
      "cell_type": "markdown",
      "metadata": {
        "id": "vXyPeV91u4oG"
      },
      "source": [
        "Withing the execution of the project the following questions shall be answered or are aimed to be answered:"
      ]
    },
    {
      "cell_type": "markdown",
      "metadata": {
        "id": "wxUrdL3e4Ujj"
      },
      "source": [
        "* How do we make a model that will predict the pricing of a real estate properties?\n",
        "* What regressive model shall be used to predict the model of the real estate properties?\n",
        "* What are the factors that affect housing prices?"
      ]
    },
    {
      "cell_type": "markdown",
      "metadata": {
        "id": "cbh3gHJ9wG8e"
      },
      "source": [
        "##Metric of success"
      ]
    },
    {
      "cell_type": "markdown",
      "metadata": {
        "id": "sf0uLdBQzu63"
      },
      "source": [
        "The project shall be deemed successful if the resulting model that shall go forth shall have an accuracy of prediction of 80% and above of the prices of the properties."
      ]
    },
    {
      "cell_type": "markdown",
      "metadata": {
        "id": "CmqSjIph667W"
      },
      "source": [
        "To add onto; the factors that affect housing prices shall be investigated within the available data."
      ]
    },
    {
      "cell_type": "markdown",
      "metadata": {
        "id": "WcEdGAt4wKvD"
      },
      "source": [
        "##Understanding the context"
      ]
    },
    {
      "cell_type": "markdown",
      "metadata": {
        "id": "X5kP8_Ip4riV"
      },
      "source": [
        "Real estate as a business has been termed as ‘where banks bank.’ In the sense that most of the primary sources of income are mainly secured by real estate thus the ‘this is the industry that where keep our money for safekeeping in turn keeps our money for safekeeping.’"
      ]
    },
    {
      "cell_type": "markdown",
      "metadata": {
        "id": "TsdtelLk6YLu"
      },
      "source": [
        "That said this is a lucrative market and the need to predict the prices of the properties is very essential.\n"
      ]
    },
    {
      "cell_type": "markdown",
      "metadata": {
        "id": "Cn751-48wOsi"
      },
      "source": [
        "##Experimenta design"
      ]
    },
    {
      "cell_type": "markdown",
      "metadata": {
        "id": "mPXS2Cijy3xb"
      },
      "source": [
        "* Multiple Linear Regression\n",
        "* Quantile Regression\n",
        "* Ridge Regression\n",
        "* Lasso Regression\n",
        "* Elastic Net Regression"
      ]
    },
    {
      "cell_type": "markdown",
      "metadata": {
        "id": "NBcjZY0gwTaw"
      },
      "source": [
        "##Data relevance"
      ]
    },
    {
      "cell_type": "markdown",
      "metadata": {
        "id": "86-n_4fFzQq7"
      },
      "source": [
        "The data was collected from Hass Consulting Company that is a real estate leader with 25 years of experience."
      ]
    },
    {
      "cell_type": "markdown",
      "metadata": {
        "id": "z0_dfvsLo5JD"
      },
      "source": [
        "#READING ANG EXPLORATION"
      ]
    },
    {
      "cell_type": "markdown",
      "metadata": {
        "id": "ihBU0ayRsfff"
      },
      "source": [
        "##The code"
      ]
    },
    {
      "cell_type": "markdown",
      "metadata": {
        "id": "7r6hq4g12QOL"
      },
      "source": [
        "Here the document is opened and viewed."
      ]
    },
    {
      "cell_type": "code",
      "metadata": {
        "id": "6_Fm4nJyki51"
      },
      "source": [
        "df = pd.read_csv('/content/Independent Project Week 7 - house_data.csv')"
      ],
      "execution_count": 3,
      "outputs": []
    },
    {
      "cell_type": "code",
      "metadata": {
        "colab": {
          "base_uri": "https://localhost:8080/",
          "height": 363
        },
        "id": "pA5dOqxolLpz",
        "outputId": "7e91594c-0447-4e20-eac1-1b6598fc94e0"
      },
      "source": [
        "df.head(10)"
      ],
      "execution_count": 4,
      "outputs": [
        {
          "output_type": "execute_result",
          "data": {
            "text/html": [
              "<div>\n",
              "<style scoped>\n",
              "    .dataframe tbody tr th:only-of-type {\n",
              "        vertical-align: middle;\n",
              "    }\n",
              "\n",
              "    .dataframe tbody tr th {\n",
              "        vertical-align: top;\n",
              "    }\n",
              "\n",
              "    .dataframe thead th {\n",
              "        text-align: right;\n",
              "    }\n",
              "</style>\n",
              "<table border=\"1\" class=\"dataframe\">\n",
              "  <thead>\n",
              "    <tr style=\"text-align: right;\">\n",
              "      <th></th>\n",
              "      <th>id</th>\n",
              "      <th>price</th>\n",
              "      <th>bedrooms</th>\n",
              "      <th>bathrooms</th>\n",
              "      <th>sqft_living</th>\n",
              "      <th>sqft_lot</th>\n",
              "      <th>floors</th>\n",
              "      <th>waterfront</th>\n",
              "      <th>view</th>\n",
              "      <th>condition</th>\n",
              "      <th>grade</th>\n",
              "      <th>sqft_above</th>\n",
              "      <th>sqft_basement</th>\n",
              "      <th>yr_built</th>\n",
              "      <th>yr_renovated</th>\n",
              "      <th>zipcode</th>\n",
              "      <th>lat</th>\n",
              "      <th>long</th>\n",
              "      <th>sqft_living15</th>\n",
              "      <th>sqft_lot15</th>\n",
              "    </tr>\n",
              "  </thead>\n",
              "  <tbody>\n",
              "    <tr>\n",
              "      <th>0</th>\n",
              "      <td>7129300520</td>\n",
              "      <td>221900.0</td>\n",
              "      <td>3</td>\n",
              "      <td>1.00</td>\n",
              "      <td>1180</td>\n",
              "      <td>5650</td>\n",
              "      <td>1.0</td>\n",
              "      <td>0</td>\n",
              "      <td>0</td>\n",
              "      <td>3</td>\n",
              "      <td>7</td>\n",
              "      <td>1180</td>\n",
              "      <td>0</td>\n",
              "      <td>1955</td>\n",
              "      <td>0</td>\n",
              "      <td>98178</td>\n",
              "      <td>47.5112</td>\n",
              "      <td>-122.257</td>\n",
              "      <td>1340</td>\n",
              "      <td>5650</td>\n",
              "    </tr>\n",
              "    <tr>\n",
              "      <th>1</th>\n",
              "      <td>6414100192</td>\n",
              "      <td>538000.0</td>\n",
              "      <td>3</td>\n",
              "      <td>2.25</td>\n",
              "      <td>2570</td>\n",
              "      <td>7242</td>\n",
              "      <td>2.0</td>\n",
              "      <td>0</td>\n",
              "      <td>0</td>\n",
              "      <td>3</td>\n",
              "      <td>7</td>\n",
              "      <td>2170</td>\n",
              "      <td>400</td>\n",
              "      <td>1951</td>\n",
              "      <td>1991</td>\n",
              "      <td>98125</td>\n",
              "      <td>47.7210</td>\n",
              "      <td>-122.319</td>\n",
              "      <td>1690</td>\n",
              "      <td>7639</td>\n",
              "    </tr>\n",
              "    <tr>\n",
              "      <th>2</th>\n",
              "      <td>5631500400</td>\n",
              "      <td>180000.0</td>\n",
              "      <td>2</td>\n",
              "      <td>1.00</td>\n",
              "      <td>770</td>\n",
              "      <td>10000</td>\n",
              "      <td>1.0</td>\n",
              "      <td>0</td>\n",
              "      <td>0</td>\n",
              "      <td>3</td>\n",
              "      <td>6</td>\n",
              "      <td>770</td>\n",
              "      <td>0</td>\n",
              "      <td>1933</td>\n",
              "      <td>0</td>\n",
              "      <td>98028</td>\n",
              "      <td>47.7379</td>\n",
              "      <td>-122.233</td>\n",
              "      <td>2720</td>\n",
              "      <td>8062</td>\n",
              "    </tr>\n",
              "    <tr>\n",
              "      <th>3</th>\n",
              "      <td>2487200875</td>\n",
              "      <td>604000.0</td>\n",
              "      <td>4</td>\n",
              "      <td>3.00</td>\n",
              "      <td>1960</td>\n",
              "      <td>5000</td>\n",
              "      <td>1.0</td>\n",
              "      <td>0</td>\n",
              "      <td>0</td>\n",
              "      <td>5</td>\n",
              "      <td>7</td>\n",
              "      <td>1050</td>\n",
              "      <td>910</td>\n",
              "      <td>1965</td>\n",
              "      <td>0</td>\n",
              "      <td>98136</td>\n",
              "      <td>47.5208</td>\n",
              "      <td>-122.393</td>\n",
              "      <td>1360</td>\n",
              "      <td>5000</td>\n",
              "    </tr>\n",
              "    <tr>\n",
              "      <th>4</th>\n",
              "      <td>1954400510</td>\n",
              "      <td>510000.0</td>\n",
              "      <td>3</td>\n",
              "      <td>2.00</td>\n",
              "      <td>1680</td>\n",
              "      <td>8080</td>\n",
              "      <td>1.0</td>\n",
              "      <td>0</td>\n",
              "      <td>0</td>\n",
              "      <td>3</td>\n",
              "      <td>8</td>\n",
              "      <td>1680</td>\n",
              "      <td>0</td>\n",
              "      <td>1987</td>\n",
              "      <td>0</td>\n",
              "      <td>98074</td>\n",
              "      <td>47.6168</td>\n",
              "      <td>-122.045</td>\n",
              "      <td>1800</td>\n",
              "      <td>7503</td>\n",
              "    </tr>\n",
              "    <tr>\n",
              "      <th>5</th>\n",
              "      <td>7237550310</td>\n",
              "      <td>1230000.0</td>\n",
              "      <td>4</td>\n",
              "      <td>4.50</td>\n",
              "      <td>5420</td>\n",
              "      <td>101930</td>\n",
              "      <td>1.0</td>\n",
              "      <td>0</td>\n",
              "      <td>0</td>\n",
              "      <td>3</td>\n",
              "      <td>11</td>\n",
              "      <td>3890</td>\n",
              "      <td>1530</td>\n",
              "      <td>2001</td>\n",
              "      <td>0</td>\n",
              "      <td>98053</td>\n",
              "      <td>47.6561</td>\n",
              "      <td>-122.005</td>\n",
              "      <td>4760</td>\n",
              "      <td>101930</td>\n",
              "    </tr>\n",
              "    <tr>\n",
              "      <th>6</th>\n",
              "      <td>1321400060</td>\n",
              "      <td>257500.0</td>\n",
              "      <td>3</td>\n",
              "      <td>2.25</td>\n",
              "      <td>1715</td>\n",
              "      <td>6819</td>\n",
              "      <td>2.0</td>\n",
              "      <td>0</td>\n",
              "      <td>0</td>\n",
              "      <td>3</td>\n",
              "      <td>7</td>\n",
              "      <td>1715</td>\n",
              "      <td>0</td>\n",
              "      <td>1995</td>\n",
              "      <td>0</td>\n",
              "      <td>98003</td>\n",
              "      <td>47.3097</td>\n",
              "      <td>-122.327</td>\n",
              "      <td>2238</td>\n",
              "      <td>6819</td>\n",
              "    </tr>\n",
              "    <tr>\n",
              "      <th>7</th>\n",
              "      <td>2008000270</td>\n",
              "      <td>291850.0</td>\n",
              "      <td>3</td>\n",
              "      <td>1.50</td>\n",
              "      <td>1060</td>\n",
              "      <td>9711</td>\n",
              "      <td>1.0</td>\n",
              "      <td>0</td>\n",
              "      <td>0</td>\n",
              "      <td>3</td>\n",
              "      <td>7</td>\n",
              "      <td>1060</td>\n",
              "      <td>0</td>\n",
              "      <td>1963</td>\n",
              "      <td>0</td>\n",
              "      <td>98198</td>\n",
              "      <td>47.4095</td>\n",
              "      <td>-122.315</td>\n",
              "      <td>1650</td>\n",
              "      <td>9711</td>\n",
              "    </tr>\n",
              "    <tr>\n",
              "      <th>8</th>\n",
              "      <td>2414600126</td>\n",
              "      <td>229500.0</td>\n",
              "      <td>3</td>\n",
              "      <td>1.00</td>\n",
              "      <td>1780</td>\n",
              "      <td>7470</td>\n",
              "      <td>1.0</td>\n",
              "      <td>0</td>\n",
              "      <td>0</td>\n",
              "      <td>3</td>\n",
              "      <td>7</td>\n",
              "      <td>1050</td>\n",
              "      <td>730</td>\n",
              "      <td>1960</td>\n",
              "      <td>0</td>\n",
              "      <td>98146</td>\n",
              "      <td>47.5123</td>\n",
              "      <td>-122.337</td>\n",
              "      <td>1780</td>\n",
              "      <td>8113</td>\n",
              "    </tr>\n",
              "    <tr>\n",
              "      <th>9</th>\n",
              "      <td>3793500160</td>\n",
              "      <td>323000.0</td>\n",
              "      <td>3</td>\n",
              "      <td>2.50</td>\n",
              "      <td>1890</td>\n",
              "      <td>6560</td>\n",
              "      <td>2.0</td>\n",
              "      <td>0</td>\n",
              "      <td>0</td>\n",
              "      <td>3</td>\n",
              "      <td>7</td>\n",
              "      <td>1890</td>\n",
              "      <td>0</td>\n",
              "      <td>2003</td>\n",
              "      <td>0</td>\n",
              "      <td>98038</td>\n",
              "      <td>47.3684</td>\n",
              "      <td>-122.031</td>\n",
              "      <td>2390</td>\n",
              "      <td>7570</td>\n",
              "    </tr>\n",
              "  </tbody>\n",
              "</table>\n",
              "</div>"
            ],
            "text/plain": [
              "           id      price  bedrooms  ...     long  sqft_living15  sqft_lot15\n",
              "0  7129300520   221900.0         3  ... -122.257           1340        5650\n",
              "1  6414100192   538000.0         3  ... -122.319           1690        7639\n",
              "2  5631500400   180000.0         2  ... -122.233           2720        8062\n",
              "3  2487200875   604000.0         4  ... -122.393           1360        5000\n",
              "4  1954400510   510000.0         3  ... -122.045           1800        7503\n",
              "5  7237550310  1230000.0         4  ... -122.005           4760      101930\n",
              "6  1321400060   257500.0         3  ... -122.327           2238        6819\n",
              "7  2008000270   291850.0         3  ... -122.315           1650        9711\n",
              "8  2414600126   229500.0         3  ... -122.337           1780        8113\n",
              "9  3793500160   323000.0         3  ... -122.031           2390        7570\n",
              "\n",
              "[10 rows x 20 columns]"
            ]
          },
          "metadata": {
            "tags": []
          },
          "execution_count": 4
        }
      ]
    },
    {
      "cell_type": "code",
      "metadata": {
        "colab": {
          "base_uri": "https://localhost:8080/",
          "height": 363
        },
        "id": "8ocm2BVxlPAR",
        "outputId": "ba207c69-b81d-4f0f-df8c-209d4f638250"
      },
      "source": [
        "df.tail(10)"
      ],
      "execution_count": 5,
      "outputs": [
        {
          "output_type": "execute_result",
          "data": {
            "text/html": [
              "<div>\n",
              "<style scoped>\n",
              "    .dataframe tbody tr th:only-of-type {\n",
              "        vertical-align: middle;\n",
              "    }\n",
              "\n",
              "    .dataframe tbody tr th {\n",
              "        vertical-align: top;\n",
              "    }\n",
              "\n",
              "    .dataframe thead th {\n",
              "        text-align: right;\n",
              "    }\n",
              "</style>\n",
              "<table border=\"1\" class=\"dataframe\">\n",
              "  <thead>\n",
              "    <tr style=\"text-align: right;\">\n",
              "      <th></th>\n",
              "      <th>id</th>\n",
              "      <th>price</th>\n",
              "      <th>bedrooms</th>\n",
              "      <th>bathrooms</th>\n",
              "      <th>sqft_living</th>\n",
              "      <th>sqft_lot</th>\n",
              "      <th>floors</th>\n",
              "      <th>waterfront</th>\n",
              "      <th>view</th>\n",
              "      <th>condition</th>\n",
              "      <th>grade</th>\n",
              "      <th>sqft_above</th>\n",
              "      <th>sqft_basement</th>\n",
              "      <th>yr_built</th>\n",
              "      <th>yr_renovated</th>\n",
              "      <th>zipcode</th>\n",
              "      <th>lat</th>\n",
              "      <th>long</th>\n",
              "      <th>sqft_living15</th>\n",
              "      <th>sqft_lot15</th>\n",
              "    </tr>\n",
              "  </thead>\n",
              "  <tbody>\n",
              "    <tr>\n",
              "      <th>21603</th>\n",
              "      <td>7852140040</td>\n",
              "      <td>507250.0</td>\n",
              "      <td>3</td>\n",
              "      <td>2.50</td>\n",
              "      <td>2270</td>\n",
              "      <td>5536</td>\n",
              "      <td>2.0</td>\n",
              "      <td>0</td>\n",
              "      <td>0</td>\n",
              "      <td>3</td>\n",
              "      <td>8</td>\n",
              "      <td>2270</td>\n",
              "      <td>0</td>\n",
              "      <td>2003</td>\n",
              "      <td>0</td>\n",
              "      <td>98065</td>\n",
              "      <td>47.5389</td>\n",
              "      <td>-121.881</td>\n",
              "      <td>2270</td>\n",
              "      <td>5731</td>\n",
              "    </tr>\n",
              "    <tr>\n",
              "      <th>21604</th>\n",
              "      <td>9834201367</td>\n",
              "      <td>429000.0</td>\n",
              "      <td>3</td>\n",
              "      <td>2.00</td>\n",
              "      <td>1490</td>\n",
              "      <td>1126</td>\n",
              "      <td>3.0</td>\n",
              "      <td>0</td>\n",
              "      <td>0</td>\n",
              "      <td>3</td>\n",
              "      <td>8</td>\n",
              "      <td>1490</td>\n",
              "      <td>0</td>\n",
              "      <td>2014</td>\n",
              "      <td>0</td>\n",
              "      <td>98144</td>\n",
              "      <td>47.5699</td>\n",
              "      <td>-122.288</td>\n",
              "      <td>1400</td>\n",
              "      <td>1230</td>\n",
              "    </tr>\n",
              "    <tr>\n",
              "      <th>21605</th>\n",
              "      <td>3448900210</td>\n",
              "      <td>610685.0</td>\n",
              "      <td>4</td>\n",
              "      <td>2.50</td>\n",
              "      <td>2520</td>\n",
              "      <td>6023</td>\n",
              "      <td>2.0</td>\n",
              "      <td>0</td>\n",
              "      <td>0</td>\n",
              "      <td>3</td>\n",
              "      <td>9</td>\n",
              "      <td>2520</td>\n",
              "      <td>0</td>\n",
              "      <td>2014</td>\n",
              "      <td>0</td>\n",
              "      <td>98056</td>\n",
              "      <td>47.5137</td>\n",
              "      <td>-122.167</td>\n",
              "      <td>2520</td>\n",
              "      <td>6023</td>\n",
              "    </tr>\n",
              "    <tr>\n",
              "      <th>21606</th>\n",
              "      <td>7936000429</td>\n",
              "      <td>1010000.0</td>\n",
              "      <td>4</td>\n",
              "      <td>3.50</td>\n",
              "      <td>3510</td>\n",
              "      <td>7200</td>\n",
              "      <td>2.0</td>\n",
              "      <td>0</td>\n",
              "      <td>0</td>\n",
              "      <td>3</td>\n",
              "      <td>9</td>\n",
              "      <td>2600</td>\n",
              "      <td>910</td>\n",
              "      <td>2009</td>\n",
              "      <td>0</td>\n",
              "      <td>98136</td>\n",
              "      <td>47.5537</td>\n",
              "      <td>-122.398</td>\n",
              "      <td>2050</td>\n",
              "      <td>6200</td>\n",
              "    </tr>\n",
              "    <tr>\n",
              "      <th>21607</th>\n",
              "      <td>2997800021</td>\n",
              "      <td>475000.0</td>\n",
              "      <td>3</td>\n",
              "      <td>2.50</td>\n",
              "      <td>1310</td>\n",
              "      <td>1294</td>\n",
              "      <td>2.0</td>\n",
              "      <td>0</td>\n",
              "      <td>0</td>\n",
              "      <td>3</td>\n",
              "      <td>8</td>\n",
              "      <td>1180</td>\n",
              "      <td>130</td>\n",
              "      <td>2008</td>\n",
              "      <td>0</td>\n",
              "      <td>98116</td>\n",
              "      <td>47.5773</td>\n",
              "      <td>-122.409</td>\n",
              "      <td>1330</td>\n",
              "      <td>1265</td>\n",
              "    </tr>\n",
              "    <tr>\n",
              "      <th>21608</th>\n",
              "      <td>263000018</td>\n",
              "      <td>360000.0</td>\n",
              "      <td>3</td>\n",
              "      <td>2.50</td>\n",
              "      <td>1530</td>\n",
              "      <td>1131</td>\n",
              "      <td>3.0</td>\n",
              "      <td>0</td>\n",
              "      <td>0</td>\n",
              "      <td>3</td>\n",
              "      <td>8</td>\n",
              "      <td>1530</td>\n",
              "      <td>0</td>\n",
              "      <td>2009</td>\n",
              "      <td>0</td>\n",
              "      <td>98103</td>\n",
              "      <td>47.6993</td>\n",
              "      <td>-122.346</td>\n",
              "      <td>1530</td>\n",
              "      <td>1509</td>\n",
              "    </tr>\n",
              "    <tr>\n",
              "      <th>21609</th>\n",
              "      <td>6600060120</td>\n",
              "      <td>400000.0</td>\n",
              "      <td>4</td>\n",
              "      <td>2.50</td>\n",
              "      <td>2310</td>\n",
              "      <td>5813</td>\n",
              "      <td>2.0</td>\n",
              "      <td>0</td>\n",
              "      <td>0</td>\n",
              "      <td>3</td>\n",
              "      <td>8</td>\n",
              "      <td>2310</td>\n",
              "      <td>0</td>\n",
              "      <td>2014</td>\n",
              "      <td>0</td>\n",
              "      <td>98146</td>\n",
              "      <td>47.5107</td>\n",
              "      <td>-122.362</td>\n",
              "      <td>1830</td>\n",
              "      <td>7200</td>\n",
              "    </tr>\n",
              "    <tr>\n",
              "      <th>21610</th>\n",
              "      <td>1523300141</td>\n",
              "      <td>402101.0</td>\n",
              "      <td>2</td>\n",
              "      <td>0.75</td>\n",
              "      <td>1020</td>\n",
              "      <td>1350</td>\n",
              "      <td>2.0</td>\n",
              "      <td>0</td>\n",
              "      <td>0</td>\n",
              "      <td>3</td>\n",
              "      <td>7</td>\n",
              "      <td>1020</td>\n",
              "      <td>0</td>\n",
              "      <td>2009</td>\n",
              "      <td>0</td>\n",
              "      <td>98144</td>\n",
              "      <td>47.5944</td>\n",
              "      <td>-122.299</td>\n",
              "      <td>1020</td>\n",
              "      <td>2007</td>\n",
              "    </tr>\n",
              "    <tr>\n",
              "      <th>21611</th>\n",
              "      <td>291310100</td>\n",
              "      <td>400000.0</td>\n",
              "      <td>3</td>\n",
              "      <td>2.50</td>\n",
              "      <td>1600</td>\n",
              "      <td>2388</td>\n",
              "      <td>2.0</td>\n",
              "      <td>0</td>\n",
              "      <td>0</td>\n",
              "      <td>3</td>\n",
              "      <td>8</td>\n",
              "      <td>1600</td>\n",
              "      <td>0</td>\n",
              "      <td>2004</td>\n",
              "      <td>0</td>\n",
              "      <td>98027</td>\n",
              "      <td>47.5345</td>\n",
              "      <td>-122.069</td>\n",
              "      <td>1410</td>\n",
              "      <td>1287</td>\n",
              "    </tr>\n",
              "    <tr>\n",
              "      <th>21612</th>\n",
              "      <td>1523300157</td>\n",
              "      <td>325000.0</td>\n",
              "      <td>2</td>\n",
              "      <td>0.75</td>\n",
              "      <td>1020</td>\n",
              "      <td>1076</td>\n",
              "      <td>2.0</td>\n",
              "      <td>0</td>\n",
              "      <td>0</td>\n",
              "      <td>3</td>\n",
              "      <td>7</td>\n",
              "      <td>1020</td>\n",
              "      <td>0</td>\n",
              "      <td>2008</td>\n",
              "      <td>0</td>\n",
              "      <td>98144</td>\n",
              "      <td>47.5941</td>\n",
              "      <td>-122.299</td>\n",
              "      <td>1020</td>\n",
              "      <td>1357</td>\n",
              "    </tr>\n",
              "  </tbody>\n",
              "</table>\n",
              "</div>"
            ],
            "text/plain": [
              "               id      price  bedrooms  ...     long  sqft_living15  sqft_lot15\n",
              "21603  7852140040   507250.0         3  ... -121.881           2270        5731\n",
              "21604  9834201367   429000.0         3  ... -122.288           1400        1230\n",
              "21605  3448900210   610685.0         4  ... -122.167           2520        6023\n",
              "21606  7936000429  1010000.0         4  ... -122.398           2050        6200\n",
              "21607  2997800021   475000.0         3  ... -122.409           1330        1265\n",
              "21608   263000018   360000.0         3  ... -122.346           1530        1509\n",
              "21609  6600060120   400000.0         4  ... -122.362           1830        7200\n",
              "21610  1523300141   402101.0         2  ... -122.299           1020        2007\n",
              "21611   291310100   400000.0         3  ... -122.069           1410        1287\n",
              "21612  1523300157   325000.0         2  ... -122.299           1020        1357\n",
              "\n",
              "[10 rows x 20 columns]"
            ]
          },
          "metadata": {
            "tags": []
          },
          "execution_count": 5
        }
      ]
    },
    {
      "cell_type": "code",
      "metadata": {
        "colab": {
          "base_uri": "https://localhost:8080/"
        },
        "id": "MJfxiIUFlRPf",
        "outputId": "33938e75-8ae8-4fee-cd34-dc7bca2787a1"
      },
      "source": [
        "df.shape"
      ],
      "execution_count": 6,
      "outputs": [
        {
          "output_type": "execute_result",
          "data": {
            "text/plain": [
              "(21613, 20)"
            ]
          },
          "metadata": {
            "tags": []
          },
          "execution_count": 6
        }
      ]
    },
    {
      "cell_type": "code",
      "metadata": {
        "id": "PI9NAeIQquaH"
      },
      "source": [
        "#Making of a descriptive table of the descriptions of the data in columns and \n",
        "#some of their properties\n",
        "\n",
        "desc = pd.DataFrame(df.dtypes)\n",
        "desc.columns = ['Types']\n",
        "desc['max'] = ''\n",
        "desc['min'] = ''\n",
        "for t , row in desc.iterrows():\n",
        "  desc.loc[ t , 'max'] = df[t].max()\n",
        "  desc.loc[ t , 'min'] = df[t].min()"
      ],
      "execution_count": 7,
      "outputs": []
    },
    {
      "cell_type": "markdown",
      "metadata": {
        "id": "u0a94WgU1jgk"
      },
      "source": [
        "##The summary"
      ]
    },
    {
      "cell_type": "code",
      "metadata": {
        "colab": {
          "base_uri": "https://localhost:8080/",
          "height": 677
        },
        "id": "LTKRTNfrrpwf",
        "outputId": "94df33eb-8503-403e-a230-298ebbdabce3"
      },
      "source": [
        "desc"
      ],
      "execution_count": 8,
      "outputs": [
        {
          "output_type": "execute_result",
          "data": {
            "text/html": [
              "<div>\n",
              "<style scoped>\n",
              "    .dataframe tbody tr th:only-of-type {\n",
              "        vertical-align: middle;\n",
              "    }\n",
              "\n",
              "    .dataframe tbody tr th {\n",
              "        vertical-align: top;\n",
              "    }\n",
              "\n",
              "    .dataframe thead th {\n",
              "        text-align: right;\n",
              "    }\n",
              "</style>\n",
              "<table border=\"1\" class=\"dataframe\">\n",
              "  <thead>\n",
              "    <tr style=\"text-align: right;\">\n",
              "      <th></th>\n",
              "      <th>Types</th>\n",
              "      <th>max</th>\n",
              "      <th>min</th>\n",
              "    </tr>\n",
              "  </thead>\n",
              "  <tbody>\n",
              "    <tr>\n",
              "      <th>id</th>\n",
              "      <td>int64</td>\n",
              "      <td>9900000190</td>\n",
              "      <td>1000102</td>\n",
              "    </tr>\n",
              "    <tr>\n",
              "      <th>price</th>\n",
              "      <td>float64</td>\n",
              "      <td>7.7e+06</td>\n",
              "      <td>75000</td>\n",
              "    </tr>\n",
              "    <tr>\n",
              "      <th>bedrooms</th>\n",
              "      <td>int64</td>\n",
              "      <td>33</td>\n",
              "      <td>0</td>\n",
              "    </tr>\n",
              "    <tr>\n",
              "      <th>bathrooms</th>\n",
              "      <td>float64</td>\n",
              "      <td>8</td>\n",
              "      <td>0</td>\n",
              "    </tr>\n",
              "    <tr>\n",
              "      <th>sqft_living</th>\n",
              "      <td>int64</td>\n",
              "      <td>13540</td>\n",
              "      <td>290</td>\n",
              "    </tr>\n",
              "    <tr>\n",
              "      <th>sqft_lot</th>\n",
              "      <td>int64</td>\n",
              "      <td>1651359</td>\n",
              "      <td>520</td>\n",
              "    </tr>\n",
              "    <tr>\n",
              "      <th>floors</th>\n",
              "      <td>float64</td>\n",
              "      <td>3.5</td>\n",
              "      <td>1</td>\n",
              "    </tr>\n",
              "    <tr>\n",
              "      <th>waterfront</th>\n",
              "      <td>int64</td>\n",
              "      <td>1</td>\n",
              "      <td>0</td>\n",
              "    </tr>\n",
              "    <tr>\n",
              "      <th>view</th>\n",
              "      <td>int64</td>\n",
              "      <td>4</td>\n",
              "      <td>0</td>\n",
              "    </tr>\n",
              "    <tr>\n",
              "      <th>condition</th>\n",
              "      <td>int64</td>\n",
              "      <td>5</td>\n",
              "      <td>1</td>\n",
              "    </tr>\n",
              "    <tr>\n",
              "      <th>grade</th>\n",
              "      <td>int64</td>\n",
              "      <td>13</td>\n",
              "      <td>1</td>\n",
              "    </tr>\n",
              "    <tr>\n",
              "      <th>sqft_above</th>\n",
              "      <td>int64</td>\n",
              "      <td>9410</td>\n",
              "      <td>290</td>\n",
              "    </tr>\n",
              "    <tr>\n",
              "      <th>sqft_basement</th>\n",
              "      <td>int64</td>\n",
              "      <td>4820</td>\n",
              "      <td>0</td>\n",
              "    </tr>\n",
              "    <tr>\n",
              "      <th>yr_built</th>\n",
              "      <td>int64</td>\n",
              "      <td>2015</td>\n",
              "      <td>1900</td>\n",
              "    </tr>\n",
              "    <tr>\n",
              "      <th>yr_renovated</th>\n",
              "      <td>int64</td>\n",
              "      <td>2015</td>\n",
              "      <td>0</td>\n",
              "    </tr>\n",
              "    <tr>\n",
              "      <th>zipcode</th>\n",
              "      <td>int64</td>\n",
              "      <td>98199</td>\n",
              "      <td>98001</td>\n",
              "    </tr>\n",
              "    <tr>\n",
              "      <th>lat</th>\n",
              "      <td>float64</td>\n",
              "      <td>47.7776</td>\n",
              "      <td>47.1559</td>\n",
              "    </tr>\n",
              "    <tr>\n",
              "      <th>long</th>\n",
              "      <td>float64</td>\n",
              "      <td>-121.315</td>\n",
              "      <td>-122.519</td>\n",
              "    </tr>\n",
              "    <tr>\n",
              "      <th>sqft_living15</th>\n",
              "      <td>int64</td>\n",
              "      <td>6210</td>\n",
              "      <td>399</td>\n",
              "    </tr>\n",
              "    <tr>\n",
              "      <th>sqft_lot15</th>\n",
              "      <td>int64</td>\n",
              "      <td>871200</td>\n",
              "      <td>651</td>\n",
              "    </tr>\n",
              "  </tbody>\n",
              "</table>\n",
              "</div>"
            ],
            "text/plain": [
              "                 Types         max      min\n",
              "id               int64  9900000190  1000102\n",
              "price          float64     7.7e+06    75000\n",
              "bedrooms         int64          33        0\n",
              "bathrooms      float64           8        0\n",
              "sqft_living      int64       13540      290\n",
              "sqft_lot         int64     1651359      520\n",
              "floors         float64         3.5        1\n",
              "waterfront       int64           1        0\n",
              "view             int64           4        0\n",
              "condition        int64           5        1\n",
              "grade            int64          13        1\n",
              "sqft_above       int64        9410      290\n",
              "sqft_basement    int64        4820        0\n",
              "yr_built         int64        2015     1900\n",
              "yr_renovated     int64        2015        0\n",
              "zipcode          int64       98199    98001\n",
              "lat            float64     47.7776  47.1559\n",
              "long           float64    -121.315 -122.519\n",
              "sqft_living15    int64        6210      399\n",
              "sqft_lot15       int64      871200      651"
            ]
          },
          "metadata": {
            "tags": []
          },
          "execution_count": 8
        }
      ]
    },
    {
      "cell_type": "markdown",
      "metadata": {
        "id": "UEJaCRks2ra8"
      },
      "source": [
        ""
      ]
    },
    {
      "cell_type": "code",
      "metadata": {
        "colab": {
          "base_uri": "https://localhost:8080/"
        },
        "id": "IjxVuxbJlzFx",
        "outputId": "27b04795-e555-4728-a883-c4adaf6f6be1"
      },
      "source": [
        "df['floors'].unique()"
      ],
      "execution_count": 9,
      "outputs": [
        {
          "output_type": "execute_result",
          "data": {
            "text/plain": [
              "array([1. , 2. , 1.5, 3. , 2.5, 3.5])"
            ]
          },
          "metadata": {
            "tags": []
          },
          "execution_count": 9
        }
      ]
    },
    {
      "cell_type": "markdown",
      "metadata": {
        "id": "GlOWYTJOnEcp"
      },
      "source": [
        "Due to the common conception of floors being integers; the properties of the data on floors is looked further into. [Floors.](markbrinkley.blogspot.com/2006/09/what-is-one-and-half-storey-house.html)"
      ]
    },
    {
      "cell_type": "markdown",
      "metadata": {
        "id": "jEfaF1m-qkEC"
      },
      "source": [
        "From the above we can tell the following:\n",
        "1. ID is the description of the property\n"
      ]
    },
    {
      "cell_type": "markdown",
      "metadata": {
        "id": "frFBXWpzpbj9"
      },
      "source": [
        "#APPROPRIATENESS"
      ]
    },
    {
      "cell_type": "markdown",
      "metadata": {
        "id": "R0JOzfz-iC1h"
      },
      "source": [
        "The data is from a privately held company. There is no other source for confirming the appropriateness of the data."
      ]
    },
    {
      "cell_type": "markdown",
      "metadata": {
        "id": "E-aRnZEypk0y"
      },
      "source": [
        "#CLEANING"
      ]
    },
    {
      "cell_type": "markdown",
      "metadata": {
        "id": "PArl4RVz9JtF"
      },
      "source": [
        "##Missing Values and duplicates"
      ]
    },
    {
      "cell_type": "markdown",
      "metadata": {
        "id": "62nvQG5p4zmm"
      },
      "source": [
        "Null values are sought after within the dataset along with duplicates which are dropped."
      ]
    },
    {
      "cell_type": "code",
      "metadata": {
        "colab": {
          "base_uri": "https://localhost:8080/"
        },
        "id": "hfF51fwf9Omy",
        "outputId": "efe060d5-d6af-457e-8435-071968ad5495"
      },
      "source": [
        "df.isnull().sum()"
      ],
      "execution_count": 10,
      "outputs": [
        {
          "output_type": "execute_result",
          "data": {
            "text/plain": [
              "id               0\n",
              "price            0\n",
              "bedrooms         0\n",
              "bathrooms        0\n",
              "sqft_living      0\n",
              "sqft_lot         0\n",
              "floors           0\n",
              "waterfront       0\n",
              "view             0\n",
              "condition        0\n",
              "grade            0\n",
              "sqft_above       0\n",
              "sqft_basement    0\n",
              "yr_built         0\n",
              "yr_renovated     0\n",
              "zipcode          0\n",
              "lat              0\n",
              "long             0\n",
              "sqft_living15    0\n",
              "sqft_lot15       0\n",
              "dtype: int64"
            ]
          },
          "metadata": {
            "tags": []
          },
          "execution_count": 10
        }
      ]
    },
    {
      "cell_type": "code",
      "metadata": {
        "id": "EJK-quvFliOv"
      },
      "source": [
        "df.drop_duplicates(inplace = True)"
      ],
      "execution_count": 11,
      "outputs": []
    },
    {
      "cell_type": "code",
      "metadata": {
        "colab": {
          "base_uri": "https://localhost:8080/"
        },
        "id": "0cSeYXL1oLDB",
        "outputId": "b7454f7e-a42c-4ac6-b099-18357ce67b11"
      },
      "source": [
        "df.shape"
      ],
      "execution_count": 12,
      "outputs": [
        {
          "output_type": "execute_result",
          "data": {
            "text/plain": [
              "(21610, 20)"
            ]
          },
          "metadata": {
            "tags": []
          },
          "execution_count": 12
        }
      ]
    },
    {
      "cell_type": "markdown",
      "metadata": {
        "id": "0E20R13Afgrv"
      },
      "source": [
        "##Anomalies"
      ]
    },
    {
      "cell_type": "markdown",
      "metadata": {
        "id": "N_EIYDEFlcQk"
      },
      "source": [
        "From the process above_ whereby the data types were shown; an misrepresentation of the data type would occur if anomilies existed within the data which thus leads to a conclusion that there is no anomaly within the data. "
      ]
    },
    {
      "cell_type": "markdown",
      "metadata": {
        "id": "oite7LmJ9UGF"
      },
      "source": [
        "##Outliers"
      ]
    },
    {
      "cell_type": "code",
      "metadata": {
        "colab": {
          "base_uri": "https://localhost:8080/",
          "height": 716
        },
        "id": "v2d9JZZXfNOr",
        "outputId": "f7d07bd3-6091-4c8b-af92-dbe13fcbc673"
      },
      "source": [
        "#Box plots are plotted to look for outliers\n",
        "\n",
        "useablecol = ['price', 'bedrooms', 'bathrooms', 'sqft_living', 'sqft_lot','sqft_above','sqft_basement','sqft_living15', 'sqft_lot15']\n",
        "\n",
        "f , a = plt.subplots(nrows = 3 , ncols = 3, figsize = (12,12) )\n",
        "for er in range (0, len(useablecol)):\n",
        "  plt.subplot(3,3,(er + 1 ))\n",
        "  plt.boxplot(df[useablecol[er]])\n",
        "  plt.title(useablecol[er])\n"
      ],
      "execution_count": 13,
      "outputs": [
        {
          "output_type": "display_data",
          "data": {
            "image/png": "[encoded data removed]",
            "text/plain": [
              "<Figure size 864x864 with 9 Axes>"
            ]
          },
          "metadata": {
            "tags": [],
            "needs_background": "light"
          }
        }
      ]
    },
    {
      "cell_type": "code",
      "metadata": {
        "colab": {
          "base_uri": "https://localhost:8080/",
          "height": 677
        },
        "id": "RDy3aJ4vp9iN",
        "outputId": "c48c2c3f-20e8-48b6-f753-62691e0fe678"
      },
      "source": [
        "#The 3rd quartile values and the 1st quartile values are added to the \n",
        "#description table for preperation of dropping the outliers\n",
        "\n",
        "desc['.25'] = ''\n",
        "desc['.75'] = ''\n",
        "for t , row in desc.iterrows():\n",
        "  desc.loc[ t , '.25'] = df[t].quantile(.25)\n",
        "  desc.loc[ t , '.75'] = df[t].quantile(.75)\n",
        "\n",
        "desc"
      ],
      "execution_count": 14,
      "outputs": [
        {
          "output_type": "execute_result",
          "data": {
            "text/html": [
              "<div>\n",
              "<style scoped>\n",
              "    .dataframe tbody tr th:only-of-type {\n",
              "        vertical-align: middle;\n",
              "    }\n",
              "\n",
              "    .dataframe tbody tr th {\n",
              "        vertical-align: top;\n",
              "    }\n",
              "\n",
              "    .dataframe thead th {\n",
              "        text-align: right;\n",
              "    }\n",
              "</style>\n",
              "<table border=\"1\" class=\"dataframe\">\n",
              "  <thead>\n",
              "    <tr style=\"text-align: right;\">\n",
              "      <th></th>\n",
              "      <th>Types</th>\n",
              "      <th>max</th>\n",
              "      <th>min</th>\n",
              "      <th>.25</th>\n",
              "      <th>.75</th>\n",
              "    </tr>\n",
              "  </thead>\n",
              "  <tbody>\n",
              "    <tr>\n",
              "      <th>id</th>\n",
              "      <td>int64</td>\n",
              "      <td>9900000190</td>\n",
              "      <td>1000102</td>\n",
              "      <td>2.12305e+09</td>\n",
              "      <td>7.3089e+09</td>\n",
              "    </tr>\n",
              "    <tr>\n",
              "      <th>price</th>\n",
              "      <td>float64</td>\n",
              "      <td>7.7e+06</td>\n",
              "      <td>75000</td>\n",
              "      <td>321612</td>\n",
              "      <td>645000</td>\n",
              "    </tr>\n",
              "    <tr>\n",
              "      <th>bedrooms</th>\n",
              "      <td>int64</td>\n",
              "      <td>33</td>\n",
              "      <td>0</td>\n",
              "      <td>3</td>\n",
              "      <td>4</td>\n",
              "    </tr>\n",
              "    <tr>\n",
              "      <th>bathrooms</th>\n",
              "      <td>float64</td>\n",
              "      <td>8</td>\n",
              "      <td>0</td>\n",
              "      <td>1.75</td>\n",
              "      <td>2.5</td>\n",
              "    </tr>\n",
              "    <tr>\n",
              "      <th>sqft_living</th>\n",
              "      <td>int64</td>\n",
              "      <td>13540</td>\n",
              "      <td>290</td>\n",
              "      <td>1425.5</td>\n",
              "      <td>2550</td>\n",
              "    </tr>\n",
              "    <tr>\n",
              "      <th>sqft_lot</th>\n",
              "      <td>int64</td>\n",
              "      <td>1651359</td>\n",
              "      <td>520</td>\n",
              "      <td>5040</td>\n",
              "      <td>10688.8</td>\n",
              "    </tr>\n",
              "    <tr>\n",
              "      <th>floors</th>\n",
              "      <td>float64</td>\n",
              "      <td>3.5</td>\n",
              "      <td>1</td>\n",
              "      <td>1</td>\n",
              "      <td>2</td>\n",
              "    </tr>\n",
              "    <tr>\n",
              "      <th>waterfront</th>\n",
              "      <td>int64</td>\n",
              "      <td>1</td>\n",
              "      <td>0</td>\n",
              "      <td>0</td>\n",
              "      <td>0</td>\n",
              "    </tr>\n",
              "    <tr>\n",
              "      <th>view</th>\n",
              "      <td>int64</td>\n",
              "      <td>4</td>\n",
              "      <td>0</td>\n",
              "      <td>0</td>\n",
              "      <td>0</td>\n",
              "    </tr>\n",
              "    <tr>\n",
              "      <th>condition</th>\n",
              "      <td>int64</td>\n",
              "      <td>5</td>\n",
              "      <td>1</td>\n",
              "      <td>3</td>\n",
              "      <td>4</td>\n",
              "    </tr>\n",
              "    <tr>\n",
              "      <th>grade</th>\n",
              "      <td>int64</td>\n",
              "      <td>13</td>\n",
              "      <td>1</td>\n",
              "      <td>7</td>\n",
              "      <td>8</td>\n",
              "    </tr>\n",
              "    <tr>\n",
              "      <th>sqft_above</th>\n",
              "      <td>int64</td>\n",
              "      <td>9410</td>\n",
              "      <td>290</td>\n",
              "      <td>1190</td>\n",
              "      <td>2210</td>\n",
              "    </tr>\n",
              "    <tr>\n",
              "      <th>sqft_basement</th>\n",
              "      <td>int64</td>\n",
              "      <td>4820</td>\n",
              "      <td>0</td>\n",
              "      <td>0</td>\n",
              "      <td>560</td>\n",
              "    </tr>\n",
              "    <tr>\n",
              "      <th>yr_built</th>\n",
              "      <td>int64</td>\n",
              "      <td>2015</td>\n",
              "      <td>1900</td>\n",
              "      <td>1951</td>\n",
              "      <td>1997</td>\n",
              "    </tr>\n",
              "    <tr>\n",
              "      <th>yr_renovated</th>\n",
              "      <td>int64</td>\n",
              "      <td>2015</td>\n",
              "      <td>0</td>\n",
              "      <td>0</td>\n",
              "      <td>0</td>\n",
              "    </tr>\n",
              "    <tr>\n",
              "      <th>zipcode</th>\n",
              "      <td>int64</td>\n",
              "      <td>98199</td>\n",
              "      <td>98001</td>\n",
              "      <td>98033</td>\n",
              "      <td>98118</td>\n",
              "    </tr>\n",
              "    <tr>\n",
              "      <th>lat</th>\n",
              "      <td>float64</td>\n",
              "      <td>47.7776</td>\n",
              "      <td>47.1559</td>\n",
              "      <td>47.4709</td>\n",
              "      <td>47.678</td>\n",
              "    </tr>\n",
              "    <tr>\n",
              "      <th>long</th>\n",
              "      <td>float64</td>\n",
              "      <td>-121.315</td>\n",
              "      <td>-122.519</td>\n",
              "      <td>-122.328</td>\n",
              "      <td>-122.125</td>\n",
              "    </tr>\n",
              "    <tr>\n",
              "      <th>sqft_living15</th>\n",
              "      <td>int64</td>\n",
              "      <td>6210</td>\n",
              "      <td>399</td>\n",
              "      <td>1490</td>\n",
              "      <td>2360</td>\n",
              "    </tr>\n",
              "    <tr>\n",
              "      <th>sqft_lot15</th>\n",
              "      <td>int64</td>\n",
              "      <td>871200</td>\n",
              "      <td>651</td>\n",
              "      <td>5100</td>\n",
              "      <td>10083</td>\n",
              "    </tr>\n",
              "  </tbody>\n",
              "</table>\n",
              "</div>"
            ],
            "text/plain": [
              "                 Types         max      min          .25         .75\n",
              "id               int64  9900000190  1000102  2.12305e+09  7.3089e+09\n",
              "price          float64     7.7e+06    75000       321612      645000\n",
              "bedrooms         int64          33        0            3           4\n",
              "bathrooms      float64           8        0         1.75         2.5\n",
              "sqft_living      int64       13540      290       1425.5        2550\n",
              "sqft_lot         int64     1651359      520         5040     10688.8\n",
              "floors         float64         3.5        1            1           2\n",
              "waterfront       int64           1        0            0           0\n",
              "view             int64           4        0            0           0\n",
              "condition        int64           5        1            3           4\n",
              "grade            int64          13        1            7           8\n",
              "sqft_above       int64        9410      290         1190        2210\n",
              "sqft_basement    int64        4820        0            0         560\n",
              "yr_built         int64        2015     1900         1951        1997\n",
              "yr_renovated     int64        2015        0            0           0\n",
              "zipcode          int64       98199    98001        98033       98118\n",
              "lat            float64     47.7776  47.1559      47.4709      47.678\n",
              "long           float64    -121.315 -122.519     -122.328    -122.125\n",
              "sqft_living15    int64        6210      399         1490        2360\n",
              "sqft_lot15       int64      871200      651         5100       10083"
            ]
          },
          "metadata": {
            "tags": []
          },
          "execution_count": 14
        }
      ]
    },
    {
      "cell_type": "code",
      "metadata": {
        "id": "acZO316usdp7"
      },
      "source": [
        "#copying of dataset to clean\n",
        "\n",
        "cleaned1 = df.copy()"
      ],
      "execution_count": 15,
      "outputs": []
    },
    {
      "cell_type": "code",
      "metadata": {
        "id": "iUeQeYtpsmLU"
      },
      "source": [
        "#dropping of outliers\n",
        "\n",
        "for we in useablecol:\n",
        "  cleaned1 = cleaned1[cleaned1[we].between(desc.loc[ we , '.25'] ,desc.loc[ we , '.75'])]"
      ],
      "execution_count": 16,
      "outputs": []
    },
    {
      "cell_type": "code",
      "metadata": {
        "colab": {
          "base_uri": "https://localhost:8080/",
          "height": 424
        },
        "id": "gVIAfCX_tAMD",
        "outputId": "0001e73a-1605-45c8-91f0-39c9f182b211"
      },
      "source": [
        "cleaned1"
      ],
      "execution_count": 17,
      "outputs": [
        {
          "output_type": "execute_result",
          "data": {
            "text/html": [
              "<div>\n",
              "<style scoped>\n",
              "    .dataframe tbody tr th:only-of-type {\n",
              "        vertical-align: middle;\n",
              "    }\n",
              "\n",
              "    .dataframe tbody tr th {\n",
              "        vertical-align: top;\n",
              "    }\n",
              "\n",
              "    .dataframe thead th {\n",
              "        text-align: right;\n",
              "    }\n",
              "</style>\n",
              "<table border=\"1\" class=\"dataframe\">\n",
              "  <thead>\n",
              "    <tr style=\"text-align: right;\">\n",
              "      <th></th>\n",
              "      <th>id</th>\n",
              "      <th>price</th>\n",
              "      <th>bedrooms</th>\n",
              "      <th>bathrooms</th>\n",
              "      <th>sqft_living</th>\n",
              "      <th>sqft_lot</th>\n",
              "      <th>floors</th>\n",
              "      <th>waterfront</th>\n",
              "      <th>view</th>\n",
              "      <th>condition</th>\n",
              "      <th>grade</th>\n",
              "      <th>sqft_above</th>\n",
              "      <th>sqft_basement</th>\n",
              "      <th>yr_built</th>\n",
              "      <th>yr_renovated</th>\n",
              "      <th>zipcode</th>\n",
              "      <th>lat</th>\n",
              "      <th>long</th>\n",
              "      <th>sqft_living15</th>\n",
              "      <th>sqft_lot15</th>\n",
              "    </tr>\n",
              "  </thead>\n",
              "  <tbody>\n",
              "    <tr>\n",
              "      <th>4</th>\n",
              "      <td>1954400510</td>\n",
              "      <td>510000.0</td>\n",
              "      <td>3</td>\n",
              "      <td>2.00</td>\n",
              "      <td>1680</td>\n",
              "      <td>8080</td>\n",
              "      <td>1.0</td>\n",
              "      <td>0</td>\n",
              "      <td>0</td>\n",
              "      <td>3</td>\n",
              "      <td>8</td>\n",
              "      <td>1680</td>\n",
              "      <td>0</td>\n",
              "      <td>1987</td>\n",
              "      <td>0</td>\n",
              "      <td>98074</td>\n",
              "      <td>47.6168</td>\n",
              "      <td>-122.045</td>\n",
              "      <td>1800</td>\n",
              "      <td>7503</td>\n",
              "    </tr>\n",
              "    <tr>\n",
              "      <th>81</th>\n",
              "      <td>7437100340</td>\n",
              "      <td>360000.0</td>\n",
              "      <td>4</td>\n",
              "      <td>2.50</td>\n",
              "      <td>1900</td>\n",
              "      <td>5889</td>\n",
              "      <td>2.0</td>\n",
              "      <td>0</td>\n",
              "      <td>0</td>\n",
              "      <td>3</td>\n",
              "      <td>7</td>\n",
              "      <td>1900</td>\n",
              "      <td>0</td>\n",
              "      <td>1992</td>\n",
              "      <td>0</td>\n",
              "      <td>98038</td>\n",
              "      <td>47.3490</td>\n",
              "      <td>-122.031</td>\n",
              "      <td>1870</td>\n",
              "      <td>6405</td>\n",
              "    </tr>\n",
              "    <tr>\n",
              "      <th>121</th>\n",
              "      <td>6675500070</td>\n",
              "      <td>391500.0</td>\n",
              "      <td>3</td>\n",
              "      <td>2.00</td>\n",
              "      <td>1450</td>\n",
              "      <td>9132</td>\n",
              "      <td>1.0</td>\n",
              "      <td>0</td>\n",
              "      <td>0</td>\n",
              "      <td>3</td>\n",
              "      <td>7</td>\n",
              "      <td>1450</td>\n",
              "      <td>0</td>\n",
              "      <td>1987</td>\n",
              "      <td>0</td>\n",
              "      <td>98034</td>\n",
              "      <td>47.7288</td>\n",
              "      <td>-122.226</td>\n",
              "      <td>1580</td>\n",
              "      <td>9104</td>\n",
              "    </tr>\n",
              "    <tr>\n",
              "      <th>187</th>\n",
              "      <td>1954440060</td>\n",
              "      <td>560000.0</td>\n",
              "      <td>3</td>\n",
              "      <td>2.50</td>\n",
              "      <td>1900</td>\n",
              "      <td>8744</td>\n",
              "      <td>2.0</td>\n",
              "      <td>0</td>\n",
              "      <td>0</td>\n",
              "      <td>3</td>\n",
              "      <td>8</td>\n",
              "      <td>1900</td>\n",
              "      <td>0</td>\n",
              "      <td>1987</td>\n",
              "      <td>0</td>\n",
              "      <td>98074</td>\n",
              "      <td>47.6200</td>\n",
              "      <td>-122.043</td>\n",
              "      <td>2030</td>\n",
              "      <td>8744</td>\n",
              "    </tr>\n",
              "    <tr>\n",
              "      <th>224</th>\n",
              "      <td>705700390</td>\n",
              "      <td>328000.0</td>\n",
              "      <td>3</td>\n",
              "      <td>2.25</td>\n",
              "      <td>2020</td>\n",
              "      <td>8379</td>\n",
              "      <td>2.0</td>\n",
              "      <td>0</td>\n",
              "      <td>0</td>\n",
              "      <td>3</td>\n",
              "      <td>7</td>\n",
              "      <td>2020</td>\n",
              "      <td>0</td>\n",
              "      <td>1994</td>\n",
              "      <td>0</td>\n",
              "      <td>98038</td>\n",
              "      <td>47.3828</td>\n",
              "      <td>-122.023</td>\n",
              "      <td>2020</td>\n",
              "      <td>8031</td>\n",
              "    </tr>\n",
              "    <tr>\n",
              "      <th>...</th>\n",
              "      <td>...</td>\n",
              "      <td>...</td>\n",
              "      <td>...</td>\n",
              "      <td>...</td>\n",
              "      <td>...</td>\n",
              "      <td>...</td>\n",
              "      <td>...</td>\n",
              "      <td>...</td>\n",
              "      <td>...</td>\n",
              "      <td>...</td>\n",
              "      <td>...</td>\n",
              "      <td>...</td>\n",
              "      <td>...</td>\n",
              "      <td>...</td>\n",
              "      <td>...</td>\n",
              "      <td>...</td>\n",
              "      <td>...</td>\n",
              "      <td>...</td>\n",
              "      <td>...</td>\n",
              "      <td>...</td>\n",
              "    </tr>\n",
              "    <tr>\n",
              "      <th>21349</th>\n",
              "      <td>1704900303</td>\n",
              "      <td>608000.0</td>\n",
              "      <td>3</td>\n",
              "      <td>2.25</td>\n",
              "      <td>1720</td>\n",
              "      <td>5234</td>\n",
              "      <td>2.0</td>\n",
              "      <td>0</td>\n",
              "      <td>0</td>\n",
              "      <td>3</td>\n",
              "      <td>9</td>\n",
              "      <td>1240</td>\n",
              "      <td>480</td>\n",
              "      <td>2011</td>\n",
              "      <td>0</td>\n",
              "      <td>98118</td>\n",
              "      <td>47.5547</td>\n",
              "      <td>-122.278</td>\n",
              "      <td>1720</td>\n",
              "      <td>5825</td>\n",
              "    </tr>\n",
              "    <tr>\n",
              "      <th>21378</th>\n",
              "      <td>7853321110</td>\n",
              "      <td>409000.0</td>\n",
              "      <td>3</td>\n",
              "      <td>2.50</td>\n",
              "      <td>1950</td>\n",
              "      <td>7263</td>\n",
              "      <td>2.0</td>\n",
              "      <td>0</td>\n",
              "      <td>0</td>\n",
              "      <td>3</td>\n",
              "      <td>7</td>\n",
              "      <td>1950</td>\n",
              "      <td>0</td>\n",
              "      <td>2007</td>\n",
              "      <td>0</td>\n",
              "      <td>98065</td>\n",
              "      <td>47.5194</td>\n",
              "      <td>-121.869</td>\n",
              "      <td>2190</td>\n",
              "      <td>5900</td>\n",
              "    </tr>\n",
              "    <tr>\n",
              "      <th>21392</th>\n",
              "      <td>321030150</td>\n",
              "      <td>358000.0</td>\n",
              "      <td>3</td>\n",
              "      <td>2.50</td>\n",
              "      <td>2026</td>\n",
              "      <td>7611</td>\n",
              "      <td>2.0</td>\n",
              "      <td>0</td>\n",
              "      <td>0</td>\n",
              "      <td>3</td>\n",
              "      <td>8</td>\n",
              "      <td>2026</td>\n",
              "      <td>0</td>\n",
              "      <td>2010</td>\n",
              "      <td>0</td>\n",
              "      <td>98042</td>\n",
              "      <td>47.3733</td>\n",
              "      <td>-122.162</td>\n",
              "      <td>2270</td>\n",
              "      <td>7611</td>\n",
              "    </tr>\n",
              "    <tr>\n",
              "      <th>21447</th>\n",
              "      <td>7853360620</td>\n",
              "      <td>425000.0</td>\n",
              "      <td>3</td>\n",
              "      <td>2.50</td>\n",
              "      <td>1950</td>\n",
              "      <td>5689</td>\n",
              "      <td>2.0</td>\n",
              "      <td>0</td>\n",
              "      <td>0</td>\n",
              "      <td>3</td>\n",
              "      <td>7</td>\n",
              "      <td>1950</td>\n",
              "      <td>0</td>\n",
              "      <td>2009</td>\n",
              "      <td>0</td>\n",
              "      <td>98065</td>\n",
              "      <td>47.5158</td>\n",
              "      <td>-121.873</td>\n",
              "      <td>2190</td>\n",
              "      <td>5653</td>\n",
              "    </tr>\n",
              "    <tr>\n",
              "      <th>21554</th>\n",
              "      <td>2855000110</td>\n",
              "      <td>388000.0</td>\n",
              "      <td>3</td>\n",
              "      <td>2.50</td>\n",
              "      <td>2198</td>\n",
              "      <td>6222</td>\n",
              "      <td>2.0</td>\n",
              "      <td>0</td>\n",
              "      <td>2</td>\n",
              "      <td>3</td>\n",
              "      <td>8</td>\n",
              "      <td>2198</td>\n",
              "      <td>0</td>\n",
              "      <td>2010</td>\n",
              "      <td>0</td>\n",
              "      <td>98198</td>\n",
              "      <td>47.3906</td>\n",
              "      <td>-122.304</td>\n",
              "      <td>2198</td>\n",
              "      <td>7621</td>\n",
              "    </tr>\n",
              "  </tbody>\n",
              "</table>\n",
              "<p>781 rows × 20 columns</p>\n",
              "</div>"
            ],
            "text/plain": [
              "               id     price  bedrooms  ...     long  sqft_living15  sqft_lot15\n",
              "4      1954400510  510000.0         3  ... -122.045           1800        7503\n",
              "81     7437100340  360000.0         4  ... -122.031           1870        6405\n",
              "121    6675500070  391500.0         3  ... -122.226           1580        9104\n",
              "187    1954440060  560000.0         3  ... -122.043           2030        8744\n",
              "224     705700390  328000.0         3  ... -122.023           2020        8031\n",
              "...           ...       ...       ...  ...      ...            ...         ...\n",
              "21349  1704900303  608000.0         3  ... -122.278           1720        5825\n",
              "21378  7853321110  409000.0         3  ... -121.869           2190        5900\n",
              "21392   321030150  358000.0         3  ... -122.162           2270        7611\n",
              "21447  7853360620  425000.0         3  ... -121.873           2190        5653\n",
              "21554  2855000110  388000.0         3  ... -122.304           2198        7621\n",
              "\n",
              "[781 rows x 20 columns]"
            ]
          },
          "metadata": {
            "tags": []
          },
          "execution_count": 17
        }
      ]
    },
    {
      "cell_type": "markdown",
      "metadata": {
        "id": "97-TzEQyucnh"
      },
      "source": [
        "##Correlations"
      ]
    },
    {
      "cell_type": "code",
      "metadata": {
        "colab": {
          "base_uri": "https://localhost:8080/",
          "height": 351
        },
        "id": "J5WEbS3tV3Jr",
        "outputId": "6b2e8ed0-6160-4591-f09b-252df3b049e1"
      },
      "source": [
        "sns.heatmap(cleaned1.corr())"
      ],
      "execution_count": 18,
      "outputs": [
        {
          "output_type": "execute_result",
          "data": {
            "text/plain": [
              "<matplotlib.axes._subplots.AxesSubplot at 0x7f23f15d19b0>"
            ]
          },
          "metadata": {
            "tags": []
          },
          "execution_count": 18
        },
        {
          "output_type": "display_data",
          "data": {
            "image/png": "[encoded data removed]",
            "text/plain": [
              "<Figure size 432x288 with 2 Axes>"
            ]
          },
          "metadata": {
            "tags": [],
            "needs_background": "light"
          }
        }
      ]
    },
    {
      "cell_type": "code",
      "metadata": {
        "colab": {
          "base_uri": "https://localhost:8080/",
          "height": 677
        },
        "id": "p0-IWldsunKl",
        "outputId": "11c8d860-d060-4c72-d861-666d0f48bfb5"
      },
      "source": [
        "cleaned1.corr()"
      ],
      "execution_count": 19,
      "outputs": [
        {
          "output_type": "execute_result",
          "data": {
            "text/html": [
              "<div>\n",
              "<style scoped>\n",
              "    .dataframe tbody tr th:only-of-type {\n",
              "        vertical-align: middle;\n",
              "    }\n",
              "\n",
              "    .dataframe tbody tr th {\n",
              "        vertical-align: top;\n",
              "    }\n",
              "\n",
              "    .dataframe thead th {\n",
              "        text-align: right;\n",
              "    }\n",
              "</style>\n",
              "<table border=\"1\" class=\"dataframe\">\n",
              "  <thead>\n",
              "    <tr style=\"text-align: right;\">\n",
              "      <th></th>\n",
              "      <th>id</th>\n",
              "      <th>price</th>\n",
              "      <th>bedrooms</th>\n",
              "      <th>bathrooms</th>\n",
              "      <th>sqft_living</th>\n",
              "      <th>sqft_lot</th>\n",
              "      <th>floors</th>\n",
              "      <th>waterfront</th>\n",
              "      <th>view</th>\n",
              "      <th>condition</th>\n",
              "      <th>grade</th>\n",
              "      <th>sqft_above</th>\n",
              "      <th>sqft_basement</th>\n",
              "      <th>yr_built</th>\n",
              "      <th>yr_renovated</th>\n",
              "      <th>zipcode</th>\n",
              "      <th>lat</th>\n",
              "      <th>long</th>\n",
              "      <th>sqft_living15</th>\n",
              "      <th>sqft_lot15</th>\n",
              "    </tr>\n",
              "  </thead>\n",
              "  <tbody>\n",
              "    <tr>\n",
              "      <th>id</th>\n",
              "      <td>1.000000</td>\n",
              "      <td>0.113519</td>\n",
              "      <td>-0.035827</td>\n",
              "      <td>0.002305</td>\n",
              "      <td>0.022516</td>\n",
              "      <td>0.034467</td>\n",
              "      <td>-0.029036</td>\n",
              "      <td>NaN</td>\n",
              "      <td>0.026781</td>\n",
              "      <td>0.018961</td>\n",
              "      <td>0.026822</td>\n",
              "      <td>0.012903</td>\n",
              "      <td>0.006111</td>\n",
              "      <td>0.008135</td>\n",
              "      <td>-0.018840</td>\n",
              "      <td>-0.054529</td>\n",
              "      <td>-0.006927</td>\n",
              "      <td>0.081444</td>\n",
              "      <td>0.033457</td>\n",
              "      <td>0.079021</td>\n",
              "    </tr>\n",
              "    <tr>\n",
              "      <th>price</th>\n",
              "      <td>0.113519</td>\n",
              "      <td>1.000000</td>\n",
              "      <td>-0.023885</td>\n",
              "      <td>-0.043360</td>\n",
              "      <td>0.075542</td>\n",
              "      <td>-0.007565</td>\n",
              "      <td>-0.052864</td>\n",
              "      <td>NaN</td>\n",
              "      <td>0.011030</td>\n",
              "      <td>0.098920</td>\n",
              "      <td>0.256971</td>\n",
              "      <td>0.022368</td>\n",
              "      <td>0.053075</td>\n",
              "      <td>-0.174602</td>\n",
              "      <td>0.046950</td>\n",
              "      <td>-0.101459</td>\n",
              "      <td>0.428406</td>\n",
              "      <td>0.130931</td>\n",
              "      <td>0.111396</td>\n",
              "      <td>0.062684</td>\n",
              "    </tr>\n",
              "    <tr>\n",
              "      <th>bedrooms</th>\n",
              "      <td>-0.035827</td>\n",
              "      <td>-0.023885</td>\n",
              "      <td>1.000000</td>\n",
              "      <td>0.144835</td>\n",
              "      <td>0.308081</td>\n",
              "      <td>-0.002458</td>\n",
              "      <td>0.169966</td>\n",
              "      <td>NaN</td>\n",
              "      <td>-0.021153</td>\n",
              "      <td>0.009210</td>\n",
              "      <td>0.001225</td>\n",
              "      <td>0.294503</td>\n",
              "      <td>-0.099998</td>\n",
              "      <td>0.037169</td>\n",
              "      <td>0.013899</td>\n",
              "      <td>-0.023960</td>\n",
              "      <td>-0.169352</td>\n",
              "      <td>0.041688</td>\n",
              "      <td>0.076531</td>\n",
              "      <td>-0.032805</td>\n",
              "    </tr>\n",
              "    <tr>\n",
              "      <th>bathrooms</th>\n",
              "      <td>0.002305</td>\n",
              "      <td>-0.043360</td>\n",
              "      <td>0.144835</td>\n",
              "      <td>1.000000</td>\n",
              "      <td>0.489793</td>\n",
              "      <td>-0.198968</td>\n",
              "      <td>0.660034</td>\n",
              "      <td>NaN</td>\n",
              "      <td>-0.013207</td>\n",
              "      <td>-0.294180</td>\n",
              "      <td>0.260703</td>\n",
              "      <td>0.475243</td>\n",
              "      <td>-0.169933</td>\n",
              "      <td>0.561216</td>\n",
              "      <td>-0.036444</td>\n",
              "      <td>-0.114728</td>\n",
              "      <td>-0.332376</td>\n",
              "      <td>0.303403</td>\n",
              "      <td>0.342640</td>\n",
              "      <td>-0.238411</td>\n",
              "    </tr>\n",
              "    <tr>\n",
              "      <th>sqft_living</th>\n",
              "      <td>0.022516</td>\n",
              "      <td>0.075542</td>\n",
              "      <td>0.308081</td>\n",
              "      <td>0.489793</td>\n",
              "      <td>1.000000</td>\n",
              "      <td>-0.066835</td>\n",
              "      <td>0.482025</td>\n",
              "      <td>NaN</td>\n",
              "      <td>0.027387</td>\n",
              "      <td>-0.209728</td>\n",
              "      <td>0.355557</td>\n",
              "      <td>0.766629</td>\n",
              "      <td>-0.029901</td>\n",
              "      <td>0.344619</td>\n",
              "      <td>-0.047756</td>\n",
              "      <td>-0.062972</td>\n",
              "      <td>-0.292591</td>\n",
              "      <td>0.183097</td>\n",
              "      <td>0.472229</td>\n",
              "      <td>-0.074922</td>\n",
              "    </tr>\n",
              "    <tr>\n",
              "      <th>sqft_lot</th>\n",
              "      <td>0.034467</td>\n",
              "      <td>-0.007565</td>\n",
              "      <td>-0.002458</td>\n",
              "      <td>-0.198968</td>\n",
              "      <td>-0.066835</td>\n",
              "      <td>1.000000</td>\n",
              "      <td>-0.217765</td>\n",
              "      <td>NaN</td>\n",
              "      <td>-0.007536</td>\n",
              "      <td>0.125470</td>\n",
              "      <td>-0.004571</td>\n",
              "      <td>-0.103407</td>\n",
              "      <td>0.083211</td>\n",
              "      <td>-0.172190</td>\n",
              "      <td>-0.013024</td>\n",
              "      <td>-0.016297</td>\n",
              "      <td>0.093797</td>\n",
              "      <td>-0.085993</td>\n",
              "      <td>-0.061196</td>\n",
              "      <td>0.743253</td>\n",
              "    </tr>\n",
              "    <tr>\n",
              "      <th>floors</th>\n",
              "      <td>-0.029036</td>\n",
              "      <td>-0.052864</td>\n",
              "      <td>0.169966</td>\n",
              "      <td>0.660034</td>\n",
              "      <td>0.482025</td>\n",
              "      <td>-0.217765</td>\n",
              "      <td>1.000000</td>\n",
              "      <td>NaN</td>\n",
              "      <td>-0.029168</td>\n",
              "      <td>-0.257424</td>\n",
              "      <td>0.234715</td>\n",
              "      <td>0.667551</td>\n",
              "      <td>-0.478340</td>\n",
              "      <td>0.494267</td>\n",
              "      <td>0.001256</td>\n",
              "      <td>-0.072755</td>\n",
              "      <td>-0.319137</td>\n",
              "      <td>0.262242</td>\n",
              "      <td>0.262554</td>\n",
              "      <td>-0.238134</td>\n",
              "    </tr>\n",
              "    <tr>\n",
              "      <th>waterfront</th>\n",
              "      <td>NaN</td>\n",
              "      <td>NaN</td>\n",
              "      <td>NaN</td>\n",
              "      <td>NaN</td>\n",
              "      <td>NaN</td>\n",
              "      <td>NaN</td>\n",
              "      <td>NaN</td>\n",
              "      <td>NaN</td>\n",
              "      <td>NaN</td>\n",
              "      <td>NaN</td>\n",
              "      <td>NaN</td>\n",
              "      <td>NaN</td>\n",
              "      <td>NaN</td>\n",
              "      <td>NaN</td>\n",
              "      <td>NaN</td>\n",
              "      <td>NaN</td>\n",
              "      <td>NaN</td>\n",
              "      <td>NaN</td>\n",
              "      <td>NaN</td>\n",
              "      <td>NaN</td>\n",
              "    </tr>\n",
              "    <tr>\n",
              "      <th>view</th>\n",
              "      <td>0.026781</td>\n",
              "      <td>0.011030</td>\n",
              "      <td>-0.021153</td>\n",
              "      <td>-0.013207</td>\n",
              "      <td>0.027387</td>\n",
              "      <td>-0.007536</td>\n",
              "      <td>-0.029168</td>\n",
              "      <td>NaN</td>\n",
              "      <td>1.000000</td>\n",
              "      <td>-0.000923</td>\n",
              "      <td>0.058309</td>\n",
              "      <td>-0.055183</td>\n",
              "      <td>0.117771</td>\n",
              "      <td>-0.085072</td>\n",
              "      <td>-0.025634</td>\n",
              "      <td>0.172420</td>\n",
              "      <td>-0.069781</td>\n",
              "      <td>-0.162292</td>\n",
              "      <td>0.017601</td>\n",
              "      <td>0.005856</td>\n",
              "    </tr>\n",
              "    <tr>\n",
              "      <th>condition</th>\n",
              "      <td>0.018961</td>\n",
              "      <td>0.098920</td>\n",
              "      <td>0.009210</td>\n",
              "      <td>-0.294180</td>\n",
              "      <td>-0.209728</td>\n",
              "      <td>0.125470</td>\n",
              "      <td>-0.257424</td>\n",
              "      <td>NaN</td>\n",
              "      <td>-0.000923</td>\n",
              "      <td>1.000000</td>\n",
              "      <td>-0.197337</td>\n",
              "      <td>-0.145144</td>\n",
              "      <td>-0.018076</td>\n",
              "      <td>-0.413228</td>\n",
              "      <td>-0.049007</td>\n",
              "      <td>0.034751</td>\n",
              "      <td>0.075966</td>\n",
              "      <td>-0.150339</td>\n",
              "      <td>-0.191590</td>\n",
              "      <td>0.128437</td>\n",
              "    </tr>\n",
              "    <tr>\n",
              "      <th>grade</th>\n",
              "      <td>0.026822</td>\n",
              "      <td>0.256971</td>\n",
              "      <td>0.001225</td>\n",
              "      <td>0.260703</td>\n",
              "      <td>0.355557</td>\n",
              "      <td>-0.004571</td>\n",
              "      <td>0.234715</td>\n",
              "      <td>NaN</td>\n",
              "      <td>0.058309</td>\n",
              "      <td>-0.197337</td>\n",
              "      <td>1.000000</td>\n",
              "      <td>0.335758</td>\n",
              "      <td>-0.108982</td>\n",
              "      <td>0.344167</td>\n",
              "      <td>-0.034819</td>\n",
              "      <td>-0.109170</td>\n",
              "      <td>-0.177031</td>\n",
              "      <td>0.159996</td>\n",
              "      <td>0.483439</td>\n",
              "      <td>0.051556</td>\n",
              "    </tr>\n",
              "    <tr>\n",
              "      <th>sqft_above</th>\n",
              "      <td>0.012903</td>\n",
              "      <td>0.022368</td>\n",
              "      <td>0.294503</td>\n",
              "      <td>0.475243</td>\n",
              "      <td>0.766629</td>\n",
              "      <td>-0.103407</td>\n",
              "      <td>0.667551</td>\n",
              "      <td>NaN</td>\n",
              "      <td>-0.055183</td>\n",
              "      <td>-0.145144</td>\n",
              "      <td>0.335758</td>\n",
              "      <td>1.000000</td>\n",
              "      <td>-0.664727</td>\n",
              "      <td>0.370861</td>\n",
              "      <td>-0.010388</td>\n",
              "      <td>-0.108674</td>\n",
              "      <td>-0.365362</td>\n",
              "      <td>0.259926</td>\n",
              "      <td>0.413355</td>\n",
              "      <td>-0.127387</td>\n",
              "    </tr>\n",
              "    <tr>\n",
              "      <th>sqft_basement</th>\n",
              "      <td>0.006111</td>\n",
              "      <td>0.053075</td>\n",
              "      <td>-0.099998</td>\n",
              "      <td>-0.169933</td>\n",
              "      <td>-0.029901</td>\n",
              "      <td>0.083211</td>\n",
              "      <td>-0.478340</td>\n",
              "      <td>NaN</td>\n",
              "      <td>0.117771</td>\n",
              "      <td>-0.018076</td>\n",
              "      <td>-0.108982</td>\n",
              "      <td>-0.664727</td>\n",
              "      <td>1.000000</td>\n",
              "      <td>-0.176354</td>\n",
              "      <td>-0.039395</td>\n",
              "      <td>0.095906</td>\n",
              "      <td>0.228329</td>\n",
              "      <td>-0.191593</td>\n",
              "      <td>-0.094028</td>\n",
              "      <td>0.111133</td>\n",
              "    </tr>\n",
              "    <tr>\n",
              "      <th>yr_built</th>\n",
              "      <td>0.008135</td>\n",
              "      <td>-0.174602</td>\n",
              "      <td>0.037169</td>\n",
              "      <td>0.561216</td>\n",
              "      <td>0.344619</td>\n",
              "      <td>-0.172190</td>\n",
              "      <td>0.494267</td>\n",
              "      <td>NaN</td>\n",
              "      <td>-0.085072</td>\n",
              "      <td>-0.413228</td>\n",
              "      <td>0.344167</td>\n",
              "      <td>0.370861</td>\n",
              "      <td>-0.176354</td>\n",
              "      <td>1.000000</td>\n",
              "      <td>-0.287903</td>\n",
              "      <td>-0.319742</td>\n",
              "      <td>-0.380379</td>\n",
              "      <td>0.460574</td>\n",
              "      <td>0.393350</td>\n",
              "      <td>-0.174418</td>\n",
              "    </tr>\n",
              "    <tr>\n",
              "      <th>yr_renovated</th>\n",
              "      <td>-0.018840</td>\n",
              "      <td>0.046950</td>\n",
              "      <td>0.013899</td>\n",
              "      <td>-0.036444</td>\n",
              "      <td>-0.047756</td>\n",
              "      <td>-0.013024</td>\n",
              "      <td>0.001256</td>\n",
              "      <td>NaN</td>\n",
              "      <td>-0.025634</td>\n",
              "      <td>-0.049007</td>\n",
              "      <td>-0.034819</td>\n",
              "      <td>-0.010388</td>\n",
              "      <td>-0.039395</td>\n",
              "      <td>-0.287903</td>\n",
              "      <td>1.000000</td>\n",
              "      <td>0.148266</td>\n",
              "      <td>0.089848</td>\n",
              "      <td>-0.143042</td>\n",
              "      <td>-0.087754</td>\n",
              "      <td>0.024841</td>\n",
              "    </tr>\n",
              "    <tr>\n",
              "      <th>zipcode</th>\n",
              "      <td>-0.054529</td>\n",
              "      <td>-0.101459</td>\n",
              "      <td>-0.023960</td>\n",
              "      <td>-0.114728</td>\n",
              "      <td>-0.062972</td>\n",
              "      <td>-0.016297</td>\n",
              "      <td>-0.072755</td>\n",
              "      <td>NaN</td>\n",
              "      <td>0.172420</td>\n",
              "      <td>0.034751</td>\n",
              "      <td>-0.109170</td>\n",
              "      <td>-0.108674</td>\n",
              "      <td>0.095906</td>\n",
              "      <td>-0.319742</td>\n",
              "      <td>0.148266</td>\n",
              "      <td>1.000000</td>\n",
              "      <td>0.167426</td>\n",
              "      <td>-0.636631</td>\n",
              "      <td>-0.190713</td>\n",
              "      <td>-0.012231</td>\n",
              "    </tr>\n",
              "    <tr>\n",
              "      <th>lat</th>\n",
              "      <td>-0.006927</td>\n",
              "      <td>0.428406</td>\n",
              "      <td>-0.169352</td>\n",
              "      <td>-0.332376</td>\n",
              "      <td>-0.292591</td>\n",
              "      <td>0.093797</td>\n",
              "      <td>-0.319137</td>\n",
              "      <td>NaN</td>\n",
              "      <td>-0.069781</td>\n",
              "      <td>0.075966</td>\n",
              "      <td>-0.177031</td>\n",
              "      <td>-0.365362</td>\n",
              "      <td>0.228329</td>\n",
              "      <td>-0.380379</td>\n",
              "      <td>0.089848</td>\n",
              "      <td>0.167426</td>\n",
              "      <td>1.000000</td>\n",
              "      <td>-0.257048</td>\n",
              "      <td>-0.255151</td>\n",
              "      <td>0.169428</td>\n",
              "    </tr>\n",
              "    <tr>\n",
              "      <th>long</th>\n",
              "      <td>0.081444</td>\n",
              "      <td>0.130931</td>\n",
              "      <td>0.041688</td>\n",
              "      <td>0.303403</td>\n",
              "      <td>0.183097</td>\n",
              "      <td>-0.085993</td>\n",
              "      <td>0.262242</td>\n",
              "      <td>NaN</td>\n",
              "      <td>-0.162292</td>\n",
              "      <td>-0.150339</td>\n",
              "      <td>0.159996</td>\n",
              "      <td>0.259926</td>\n",
              "      <td>-0.191593</td>\n",
              "      <td>0.460574</td>\n",
              "      <td>-0.143042</td>\n",
              "      <td>-0.636631</td>\n",
              "      <td>-0.257048</td>\n",
              "      <td>1.000000</td>\n",
              "      <td>0.284380</td>\n",
              "      <td>-0.124909</td>\n",
              "    </tr>\n",
              "    <tr>\n",
              "      <th>sqft_living15</th>\n",
              "      <td>0.033457</td>\n",
              "      <td>0.111396</td>\n",
              "      <td>0.076531</td>\n",
              "      <td>0.342640</td>\n",
              "      <td>0.472229</td>\n",
              "      <td>-0.061196</td>\n",
              "      <td>0.262554</td>\n",
              "      <td>NaN</td>\n",
              "      <td>0.017601</td>\n",
              "      <td>-0.191590</td>\n",
              "      <td>0.483439</td>\n",
              "      <td>0.413355</td>\n",
              "      <td>-0.094028</td>\n",
              "      <td>0.393350</td>\n",
              "      <td>-0.087754</td>\n",
              "      <td>-0.190713</td>\n",
              "      <td>-0.255151</td>\n",
              "      <td>0.284380</td>\n",
              "      <td>1.000000</td>\n",
              "      <td>-0.033926</td>\n",
              "    </tr>\n",
              "    <tr>\n",
              "      <th>sqft_lot15</th>\n",
              "      <td>0.079021</td>\n",
              "      <td>0.062684</td>\n",
              "      <td>-0.032805</td>\n",
              "      <td>-0.238411</td>\n",
              "      <td>-0.074922</td>\n",
              "      <td>0.743253</td>\n",
              "      <td>-0.238134</td>\n",
              "      <td>NaN</td>\n",
              "      <td>0.005856</td>\n",
              "      <td>0.128437</td>\n",
              "      <td>0.051556</td>\n",
              "      <td>-0.127387</td>\n",
              "      <td>0.111133</td>\n",
              "      <td>-0.174418</td>\n",
              "      <td>0.024841</td>\n",
              "      <td>-0.012231</td>\n",
              "      <td>0.169428</td>\n",
              "      <td>-0.124909</td>\n",
              "      <td>-0.033926</td>\n",
              "      <td>1.000000</td>\n",
              "    </tr>\n",
              "  </tbody>\n",
              "</table>\n",
              "</div>"
            ],
            "text/plain": [
              "                     id     price  ...  sqft_living15  sqft_lot15\n",
              "id             1.000000  0.113519  ...       0.033457    0.079021\n",
              "price          0.113519  1.000000  ...       0.111396    0.062684\n",
              "bedrooms      -0.035827 -0.023885  ...       0.076531   -0.032805\n",
              "bathrooms      0.002305 -0.043360  ...       0.342640   -0.238411\n",
              "sqft_living    0.022516  0.075542  ...       0.472229   -0.074922\n",
              "sqft_lot       0.034467 -0.007565  ...      -0.061196    0.743253\n",
              "floors        -0.029036 -0.052864  ...       0.262554   -0.238134\n",
              "waterfront          NaN       NaN  ...            NaN         NaN\n",
              "view           0.026781  0.011030  ...       0.017601    0.005856\n",
              "condition      0.018961  0.098920  ...      -0.191590    0.128437\n",
              "grade          0.026822  0.256971  ...       0.483439    0.051556\n",
              "sqft_above     0.012903  0.022368  ...       0.413355   -0.127387\n",
              "sqft_basement  0.006111  0.053075  ...      -0.094028    0.111133\n",
              "yr_built       0.008135 -0.174602  ...       0.393350   -0.174418\n",
              "yr_renovated  -0.018840  0.046950  ...      -0.087754    0.024841\n",
              "zipcode       -0.054529 -0.101459  ...      -0.190713   -0.012231\n",
              "lat           -0.006927  0.428406  ...      -0.255151    0.169428\n",
              "long           0.081444  0.130931  ...       0.284380   -0.124909\n",
              "sqft_living15  0.033457  0.111396  ...       1.000000   -0.033926\n",
              "sqft_lot15     0.079021  0.062684  ...      -0.033926    1.000000\n",
              "\n",
              "[20 rows x 20 columns]"
            ]
          },
          "metadata": {
            "tags": []
          },
          "execution_count": 19
        }
      ]
    },
    {
      "cell_type": "markdown",
      "metadata": {
        "id": "nLaF00yX6ePC"
      },
      "source": [
        "Due to the heatmap above the dataset without outliers is dropped in favour of the original dataset. This is due to the none integral data whilst the data is dropped. "
      ]
    },
    {
      "cell_type": "code",
      "metadata": {
        "colab": {
          "base_uri": "https://localhost:8080/",
          "height": 351
        },
        "id": "_13pL9kxUqRn",
        "outputId": "9274ecac-f85b-448f-c9d7-fcb96960323e"
      },
      "source": [
        "sns.heatmap(df.corr())"
      ],
      "execution_count": 20,
      "outputs": [
        {
          "output_type": "execute_result",
          "data": {
            "text/plain": [
              "<matplotlib.axes._subplots.AxesSubplot at 0x7f23f188b438>"
            ]
          },
          "metadata": {
            "tags": []
          },
          "execution_count": 20
        },
        {
          "output_type": "display_data",
          "data": {
            "image/png": "[encoded data removed]",
            "text/plain": [
              "<Figure size 432x288 with 2 Axes>"
            ]
          },
          "metadata": {
            "tags": [],
            "needs_background": "light"
          }
        }
      ]
    },
    {
      "cell_type": "code",
      "metadata": {
        "colab": {
          "base_uri": "https://localhost:8080/",
          "height": 677
        },
        "id": "ueynG-b3VkGm",
        "outputId": "b1a18f25-aecc-4f6d-c44f-9a2330f2c278"
      },
      "source": [
        "df.corr()"
      ],
      "execution_count": 21,
      "outputs": [
        {
          "output_type": "execute_result",
          "data": {
            "text/html": [
              "<div>\n",
              "<style scoped>\n",
              "    .dataframe tbody tr th:only-of-type {\n",
              "        vertical-align: middle;\n",
              "    }\n",
              "\n",
              "    .dataframe tbody tr th {\n",
              "        vertical-align: top;\n",
              "    }\n",
              "\n",
              "    .dataframe thead th {\n",
              "        text-align: right;\n",
              "    }\n",
              "</style>\n",
              "<table border=\"1\" class=\"dataframe\">\n",
              "  <thead>\n",
              "    <tr style=\"text-align: right;\">\n",
              "      <th></th>\n",
              "      <th>id</th>\n",
              "      <th>price</th>\n",
              "      <th>bedrooms</th>\n",
              "      <th>bathrooms</th>\n",
              "      <th>sqft_living</th>\n",
              "      <th>sqft_lot</th>\n",
              "      <th>floors</th>\n",
              "      <th>waterfront</th>\n",
              "      <th>view</th>\n",
              "      <th>condition</th>\n",
              "      <th>grade</th>\n",
              "      <th>sqft_above</th>\n",
              "      <th>sqft_basement</th>\n",
              "      <th>yr_built</th>\n",
              "      <th>yr_renovated</th>\n",
              "      <th>zipcode</th>\n",
              "      <th>lat</th>\n",
              "      <th>long</th>\n",
              "      <th>sqft_living15</th>\n",
              "      <th>sqft_lot15</th>\n",
              "    </tr>\n",
              "  </thead>\n",
              "  <tbody>\n",
              "    <tr>\n",
              "      <th>id</th>\n",
              "      <td>1.000000</td>\n",
              "      <td>-0.016803</td>\n",
              "      <td>0.001354</td>\n",
              "      <td>0.005093</td>\n",
              "      <td>-0.012239</td>\n",
              "      <td>-0.132101</td>\n",
              "      <td>0.018482</td>\n",
              "      <td>-0.002717</td>\n",
              "      <td>0.011785</td>\n",
              "      <td>-0.023686</td>\n",
              "      <td>0.008093</td>\n",
              "      <td>-0.010857</td>\n",
              "      <td>-0.005084</td>\n",
              "      <td>0.021218</td>\n",
              "      <td>-0.016688</td>\n",
              "      <td>-0.008129</td>\n",
              "      <td>-0.001861</td>\n",
              "      <td>0.020776</td>\n",
              "      <td>-0.002869</td>\n",
              "      <td>-0.138778</td>\n",
              "    </tr>\n",
              "    <tr>\n",
              "      <th>price</th>\n",
              "      <td>-0.016803</td>\n",
              "      <td>1.000000</td>\n",
              "      <td>0.308346</td>\n",
              "      <td>0.525140</td>\n",
              "      <td>0.702046</td>\n",
              "      <td>0.089658</td>\n",
              "      <td>0.256793</td>\n",
              "      <td>0.266332</td>\n",
              "      <td>0.397466</td>\n",
              "      <td>0.036397</td>\n",
              "      <td>0.667478</td>\n",
              "      <td>0.605569</td>\n",
              "      <td>0.323849</td>\n",
              "      <td>0.053980</td>\n",
              "      <td>0.126503</td>\n",
              "      <td>-0.053162</td>\n",
              "      <td>0.306922</td>\n",
              "      <td>0.021567</td>\n",
              "      <td>0.585382</td>\n",
              "      <td>0.082457</td>\n",
              "    </tr>\n",
              "    <tr>\n",
              "      <th>bedrooms</th>\n",
              "      <td>0.001354</td>\n",
              "      <td>0.308346</td>\n",
              "      <td>1.000000</td>\n",
              "      <td>0.515935</td>\n",
              "      <td>0.576674</td>\n",
              "      <td>0.031699</td>\n",
              "      <td>0.175448</td>\n",
              "      <td>-0.006583</td>\n",
              "      <td>0.079433</td>\n",
              "      <td>0.028422</td>\n",
              "      <td>0.357003</td>\n",
              "      <td>0.477619</td>\n",
              "      <td>0.303077</td>\n",
              "      <td>0.154276</td>\n",
              "      <td>0.018695</td>\n",
              "      <td>-0.152721</td>\n",
              "      <td>-0.008953</td>\n",
              "      <td>0.129474</td>\n",
              "      <td>0.391633</td>\n",
              "      <td>0.029233</td>\n",
              "    </tr>\n",
              "    <tr>\n",
              "      <th>bathrooms</th>\n",
              "      <td>0.005093</td>\n",
              "      <td>0.525140</td>\n",
              "      <td>0.515935</td>\n",
              "      <td>1.000000</td>\n",
              "      <td>0.754688</td>\n",
              "      <td>0.087750</td>\n",
              "      <td>0.500669</td>\n",
              "      <td>0.063747</td>\n",
              "      <td>0.187891</td>\n",
              "      <td>-0.124940</td>\n",
              "      <td>0.664990</td>\n",
              "      <td>0.685351</td>\n",
              "      <td>0.283814</td>\n",
              "      <td>0.505997</td>\n",
              "      <td>0.050879</td>\n",
              "      <td>-0.203831</td>\n",
              "      <td>0.024590</td>\n",
              "      <td>0.223047</td>\n",
              "      <td>0.568665</td>\n",
              "      <td>0.087191</td>\n",
              "    </tr>\n",
              "    <tr>\n",
              "      <th>sqft_living</th>\n",
              "      <td>-0.012239</td>\n",
              "      <td>0.702046</td>\n",
              "      <td>0.576674</td>\n",
              "      <td>0.754688</td>\n",
              "      <td>1.000000</td>\n",
              "      <td>0.172830</td>\n",
              "      <td>0.353954</td>\n",
              "      <td>0.103820</td>\n",
              "      <td>0.284641</td>\n",
              "      <td>-0.058768</td>\n",
              "      <td>0.762719</td>\n",
              "      <td>0.876600</td>\n",
              "      <td>0.435054</td>\n",
              "      <td>0.318099</td>\n",
              "      <td>0.055314</td>\n",
              "      <td>-0.199435</td>\n",
              "      <td>0.052521</td>\n",
              "      <td>0.240221</td>\n",
              "      <td>0.756420</td>\n",
              "      <td>0.183285</td>\n",
              "    </tr>\n",
              "    <tr>\n",
              "      <th>sqft_lot</th>\n",
              "      <td>-0.132101</td>\n",
              "      <td>0.089658</td>\n",
              "      <td>0.031699</td>\n",
              "      <td>0.087750</td>\n",
              "      <td>0.172830</td>\n",
              "      <td>1.000000</td>\n",
              "      <td>-0.005171</td>\n",
              "      <td>0.021601</td>\n",
              "      <td>0.074753</td>\n",
              "      <td>-0.008967</td>\n",
              "      <td>0.113644</td>\n",
              "      <td>0.183527</td>\n",
              "      <td>0.015271</td>\n",
              "      <td>0.053105</td>\n",
              "      <td>0.007677</td>\n",
              "      <td>-0.129611</td>\n",
              "      <td>-0.085680</td>\n",
              "      <td>0.229552</td>\n",
              "      <td>0.144620</td>\n",
              "      <td>0.718556</td>\n",
              "    </tr>\n",
              "    <tr>\n",
              "      <th>floors</th>\n",
              "      <td>0.018482</td>\n",
              "      <td>0.256793</td>\n",
              "      <td>0.175448</td>\n",
              "      <td>0.500669</td>\n",
              "      <td>0.353954</td>\n",
              "      <td>-0.005171</td>\n",
              "      <td>1.000000</td>\n",
              "      <td>0.023711</td>\n",
              "      <td>0.029325</td>\n",
              "      <td>-0.263779</td>\n",
              "      <td>0.458151</td>\n",
              "      <td>0.523874</td>\n",
              "      <td>-0.245673</td>\n",
              "      <td>0.489347</td>\n",
              "      <td>0.006156</td>\n",
              "      <td>-0.059025</td>\n",
              "      <td>0.049593</td>\n",
              "      <td>0.125343</td>\n",
              "      <td>0.279861</td>\n",
              "      <td>-0.011250</td>\n",
              "    </tr>\n",
              "    <tr>\n",
              "      <th>waterfront</th>\n",
              "      <td>-0.002717</td>\n",
              "      <td>0.266332</td>\n",
              "      <td>-0.006583</td>\n",
              "      <td>0.063747</td>\n",
              "      <td>0.103820</td>\n",
              "      <td>0.021601</td>\n",
              "      <td>0.023711</td>\n",
              "      <td>1.000000</td>\n",
              "      <td>0.401993</td>\n",
              "      <td>0.016652</td>\n",
              "      <td>0.082785</td>\n",
              "      <td>0.072080</td>\n",
              "      <td>0.080585</td>\n",
              "      <td>-0.026159</td>\n",
              "      <td>0.092950</td>\n",
              "      <td>0.030277</td>\n",
              "      <td>-0.014272</td>\n",
              "      <td>-0.041904</td>\n",
              "      <td>0.086469</td>\n",
              "      <td>0.030702</td>\n",
              "    </tr>\n",
              "    <tr>\n",
              "      <th>view</th>\n",
              "      <td>0.011785</td>\n",
              "      <td>0.397466</td>\n",
              "      <td>0.079433</td>\n",
              "      <td>0.187891</td>\n",
              "      <td>0.284641</td>\n",
              "      <td>0.074753</td>\n",
              "      <td>0.029325</td>\n",
              "      <td>0.401993</td>\n",
              "      <td>1.000000</td>\n",
              "      <td>0.045836</td>\n",
              "      <td>0.251378</td>\n",
              "      <td>0.167659</td>\n",
              "      <td>0.276996</td>\n",
              "      <td>-0.053229</td>\n",
              "      <td>0.103208</td>\n",
              "      <td>0.084838</td>\n",
              "      <td>0.006049</td>\n",
              "      <td>-0.078560</td>\n",
              "      <td>0.280404</td>\n",
              "      <td>0.072577</td>\n",
              "    </tr>\n",
              "    <tr>\n",
              "      <th>condition</th>\n",
              "      <td>-0.023686</td>\n",
              "      <td>0.036397</td>\n",
              "      <td>0.028422</td>\n",
              "      <td>-0.124940</td>\n",
              "      <td>-0.058768</td>\n",
              "      <td>-0.008967</td>\n",
              "      <td>-0.263779</td>\n",
              "      <td>0.016652</td>\n",
              "      <td>0.045836</td>\n",
              "      <td>1.000000</td>\n",
              "      <td>-0.144655</td>\n",
              "      <td>-0.158212</td>\n",
              "      <td>0.174071</td>\n",
              "      <td>-0.361347</td>\n",
              "      <td>-0.060862</td>\n",
              "      <td>0.002962</td>\n",
              "      <td>-0.014971</td>\n",
              "      <td>-0.106512</td>\n",
              "      <td>-0.092854</td>\n",
              "      <td>-0.003424</td>\n",
              "    </tr>\n",
              "    <tr>\n",
              "      <th>grade</th>\n",
              "      <td>0.008093</td>\n",
              "      <td>0.667478</td>\n",
              "      <td>0.357003</td>\n",
              "      <td>0.664990</td>\n",
              "      <td>0.762719</td>\n",
              "      <td>0.113644</td>\n",
              "      <td>0.458151</td>\n",
              "      <td>0.082785</td>\n",
              "      <td>0.251378</td>\n",
              "      <td>-0.144655</td>\n",
              "      <td>1.000000</td>\n",
              "      <td>0.755919</td>\n",
              "      <td>0.168443</td>\n",
              "      <td>0.446966</td>\n",
              "      <td>0.014372</td>\n",
              "      <td>-0.184795</td>\n",
              "      <td>0.114086</td>\n",
              "      <td>0.198347</td>\n",
              "      <td>0.713208</td>\n",
              "      <td>0.119265</td>\n",
              "    </tr>\n",
              "    <tr>\n",
              "      <th>sqft_above</th>\n",
              "      <td>-0.010857</td>\n",
              "      <td>0.605569</td>\n",
              "      <td>0.477619</td>\n",
              "      <td>0.685351</td>\n",
              "      <td>0.876600</td>\n",
              "      <td>0.183527</td>\n",
              "      <td>0.523874</td>\n",
              "      <td>0.072080</td>\n",
              "      <td>0.167659</td>\n",
              "      <td>-0.158212</td>\n",
              "      <td>0.755919</td>\n",
              "      <td>1.000000</td>\n",
              "      <td>-0.051923</td>\n",
              "      <td>0.423922</td>\n",
              "      <td>0.023233</td>\n",
              "      <td>-0.261163</td>\n",
              "      <td>-0.000823</td>\n",
              "      <td>0.343791</td>\n",
              "      <td>0.731870</td>\n",
              "      <td>0.194060</td>\n",
              "    </tr>\n",
              "    <tr>\n",
              "      <th>sqft_basement</th>\n",
              "      <td>-0.005084</td>\n",
              "      <td>0.323849</td>\n",
              "      <td>0.303077</td>\n",
              "      <td>0.283814</td>\n",
              "      <td>0.435054</td>\n",
              "      <td>0.015271</td>\n",
              "      <td>-0.245673</td>\n",
              "      <td>0.080585</td>\n",
              "      <td>0.276996</td>\n",
              "      <td>0.174071</td>\n",
              "      <td>0.168443</td>\n",
              "      <td>-0.051923</td>\n",
              "      <td>1.000000</td>\n",
              "      <td>-0.133062</td>\n",
              "      <td>0.071320</td>\n",
              "      <td>0.074781</td>\n",
              "      <td>0.110535</td>\n",
              "      <td>-0.144743</td>\n",
              "      <td>0.200367</td>\n",
              "      <td>0.017260</td>\n",
              "    </tr>\n",
              "    <tr>\n",
              "      <th>yr_built</th>\n",
              "      <td>0.021218</td>\n",
              "      <td>0.053980</td>\n",
              "      <td>0.154276</td>\n",
              "      <td>0.505997</td>\n",
              "      <td>0.318099</td>\n",
              "      <td>0.053105</td>\n",
              "      <td>0.489347</td>\n",
              "      <td>-0.026159</td>\n",
              "      <td>-0.053229</td>\n",
              "      <td>-0.361347</td>\n",
              "      <td>0.446966</td>\n",
              "      <td>0.423922</td>\n",
              "      <td>-0.133062</td>\n",
              "      <td>1.000000</td>\n",
              "      <td>-0.224729</td>\n",
              "      <td>-0.346808</td>\n",
              "      <td>-0.148099</td>\n",
              "      <td>0.409395</td>\n",
              "      <td>0.326298</td>\n",
              "      <td>0.070999</td>\n",
              "    </tr>\n",
              "    <tr>\n",
              "      <th>yr_renovated</th>\n",
              "      <td>-0.016688</td>\n",
              "      <td>0.126503</td>\n",
              "      <td>0.018695</td>\n",
              "      <td>0.050879</td>\n",
              "      <td>0.055314</td>\n",
              "      <td>0.007677</td>\n",
              "      <td>0.006156</td>\n",
              "      <td>0.092950</td>\n",
              "      <td>0.103208</td>\n",
              "      <td>-0.060862</td>\n",
              "      <td>0.014372</td>\n",
              "      <td>0.023233</td>\n",
              "      <td>0.071320</td>\n",
              "      <td>-0.224729</td>\n",
              "      <td>1.000000</td>\n",
              "      <td>0.064388</td>\n",
              "      <td>0.029271</td>\n",
              "      <td>-0.068594</td>\n",
              "      <td>-0.002841</td>\n",
              "      <td>0.007837</td>\n",
              "    </tr>\n",
              "    <tr>\n",
              "      <th>zipcode</th>\n",
              "      <td>-0.008129</td>\n",
              "      <td>-0.053162</td>\n",
              "      <td>-0.152721</td>\n",
              "      <td>-0.203831</td>\n",
              "      <td>-0.199435</td>\n",
              "      <td>-0.129611</td>\n",
              "      <td>-0.059025</td>\n",
              "      <td>0.030277</td>\n",
              "      <td>0.084838</td>\n",
              "      <td>0.002962</td>\n",
              "      <td>-0.184795</td>\n",
              "      <td>-0.261163</td>\n",
              "      <td>0.074781</td>\n",
              "      <td>-0.346808</td>\n",
              "      <td>0.064388</td>\n",
              "      <td>1.000000</td>\n",
              "      <td>0.267064</td>\n",
              "      <td>-0.564069</td>\n",
              "      <td>-0.279033</td>\n",
              "      <td>-0.147257</td>\n",
              "    </tr>\n",
              "    <tr>\n",
              "      <th>lat</th>\n",
              "      <td>-0.001861</td>\n",
              "      <td>0.306922</td>\n",
              "      <td>-0.008953</td>\n",
              "      <td>0.024590</td>\n",
              "      <td>0.052521</td>\n",
              "      <td>-0.085680</td>\n",
              "      <td>0.049593</td>\n",
              "      <td>-0.014272</td>\n",
              "      <td>0.006049</td>\n",
              "      <td>-0.014971</td>\n",
              "      <td>0.114086</td>\n",
              "      <td>-0.000823</td>\n",
              "      <td>0.110535</td>\n",
              "      <td>-0.148099</td>\n",
              "      <td>0.029271</td>\n",
              "      <td>0.267064</td>\n",
              "      <td>1.000000</td>\n",
              "      <td>-0.135545</td>\n",
              "      <td>0.048839</td>\n",
              "      <td>-0.086423</td>\n",
              "    </tr>\n",
              "    <tr>\n",
              "      <th>long</th>\n",
              "      <td>0.020776</td>\n",
              "      <td>0.021567</td>\n",
              "      <td>0.129474</td>\n",
              "      <td>0.223047</td>\n",
              "      <td>0.240221</td>\n",
              "      <td>0.229552</td>\n",
              "      <td>0.125343</td>\n",
              "      <td>-0.041904</td>\n",
              "      <td>-0.078560</td>\n",
              "      <td>-0.106512</td>\n",
              "      <td>0.198347</td>\n",
              "      <td>0.343791</td>\n",
              "      <td>-0.144743</td>\n",
              "      <td>0.409395</td>\n",
              "      <td>-0.068594</td>\n",
              "      <td>-0.564069</td>\n",
              "      <td>-0.135545</td>\n",
              "      <td>1.000000</td>\n",
              "      <td>0.334592</td>\n",
              "      <td>0.254475</td>\n",
              "    </tr>\n",
              "    <tr>\n",
              "      <th>sqft_living15</th>\n",
              "      <td>-0.002869</td>\n",
              "      <td>0.585382</td>\n",
              "      <td>0.391633</td>\n",
              "      <td>0.568665</td>\n",
              "      <td>0.756420</td>\n",
              "      <td>0.144620</td>\n",
              "      <td>0.279861</td>\n",
              "      <td>0.086469</td>\n",
              "      <td>0.280404</td>\n",
              "      <td>-0.092854</td>\n",
              "      <td>0.713208</td>\n",
              "      <td>0.731870</td>\n",
              "      <td>0.200367</td>\n",
              "      <td>0.326298</td>\n",
              "      <td>-0.002841</td>\n",
              "      <td>-0.279033</td>\n",
              "      <td>0.048839</td>\n",
              "      <td>0.334592</td>\n",
              "      <td>1.000000</td>\n",
              "      <td>0.183194</td>\n",
              "    </tr>\n",
              "    <tr>\n",
              "      <th>sqft_lot15</th>\n",
              "      <td>-0.138778</td>\n",
              "      <td>0.082457</td>\n",
              "      <td>0.029233</td>\n",
              "      <td>0.087191</td>\n",
              "      <td>0.183285</td>\n",
              "      <td>0.718556</td>\n",
              "      <td>-0.011250</td>\n",
              "      <td>0.030702</td>\n",
              "      <td>0.072577</td>\n",
              "      <td>-0.003424</td>\n",
              "      <td>0.119265</td>\n",
              "      <td>0.194060</td>\n",
              "      <td>0.017260</td>\n",
              "      <td>0.070999</td>\n",
              "      <td>0.007837</td>\n",
              "      <td>-0.147257</td>\n",
              "      <td>-0.086423</td>\n",
              "      <td>0.254475</td>\n",
              "      <td>0.183194</td>\n",
              "      <td>1.000000</td>\n",
              "    </tr>\n",
              "  </tbody>\n",
              "</table>\n",
              "</div>"
            ],
            "text/plain": [
              "                     id     price  ...  sqft_living15  sqft_lot15\n",
              "id             1.000000 -0.016803  ...      -0.002869   -0.138778\n",
              "price         -0.016803  1.000000  ...       0.585382    0.082457\n",
              "bedrooms       0.001354  0.308346  ...       0.391633    0.029233\n",
              "bathrooms      0.005093  0.525140  ...       0.568665    0.087191\n",
              "sqft_living   -0.012239  0.702046  ...       0.756420    0.183285\n",
              "sqft_lot      -0.132101  0.089658  ...       0.144620    0.718556\n",
              "floors         0.018482  0.256793  ...       0.279861   -0.011250\n",
              "waterfront    -0.002717  0.266332  ...       0.086469    0.030702\n",
              "view           0.011785  0.397466  ...       0.280404    0.072577\n",
              "condition     -0.023686  0.036397  ...      -0.092854   -0.003424\n",
              "grade          0.008093  0.667478  ...       0.713208    0.119265\n",
              "sqft_above    -0.010857  0.605569  ...       0.731870    0.194060\n",
              "sqft_basement -0.005084  0.323849  ...       0.200367    0.017260\n",
              "yr_built       0.021218  0.053980  ...       0.326298    0.070999\n",
              "yr_renovated  -0.016688  0.126503  ...      -0.002841    0.007837\n",
              "zipcode       -0.008129 -0.053162  ...      -0.279033   -0.147257\n",
              "lat           -0.001861  0.306922  ...       0.048839   -0.086423\n",
              "long           0.020776  0.021567  ...       0.334592    0.254475\n",
              "sqft_living15 -0.002869  0.585382  ...       1.000000    0.183194\n",
              "sqft_lot15    -0.138778  0.082457  ...       0.183194    1.000000\n",
              "\n",
              "[20 rows x 20 columns]"
            ]
          },
          "metadata": {
            "tags": []
          },
          "execution_count": 21
        }
      ]
    },
    {
      "cell_type": "markdown",
      "metadata": {
        "id": "jw-jZ6g_SANc"
      },
      "source": [
        "#EDA"
      ]
    },
    {
      "cell_type": "code",
      "metadata": {
        "id": "l_QFesFGSTYy"
      },
      "source": [
        "foreda = df.copy()"
      ],
      "execution_count": 22,
      "outputs": []
    },
    {
      "cell_type": "markdown",
      "metadata": {
        "id": "IOv5h8FT-KhL"
      },
      "source": [
        "Histograms are made to look at the distribution of properties within the descriptive data on the dataset."
      ]
    },
    {
      "cell_type": "code",
      "metadata": {
        "colab": {
          "base_uri": "https://localhost:8080/",
          "height": 607
        },
        "id": "DqXVAm0UTFPt",
        "outputId": "5f7695ab-92bd-4105-d8ac-af49c9fc9ed9"
      },
      "source": [
        "#data that is descriptive or corresponds to rate are defined within histograms \n",
        "#to give an overview of their popularity\n",
        "\n",
        "tohist = ['view', 'condition' , 'grade' , 'zipcode']\n",
        "\n",
        "plt.subplots(nrows = 2 , ncols= 2, figsize = (10,10))\n",
        "\n",
        "for g in range (0,len(tohist)):\n",
        "  plt.subplot(2,2,(g+1))\n",
        "  plt.hist(foreda[tohist[g]])\n",
        "  plt.title(tohist[g])"
      ],
      "execution_count": 23,
      "outputs": [
        {
          "output_type": "display_data",
          "data": {
            "image/png": "[encoded data removed]",
            "text/plain": [
              "<Figure size 720x720 with 4 Axes>"
            ]
          },
          "metadata": {
            "tags": [],
            "needs_background": "light"
          }
        }
      ]
    },
    {
      "cell_type": "markdown",
      "metadata": {
        "id": "gIQLBgmw9wfE"
      },
      "source": [
        "A view on the relationship of price to the other components of the dataset are looked at."
      ]
    },
    {
      "cell_type": "code",
      "metadata": {
        "colab": {
          "base_uri": "https://localhost:8080/"
        },
        "id": "XlvCYL7-7BWv",
        "outputId": "e35d16ae-2373-462c-98d3-9d9d6c8d23f5"
      },
      "source": [
        "bi = foreda.drop(columns= ['id', 'lat','long'], axis = 1)\n",
        "\n",
        "bi.columns"
      ],
      "execution_count": 32,
      "outputs": [
        {
          "output_type": "execute_result",
          "data": {
            "text/plain": [
              "Index(['price', 'bedrooms', 'bathrooms', 'sqft_living', 'sqft_lot', 'floors',\n",
              "       'waterfront', 'view', 'condition', 'grade', 'sqft_above',\n",
              "       'sqft_basement', 'yr_built', 'yr_renovated', 'zipcode', 'sqft_living15',\n",
              "       'sqft_lot15'],\n",
              "      dtype='object')"
            ]
          },
          "metadata": {
            "tags": []
          },
          "execution_count": 32
        }
      ]
    },
    {
      "cell_type": "code",
      "metadata": {
        "colab": {
          "base_uri": "https://localhost:8080/",
          "height": 1000
        },
        "id": "w9ZbmY3F8AsQ",
        "outputId": "647c7dac-552e-479e-f25d-41ffaf055f0a"
      },
      "source": [
        "tobi = bi.columns\n",
        "plt.subplots(nrows = 6 , ncols= 3, figsize = (15,30))\n",
        "for g in range (1,len(tobi)):\n",
        "  plt.subplot(6,3,(g))\n",
        "  plt.scatter(bi['price'] , bi[tobi[g]])\n",
        "  plt.title(tobi[g])"
      ],
      "execution_count": 34,
      "outputs": [
        {
          "output_type": "display_data",
          "data": {
            "image/png": "[encoded data removed]",
            "text/plain": [
              "<Figure size 1080x2160 with 18 Axes>"
            ]
          },
          "metadata": {
            "tags": [],
            "needs_background": "light"
          }
        }
      ]
    },
    {
      "cell_type": "markdown",
      "metadata": {
        "id": "vRpGLyq-prCE"
      },
      "source": [
        "#REGRESSION ANALYSIS"
      ]
    },
    {
      "cell_type": "code",
      "metadata": {
        "id": "n9iJ9raNtQbi"
      },
      "source": [
        "forreg = cleaned1.copy()"
      ],
      "execution_count": null,
      "outputs": []
    },
    {
      "cell_type": "code",
      "metadata": {
        "id": "1T5L4OSX63w-"
      },
      "source": [
        "rc = forreg.columns[2:]"
      ],
      "execution_count": null,
      "outputs": []
    },
    {
      "cell_type": "markdown",
      "metadata": {
        "id": "3BoEZjlWMhN4"
      },
      "source": [
        "##Mutiple regression"
      ]
    },
    {
      "cell_type": "code",
      "metadata": {
        "id": "LpqXL_1E50p7"
      },
      "source": [
        "y = forreg['price']\n",
        "x = forreg[rc]"
      ],
      "execution_count": null,
      "outputs": []
    },
    {
      "cell_type": "code",
      "metadata": {
        "colab": {
          "base_uri": "https://localhost:8080/"
        },
        "id": "XlkSEJIH5zfE",
        "outputId": "6215cee0-05a4-4cc7-9888-122f61c0611f"
      },
      "source": [
        "from sklearn.linear_model import LinearRegression\n",
        "\n",
        "model1 = LinearRegression(fit_intercept = True, normalize = False)\n",
        "model1.fit(x, y)\n",
        "\n",
        "y_pred1 = model1.predict(x)\n",
        "\n",
        "print(\"Mean squared error: {0:.2f}\"\n",
        "      .format(np.mean((y_pred1 - y) ** 2)))\n",
        "print('Variance score: {0:.2f}'.format(model1.score(x, y)))"
      ],
      "execution_count": null,
      "outputs": [
        {
          "output_type": "stream",
          "text": [
            "Mean squared error: 4521578650.43\n",
            "Variance score: 0.43\n"
          ],
          "name": "stdout"
        }
      ]
    },
    {
      "cell_type": "markdown",
      "metadata": {
        "id": "lXRKQMHtCaZq"
      },
      "source": [
        "##Quantile Regression"
      ]
    },
    {
      "cell_type": "code",
      "metadata": {
        "colab": {
          "base_uri": "https://localhost:8080/"
        },
        "id": "Iv0-xPaso9Oq",
        "outputId": "5ac693bd-0ff9-4d5b-977b-3fdec7392a91"
      },
      "source": [
        "import statsmodels.formula.api as smf"
      ],
      "execution_count": null,
      "outputs": [
        {
          "output_type": "stream",
          "text": [
            "/usr/local/lib/python3.6/dist-packages/statsmodels/tools/_testing.py:19: FutureWarning: pandas.util.testing is deprecated. Use the functions in the public API at pandas.testing instead.\n",
            "  import pandas.util.testing as tm\n"
          ],
          "name": "stderr"
        }
      ]
    },
    {
      "cell_type": "code",
      "metadata": {
        "id": "av-te0a6r_s6"
      },
      "source": [
        "data = sm.datasets.engel.load_pandas().data\n",
        "data = sm.add_constant(forreg)"
      ],
      "execution_count": null,
      "outputs": []
    },
    {
      "cell_type": "code",
      "metadata": {
        "id": "Wcx0fV35prC_"
      },
      "source": [
        "yq = forreg['price']\n",
        "xq = pd.DataFrame.to_numpy(forreg[rc])"
      ],
      "execution_count": null,
      "outputs": []
    },
    {
      "cell_type": "code",
      "metadata": {
        "colab": {
          "base_uri": "https://localhost:8080/"
        },
        "id": "EaQSYdXNpDbO",
        "outputId": "b69376ca-ff97-49ce-a068-ff7498e31749"
      },
      "source": [
        "mod = smf.quantreg('price ~ sqft_lot15', forreg)\n",
        "res = mod.fit(q= .5)\n",
        "print (res.summary())"
      ],
      "execution_count": null,
      "outputs": [
        {
          "output_type": "stream",
          "text": [
            "                         QuantReg Regression Results                          \n",
            "==============================================================================\n",
            "Dep. Variable:                  price   Pseudo R-squared:            0.0007397\n",
            "Model:                       QuantReg   Bandwidth:                   4.767e+04\n",
            "Method:                 Least Squares   Sparsity:                    2.810e+05\n",
            "Date:                Mon, 23 Nov 2020   No. Observations:                  781\n",
            "Time:                        10:57:12   Df Residuals:                      779\n",
            "                                        Df Model:                            1\n",
            "==============================================================================\n",
            "                 coef    std err          t      P>|t|      [0.025      0.975]\n",
            "------------------------------------------------------------------------------\n",
            "Intercept   4.162e+05   3.26e+04     12.752      0.000    3.52e+05     4.8e+05\n",
            "sqft_lot15     3.4647      4.139      0.837      0.403      -4.661      11.590\n",
            "==============================================================================\n",
            "\n",
            "The condition number is large, 5.12e+04. This might indicate that there are\n",
            "strong multicollinearity or other numerical problems.\n"
          ],
          "name": "stdout"
        }
      ]
    },
    {
      "cell_type": "code",
      "metadata": {
        "id": "GrrsgCcNpHyg"
      },
      "source": [
        "quantiles = np.arange(0.1,1,0.1) \n",
        "models = []\n",
        "params = []"
      ],
      "execution_count": null,
      "outputs": []
    },
    {
      "cell_type": "code",
      "metadata": {
        "colab": {
          "base_uri": "https://localhost:8080/"
        },
        "id": "9pIAWarSwQCF",
        "outputId": "b70a1484-1e60-4373-d374-49bbdbbfb589"
      },
      "source": [
        "for qt in quantiles: \n",
        "\tres = mod.fit(q = qt )\n",
        "\tmodels.append(res)\n",
        "\tparams.append([qt, res.params['Intercept'], res.params['sqft_lot15']] + res.conf_int().loc['sqft_lot15'].tolist())"
      ],
      "execution_count": null,
      "outputs": [
        {
          "output_type": "stream",
          "text": [
            "/usr/local/lib/python3.6/dist-packages/statsmodels/regression/quantile_regression.py:192: IterationLimitWarning: Maximum number of iterations (1000) reached.\n",
            "  \") reached.\", IterationLimitWarning)\n",
            "/usr/local/lib/python3.6/dist-packages/statsmodels/regression/quantile_regression.py:192: IterationLimitWarning: Maximum number of iterations (1000) reached.\n",
            "  \") reached.\", IterationLimitWarning)\n",
            "/usr/local/lib/python3.6/dist-packages/statsmodels/regression/quantile_regression.py:192: IterationLimitWarning: Maximum number of iterations (1000) reached.\n",
            "  \") reached.\", IterationLimitWarning)\n",
            "/usr/local/lib/python3.6/dist-packages/statsmodels/regression/quantile_regression.py:192: IterationLimitWarning: Maximum number of iterations (1000) reached.\n",
            "  \") reached.\", IterationLimitWarning)\n"
          ],
          "name": "stderr"
        }
      ]
    },
    {
      "cell_type": "code",
      "metadata": {
        "colab": {
          "base_uri": "https://localhost:8080/"
        },
        "id": "MYWYEMNswTHE",
        "outputId": "90cb5f14-cae9-4382-870a-4995aaabc2bd"
      },
      "source": [
        "params = pd.DataFrame(data = params, columns = ['qt', 'intercept', 'x_coef', 'cf_lower_bound', 'cf_upper_bound'])\n",
        "print(params)"
      ],
      "execution_count": null,
      "outputs": [
        {
          "output_type": "stream",
          "text": [
            "    qt      intercept     x_coef  cf_lower_bound  cf_upper_bound\n",
            "0  0.1       0.005155  41.866766       33.678445       50.055086\n",
            "1  0.2  315307.224780   6.076975        0.628624       11.525326\n",
            "2  0.3  342570.810382   5.704170       -1.503127       12.911467\n",
            "3  0.4  378294.491493   5.296610       -2.707850       13.301071\n",
            "4  0.5  416235.166763   3.464703       -4.661053       11.590460\n",
            "5  0.6  404430.693711   8.736911       -0.537313       18.011135\n",
            "6  0.7  455437.308060   7.136405       -2.020777       16.293587\n",
            "7  0.8  269483.206362  31.395855       22.254008       40.537702\n",
            "8  0.9  556813.368388   3.309067       -5.307357       11.925491\n"
          ],
          "name": "stdout"
        }
      ]
    },
    {
      "cell_type": "markdown",
      "metadata": {
        "id": "3Lw5YnoHBAXm"
      },
      "source": [
        "##Ridge Regression"
      ]
    },
    {
      "cell_type": "code",
      "metadata": {
        "id": "IRZo8hQmBN6Z"
      },
      "source": [
        "yrid = forreg['price']\n",
        "xrid = forreg[rc]"
      ],
      "execution_count": null,
      "outputs": []
    },
    {
      "cell_type": "code",
      "metadata": {
        "colab": {
          "base_uri": "https://localhost:8080/"
        },
        "id": "pOWxBZmlBDme",
        "outputId": "13c37c74-a4ff-485e-bb17-358261c255cc"
      },
      "source": [
        "regression = LinearRegression()\n",
        "regression.fit(xrid,yrid)\n",
        "first_model = (mean_squared_error(y_true=yrid,y_pred=regression.predict(xrid)))\n",
        "print(first_model)"
      ],
      "execution_count": null,
      "outputs": [
        {
          "output_type": "stream",
          "text": [
            "4521578650.433603\n"
          ],
          "name": "stdout"
        }
      ]
    },
    {
      "cell_type": "code",
      "metadata": {
        "id": "TX8i8txgk71p"
      },
      "source": [
        "coef_dict_baseline = {}\n",
        "for coef, feat in zip(regression.coef_,forreg.columns):\n",
        "    coef_dict_baseline[feat] = [coef]\n",
        "linearco = pd.DataFrame(coef_dict_baseline).T"
      ],
      "execution_count": null,
      "outputs": []
    },
    {
      "cell_type": "code",
      "metadata": {
        "id": "WPKrJ9KBBsTM"
      },
      "source": [
        "ridge = Ridge(normalize=True)\n",
        "search = GridSearchCV(estimator=ridge,param_grid={'alpha':np.logspace(-5,2,8)},scoring='neg_mean_squared_error',n_jobs=1,refit=True,cv=10)"
      ],
      "execution_count": null,
      "outputs": []
    },
    {
      "cell_type": "code",
      "metadata": {
        "colab": {
          "base_uri": "https://localhost:8080/"
        },
        "id": "IHV7w5QrB2Uh",
        "outputId": "d44c8a15-6077-45c0-ea1e-6c7fd04f175c"
      },
      "source": [
        "search.fit(xrid,yrid)\n",
        "search.best_params_\n",
        "{'alpha': 0.01}\n",
        "abs(search.best_score_) "
      ],
      "execution_count": null,
      "outputs": [
        {
          "output_type": "execute_result",
          "data": {
            "text/plain": [
              "4719020677.494583"
            ]
          },
          "metadata": {
            "tags": []
          },
          "execution_count": 126
        }
      ]
    },
    {
      "cell_type": "code",
      "metadata": {
        "colab": {
          "base_uri": "https://localhost:8080/"
        },
        "id": "1Jxow2V7B_pq",
        "outputId": "5d89f3b5-147b-46c5-cefb-0167e8f7efc5"
      },
      "source": [
        "ridge = Ridge(normalize=True,alpha=0.01)\n",
        "ridge.fit(xrid,yrid)\n",
        "second_model = (mean_squared_error(y_true=yrid,y_pred=ridge.predict(xrid)))\n",
        "print(second_model)\n",
        "\n",
        "ridgemse = second_model"
      ],
      "execution_count": null,
      "outputs": [
        {
          "output_type": "stream",
          "text": [
            "4522311404.548369\n"
          ],
          "name": "stdout"
        }
      ]
    },
    {
      "cell_type": "code",
      "metadata": {
        "id": "nuinGvqzj5bl"
      },
      "source": [
        "coef_dict_baseline = {}\n",
        "for coef, feat in zip(ridge.coef_,forreg.columns):\n",
        "    coef_dict_baseline[feat] = [coef]\n",
        "coef_dict_baseline\n",
        "ridgeco = pd.DataFrame(coef_dict_baseline).T"
      ],
      "execution_count": null,
      "outputs": []
    },
    {
      "cell_type": "code",
      "metadata": {
        "colab": {
          "base_uri": "https://localhost:8080/",
          "height": 614
        },
        "id": "KXKxuyUFUCql",
        "outputId": "933cd66a-edeb-42e8-d121-ccba9723d98a"
      },
      "source": [
        "ridgeco"
      ],
      "execution_count": null,
      "outputs": [
        {
          "output_type": "execute_result",
          "data": {
            "text/html": [
              "<div>\n",
              "<style scoped>\n",
              "    .dataframe tbody tr th:only-of-type {\n",
              "        vertical-align: middle;\n",
              "    }\n",
              "\n",
              "    .dataframe tbody tr th {\n",
              "        vertical-align: top;\n",
              "    }\n",
              "\n",
              "    .dataframe thead th {\n",
              "        text-align: right;\n",
              "    }\n",
              "</style>\n",
              "<table border=\"1\" class=\"dataframe\">\n",
              "  <thead>\n",
              "    <tr style=\"text-align: right;\">\n",
              "      <th></th>\n",
              "      <th>0</th>\n",
              "    </tr>\n",
              "  </thead>\n",
              "  <tbody>\n",
              "    <tr>\n",
              "      <th>id</th>\n",
              "      <td>2602.888623</td>\n",
              "    </tr>\n",
              "    <tr>\n",
              "      <th>price</th>\n",
              "      <td>15372.308569</td>\n",
              "    </tr>\n",
              "    <tr>\n",
              "      <th>bedrooms</th>\n",
              "      <td>32.905539</td>\n",
              "    </tr>\n",
              "    <tr>\n",
              "      <th>bathrooms</th>\n",
              "      <td>-5.292091</td>\n",
              "    </tr>\n",
              "    <tr>\n",
              "      <th>sqft_living</th>\n",
              "      <td>3053.860228</td>\n",
              "    </tr>\n",
              "    <tr>\n",
              "      <th>sqft_lot</th>\n",
              "      <td>0.000000</td>\n",
              "    </tr>\n",
              "    <tr>\n",
              "      <th>floors</th>\n",
              "      <td>15903.058274</td>\n",
              "    </tr>\n",
              "    <tr>\n",
              "      <th>waterfront</th>\n",
              "      <td>15475.740024</td>\n",
              "    </tr>\n",
              "    <tr>\n",
              "      <th>view</th>\n",
              "      <td>50751.068154</td>\n",
              "    </tr>\n",
              "    <tr>\n",
              "      <th>condition</th>\n",
              "      <td>12.658874</td>\n",
              "    </tr>\n",
              "    <tr>\n",
              "      <th>grade</th>\n",
              "      <td>13.869883</td>\n",
              "    </tr>\n",
              "    <tr>\n",
              "      <th>sqft_above</th>\n",
              "      <td>-1412.593349</td>\n",
              "    </tr>\n",
              "    <tr>\n",
              "      <th>sqft_basement</th>\n",
              "      <td>-2.355305</td>\n",
              "    </tr>\n",
              "    <tr>\n",
              "      <th>yr_built</th>\n",
              "      <td>-116.447633</td>\n",
              "    </tr>\n",
              "    <tr>\n",
              "      <th>yr_renovated</th>\n",
              "      <td>345411.196438</td>\n",
              "    </tr>\n",
              "    <tr>\n",
              "      <th>zipcode</th>\n",
              "      <td>204802.743590</td>\n",
              "    </tr>\n",
              "    <tr>\n",
              "      <th>lat</th>\n",
              "      <td>19.116369</td>\n",
              "    </tr>\n",
              "    <tr>\n",
              "      <th>long</th>\n",
              "      <td>0.730058</td>\n",
              "    </tr>\n",
              "  </tbody>\n",
              "</table>\n",
              "</div>"
            ],
            "text/plain": [
              "                           0\n",
              "id               2602.888623\n",
              "price           15372.308569\n",
              "bedrooms           32.905539\n",
              "bathrooms          -5.292091\n",
              "sqft_living      3053.860228\n",
              "sqft_lot            0.000000\n",
              "floors          15903.058274\n",
              "waterfront      15475.740024\n",
              "view            50751.068154\n",
              "condition          12.658874\n",
              "grade              13.869883\n",
              "sqft_above      -1412.593349\n",
              "sqft_basement      -2.355305\n",
              "yr_built         -116.447633\n",
              "yr_renovated   345411.196438\n",
              "zipcode        204802.743590\n",
              "lat                19.116369\n",
              "long                0.730058"
            ]
          },
          "metadata": {
            "tags": []
          },
          "execution_count": 158
        }
      ]
    },
    {
      "cell_type": "markdown",
      "metadata": {
        "id": "agZzw0XMFEuj"
      },
      "source": [
        "##Lasso Regression"
      ]
    },
    {
      "cell_type": "code",
      "metadata": {
        "id": "algN2VfzFM59"
      },
      "source": [
        "from sklearn.linear_model import Lasso\n",
        "from sklearn import linear_model\n",
        "from sklearn.preprocessing import StandardScaler\n",
        "from sklearn.model_selection import train_test_split"
      ],
      "execution_count": null,
      "outputs": []
    },
    {
      "cell_type": "code",
      "metadata": {
        "id": "brv46iZqFXNW"
      },
      "source": [
        "ylas = forreg['price']\n",
        "xlas = forreg[rc]"
      ],
      "execution_count": null,
      "outputs": []
    },
    {
      "cell_type": "code",
      "metadata": {
        "id": "Y0FhpwO5Fb-s"
      },
      "source": [
        "scaler = StandardScaler()\n",
        "xlasstd = scaler.fit_transform(xlas)"
      ],
      "execution_count": null,
      "outputs": []
    },
    {
      "cell_type": "code",
      "metadata": {
        "id": "Z4DisFb3F1_p"
      },
      "source": [
        "lasso = linear_model.Lasso()"
      ],
      "execution_count": null,
      "outputs": []
    },
    {
      "cell_type": "code",
      "metadata": {
        "colab": {
          "base_uri": "https://localhost:8080/"
        },
        "id": "oXYsVEBQGPe8",
        "outputId": "fd9bf93c-f758-45a8-f7bc-e78ec886a512"
      },
      "source": [
        "lasso.fit(xlasstd, ylas)"
      ],
      "execution_count": null,
      "outputs": [
        {
          "output_type": "stream",
          "text": [
            "/usr/local/lib/python3.6/dist-packages/sklearn/linear_model/_coordinate_descent.py:476: ConvergenceWarning: Objective did not converge. You might want to increase the number of iterations. Duality gap: 133986225907.92627, tolerance: 619444361.3444763\n",
            "  positive)\n"
          ],
          "name": "stderr"
        },
        {
          "output_type": "execute_result",
          "data": {
            "text/plain": [
              "Lasso(alpha=1.0, copy_X=True, fit_intercept=True, max_iter=1000,\n",
              "      normalize=False, positive=False, precompute=False, random_state=None,\n",
              "      selection='cyclic', tol=0.0001, warm_start=False)"
            ]
          },
          "metadata": {
            "tags": []
          },
          "execution_count": 133
        }
      ]
    },
    {
      "cell_type": "code",
      "metadata": {
        "colab": {
          "base_uri": "https://localhost:8080/"
        },
        "id": "um04C4tHGWBc",
        "outputId": "10409541-70dd-4464-fd6a-594fe0418552"
      },
      "source": [
        "print(\"lasso score:\", lasso.score(xlas, ylas)) \n",
        "print(\"lasso MSE:\", mean_squared_error(ylas, lasso.predict(xlas))) \n",
        "print(\"lasso coef:\", lasso.coef_) "
      ],
      "execution_count": null,
      "outputs": [
        {
          "output_type": "stream",
          "text": [
            "lasso score: -52518032.18751373\n",
            "lasso MSE: 4.165428876684693e+17\n",
            "lasso coef: [  1319.25644918   4978.32671414  14039.00730635  -7164.22749778\n",
            "   1587.14975329      0.           4848.73157806   9506.65872598\n",
            "  30148.74086552  -5393.79349821  -3224.97075403 -26667.60341685\n",
            "   -869.64261182  -5784.73103928  47063.72736538  24163.001151\n",
            "   4193.75687622    919.95679736]\n"
          ],
          "name": "stdout"
        }
      ]
    },
    {
      "cell_type": "code",
      "metadata": {
        "id": "lE3iOClsGgBa"
      },
      "source": [
        "X_train, X_test, y_train, y_test = train_test_split(xlas, ylas, test_size=0.2, random_state=101)\n",
        "parameters = {'alpha': np.concatenate((np.arange(0.1,2,0.1), np.arange(2, 5, 0.5), np.arange(5, 25, 1)))}\n",
        "\n",
        "linear = linear_model.LinearRegression()\n",
        "lasso = linear_model.Lasso() \n",
        "gridlasso = GridSearchCV(lasso, parameters, scoring ='r2') "
      ],
      "execution_count": null,
      "outputs": []
    },
    {
      "cell_type": "code",
      "metadata": {
        "colab": {
          "base_uri": "https://localhost:8080/"
        },
        "id": "GVL2AlTIHW5w",
        "outputId": "7b3b8b15-23be-47bc-9867-250c38f8eab8"
      },
      "source": [
        "gridlasso.fit(X_train, y_train) \n",
        "lasso.fit(X_train, y_train) \n",
        "second_model=(mean_squared_error(y_true=yen,y_pred=lasso.predict(xen)))\n",
        "print(second_model)\n",
        "\n",
        "lassomse = second_model"
      ],
      "execution_count": null,
      "outputs": [
        {
          "output_type": "stream",
          "text": [
            "4532240258.133044\n"
          ],
          "name": "stdout"
        }
      ]
    },
    {
      "cell_type": "markdown",
      "metadata": {
        "id": "cjtdAhgbCVrB"
      },
      "source": [
        "##Elastic Net Regression"
      ]
    },
    {
      "cell_type": "code",
      "metadata": {
        "id": "ZZFo4_bhJcsY"
      },
      "source": [
        "from sklearn.model_selection import GridSearchCV\n",
        "from sklearn.linear_model import ElasticNet\n",
        "from sklearn.linear_model import LinearRegression\n",
        "from sklearn.metrics import mean_squared_error"
      ],
      "execution_count": null,
      "outputs": []
    },
    {
      "cell_type": "code",
      "metadata": {
        "id": "yMyDiLy3JnxV"
      },
      "source": [
        "yen = forreg['price']\n",
        "xen = forreg[rc]"
      ],
      "execution_count": null,
      "outputs": []
    },
    {
      "cell_type": "code",
      "metadata": {
        "colab": {
          "base_uri": "https://localhost:8080/"
        },
        "id": "UilDABfoJkIi",
        "outputId": "3ed567f4-f3dc-45c4-d2f8-a4b6bf59e679"
      },
      "source": [
        "regression=LinearRegression()\n",
        "regression.fit(xen,yen)\n",
        "first_model=(mean_squared_error(y_true=yen,y_pred=regression.predict(xen)))\n",
        "print(first_model) "
      ],
      "execution_count": null,
      "outputs": [
        {
          "output_type": "stream",
          "text": [
            "4521578650.433603\n"
          ],
          "name": "stdout"
        }
      ]
    },
    {
      "cell_type": "code",
      "metadata": {
        "id": "lCbzQx9hJ1NI"
      },
      "source": [
        "coef_dict_baseline = {}\n",
        "for coef, feat in zip(regression.coef_,xen.columns):\n",
        "    coef_dict_baseline[feat] = [coef]\n",
        "linearco = pd.DataFrame(coef_dict_baseline).T"
      ],
      "execution_count": null,
      "outputs": []
    },
    {
      "cell_type": "code",
      "metadata": {
        "id": "rrIlwr6DKC1K"
      },
      "source": [
        "elastic=ElasticNet(normalize=True)\n",
        "search=GridSearchCV(estimator=elastic,param_grid={'alpha':np.logspace(-5,2,8),'l1_ratio':[.2,.4,.6,.8]},scoring='neg_mean_squared_error',n_jobs=1,refit=True,cv=10)"
      ],
      "execution_count": null,
      "outputs": []
    },
    {
      "cell_type": "code",
      "metadata": {
        "colab": {
          "base_uri": "https://localhost:8080/"
        },
        "id": "k0NDKxvxKF1p",
        "outputId": "2f2ed2aa-1322-4e5b-bd4a-021b4d76ce51"
      },
      "source": [
        "search.fit(xen,yen)\n",
        "search.best_params_\n",
        "abs(search.best_score_)"
      ],
      "execution_count": null,
      "outputs": [
        {
          "output_type": "stream",
          "text": [
            "/usr/local/lib/python3.6/dist-packages/sklearn/linear_model/_coordinate_descent.py:476: ConvergenceWarning: Objective did not converge. You might want to increase the number of iterations. Duality gap: 1446991028161.8062, tolerance: 554273000.5841261\n",
            "  positive)\n",
            "/usr/local/lib/python3.6/dist-packages/sklearn/linear_model/_coordinate_descent.py:476: ConvergenceWarning: Objective did not converge. You might want to increase the number of iterations. Duality gap: 1466432821723.9644, tolerance: 557562665.8935431\n",
            "  positive)\n",
            "/usr/local/lib/python3.6/dist-packages/sklearn/linear_model/_coordinate_descent.py:476: ConvergenceWarning: Objective did not converge. You might want to increase the number of iterations. Duality gap: 1438264345691.5537, tolerance: 560026998.2405806\n",
            "  positive)\n",
            "/usr/local/lib/python3.6/dist-packages/sklearn/linear_model/_coordinate_descent.py:476: ConvergenceWarning: Objective did not converge. You might want to increase the number of iterations. Duality gap: 1475476223468.6963, tolerance: 554384429.9362457\n",
            "  positive)\n",
            "/usr/local/lib/python3.6/dist-packages/sklearn/linear_model/_coordinate_descent.py:476: ConvergenceWarning: Objective did not converge. You might want to increase the number of iterations. Duality gap: 1465152514057.9963, tolerance: 552865779.936386\n",
            "  positive)\n",
            "/usr/local/lib/python3.6/dist-packages/sklearn/linear_model/_coordinate_descent.py:476: ConvergenceWarning: Objective did not converge. You might want to increase the number of iterations. Duality gap: 1437455136512.5732, tolerance: 563749404.0900803\n",
            "  positive)\n",
            "/usr/local/lib/python3.6/dist-packages/sklearn/linear_model/_coordinate_descent.py:476: ConvergenceWarning: Objective did not converge. You might want to increase the number of iterations. Duality gap: 1477983042446.8435, tolerance: 560518010.574607\n",
            "  positive)\n",
            "/usr/local/lib/python3.6/dist-packages/sklearn/linear_model/_coordinate_descent.py:476: ConvergenceWarning: Objective did not converge. You might want to increase the number of iterations. Duality gap: 1441432284709.3323, tolerance: 551490508.8156881\n",
            "  positive)\n",
            "/usr/local/lib/python3.6/dist-packages/sklearn/linear_model/_coordinate_descent.py:476: ConvergenceWarning: Objective did not converge. You might want to increase the number of iterations. Duality gap: 1452394889015.3975, tolerance: 559527529.5274891\n",
            "  positive)\n",
            "/usr/local/lib/python3.6/dist-packages/sklearn/linear_model/_coordinate_descent.py:476: ConvergenceWarning: Objective did not converge. You might want to increase the number of iterations. Duality gap: 1439673744658.0786, tolerance: 560008993.7070758\n",
            "  positive)\n",
            "/usr/local/lib/python3.6/dist-packages/sklearn/linear_model/_coordinate_descent.py:476: ConvergenceWarning: Objective did not converge. You might want to increase the number of iterations. Duality gap: 1569695586699.383, tolerance: 554273000.5841261\n",
            "  positive)\n",
            "/usr/local/lib/python3.6/dist-packages/sklearn/linear_model/_coordinate_descent.py:476: ConvergenceWarning: Objective did not converge. You might want to increase the number of iterations. Duality gap: 1579428659482.954, tolerance: 557562665.8935431\n",
            "  positive)\n",
            "/usr/local/lib/python3.6/dist-packages/sklearn/linear_model/_coordinate_descent.py:476: ConvergenceWarning: Objective did not converge. You might want to increase the number of iterations. Duality gap: 1550482162617.8687, tolerance: 560026998.2405806\n",
            "  positive)\n",
            "/usr/local/lib/python3.6/dist-packages/sklearn/linear_model/_coordinate_descent.py:476: ConvergenceWarning: Objective did not converge. You might want to increase the number of iterations. Duality gap: 1586910384972.4238, tolerance: 554384429.9362457\n",
            "  positive)\n",
            "/usr/local/lib/python3.6/dist-packages/sklearn/linear_model/_coordinate_descent.py:476: ConvergenceWarning: Objective did not converge. You might want to increase the number of iterations. Duality gap: 1572476181031.2314, tolerance: 552865779.936386\n",
            "  positive)\n",
            "/usr/local/lib/python3.6/dist-packages/sklearn/linear_model/_coordinate_descent.py:476: ConvergenceWarning: Objective did not converge. You might want to increase the number of iterations. Duality gap: 1538294801718.4072, tolerance: 563749404.0900803\n",
            "  positive)\n",
            "/usr/local/lib/python3.6/dist-packages/sklearn/linear_model/_coordinate_descent.py:476: ConvergenceWarning: Objective did not converge. You might want to increase the number of iterations. Duality gap: 1599562142045.6929, tolerance: 560518010.574607\n",
            "  positive)\n",
            "/usr/local/lib/python3.6/dist-packages/sklearn/linear_model/_coordinate_descent.py:476: ConvergenceWarning: Objective did not converge. You might want to increase the number of iterations. Duality gap: 1549636238797.2546, tolerance: 551490508.8156881\n",
            "  positive)\n",
            "/usr/local/lib/python3.6/dist-packages/sklearn/linear_model/_coordinate_descent.py:476: ConvergenceWarning: Objective did not converge. You might want to increase the number of iterations. Duality gap: 1583899882260.7864, tolerance: 559527529.5274891\n",
            "  positive)\n",
            "/usr/local/lib/python3.6/dist-packages/sklearn/linear_model/_coordinate_descent.py:476: ConvergenceWarning: Objective did not converge. You might want to increase the number of iterations. Duality gap: 1576199365697.0676, tolerance: 560008993.7070758\n",
            "  positive)\n",
            "/usr/local/lib/python3.6/dist-packages/sklearn/linear_model/_coordinate_descent.py:476: ConvergenceWarning: Objective did not converge. You might want to increase the number of iterations. Duality gap: 1587369535323.6672, tolerance: 554273000.5841261\n",
            "  positive)\n",
            "/usr/local/lib/python3.6/dist-packages/sklearn/linear_model/_coordinate_descent.py:476: ConvergenceWarning: Objective did not converge. You might want to increase the number of iterations. Duality gap: 1595489048933.913, tolerance: 557562665.8935431\n",
            "  positive)\n",
            "/usr/local/lib/python3.6/dist-packages/sklearn/linear_model/_coordinate_descent.py:476: ConvergenceWarning: Objective did not converge. You might want to increase the number of iterations. Duality gap: 1566322023026.6052, tolerance: 560026998.2405806\n",
            "  positive)\n",
            "/usr/local/lib/python3.6/dist-packages/sklearn/linear_model/_coordinate_descent.py:476: ConvergenceWarning: Objective did not converge. You might want to increase the number of iterations. Duality gap: 1602646485808.874, tolerance: 554384429.9362457\n",
            "  positive)\n",
            "/usr/local/lib/python3.6/dist-packages/sklearn/linear_model/_coordinate_descent.py:476: ConvergenceWarning: Objective did not converge. You might want to increase the number of iterations. Duality gap: 1587654756062.7463, tolerance: 552865779.936386\n",
            "  positive)\n",
            "/usr/local/lib/python3.6/dist-packages/sklearn/linear_model/_coordinate_descent.py:476: ConvergenceWarning: Objective did not converge. You might want to increase the number of iterations. Duality gap: 1552294081057.2266, tolerance: 563749404.0900803\n",
            "  positive)\n",
            "/usr/local/lib/python3.6/dist-packages/sklearn/linear_model/_coordinate_descent.py:476: ConvergenceWarning: Objective did not converge. You might want to increase the number of iterations. Duality gap: 1616909487058.3428, tolerance: 560518010.574607\n",
            "  positive)\n",
            "/usr/local/lib/python3.6/dist-packages/sklearn/linear_model/_coordinate_descent.py:476: ConvergenceWarning: Objective did not converge. You might want to increase the number of iterations. Duality gap: 1564916192744.215, tolerance: 551490508.8156881\n",
            "  positive)\n",
            "/usr/local/lib/python3.6/dist-packages/sklearn/linear_model/_coordinate_descent.py:476: ConvergenceWarning: Objective did not converge. You might want to increase the number of iterations. Duality gap: 1602802960298.858, tolerance: 559527529.5274891\n",
            "  positive)\n",
            "/usr/local/lib/python3.6/dist-packages/sklearn/linear_model/_coordinate_descent.py:476: ConvergenceWarning: Objective did not converge. You might want to increase the number of iterations. Duality gap: 1595856113914.353, tolerance: 560008993.7070758\n",
            "  positive)\n",
            "/usr/local/lib/python3.6/dist-packages/sklearn/linear_model/_coordinate_descent.py:476: ConvergenceWarning: Objective did not converge. You might want to increase the number of iterations. Duality gap: 1587694516877.8713, tolerance: 554273000.5841261\n",
            "  positive)\n",
            "/usr/local/lib/python3.6/dist-packages/sklearn/linear_model/_coordinate_descent.py:476: ConvergenceWarning: Objective did not converge. You might want to increase the number of iterations. Duality gap: 1595559325879.4824, tolerance: 557562665.8935431\n",
            "  positive)\n",
            "/usr/local/lib/python3.6/dist-packages/sklearn/linear_model/_coordinate_descent.py:476: ConvergenceWarning: Objective did not converge. You might want to increase the number of iterations. Duality gap: 1566253660579.2607, tolerance: 560026998.2405806\n",
            "  positive)\n",
            "/usr/local/lib/python3.6/dist-packages/sklearn/linear_model/_coordinate_descent.py:476: ConvergenceWarning: Objective did not converge. You might want to increase the number of iterations. Duality gap: 1602593751200.2285, tolerance: 554384429.9362457\n",
            "  positive)\n",
            "/usr/local/lib/python3.6/dist-packages/sklearn/linear_model/_coordinate_descent.py:476: ConvergenceWarning: Objective did not converge. You might want to increase the number of iterations. Duality gap: 1587650469297.5144, tolerance: 552865779.936386\n",
            "  positive)\n",
            "/usr/local/lib/python3.6/dist-packages/sklearn/linear_model/_coordinate_descent.py:476: ConvergenceWarning: Objective did not converge. You might want to increase the number of iterations. Duality gap: 1551982841023.3533, tolerance: 563749404.0900803\n",
            "  positive)\n",
            "/usr/local/lib/python3.6/dist-packages/sklearn/linear_model/_coordinate_descent.py:476: ConvergenceWarning: Objective did not converge. You might want to increase the number of iterations. Duality gap: 1617121381643.2402, tolerance: 560518010.574607\n",
            "  positive)\n",
            "/usr/local/lib/python3.6/dist-packages/sklearn/linear_model/_coordinate_descent.py:476: ConvergenceWarning: Objective did not converge. You might want to increase the number of iterations. Duality gap: 1564873253216.6147, tolerance: 551490508.8156881\n",
            "  positive)\n",
            "/usr/local/lib/python3.6/dist-packages/sklearn/linear_model/_coordinate_descent.py:476: ConvergenceWarning: Objective did not converge. You might want to increase the number of iterations. Duality gap: 1603250825686.8628, tolerance: 559527529.5274891\n",
            "  positive)\n",
            "/usr/local/lib/python3.6/dist-packages/sklearn/linear_model/_coordinate_descent.py:476: ConvergenceWarning: Objective did not converge. You might want to increase the number of iterations. Duality gap: 1596393037124.0825, tolerance: 560008993.7070758\n",
            "  positive)\n"
          ],
          "name": "stderr"
        },
        {
          "output_type": "execute_result",
          "data": {
            "text/plain": [
              "4717240521.808828"
            ]
          },
          "metadata": {
            "tags": []
          },
          "execution_count": 142
        }
      ]
    },
    {
      "cell_type": "code",
      "metadata": {
        "colab": {
          "base_uri": "https://localhost:8080/"
        },
        "id": "Xtm-17GzLjDH",
        "outputId": "fc05902c-b2ba-4824-ac28-0b77429c3be7"
      },
      "source": [
        "elastic=ElasticNet(normalize=True,alpha=0.001,l1_ratio=0.75)\n",
        "elastic.fit(xen,yen)\n",
        "second_model=(mean_squared_error(y_true=yen,y_pred=elastic.predict(xen)))\n",
        "print(second_model)\n",
        "\n",
        "elasticmse = second_model"
      ],
      "execution_count": null,
      "outputs": [
        {
          "output_type": "stream",
          "text": [
            "4681434767.106132\n"
          ],
          "name": "stdout"
        }
      ]
    },
    {
      "cell_type": "code",
      "metadata": {
        "id": "6bmy8D-7LyGI"
      },
      "source": [
        "coef_dict_baseline = {}\n",
        "for coef, feat in zip(elastic.coef_,xen.columns):\n",
        "    coef_dict_baseline[feat] = [coef]\n",
        "elasticco = pd.DataFrame(coef_dict_baseline).T"
      ],
      "execution_count": null,
      "outputs": []
    },
    {
      "cell_type": "code",
      "metadata": {
        "colab": {
          "base_uri": "https://localhost:8080/",
          "height": 614
        },
        "id": "Iulh2xmHRynn",
        "outputId": "59555492-6d6d-4fa0-e4b8-360c86b77fb1"
      },
      "source": [
        "elasticco"
      ],
      "execution_count": null,
      "outputs": [
        {
          "output_type": "execute_result",
          "data": {
            "text/html": [
              "<div>\n",
              "<style scoped>\n",
              "    .dataframe tbody tr th:only-of-type {\n",
              "        vertical-align: middle;\n",
              "    }\n",
              "\n",
              "    .dataframe tbody tr th {\n",
              "        vertical-align: top;\n",
              "    }\n",
              "\n",
              "    .dataframe thead th {\n",
              "        text-align: right;\n",
              "    }\n",
              "</style>\n",
              "<table border=\"1\" class=\"dataframe\">\n",
              "  <thead>\n",
              "    <tr style=\"text-align: right;\">\n",
              "      <th></th>\n",
              "      <th>0</th>\n",
              "    </tr>\n",
              "  </thead>\n",
              "  <tbody>\n",
              "    <tr>\n",
              "      <th>bedrooms</th>\n",
              "      <td>1091.689776</td>\n",
              "    </tr>\n",
              "    <tr>\n",
              "      <th>bathrooms</th>\n",
              "      <td>6814.947769</td>\n",
              "    </tr>\n",
              "    <tr>\n",
              "      <th>sqft_living</th>\n",
              "      <td>29.150402</td>\n",
              "    </tr>\n",
              "    <tr>\n",
              "      <th>sqft_lot</th>\n",
              "      <td>-3.866562</td>\n",
              "    </tr>\n",
              "    <tr>\n",
              "      <th>floors</th>\n",
              "      <td>870.839581</td>\n",
              "    </tr>\n",
              "    <tr>\n",
              "      <th>waterfront</th>\n",
              "      <td>0.000000</td>\n",
              "    </tr>\n",
              "    <tr>\n",
              "      <th>view</th>\n",
              "      <td>11626.991549</td>\n",
              "    </tr>\n",
              "    <tr>\n",
              "      <th>condition</th>\n",
              "      <td>13337.097876</td>\n",
              "    </tr>\n",
              "    <tr>\n",
              "      <th>grade</th>\n",
              "      <td>39768.671576</td>\n",
              "    </tr>\n",
              "    <tr>\n",
              "      <th>sqft_above</th>\n",
              "      <td>11.259098</td>\n",
              "    </tr>\n",
              "    <tr>\n",
              "      <th>sqft_basement</th>\n",
              "      <td>12.177629</td>\n",
              "    </tr>\n",
              "    <tr>\n",
              "      <th>yr_built</th>\n",
              "      <td>-1002.780176</td>\n",
              "    </tr>\n",
              "    <tr>\n",
              "      <th>yr_renovated</th>\n",
              "      <td>2.505702</td>\n",
              "    </tr>\n",
              "    <tr>\n",
              "      <th>zipcode</th>\n",
              "      <td>-122.473189</td>\n",
              "    </tr>\n",
              "    <tr>\n",
              "      <th>lat</th>\n",
              "      <td>281051.182568</td>\n",
              "    </tr>\n",
              "    <tr>\n",
              "      <th>long</th>\n",
              "      <td>145502.398366</td>\n",
              "    </tr>\n",
              "    <tr>\n",
              "      <th>sqft_living15</th>\n",
              "      <td>22.115677</td>\n",
              "    </tr>\n",
              "    <tr>\n",
              "      <th>sqft_lot15</th>\n",
              "      <td>0.636471</td>\n",
              "    </tr>\n",
              "  </tbody>\n",
              "</table>\n",
              "</div>"
            ],
            "text/plain": [
              "                           0\n",
              "bedrooms         1091.689776\n",
              "bathrooms        6814.947769\n",
              "sqft_living        29.150402\n",
              "sqft_lot           -3.866562\n",
              "floors            870.839581\n",
              "waterfront          0.000000\n",
              "view            11626.991549\n",
              "condition       13337.097876\n",
              "grade           39768.671576\n",
              "sqft_above         11.259098\n",
              "sqft_basement      12.177629\n",
              "yr_built        -1002.780176\n",
              "yr_renovated        2.505702\n",
              "zipcode          -122.473189\n",
              "lat            281051.182568\n",
              "long           145502.398366\n",
              "sqft_living15      22.115677\n",
              "sqft_lot15          0.636471"
            ]
          },
          "metadata": {
            "tags": []
          },
          "execution_count": 163
        }
      ]
    },
    {
      "cell_type": "markdown",
      "metadata": {
        "id": "wkao1_38pvvt"
      },
      "source": [
        "#RECOMMENDATION "
      ]
    },
    {
      "cell_type": "markdown",
      "metadata": {
        "id": "lDXODLJh-5Ey"
      },
      "source": [
        "It is seen above from the high mse that the regreeion methods above are not sufficient to make a reliable model."
      ]
    },
    {
      "cell_type": "markdown",
      "metadata": {
        "id": "4CNh7boZpzrE"
      },
      "source": [
        "#CHALLENGE"
      ]
    },
    {
      "cell_type": "markdown",
      "metadata": {
        "id": "3cugGhml_Vdt"
      },
      "source": [
        "The date of the listsings of the properties should be added within the dataset. This is due to the hint of the transformation of the properties that is indicated by the different sizes of the data with the last two columns."
      ]
    }
  ]
}