{
  "nbformat": 4,
  "nbformat_minor": 0,
  "metadata": {
    "colab": {
      "name": "the one with bank accounts.ipynb",
      "provenance": [],
      "collapsed_sections": [
        "jittyvZ_2ZWH",
        "FwBwkucw5kza",
        "2O0BRgABg7vh",
        "YFUpBK6piNu8",
        "SvhJucHEihiS",
        "e76LIdx2_WyW",
        "vMFb4OohjetN",
        "UoyNzXuy7O5m",
        "bjg54zhHgL4y",
        "1N63gE0j7crw",
        "S6my-Cp2_k3y",
        "TUWusyKa_-fo",
        "TVJo8eXDCIpb",
        "inzekrFQCMRY",
        "N3qLADh-5evi",
        "AziUYcgb5kGb",
        "OZQmak0C4GmO",
        "95HbEOto4PrW",
        "r7b_oqxz4Wm2",
        "ysnGcFZvPG6L",
        "VBOFQFoyR_1U",
        "itopmP25SDYu",
        "EsZPialTAV7R",
        "MqG5SmE2BJIa",
        "1P1wMqUPCygN"
      ]
    },
    "kernelspec": {
      "name": "python3",
      "display_name": "Python 3"
    }
  },
  "cells": [
    {
      "cell_type": "markdown",
      "metadata": {
        "id": "jittyvZ_2ZWH"
      },
      "source": [
        "#Defining the question"
      ]
    },
    {
      "cell_type": "markdown",
      "metadata": {
        "id": "R4hi3avF2eoP"
      },
      "source": [
        "Can we predict the individuals most likely to have a bank account? "
      ]
    },
    {
      "cell_type": "markdown",
      "metadata": {
        "id": "_zN0O4oa2wVp"
      },
      "source": [
        "A premonition is made that using the available data; predictions can be made to dins which individuals are most likely to have a bank account. The data available is data that has been collected that has a few parameters to the type of individual in question and whether or not they have a bank account. The data collected is a part (sample) of the data of the whole population which is the population of the four states in scope [Kenya, Uganda, Tanzania and Rwanda]. As planned, the data shall be looked at in the case to which factors of individuals not having a bank account and having a bank account shall be looked at and models for predictions shall be created. The appropriateness of the data shall be looked at within itself i.e the ratio to which samples with or without Bank accounts shall be looked at as a metric for testing the data appropriateness."
      ]
    },
    {
      "cell_type": "markdown",
      "metadata": {
        "id": "zyQ34Jid5Gem"
      },
      "source": [
        "Form the above the following questions arise:\n",
        "1. How can we predict indiniduals most likely to have a bank accont?\n",
        "2. What attributes weigh in heavily in samples having a bank account?\n"
      ]
    },
    {
      "cell_type": "markdown",
      "metadata": {
        "id": "FwBwkucw5kza"
      },
      "source": [
        "#Reading the data"
      ]
    },
    {
      "cell_type": "markdown",
      "metadata": {
        "id": "2O0BRgABg7vh"
      },
      "source": [
        "##Prerequisites"
      ]
    },
    {
      "cell_type": "markdown",
      "metadata": {
        "id": "YFUpBK6piNu8"
      },
      "source": [
        "###Importing libraries"
      ]
    },
    {
      "cell_type": "code",
      "metadata": {
        "id": "CQqzdszgiSqG"
      },
      "source": [
        "import pandas as pd\n",
        "import numpy as np\n",
        "import matplotlib.pyplot as plt\n",
        "import seaborn as sns\n",
        "from sklearn import preprocessing\n",
        "le = preprocessing.LabelEncoder()\n"
      ],
      "execution_count": 43,
      "outputs": []
    },
    {
      "cell_type": "markdown",
      "metadata": {
        "id": "SvhJucHEihiS"
      },
      "source": [
        "###Importing Datasets"
      ]
    },
    {
      "cell_type": "code",
      "metadata": {
        "id": "FGCHMo7xinVU"
      },
      "source": [
        "with open('/content/Financial Dataset - 1.csv') as d:\n",
        "  fin = pd.read_csv(d)"
      ],
      "execution_count": 44,
      "outputs": []
    },
    {
      "cell_type": "markdown",
      "metadata": {
        "id": "e76LIdx2_WyW"
      },
      "source": [
        "#Checking the data"
      ]
    },
    {
      "cell_type": "markdown",
      "metadata": {
        "id": "GKUlBp1kxlD8"
      },
      "source": [
        "An overlook of the data is done within this section. The beginning and the end of the dataset are looked at and also the data type to which is interpreted as is examined it."
      ]
    },
    {
      "cell_type": "markdown",
      "metadata": {
        "id": "vMFb4OohjetN"
      },
      "source": [
        "###Previewing the dataset"
      ]
    },
    {
      "cell_type": "code",
      "metadata": {
        "id": "Gc_HLJkBjqG0",
        "outputId": "198cd200-f5b5-4990-c2fb-aac0bad779b6",
        "colab": {
          "base_uri": "https://localhost:8080/",
          "height": 606
        }
      },
      "source": [
        "fin.head(10)"
      ],
      "execution_count": 45,
      "outputs": [
        {
          "output_type": "execute_result",
          "data": {
            "text/html": [
              "<div>\n",
              "<style scoped>\n",
              "    .dataframe tbody tr th:only-of-type {\n",
              "        vertical-align: middle;\n",
              "    }\n",
              "\n",
              "    .dataframe tbody tr th {\n",
              "        vertical-align: top;\n",
              "    }\n",
              "\n",
              "    .dataframe thead th {\n",
              "        text-align: right;\n",
              "    }\n",
              "</style>\n",
              "<table border=\"1\" class=\"dataframe\">\n",
              "  <thead>\n",
              "    <tr style=\"text-align: right;\">\n",
              "      <th></th>\n",
              "      <th>country</th>\n",
              "      <th>year</th>\n",
              "      <th>uniqueid</th>\n",
              "      <th>Has a Bank account</th>\n",
              "      <th>Type of Location</th>\n",
              "      <th>Cell Phone Access</th>\n",
              "      <th>household_size</th>\n",
              "      <th>Respondent Age</th>\n",
              "      <th>gender_of_respondent</th>\n",
              "      <th>The relathip with head</th>\n",
              "      <th>marital_status</th>\n",
              "      <th>Level of Educuation</th>\n",
              "      <th>Type of Job</th>\n",
              "    </tr>\n",
              "  </thead>\n",
              "  <tbody>\n",
              "    <tr>\n",
              "      <th>0</th>\n",
              "      <td>Kenya</td>\n",
              "      <td>2018</td>\n",
              "      <td>uniqueid_1</td>\n",
              "      <td>Yes</td>\n",
              "      <td>Rural</td>\n",
              "      <td>Yes</td>\n",
              "      <td>3.0</td>\n",
              "      <td>24.0</td>\n",
              "      <td>Female</td>\n",
              "      <td>Spouse</td>\n",
              "      <td>Married/Living together</td>\n",
              "      <td>Secondary education</td>\n",
              "      <td>Self employed</td>\n",
              "    </tr>\n",
              "    <tr>\n",
              "      <th>1</th>\n",
              "      <td>Kenya</td>\n",
              "      <td>2018</td>\n",
              "      <td>uniqueid_2</td>\n",
              "      <td>No</td>\n",
              "      <td>Rural</td>\n",
              "      <td>No</td>\n",
              "      <td>5.0</td>\n",
              "      <td>70.0</td>\n",
              "      <td>Female</td>\n",
              "      <td>Head of Household</td>\n",
              "      <td>Widowed</td>\n",
              "      <td>No formal education</td>\n",
              "      <td>Government Dependent</td>\n",
              "    </tr>\n",
              "    <tr>\n",
              "      <th>2</th>\n",
              "      <td>Kenya</td>\n",
              "      <td>2018</td>\n",
              "      <td>uniqueid_3</td>\n",
              "      <td>Yes</td>\n",
              "      <td>Urban</td>\n",
              "      <td>Yes</td>\n",
              "      <td>5.0</td>\n",
              "      <td>26.0</td>\n",
              "      <td>Male</td>\n",
              "      <td>Other relative</td>\n",
              "      <td>Single/Never Married</td>\n",
              "      <td>Vocational/Specialised training</td>\n",
              "      <td>Self employed</td>\n",
              "    </tr>\n",
              "    <tr>\n",
              "      <th>3</th>\n",
              "      <td>Kenya</td>\n",
              "      <td>2018</td>\n",
              "      <td>uniqueid_4</td>\n",
              "      <td>No</td>\n",
              "      <td>Rural</td>\n",
              "      <td>Yes</td>\n",
              "      <td>5.0</td>\n",
              "      <td>34.0</td>\n",
              "      <td>Female</td>\n",
              "      <td>Head of Household</td>\n",
              "      <td>Married/Living together</td>\n",
              "      <td>Primary education</td>\n",
              "      <td>Formally employed Private</td>\n",
              "    </tr>\n",
              "    <tr>\n",
              "      <th>4</th>\n",
              "      <td>Kenya</td>\n",
              "      <td>2018</td>\n",
              "      <td>uniqueid_5</td>\n",
              "      <td>No</td>\n",
              "      <td>Urban</td>\n",
              "      <td>No</td>\n",
              "      <td>8.0</td>\n",
              "      <td>26.0</td>\n",
              "      <td>Male</td>\n",
              "      <td>Child</td>\n",
              "      <td>Single/Never Married</td>\n",
              "      <td>Primary education</td>\n",
              "      <td>Informally employed</td>\n",
              "    </tr>\n",
              "    <tr>\n",
              "      <th>5</th>\n",
              "      <td>Kenya</td>\n",
              "      <td>2018</td>\n",
              "      <td>uniqueid_6</td>\n",
              "      <td>No</td>\n",
              "      <td>Rural</td>\n",
              "      <td>No</td>\n",
              "      <td>7.0</td>\n",
              "      <td>26.0</td>\n",
              "      <td>Female</td>\n",
              "      <td>Spouse</td>\n",
              "      <td>Married/Living together</td>\n",
              "      <td>Primary education</td>\n",
              "      <td>Informally employed</td>\n",
              "    </tr>\n",
              "    <tr>\n",
              "      <th>6</th>\n",
              "      <td>Kenya</td>\n",
              "      <td>2018</td>\n",
              "      <td>uniqueid_7</td>\n",
              "      <td>No</td>\n",
              "      <td>Rural</td>\n",
              "      <td>Yes</td>\n",
              "      <td>7.0</td>\n",
              "      <td>32.0</td>\n",
              "      <td>Female</td>\n",
              "      <td>Spouse</td>\n",
              "      <td>Married/Living together</td>\n",
              "      <td>Primary education</td>\n",
              "      <td>Self employed</td>\n",
              "    </tr>\n",
              "    <tr>\n",
              "      <th>7</th>\n",
              "      <td>Kenya</td>\n",
              "      <td>2018</td>\n",
              "      <td>uniqueid_8</td>\n",
              "      <td>No</td>\n",
              "      <td>Rural</td>\n",
              "      <td>Yes</td>\n",
              "      <td>1.0</td>\n",
              "      <td>42.0</td>\n",
              "      <td>Female</td>\n",
              "      <td>Head of Household</td>\n",
              "      <td>Married/Living together</td>\n",
              "      <td>Tertiary education</td>\n",
              "      <td>Formally employed Government</td>\n",
              "    </tr>\n",
              "    <tr>\n",
              "      <th>8</th>\n",
              "      <td>Kenya</td>\n",
              "      <td>2018</td>\n",
              "      <td>uniqueid_9</td>\n",
              "      <td>Yes</td>\n",
              "      <td>Rural</td>\n",
              "      <td>Yes</td>\n",
              "      <td>3.0</td>\n",
              "      <td>54.0</td>\n",
              "      <td>Male</td>\n",
              "      <td>Head of Household</td>\n",
              "      <td>Married/Living together</td>\n",
              "      <td>Secondary education</td>\n",
              "      <td>Farming and Fishing</td>\n",
              "    </tr>\n",
              "    <tr>\n",
              "      <th>9</th>\n",
              "      <td>Kenya</td>\n",
              "      <td>2018</td>\n",
              "      <td>uniqueid_10</td>\n",
              "      <td>No</td>\n",
              "      <td>Urban</td>\n",
              "      <td>Yes</td>\n",
              "      <td>3.0</td>\n",
              "      <td>76.0</td>\n",
              "      <td>Female</td>\n",
              "      <td>Head of Household</td>\n",
              "      <td>Divorced/Seperated</td>\n",
              "      <td>No formal education</td>\n",
              "      <td>Remittance Dependent</td>\n",
              "    </tr>\n",
              "  </tbody>\n",
              "</table>\n",
              "</div>"
            ],
            "text/plain": [
              "  country  year  ...              Level of Educuation                   Type of Job\n",
              "0   Kenya  2018  ...              Secondary education                 Self employed\n",
              "1   Kenya  2018  ...              No formal education          Government Dependent\n",
              "2   Kenya  2018  ...  Vocational/Specialised training                 Self employed\n",
              "3   Kenya  2018  ...                Primary education     Formally employed Private\n",
              "4   Kenya  2018  ...                Primary education           Informally employed\n",
              "5   Kenya  2018  ...                Primary education           Informally employed\n",
              "6   Kenya  2018  ...                Primary education                 Self employed\n",
              "7   Kenya  2018  ...               Tertiary education  Formally employed Government\n",
              "8   Kenya  2018  ...              Secondary education           Farming and Fishing\n",
              "9   Kenya  2018  ...              No formal education          Remittance Dependent\n",
              "\n",
              "[10 rows x 13 columns]"
            ]
          },
          "metadata": {
            "tags": []
          },
          "execution_count": 45
        }
      ]
    },
    {
      "cell_type": "code",
      "metadata": {
        "id": "yNv46IvpjuZg",
        "outputId": "b2f1a049-c039-4def-e71f-f24a170b30eb",
        "colab": {
          "base_uri": "https://localhost:8080/",
          "height": 571
        }
      },
      "source": [
        "fin.tail(10)"
      ],
      "execution_count": 46,
      "outputs": [
        {
          "output_type": "execute_result",
          "data": {
            "text/html": [
              "<div>\n",
              "<style scoped>\n",
              "    .dataframe tbody tr th:only-of-type {\n",
              "        vertical-align: middle;\n",
              "    }\n",
              "\n",
              "    .dataframe tbody tr th {\n",
              "        vertical-align: top;\n",
              "    }\n",
              "\n",
              "    .dataframe thead th {\n",
              "        text-align: right;\n",
              "    }\n",
              "</style>\n",
              "<table border=\"1\" class=\"dataframe\">\n",
              "  <thead>\n",
              "    <tr style=\"text-align: right;\">\n",
              "      <th></th>\n",
              "      <th>country</th>\n",
              "      <th>year</th>\n",
              "      <th>uniqueid</th>\n",
              "      <th>Has a Bank account</th>\n",
              "      <th>Type of Location</th>\n",
              "      <th>Cell Phone Access</th>\n",
              "      <th>household_size</th>\n",
              "      <th>Respondent Age</th>\n",
              "      <th>gender_of_respondent</th>\n",
              "      <th>The relathip with head</th>\n",
              "      <th>marital_status</th>\n",
              "      <th>Level of Educuation</th>\n",
              "      <th>Type of Job</th>\n",
              "    </tr>\n",
              "  </thead>\n",
              "  <tbody>\n",
              "    <tr>\n",
              "      <th>23514</th>\n",
              "      <td>Uganda</td>\n",
              "      <td>2018</td>\n",
              "      <td>uniqueid_2107</td>\n",
              "      <td>No</td>\n",
              "      <td>Urban</td>\n",
              "      <td>Yes</td>\n",
              "      <td>NaN</td>\n",
              "      <td>24.0</td>\n",
              "      <td>Female</td>\n",
              "      <td>Spouse</td>\n",
              "      <td>Married/Living together</td>\n",
              "      <td>Primary education</td>\n",
              "      <td>Self employed</td>\n",
              "    </tr>\n",
              "    <tr>\n",
              "      <th>23515</th>\n",
              "      <td>Uganda</td>\n",
              "      <td>2018</td>\n",
              "      <td>uniqueid_2108</td>\n",
              "      <td>No</td>\n",
              "      <td>Rural</td>\n",
              "      <td>No</td>\n",
              "      <td>NaN</td>\n",
              "      <td>16.0</td>\n",
              "      <td>Male</td>\n",
              "      <td>Parent</td>\n",
              "      <td>Single/Never Married</td>\n",
              "      <td>Primary education</td>\n",
              "      <td>Other Income</td>\n",
              "    </tr>\n",
              "    <tr>\n",
              "      <th>23516</th>\n",
              "      <td>Uganda</td>\n",
              "      <td>2018</td>\n",
              "      <td>uniqueid_2109</td>\n",
              "      <td>No</td>\n",
              "      <td>Urban</td>\n",
              "      <td>Yes</td>\n",
              "      <td>NaN</td>\n",
              "      <td>35.0</td>\n",
              "      <td>Male</td>\n",
              "      <td>Head of Household</td>\n",
              "      <td>Married/Living together</td>\n",
              "      <td>Primary education</td>\n",
              "      <td>Self employed</td>\n",
              "    </tr>\n",
              "    <tr>\n",
              "      <th>23517</th>\n",
              "      <td>Uganda</td>\n",
              "      <td>2018</td>\n",
              "      <td>uniqueid_2110</td>\n",
              "      <td>No</td>\n",
              "      <td>Urban</td>\n",
              "      <td>Yes</td>\n",
              "      <td>NaN</td>\n",
              "      <td>16.0</td>\n",
              "      <td>Male</td>\n",
              "      <td>Parent</td>\n",
              "      <td>Single/Never Married</td>\n",
              "      <td>Primary education</td>\n",
              "      <td>Other Income</td>\n",
              "    </tr>\n",
              "    <tr>\n",
              "      <th>23518</th>\n",
              "      <td>Uganda</td>\n",
              "      <td>2018</td>\n",
              "      <td>uniqueid_2111</td>\n",
              "      <td>No</td>\n",
              "      <td>Rural</td>\n",
              "      <td>Yes</td>\n",
              "      <td>NaN</td>\n",
              "      <td>20.0</td>\n",
              "      <td>Female</td>\n",
              "      <td>Child</td>\n",
              "      <td>Single/Never Married</td>\n",
              "      <td>Primary education</td>\n",
              "      <td>No Income</td>\n",
              "    </tr>\n",
              "    <tr>\n",
              "      <th>23519</th>\n",
              "      <td>Uganda</td>\n",
              "      <td>2018</td>\n",
              "      <td>uniqueid_2113</td>\n",
              "      <td>No</td>\n",
              "      <td>Rural</td>\n",
              "      <td>Yes</td>\n",
              "      <td>4.0</td>\n",
              "      <td>48.0</td>\n",
              "      <td>Female</td>\n",
              "      <td>Head of Household</td>\n",
              "      <td>Divorced/Seperated</td>\n",
              "      <td>No formal education</td>\n",
              "      <td>Other Income</td>\n",
              "    </tr>\n",
              "    <tr>\n",
              "      <th>23520</th>\n",
              "      <td>Uganda</td>\n",
              "      <td>2018</td>\n",
              "      <td>uniqueid_2114</td>\n",
              "      <td>No</td>\n",
              "      <td>Rural</td>\n",
              "      <td>Yes</td>\n",
              "      <td>2.0</td>\n",
              "      <td>27.0</td>\n",
              "      <td>Female</td>\n",
              "      <td>Head of Household</td>\n",
              "      <td>Single/Never Married</td>\n",
              "      <td>Secondary education</td>\n",
              "      <td>Other Income</td>\n",
              "    </tr>\n",
              "    <tr>\n",
              "      <th>23521</th>\n",
              "      <td>Uganda</td>\n",
              "      <td>2018</td>\n",
              "      <td>uniqueid_2115</td>\n",
              "      <td>No</td>\n",
              "      <td>Rural</td>\n",
              "      <td>Yes</td>\n",
              "      <td>5.0</td>\n",
              "      <td>27.0</td>\n",
              "      <td>Female</td>\n",
              "      <td>Parent</td>\n",
              "      <td>Widowed</td>\n",
              "      <td>Primary education</td>\n",
              "      <td>Other Income</td>\n",
              "    </tr>\n",
              "    <tr>\n",
              "      <th>23522</th>\n",
              "      <td>Uganda</td>\n",
              "      <td>2018</td>\n",
              "      <td>uniqueid_2116</td>\n",
              "      <td>No</td>\n",
              "      <td>Urban</td>\n",
              "      <td>Yes</td>\n",
              "      <td>7.0</td>\n",
              "      <td>30.0</td>\n",
              "      <td>Female</td>\n",
              "      <td>Parent</td>\n",
              "      <td>Divorced/Seperated</td>\n",
              "      <td>Secondary education</td>\n",
              "      <td>Self employed</td>\n",
              "    </tr>\n",
              "    <tr>\n",
              "      <th>23523</th>\n",
              "      <td>Uganda</td>\n",
              "      <td>2018</td>\n",
              "      <td>uniqueid_2117</td>\n",
              "      <td>No</td>\n",
              "      <td>Rural</td>\n",
              "      <td>Yes</td>\n",
              "      <td>10.0</td>\n",
              "      <td>20.0</td>\n",
              "      <td>Male</td>\n",
              "      <td>Child</td>\n",
              "      <td>Single/Never Married</td>\n",
              "      <td>Secondary education</td>\n",
              "      <td>No Income</td>\n",
              "    </tr>\n",
              "  </tbody>\n",
              "</table>\n",
              "</div>"
            ],
            "text/plain": [
              "      country  year  ...  Level of Educuation    Type of Job\n",
              "23514  Uganda  2018  ...    Primary education  Self employed\n",
              "23515  Uganda  2018  ...    Primary education   Other Income\n",
              "23516  Uganda  2018  ...    Primary education  Self employed\n",
              "23517  Uganda  2018  ...    Primary education   Other Income\n",
              "23518  Uganda  2018  ...    Primary education      No Income\n",
              "23519  Uganda  2018  ...  No formal education   Other Income\n",
              "23520  Uganda  2018  ...  Secondary education   Other Income\n",
              "23521  Uganda  2018  ...    Primary education   Other Income\n",
              "23522  Uganda  2018  ...  Secondary education  Self employed\n",
              "23523  Uganda  2018  ...  Secondary education      No Income\n",
              "\n",
              "[10 rows x 13 columns]"
            ]
          },
          "metadata": {
            "tags": []
          },
          "execution_count": 46
        }
      ]
    },
    {
      "cell_type": "markdown",
      "metadata": {
        "id": "UoyNzXuy7O5m"
      },
      "source": [
        "###Data types"
      ]
    },
    {
      "cell_type": "code",
      "metadata": {
        "id": "ZNMHanb16yPi",
        "outputId": "40592c00-b09a-4196-f1f9-ddff09c93772",
        "colab": {
          "base_uri": "https://localhost:8080/",
          "height": 260
        }
      },
      "source": [
        "#Gets the datatypes of the dataset\n",
        "fin.dtypes"
      ],
      "execution_count": 47,
      "outputs": [
        {
          "output_type": "execute_result",
          "data": {
            "text/plain": [
              "country                    object\n",
              "year                        int64\n",
              "uniqueid                   object\n",
              "Has a Bank account         object\n",
              "Type of Location           object\n",
              "Cell Phone Access          object\n",
              "household_size            float64\n",
              "Respondent Age            float64\n",
              "gender_of_respondent       object\n",
              "The relathip with head     object\n",
              "marital_status             object\n",
              "Level of Educuation        object\n",
              "Type of Job                object\n",
              "dtype: object"
            ]
          },
          "metadata": {
            "tags": []
          },
          "execution_count": 47
        }
      ]
    },
    {
      "cell_type": "markdown",
      "metadata": {
        "id": "bjg54zhHgL4y"
      },
      "source": [
        "##Data Understanding"
      ]
    },
    {
      "cell_type": "code",
      "metadata": {
        "id": "GtHf8OWdbyC7",
        "outputId": "15592b24-28ab-43e1-f240-f6dfa45682b2",
        "colab": {
          "base_uri": "https://localhost:8080/",
          "height": 260
        }
      },
      "source": [
        "#Checking for null values\n",
        "fin.isnull().sum()"
      ],
      "execution_count": 48,
      "outputs": [
        {
          "output_type": "execute_result",
          "data": {
            "text/plain": [
              "country                   14\n",
              "year                       0\n",
              "uniqueid                   0\n",
              "Has a Bank account        36\n",
              "Type of Location          15\n",
              "Cell Phone Access         11\n",
              "household_size            28\n",
              "Respondent Age            34\n",
              "gender_of_respondent      34\n",
              "The relathip with head     4\n",
              "marital_status            32\n",
              "Level of Educuation       29\n",
              "Type of Job               30\n",
              "dtype: int64"
            ]
          },
          "metadata": {
            "tags": []
          },
          "execution_count": 48
        }
      ]
    },
    {
      "cell_type": "code",
      "metadata": {
        "id": "Vww1cOyccjyl"
      },
      "source": [
        "#Dropping the rows with null values\n",
        "fin.dropna(inplace=True)"
      ],
      "execution_count": 49,
      "outputs": []
    },
    {
      "cell_type": "code",
      "metadata": {
        "id": "sJrywRcacrkA",
        "outputId": "581bf506-f247-445f-8240-a5d865b01c33",
        "colab": {
          "base_uri": "https://localhost:8080/",
          "height": 457
        }
      },
      "source": [
        "#Making a descriptive dataframe of the data contained within the dataset.\n",
        "\n",
        "u = pd.DataFrame(fin.isnull().sum())\n",
        "u.columns = ['No. of NaN']\n",
        "u['Combinations'] = ''\n",
        "q = u.index\n",
        "for c in q:\n",
        "  u.loc[c , 'Combinations'] = len(fin[c].unique())\n",
        "\n",
        "u"
      ],
      "execution_count": 50,
      "outputs": [
        {
          "output_type": "execute_result",
          "data": {
            "text/html": [
              "<div>\n",
              "<style scoped>\n",
              "    .dataframe tbody tr th:only-of-type {\n",
              "        vertical-align: middle;\n",
              "    }\n",
              "\n",
              "    .dataframe tbody tr th {\n",
              "        vertical-align: top;\n",
              "    }\n",
              "\n",
              "    .dataframe thead th {\n",
              "        text-align: right;\n",
              "    }\n",
              "</style>\n",
              "<table border=\"1\" class=\"dataframe\">\n",
              "  <thead>\n",
              "    <tr style=\"text-align: right;\">\n",
              "      <th></th>\n",
              "      <th>No. of NaN</th>\n",
              "      <th>Combinations</th>\n",
              "    </tr>\n",
              "  </thead>\n",
              "  <tbody>\n",
              "    <tr>\n",
              "      <th>country</th>\n",
              "      <td>0</td>\n",
              "      <td>4</td>\n",
              "    </tr>\n",
              "    <tr>\n",
              "      <th>year</th>\n",
              "      <td>0</td>\n",
              "      <td>6</td>\n",
              "    </tr>\n",
              "    <tr>\n",
              "      <th>uniqueid</th>\n",
              "      <td>0</td>\n",
              "      <td>8687</td>\n",
              "    </tr>\n",
              "    <tr>\n",
              "      <th>Has a Bank account</th>\n",
              "      <td>0</td>\n",
              "      <td>2</td>\n",
              "    </tr>\n",
              "    <tr>\n",
              "      <th>Type of Location</th>\n",
              "      <td>0</td>\n",
              "      <td>2</td>\n",
              "    </tr>\n",
              "    <tr>\n",
              "      <th>Cell Phone Access</th>\n",
              "      <td>0</td>\n",
              "      <td>2</td>\n",
              "    </tr>\n",
              "    <tr>\n",
              "      <th>household_size</th>\n",
              "      <td>0</td>\n",
              "      <td>21</td>\n",
              "    </tr>\n",
              "    <tr>\n",
              "      <th>Respondent Age</th>\n",
              "      <td>0</td>\n",
              "      <td>85</td>\n",
              "    </tr>\n",
              "    <tr>\n",
              "      <th>gender_of_respondent</th>\n",
              "      <td>0</td>\n",
              "      <td>2</td>\n",
              "    </tr>\n",
              "    <tr>\n",
              "      <th>The relathip with head</th>\n",
              "      <td>0</td>\n",
              "      <td>6</td>\n",
              "    </tr>\n",
              "    <tr>\n",
              "      <th>marital_status</th>\n",
              "      <td>0</td>\n",
              "      <td>5</td>\n",
              "    </tr>\n",
              "    <tr>\n",
              "      <th>Level of Educuation</th>\n",
              "      <td>0</td>\n",
              "      <td>7</td>\n",
              "    </tr>\n",
              "    <tr>\n",
              "      <th>Type of Job</th>\n",
              "      <td>0</td>\n",
              "      <td>10</td>\n",
              "    </tr>\n",
              "  </tbody>\n",
              "</table>\n",
              "</div>"
            ],
            "text/plain": [
              "                        No. of NaN Combinations\n",
              "country                          0            4\n",
              "year                             0            6\n",
              "uniqueid                         0         8687\n",
              "Has a Bank account               0            2\n",
              "Type of Location                 0            2\n",
              "Cell Phone Access                0            2\n",
              "household_size                   0           21\n",
              "Respondent Age                   0           85\n",
              "gender_of_respondent             0            2\n",
              "The relathip with head           0            6\n",
              "marital_status                   0            5\n",
              "Level of Educuation              0            7\n",
              "Type of Job                      0           10"
            ]
          },
          "metadata": {
            "tags": []
          },
          "execution_count": 50
        }
      ]
    },
    {
      "cell_type": "code",
      "metadata": {
        "id": "_92f9wyxfv07",
        "outputId": "1558605f-587c-46eb-e916-aec78bfe4703",
        "colab": {
          "base_uri": "https://localhost:8080/",
          "height": 457
        }
      },
      "source": [
        "u['Unique'] = ''\n",
        "\n",
        "for q, row in u.iterrows():\n",
        "  if row['Combinations'] < 22:\n",
        "    u.loc[q,'Unique'] = str(fin[q].unique())\n",
        "\n",
        "u"
      ],
      "execution_count": 51,
      "outputs": [
        {
          "output_type": "execute_result",
          "data": {
            "text/html": [
              "<div>\n",
              "<style scoped>\n",
              "    .dataframe tbody tr th:only-of-type {\n",
              "        vertical-align: middle;\n",
              "    }\n",
              "\n",
              "    .dataframe tbody tr th {\n",
              "        vertical-align: top;\n",
              "    }\n",
              "\n",
              "    .dataframe thead th {\n",
              "        text-align: right;\n",
              "    }\n",
              "</style>\n",
              "<table border=\"1\" class=\"dataframe\">\n",
              "  <thead>\n",
              "    <tr style=\"text-align: right;\">\n",
              "      <th></th>\n",
              "      <th>No. of NaN</th>\n",
              "      <th>Combinations</th>\n",
              "      <th>Unique</th>\n",
              "    </tr>\n",
              "  </thead>\n",
              "  <tbody>\n",
              "    <tr>\n",
              "      <th>country</th>\n",
              "      <td>0</td>\n",
              "      <td>4</td>\n",
              "      <td>['Kenya' 'Rwanda' 'Tanzania' 'Uganda']</td>\n",
              "    </tr>\n",
              "    <tr>\n",
              "      <th>year</th>\n",
              "      <td>0</td>\n",
              "      <td>6</td>\n",
              "      <td>[2018 2029 2056 2016 2039 2017]</td>\n",
              "    </tr>\n",
              "    <tr>\n",
              "      <th>uniqueid</th>\n",
              "      <td>0</td>\n",
              "      <td>8687</td>\n",
              "      <td></td>\n",
              "    </tr>\n",
              "    <tr>\n",
              "      <th>Has a Bank account</th>\n",
              "      <td>0</td>\n",
              "      <td>2</td>\n",
              "      <td>['Yes' 'No']</td>\n",
              "    </tr>\n",
              "    <tr>\n",
              "      <th>Type of Location</th>\n",
              "      <td>0</td>\n",
              "      <td>2</td>\n",
              "      <td>['Rural' 'Urban']</td>\n",
              "    </tr>\n",
              "    <tr>\n",
              "      <th>Cell Phone Access</th>\n",
              "      <td>0</td>\n",
              "      <td>2</td>\n",
              "      <td>['Yes' 'No']</td>\n",
              "    </tr>\n",
              "    <tr>\n",
              "      <th>household_size</th>\n",
              "      <td>0</td>\n",
              "      <td>21</td>\n",
              "      <td>[ 3.  5.  8.  7.  1.  6.  4. 10.  2. 11.  9. 1...</td>\n",
              "    </tr>\n",
              "    <tr>\n",
              "      <th>Respondent Age</th>\n",
              "      <td>0</td>\n",
              "      <td>85</td>\n",
              "      <td></td>\n",
              "    </tr>\n",
              "    <tr>\n",
              "      <th>gender_of_respondent</th>\n",
              "      <td>0</td>\n",
              "      <td>2</td>\n",
              "      <td>['Female' 'Male']</td>\n",
              "    </tr>\n",
              "    <tr>\n",
              "      <th>The relathip with head</th>\n",
              "      <td>0</td>\n",
              "      <td>6</td>\n",
              "      <td>['Spouse' 'Head of Household' 'Other relative'...</td>\n",
              "    </tr>\n",
              "    <tr>\n",
              "      <th>marital_status</th>\n",
              "      <td>0</td>\n",
              "      <td>5</td>\n",
              "      <td>['Married/Living together' 'Widowed' 'Single/N...</td>\n",
              "    </tr>\n",
              "    <tr>\n",
              "      <th>Level of Educuation</th>\n",
              "      <td>0</td>\n",
              "      <td>7</td>\n",
              "      <td>['Secondary education' 'No formal education'\\n...</td>\n",
              "    </tr>\n",
              "    <tr>\n",
              "      <th>Type of Job</th>\n",
              "      <td>0</td>\n",
              "      <td>10</td>\n",
              "      <td>['Self employed' 'Government Dependent' 'Forma...</td>\n",
              "    </tr>\n",
              "  </tbody>\n",
              "</table>\n",
              "</div>"
            ],
            "text/plain": [
              "                        No. of NaN  ...                                             Unique\n",
              "country                          0  ...             ['Kenya' 'Rwanda' 'Tanzania' 'Uganda']\n",
              "year                             0  ...                    [2018 2029 2056 2016 2039 2017]\n",
              "uniqueid                         0  ...                                                   \n",
              "Has a Bank account               0  ...                                       ['Yes' 'No']\n",
              "Type of Location                 0  ...                                  ['Rural' 'Urban']\n",
              "Cell Phone Access                0  ...                                       ['Yes' 'No']\n",
              "household_size                   0  ...  [ 3.  5.  8.  7.  1.  6.  4. 10.  2. 11.  9. 1...\n",
              "Respondent Age                   0  ...                                                   \n",
              "gender_of_respondent             0  ...                                  ['Female' 'Male']\n",
              "The relathip with head           0  ...  ['Spouse' 'Head of Household' 'Other relative'...\n",
              "marital_status                   0  ...  ['Married/Living together' 'Widowed' 'Single/N...\n",
              "Level of Educuation              0  ...  ['Secondary education' 'No formal education'\\n...\n",
              "Type of Job                      0  ...  ['Self employed' 'Government Dependent' 'Forma...\n",
              "\n",
              "[13 rows x 3 columns]"
            ]
          },
          "metadata": {
            "tags": []
          },
          "execution_count": 51
        }
      ]
    },
    {
      "cell_type": "code",
      "metadata": {
        "id": "WnplMa3ihxcK",
        "outputId": "b4e3f577-6433-4075-8417-7bfb14413327",
        "colab": {
          "base_uri": "https://localhost:8080/",
          "height": 34
        }
      },
      "source": [
        "fin.shape"
      ],
      "execution_count": 52,
      "outputs": [
        {
          "output_type": "execute_result",
          "data": {
            "text/plain": [
              "(23343, 13)"
            ]
          },
          "metadata": {
            "tags": []
          },
          "execution_count": 52
        }
      ]
    },
    {
      "cell_type": "code",
      "metadata": {
        "id": "0r81D5t5iAL3",
        "outputId": "c1b5ac1c-0369-476d-eda0-c859917fb52b",
        "colab": {
          "base_uri": "https://localhost:8080/",
          "height": 457
        }
      },
      "source": [
        "#Makes a dataset with the number of null values, the possible data combinations\n",
        "#and the unique values that are within the data set and the type of data that the \n",
        "#columns possess\n",
        "\n",
        "t = pd.DataFrame(fin.dtypes)\n",
        "t.columns = ['Types']\n",
        "u = pd.merge(u,t , left_index=True,right_index=True)\n",
        "u"
      ],
      "execution_count": 53,
      "outputs": [
        {
          "output_type": "execute_result",
          "data": {
            "text/html": [
              "<div>\n",
              "<style scoped>\n",
              "    .dataframe tbody tr th:only-of-type {\n",
              "        vertical-align: middle;\n",
              "    }\n",
              "\n",
              "    .dataframe tbody tr th {\n",
              "        vertical-align: top;\n",
              "    }\n",
              "\n",
              "    .dataframe thead th {\n",
              "        text-align: right;\n",
              "    }\n",
              "</style>\n",
              "<table border=\"1\" class=\"dataframe\">\n",
              "  <thead>\n",
              "    <tr style=\"text-align: right;\">\n",
              "      <th></th>\n",
              "      <th>No. of NaN</th>\n",
              "      <th>Combinations</th>\n",
              "      <th>Unique</th>\n",
              "      <th>Types</th>\n",
              "    </tr>\n",
              "  </thead>\n",
              "  <tbody>\n",
              "    <tr>\n",
              "      <th>country</th>\n",
              "      <td>0</td>\n",
              "      <td>4</td>\n",
              "      <td>['Kenya' 'Rwanda' 'Tanzania' 'Uganda']</td>\n",
              "      <td>object</td>\n",
              "    </tr>\n",
              "    <tr>\n",
              "      <th>year</th>\n",
              "      <td>0</td>\n",
              "      <td>6</td>\n",
              "      <td>[2018 2029 2056 2016 2039 2017]</td>\n",
              "      <td>int64</td>\n",
              "    </tr>\n",
              "    <tr>\n",
              "      <th>uniqueid</th>\n",
              "      <td>0</td>\n",
              "      <td>8687</td>\n",
              "      <td></td>\n",
              "      <td>object</td>\n",
              "    </tr>\n",
              "    <tr>\n",
              "      <th>Has a Bank account</th>\n",
              "      <td>0</td>\n",
              "      <td>2</td>\n",
              "      <td>['Yes' 'No']</td>\n",
              "      <td>object</td>\n",
              "    </tr>\n",
              "    <tr>\n",
              "      <th>Type of Location</th>\n",
              "      <td>0</td>\n",
              "      <td>2</td>\n",
              "      <td>['Rural' 'Urban']</td>\n",
              "      <td>object</td>\n",
              "    </tr>\n",
              "    <tr>\n",
              "      <th>Cell Phone Access</th>\n",
              "      <td>0</td>\n",
              "      <td>2</td>\n",
              "      <td>['Yes' 'No']</td>\n",
              "      <td>object</td>\n",
              "    </tr>\n",
              "    <tr>\n",
              "      <th>household_size</th>\n",
              "      <td>0</td>\n",
              "      <td>21</td>\n",
              "      <td>[ 3.  5.  8.  7.  1.  6.  4. 10.  2. 11.  9. 1...</td>\n",
              "      <td>float64</td>\n",
              "    </tr>\n",
              "    <tr>\n",
              "      <th>Respondent Age</th>\n",
              "      <td>0</td>\n",
              "      <td>85</td>\n",
              "      <td></td>\n",
              "      <td>float64</td>\n",
              "    </tr>\n",
              "    <tr>\n",
              "      <th>gender_of_respondent</th>\n",
              "      <td>0</td>\n",
              "      <td>2</td>\n",
              "      <td>['Female' 'Male']</td>\n",
              "      <td>object</td>\n",
              "    </tr>\n",
              "    <tr>\n",
              "      <th>The relathip with head</th>\n",
              "      <td>0</td>\n",
              "      <td>6</td>\n",
              "      <td>['Spouse' 'Head of Household' 'Other relative'...</td>\n",
              "      <td>object</td>\n",
              "    </tr>\n",
              "    <tr>\n",
              "      <th>marital_status</th>\n",
              "      <td>0</td>\n",
              "      <td>5</td>\n",
              "      <td>['Married/Living together' 'Widowed' 'Single/N...</td>\n",
              "      <td>object</td>\n",
              "    </tr>\n",
              "    <tr>\n",
              "      <th>Level of Educuation</th>\n",
              "      <td>0</td>\n",
              "      <td>7</td>\n",
              "      <td>['Secondary education' 'No formal education'\\n...</td>\n",
              "      <td>object</td>\n",
              "    </tr>\n",
              "    <tr>\n",
              "      <th>Type of Job</th>\n",
              "      <td>0</td>\n",
              "      <td>10</td>\n",
              "      <td>['Self employed' 'Government Dependent' 'Forma...</td>\n",
              "      <td>object</td>\n",
              "    </tr>\n",
              "  </tbody>\n",
              "</table>\n",
              "</div>"
            ],
            "text/plain": [
              "                        No. of NaN  ...    Types\n",
              "country                          0  ...   object\n",
              "year                             0  ...    int64\n",
              "uniqueid                         0  ...   object\n",
              "Has a Bank account               0  ...   object\n",
              "Type of Location                 0  ...   object\n",
              "Cell Phone Access                0  ...   object\n",
              "household_size                   0  ...  float64\n",
              "Respondent Age                   0  ...  float64\n",
              "gender_of_respondent             0  ...   object\n",
              "The relathip with head           0  ...   object\n",
              "marital_status                   0  ...   object\n",
              "Level of Educuation              0  ...   object\n",
              "Type of Job                      0  ...   object\n",
              "\n",
              "[13 rows x 4 columns]"
            ]
          },
          "metadata": {
            "tags": []
          },
          "execution_count": 53
        }
      ]
    },
    {
      "cell_type": "code",
      "metadata": {
        "id": "i4plGVpfpmB9",
        "outputId": "e272d658-f014-40dc-a3a0-633760955000",
        "colab": {
          "base_uri": "https://localhost:8080/",
          "height": 399
        }
      },
      "source": [
        "#Lists all the combinations of the columns that are less than 22 unique values\n",
        "\n",
        "u['Unique'] = ''\n",
        "\n",
        "for q, row in u.iterrows():\n",
        "  if row['Combinations'] < 22 and row['Combinations'] > 5:\n",
        "    print (fin[q].unique())\n",
        "    print('\\n')\n"
      ],
      "execution_count": 54,
      "outputs": [
        {
          "output_type": "stream",
          "text": [
            "[2018 2029 2056 2016 2039 2017]\n",
            "\n",
            "\n",
            "[ 3.  5.  8.  7.  1.  6.  4. 10.  2. 11.  9. 12. 16. 15. 13. 14. 21.  0.\n",
            " 18. 17. 20.]\n",
            "\n",
            "\n",
            "['Spouse' 'Head of Household' 'Other relative' 'Child' 'Parent'\n",
            " 'Other non-relatives']\n",
            "\n",
            "\n",
            "['Secondary education' 'No formal education'\n",
            " 'Vocational/Specialised training' 'Primary education'\n",
            " 'Tertiary education' 'Other/Dont know/RTA' '6']\n",
            "\n",
            "\n",
            "['Self employed' 'Government Dependent' 'Formally employed Private'\n",
            " 'Informally employed' 'Formally employed Government'\n",
            " 'Farming and Fishing' 'Remittance Dependent' 'Other Income'\n",
            " 'Dont Know/Refuse to answer' 'No Income']\n",
            "\n",
            "\n"
          ],
          "name": "stdout"
        }
      ]
    },
    {
      "cell_type": "markdown",
      "metadata": {
        "id": "1N63gE0j7crw"
      },
      "source": [
        "#External Data Source Validation"
      ]
    },
    {
      "cell_type": "markdown",
      "metadata": {
        "id": "bUqMHr5p7nRt"
      },
      "source": [
        "As mentioned, the evalidation of the data will be validated within itself. This is, if the ratio of the number within the dataset of samples with and without bank accounts has a delta of less than 4% (abitrary number) of the given ratio of the whole population which is 13.9%; the data shall be taken as valid."
      ]
    },
    {
      "cell_type": "code",
      "metadata": {
        "id": "CKLPug-68ZQe"
      },
      "source": [
        "r = fin.copy()\n",
        "\n",
        "r['count'] = 1\n",
        "\n",
        "r = r.groupby(['Has a Bank account']).sum()\n",
        "r = r.drop(columns = ['year', 'household_size', 'Respondent Age'])"
      ],
      "execution_count": 55,
      "outputs": []
    },
    {
      "cell_type": "code",
      "metadata": {
        "id": "xUBvPiEu91hB",
        "outputId": "e909362c-ea0b-4397-b4fb-5ede345fd9bb",
        "colab": {
          "base_uri": "https://localhost:8080/",
          "height": 0
        }
      },
      "source": [
        "print ('The percentage of the number of sample with bank accounts is:')\n",
        "print ((r.loc['Yes', 'count']/(r.loc['No', 'count']+r.loc['Yes', 'count']))* 100)"
      ],
      "execution_count": 56,
      "outputs": [
        {
          "output_type": "stream",
          "text": [
            "The percentage of the number of sample with bank accounts is:\n",
            "14.124148567022235\n"
          ],
          "name": "stdout"
        }
      ]
    },
    {
      "cell_type": "markdown",
      "metadata": {
        "id": "gYMLSx1H-vrO"
      },
      "source": [
        "The delta is approxiamately 2% which with the presumption; can be taken as valid data for analysis."
      ]
    },
    {
      "cell_type": "markdown",
      "metadata": {
        "id": "S6my-Cp2_k3y"
      },
      "source": [
        "#Tidying the dataset"
      ]
    },
    {
      "cell_type": "code",
      "metadata": {
        "id": "6gRi3aRus5Pt"
      },
      "source": [
        "fin = fin[fin['year'] < 2020]"
      ],
      "execution_count": 57,
      "outputs": []
    },
    {
      "cell_type": "code",
      "metadata": {
        "id": "sUb6zXqJtWdW",
        "outputId": "63e400f2-28ed-45d3-c330-5b2eaedeb118",
        "colab": {
          "base_uri": "https://localhost:8080/",
          "height": 0
        }
      },
      "source": [
        "fin.boxplot(['household_size'])"
      ],
      "execution_count": 58,
      "outputs": [
        {
          "output_type": "execute_result",
          "data": {
            "text/plain": [
              "<matplotlib.axes._subplots.AxesSubplot at 0x7efe9a4976a0>"
            ]
          },
          "metadata": {
            "tags": []
          },
          "execution_count": 58
        },
        {
          "output_type": "display_data",
          "data": {
            "image/png": "[encoded data removed]",
            "text/plain": [
              "<Figure size 432x288 with 1 Axes>"
            ]
          },
          "metadata": {
            "tags": [],
            "needs_background": "light"
          }
        }
      ]
    },
    {
      "cell_type": "code",
      "metadata": {
        "id": "5u9wJq9evMrP",
        "outputId": "50dbebd0-9dd8-4165-b1a9-eba7c6c7a6a0",
        "colab": {
          "base_uri": "https://localhost:8080/",
          "height": 0
        }
      },
      "source": [
        "fin.boxplot(['Respondent Age'])"
      ],
      "execution_count": 59,
      "outputs": [
        {
          "output_type": "execute_result",
          "data": {
            "text/plain": [
              "<matplotlib.axes._subplots.AxesSubplot at 0x7efe994405f8>"
            ]
          },
          "metadata": {
            "tags": []
          },
          "execution_count": 59
        },
        {
          "output_type": "display_data",
          "data": {
            "image/png": "[encoded data removed]",
            "text/plain": [
              "<Figure size 432x288 with 1 Axes>"
            ]
          },
          "metadata": {
            "tags": [],
            "needs_background": "light"
          }
        }
      ]
    },
    {
      "cell_type": "code",
      "metadata": {
        "id": "29ANh7yaveVH",
        "outputId": "a55ffad3-8790-40e6-d851-bc52cf8872bd",
        "colab": {
          "base_uri": "https://localhost:8080/",
          "height": 0
        }
      },
      "source": [
        "fin = fin[fin['Level of Educuation'] != '6']\n",
        "fin['Level of Educuation'].unique()"
      ],
      "execution_count": 60,
      "outputs": [
        {
          "output_type": "execute_result",
          "data": {
            "text/plain": [
              "array(['Secondary education', 'No formal education',\n",
              "       'Vocational/Specialised training', 'Primary education',\n",
              "       'Tertiary education', 'Other/Dont know/RTA'], dtype=object)"
            ]
          },
          "metadata": {
            "tags": []
          },
          "execution_count": 60
        }
      ]
    },
    {
      "cell_type": "code",
      "metadata": {
        "id": "Pb1B50K701Bk"
      },
      "source": [
        "out = ['household_size' , 'Respondent Age' ]\n",
        "for z in out:\n",
        "  q1 = fin[z].quantile(0.25)\n",
        "  q3 = fin[z].quantile(0.75)\n",
        "  iqr = q3 - q1\n",
        "  lim = iqr * 1.5\n",
        "  fin = fin [fin[z] >= (q1 - lim)]\n",
        "  fin = fin [fin[z] <= (q3 + lim)]"
      ],
      "execution_count": 61,
      "outputs": []
    },
    {
      "cell_type": "markdown",
      "metadata": {
        "id": "TUWusyKa_-fo"
      },
      "source": [
        "#Exploratory analysis"
      ]
    },
    {
      "cell_type": "markdown",
      "metadata": {
        "id": "TVJo8eXDCIpb"
      },
      "source": [
        "##Numerical data analysis"
      ]
    },
    {
      "cell_type": "markdown",
      "metadata": {
        "id": "Y68L0MQ-zuRv"
      },
      "source": [
        "Within this section the numerical data within the dataset is looked at. That is the number of persons per household and the age of the respondent. A caveat is also taken into account to which the ages are biased on the respondent being described as either 'Spouse' ,'Head of Household' or 'Parent' to which will act as an indicator for the size of the family. "
      ]
    },
    {
      "cell_type": "markdown",
      "metadata": {
        "id": "ZLZ9uBcD0pUW"
      },
      "source": [
        "An presumption is made that the older the respondent the higher the chace of them having a large household number. This is investigated here."
      ]
    },
    {
      "cell_type": "code",
      "metadata": {
        "id": "ebe6fwF9Szet"
      },
      "source": [
        "#Filtering the dataset so as to get the necessary records.\n",
        "l = ['Spouse' ,'Head of Household','Parent']\n",
        "h = fin[fin['The relathip with head'].isin(l)]"
      ],
      "execution_count": 62,
      "outputs": []
    },
    {
      "cell_type": "code",
      "metadata": {
        "id": "67_CgmMsd1fP",
        "outputId": "5681386e-3787-447e-b605-e0d1a1c7b7cd",
        "colab": {
          "base_uri": "https://localhost:8080/",
          "height": 173
        }
      },
      "source": [
        "#Gets the descriptive statistics for the column household size\n",
        "h['household_size'].describe()"
      ],
      "execution_count": 63,
      "outputs": [
        {
          "output_type": "execute_result",
          "data": {
            "text/plain": [
              "count    19749.000000\n",
              "mean         3.430604\n",
              "std          2.045935\n",
              "min          0.000000\n",
              "25%          2.000000\n",
              "50%          3.000000\n",
              "75%          5.000000\n",
              "max          9.000000\n",
              "Name: household_size, dtype: float64"
            ]
          },
          "metadata": {
            "tags": []
          },
          "execution_count": 63
        }
      ]
    },
    {
      "cell_type": "code",
      "metadata": {
        "id": "k71nI1d3d3vz",
        "outputId": "f5171ee0-0f0f-474a-860d-448494c58b10",
        "colab": {
          "base_uri": "https://localhost:8080/",
          "height": 173
        }
      },
      "source": [
        "#Gets the descriptive statistics for the column Respondent age\n",
        "h['Respondent Age'].describe()"
      ],
      "execution_count": 64,
      "outputs": [
        {
          "output_type": "execute_result",
          "data": {
            "text/plain": [
              "count    19749.000000\n",
              "mean        40.521950\n",
              "std         15.328147\n",
              "min         16.000000\n",
              "25%         29.000000\n",
              "50%         37.000000\n",
              "75%         50.000000\n",
              "max         83.000000\n",
              "Name: Respondent Age, dtype: float64"
            ]
          },
          "metadata": {
            "tags": []
          },
          "execution_count": 64
        }
      ]
    },
    {
      "cell_type": "code",
      "metadata": {
        "id": "kIq3sXZ2ef1n",
        "outputId": "c6dddf18-88af-4cb1-d5a0-0db9dbae622e",
        "colab": {
          "base_uri": "https://localhost:8080/",
          "height": 34
        }
      },
      "source": [
        "#Examining the relatioship between the two datapoints\n",
        "\n",
        "h[\"household_size\"].corr(h[\"Respondent Age\"], method=\"pearson\") "
      ],
      "execution_count": 65,
      "outputs": [
        {
          "output_type": "execute_result",
          "data": {
            "text/plain": [
              "-0.0300040673024741"
            ]
          },
          "metadata": {
            "tags": []
          },
          "execution_count": 65
        }
      ]
    },
    {
      "cell_type": "code",
      "metadata": {
        "id": "yjyBz-Qcq0rT",
        "outputId": "2f933cb1-803d-44ba-be93-d0b046ae0302",
        "colab": {
          "base_uri": "https://localhost:8080/",
          "height": 282
        }
      },
      "source": [
        "plt.scatter( h['Respondent Age'],h[\"household_size\"])"
      ],
      "execution_count": 66,
      "outputs": [
        {
          "output_type": "execute_result",
          "data": {
            "text/plain": [
              "<matplotlib.collections.PathCollection at 0x7efe993512e8>"
            ]
          },
          "metadata": {
            "tags": []
          },
          "execution_count": 66
        },
        {
          "output_type": "display_data",
          "data": {
            "image/png": "[encoded data removed]",
            "text/plain": [
              "<Figure size 432x288 with 1 Axes>"
            ]
          },
          "metadata": {
            "tags": [],
            "needs_background": "light"
          }
        }
      ]
    },
    {
      "cell_type": "markdown",
      "metadata": {
        "id": "6Ant1EM11wys"
      },
      "source": [
        "From the above we can tell that there is no relationship between the size of family [household] and the age of the respondent."
      ]
    },
    {
      "cell_type": "markdown",
      "metadata": {
        "id": "inzekrFQCMRY"
      },
      "source": [
        "##Visual data analysis"
      ]
    },
    {
      "cell_type": "markdown",
      "metadata": {
        "id": "N3qLADh-5evi"
      },
      "source": [
        "###Graphed data"
      ]
    },
    {
      "cell_type": "markdown",
      "metadata": {
        "id": "SGcfUUcG39IZ"
      },
      "source": [
        "Percentage of the population that has a bank account."
      ]
    },
    {
      "cell_type": "code",
      "metadata": {
        "id": "jJfv_FYW9Uct",
        "outputId": "bf512473-640f-4e28-aa53-7df93715e49d",
        "colab": {
          "base_uri": "https://localhost:8080/",
          "height": 352
        }
      },
      "source": [
        "g = fin.copy()\n",
        "g['Count'] = 1\n",
        "ban = g.groupby('Has a Bank account').sum()\n",
        "plt.pie(ban['Count'], labels= ban.index, autopct = '%1.1f%%')"
      ],
      "execution_count": 67,
      "outputs": [
        {
          "output_type": "execute_result",
          "data": {
            "text/plain": [
              "([<matplotlib.patches.Wedge at 0x7efe99328860>,\n",
              "  <matplotlib.patches.Wedge at 0x7efe99328fd0>],\n",
              " [Text(-0.9919134002887668, 0.4755079455987846, 'No'),\n",
              "  Text(0.9919133780286321, -0.47550799203360217, 'Yes')],\n",
              " [Text(-0.5410436728847818, 0.2593679703266098, '85.8%'),\n",
              "  Text(0.5410436607428901, -0.2593679956546921, '14.2%')])"
            ]
          },
          "metadata": {
            "tags": []
          },
          "execution_count": 67
        },
        {
          "output_type": "display_data",
          "data": {
            "image/png": "[encoded data removed]",
            "text/plain": [
              "<Figure size 432x288 with 1 Axes>"
            ]
          },
          "metadata": {
            "tags": []
          }
        }
      ]
    },
    {
      "cell_type": "markdown",
      "metadata": {
        "id": "0onvMf4BA-Cy"
      },
      "source": [
        "Comparing the population per country of the available data."
      ]
    },
    {
      "cell_type": "code",
      "metadata": {
        "id": "2bT0QY4GAvqF",
        "outputId": "782aab35-e4cd-4a8a-f06f-f10d3fa07662",
        "colab": {
          "base_uri": "https://localhost:8080/",
          "height": 296
        }
      },
      "source": [
        "g = fin.copy()\n",
        "g['Count'] = 1 \n",
        "y = g.groupby(['country']).sum()\n",
        "y.drop(columns=['year', 'household_size', 'Respondent Age'] , inplace =True)\n",
        "\n",
        "sns.barplot( x = y.index , y = 'Count', data = y)"
      ],
      "execution_count": 139,
      "outputs": [
        {
          "output_type": "execute_result",
          "data": {
            "text/plain": [
              "<matplotlib.axes._subplots.AxesSubplot at 0x7efe92c58ef0>"
            ]
          },
          "metadata": {
            "tags": []
          },
          "execution_count": 139
        },
        {
          "output_type": "display_data",
          "data": {
            "image/png": "[encoded data removed]",
            "text/plain": [
              "<Figure size 432x288 with 1 Axes>"
            ]
          },
          "metadata": {
            "tags": [],
            "needs_background": "light"
          }
        }
      ]
    },
    {
      "cell_type": "markdown",
      "metadata": {
        "id": "vhHyqR-v4q5A"
      },
      "source": [
        "The ratio of the population with bank accounts in all the countries in the dataset."
      ]
    },
    {
      "cell_type": "code",
      "metadata": {
        "id": "vPzo5oIcN98u",
        "outputId": "243ba12c-3d22-4034-88a7-aee335c3da91",
        "colab": {
          "base_uri": "https://localhost:8080/",
          "height": 296
        }
      },
      "source": [
        "g = fin.copy()\n",
        "g['Count'] = 1 \n",
        "y = g.groupby(['country','Has a Bank account']).sum()\n",
        "y.drop(columns=['year', 'household_size', 'Respondent Age'] , inplace =True)\n",
        "\n",
        "y['Bank'] = y.index.get_level_values(1)\n",
        "sns.barplot( x = y.index.get_level_values(0) , y = 'Count' ,hue = 'Bank' , data = y)"
      ],
      "execution_count": 69,
      "outputs": [
        {
          "output_type": "execute_result",
          "data": {
            "text/plain": [
              "<matplotlib.axes._subplots.AxesSubplot at 0x7efe99252dd8>"
            ]
          },
          "metadata": {
            "tags": []
          },
          "execution_count": 69
        },
        {
          "output_type": "display_data",
          "data": {
            "image/png": "[encoded data removed]",
            "text/plain": [
              "<Figure size 432x288 with 1 Axes>"
            ]
          },
          "metadata": {
            "tags": [],
            "needs_background": "light"
          }
        }
      ]
    },
    {
      "cell_type": "markdown",
      "metadata": {
        "id": "S0RehLaC4ESK"
      },
      "source": [
        "The ratio of the rural to urban population sampled with the data."
      ]
    },
    {
      "cell_type": "code",
      "metadata": {
        "id": "_xS2MCL16t2j",
        "outputId": "3cd016eb-b9db-4bbf-8c10-033588f35a53",
        "colab": {
          "base_uri": "https://localhost:8080/",
          "height": 296
        }
      },
      "source": [
        "g = fin.copy()\n",
        "g['Count'] = 1 \n",
        "y = g.groupby(['country','Type of Location']).sum()\n",
        "y.drop(columns=['year', 'household_size', 'Respondent Age'] , inplace =True)\n",
        "\n",
        "y['Location'] = y.index.get_level_values(1)\n",
        "sns.barplot( x = y.index.get_level_values(0) , y = 'Count' ,hue = 'Location' , data = y)"
      ],
      "execution_count": 68,
      "outputs": [
        {
          "output_type": "execute_result",
          "data": {
            "text/plain": [
              "<matplotlib.axes._subplots.AxesSubplot at 0x7efe992ca748>"
            ]
          },
          "metadata": {
            "tags": []
          },
          "execution_count": 68
        },
        {
          "output_type": "display_data",
          "data": {
            "image/png": "[encoded data removed]",
            "text/plain": [
              "<Figure size 432x288 with 1 Axes>"
            ]
          },
          "metadata": {
            "tags": [],
            "needs_background": "light"
          }
        }
      ]
    },
    {
      "cell_type": "markdown",
      "metadata": {
        "id": "WcLSt3V044-d"
      },
      "source": [
        "Source of income compared to the state of having a bank account."
      ]
    },
    {
      "cell_type": "code",
      "metadata": {
        "id": "f74pT__COnf2",
        "outputId": "cd103015-7028-48d5-f046-35701587e955",
        "colab": {
          "base_uri": "https://localhost:8080/",
          "height": 604
        }
      },
      "source": [
        "g = fin.copy()\n",
        "g['Count'] = 1 \n",
        "y = g.groupby(['Type of Job','Has a Bank account']).sum()\n",
        "y.drop(columns=['year', 'household_size', 'Respondent Age'] , inplace =True)\n",
        "\n",
        "y['Bank'] = y.index.get_level_values(1)\n",
        "job = sns.barplot( x = y.index.get_level_values(0) , y = 'Count' ,hue = 'Bank' , data = y)\n",
        "job.set_xticklabels(job.get_xticklabels() , rotation = 90)"
      ],
      "execution_count": 70,
      "outputs": [
        {
          "output_type": "execute_result",
          "data": {
            "text/plain": [
              "[Text(0, 0, 'Dont Know/Refuse to answer'),\n",
              " Text(0, 0, 'Farming and Fishing'),\n",
              " Text(0, 0, 'Formally employed Government'),\n",
              " Text(0, 0, 'Formally employed Private'),\n",
              " Text(0, 0, 'Government Dependent'),\n",
              " Text(0, 0, 'Informally employed'),\n",
              " Text(0, 0, 'No Income'),\n",
              " Text(0, 0, 'Other Income'),\n",
              " Text(0, 0, 'Remittance Dependent'),\n",
              " Text(0, 0, 'Self employed')]"
            ]
          },
          "metadata": {
            "tags": []
          },
          "execution_count": 70
        },
        {
          "output_type": "display_data",
          "data": {
            "image/png": "[encoded data removed]",
            "text/plain": [
              "<Figure size 432x288 with 1 Axes>"
            ]
          },
          "metadata": {
            "tags": [],
            "needs_background": "light"
          }
        }
      ]
    },
    {
      "cell_type": "markdown",
      "metadata": {
        "id": "QaSfF5QW5Pog"
      },
      "source": [
        "The level of education and the ration of the state of having a bank account."
      ]
    },
    {
      "cell_type": "code",
      "metadata": {
        "id": "Mv9RnIFQPCXH",
        "outputId": "433ac9e8-ce9c-40be-ca69-23af9dec09b4",
        "colab": {
          "base_uri": "https://localhost:8080/",
          "height": 527
        }
      },
      "source": [
        "g = fin.copy()\n",
        "g['Count'] = 1 \n",
        "y = g.groupby(['Level of Educuation','Has a Bank account']).sum()\n",
        "y.drop(columns=['year', 'household_size', 'Respondent Age'] , inplace =True)\n",
        "\n",
        "y['Bank'] = y.index.get_level_values(1)\n",
        "edu = sns.barplot( x = y.index.get_level_values(0) , y = 'Count' ,hue = 'Bank' , data = y)\n",
        "edu.set_xticklabels(edu.get_xticklabels() , rotation = 90)\n"
      ],
      "execution_count": 71,
      "outputs": [
        {
          "output_type": "execute_result",
          "data": {
            "text/plain": [
              "[Text(0, 0, 'No formal education'),\n",
              " Text(0, 0, 'Other/Dont know/RTA'),\n",
              " Text(0, 0, 'Primary education'),\n",
              " Text(0, 0, 'Secondary education'),\n",
              " Text(0, 0, 'Tertiary education'),\n",
              " Text(0, 0, 'Vocational/Specialised training')]"
            ]
          },
          "metadata": {
            "tags": []
          },
          "execution_count": 71
        },
        {
          "output_type": "display_data",
          "data": {
            "image/png": "[encoded data removed]",
            "text/plain": [
              "<Figure size 432x288 with 1 Axes>"
            ]
          },
          "metadata": {
            "tags": [],
            "needs_background": "light"
          }
        }
      ]
    },
    {
      "cell_type": "markdown",
      "metadata": {
        "id": "AziUYcgb5kGb"
      },
      "source": [
        "###Summary from the graphed data"
      ]
    },
    {
      "cell_type": "markdown",
      "metadata": {
        "id": "8O7_Eyv45rGi"
      },
      "source": [
        "From the above data we can visually note the following:\n",
        "1. Majority of the population do not have bank accounts for the usable information from the dataset.\n",
        "2. The popularity of bank accounts within the dataset according to the countries is in the order: Kenya, Rwandam, Tanzania followed by Uganda.\n",
        "3. There is a bias on the samples from rural areas which according to the region have less and more inaccessible banks thus biasing the whole of the data derived from the dataset towards rural setting.\n",
        "4. Formally employed samples have a more neutral ratio of having bank accounts.\n",
        "5. By the ratios of the educational levels of the population with the state of having a bank account; it seems there is a popularity with having a bank account with the higher level of education."
      ]
    },
    {
      "cell_type": "markdown",
      "metadata": {
        "id": "OZQmak0C4GmO"
      },
      "source": [
        "##Predictive data analysis"
      ]
    },
    {
      "cell_type": "code",
      "metadata": {
        "id": "A6FG_qwyrLPp",
        "outputId": "333b5bc2-853b-43d8-e981-af4d46c80dbf",
        "colab": {
          "base_uri": "https://localhost:8080/",
          "height": 104
        }
      },
      "source": [
        "#copys the dataset to a new new variable for the section\n",
        "l = fin.copy()\n",
        "l.columns"
      ],
      "execution_count": 112,
      "outputs": [
        {
          "output_type": "execute_result",
          "data": {
            "text/plain": [
              "Index(['country', 'year', 'uniqueid', 'Has a Bank account', 'Type of Location',\n",
              "       'Cell Phone Access', 'household_size', 'Respondent Age',\n",
              "       'gender_of_respondent', 'The relathip with head', 'marital_status',\n",
              "       'Level of Educuation', 'Type of Job'],\n",
              "      dtype='object')"
            ]
          },
          "metadata": {
            "tags": []
          },
          "execution_count": 112
        }
      ]
    },
    {
      "cell_type": "code",
      "metadata": {
        "id": "JH6eaMwmrK2o"
      },
      "source": [
        "#Drops the columns that dont affect the outcome of the state of having a bank account.\n",
        "l.drop(columns= ['year', 'uniqueid'], inplace = True)\n",
        "l.columns\n",
        "yn = l['Has a Bank account']"
      ],
      "execution_count": 113,
      "outputs": []
    },
    {
      "cell_type": "code",
      "metadata": {
        "id": "Xl-whXFizebQ"
      },
      "source": [
        "#Making a dictionary for the values of the label encoder\n",
        "\n",
        "ldict = {}\n",
        "co = l.columns\n",
        "for r in co:\n",
        "  l[r] = le.fit_transform(l[r])\n",
        "  ldict[r] =list(le.classes_)"
      ],
      "execution_count": 114,
      "outputs": []
    },
    {
      "cell_type": "code",
      "metadata": {
        "id": "hYX1h-pVHpGT",
        "outputId": "8d9fb9ed-17e1-4d28-8401-be13a55b2784",
        "colab": {
          "base_uri": "https://localhost:8080/",
          "height": 496
        }
      },
      "source": [
        "#Converts most of the object data [Words and descriptions] into a mathematically manipulatable number.\n",
        "\n",
        "sam = l.drop(columns=['Has a Bank account'])\n",
        "unsam = l['Has a Bank account']\n",
        "sam"
      ],
      "execution_count": 116,
      "outputs": [
        {
          "output_type": "execute_result",
          "data": {
            "text/html": [
              "<div>\n",
              "<style scoped>\n",
              "    .dataframe tbody tr th:only-of-type {\n",
              "        vertical-align: middle;\n",
              "    }\n",
              "\n",
              "    .dataframe tbody tr th {\n",
              "        vertical-align: top;\n",
              "    }\n",
              "\n",
              "    .dataframe thead th {\n",
              "        text-align: right;\n",
              "    }\n",
              "</style>\n",
              "<table border=\"1\" class=\"dataframe\">\n",
              "  <thead>\n",
              "    <tr style=\"text-align: right;\">\n",
              "      <th></th>\n",
              "      <th>country</th>\n",
              "      <th>Type of Location</th>\n",
              "      <th>Cell Phone Access</th>\n",
              "      <th>household_size</th>\n",
              "      <th>Respondent Age</th>\n",
              "      <th>gender_of_respondent</th>\n",
              "      <th>The relathip with head</th>\n",
              "      <th>marital_status</th>\n",
              "      <th>Level of Educuation</th>\n",
              "      <th>Type of Job</th>\n",
              "    </tr>\n",
              "  </thead>\n",
              "  <tbody>\n",
              "    <tr>\n",
              "      <th>0</th>\n",
              "      <td>0</td>\n",
              "      <td>0</td>\n",
              "      <td>1</td>\n",
              "      <td>3</td>\n",
              "      <td>8</td>\n",
              "      <td>0</td>\n",
              "      <td>5</td>\n",
              "      <td>2</td>\n",
              "      <td>3</td>\n",
              "      <td>9</td>\n",
              "    </tr>\n",
              "    <tr>\n",
              "      <th>1</th>\n",
              "      <td>0</td>\n",
              "      <td>0</td>\n",
              "      <td>0</td>\n",
              "      <td>5</td>\n",
              "      <td>54</td>\n",
              "      <td>0</td>\n",
              "      <td>1</td>\n",
              "      <td>4</td>\n",
              "      <td>0</td>\n",
              "      <td>4</td>\n",
              "    </tr>\n",
              "    <tr>\n",
              "      <th>2</th>\n",
              "      <td>0</td>\n",
              "      <td>1</td>\n",
              "      <td>1</td>\n",
              "      <td>5</td>\n",
              "      <td>10</td>\n",
              "      <td>1</td>\n",
              "      <td>3</td>\n",
              "      <td>3</td>\n",
              "      <td>5</td>\n",
              "      <td>9</td>\n",
              "    </tr>\n",
              "    <tr>\n",
              "      <th>3</th>\n",
              "      <td>0</td>\n",
              "      <td>0</td>\n",
              "      <td>1</td>\n",
              "      <td>5</td>\n",
              "      <td>18</td>\n",
              "      <td>0</td>\n",
              "      <td>1</td>\n",
              "      <td>2</td>\n",
              "      <td>2</td>\n",
              "      <td>3</td>\n",
              "    </tr>\n",
              "    <tr>\n",
              "      <th>4</th>\n",
              "      <td>0</td>\n",
              "      <td>1</td>\n",
              "      <td>0</td>\n",
              "      <td>8</td>\n",
              "      <td>10</td>\n",
              "      <td>1</td>\n",
              "      <td>0</td>\n",
              "      <td>3</td>\n",
              "      <td>2</td>\n",
              "      <td>5</td>\n",
              "    </tr>\n",
              "    <tr>\n",
              "      <th>...</th>\n",
              "      <td>...</td>\n",
              "      <td>...</td>\n",
              "      <td>...</td>\n",
              "      <td>...</td>\n",
              "      <td>...</td>\n",
              "      <td>...</td>\n",
              "      <td>...</td>\n",
              "      <td>...</td>\n",
              "      <td>...</td>\n",
              "      <td>...</td>\n",
              "    </tr>\n",
              "    <tr>\n",
              "      <th>23512</th>\n",
              "      <td>3</td>\n",
              "      <td>0</td>\n",
              "      <td>0</td>\n",
              "      <td>2</td>\n",
              "      <td>41</td>\n",
              "      <td>0</td>\n",
              "      <td>1</td>\n",
              "      <td>0</td>\n",
              "      <td>0</td>\n",
              "      <td>7</td>\n",
              "    </tr>\n",
              "    <tr>\n",
              "      <th>23519</th>\n",
              "      <td>3</td>\n",
              "      <td>0</td>\n",
              "      <td>1</td>\n",
              "      <td>4</td>\n",
              "      <td>32</td>\n",
              "      <td>0</td>\n",
              "      <td>1</td>\n",
              "      <td>0</td>\n",
              "      <td>0</td>\n",
              "      <td>7</td>\n",
              "    </tr>\n",
              "    <tr>\n",
              "      <th>23520</th>\n",
              "      <td>3</td>\n",
              "      <td>0</td>\n",
              "      <td>1</td>\n",
              "      <td>2</td>\n",
              "      <td>11</td>\n",
              "      <td>0</td>\n",
              "      <td>1</td>\n",
              "      <td>3</td>\n",
              "      <td>3</td>\n",
              "      <td>7</td>\n",
              "    </tr>\n",
              "    <tr>\n",
              "      <th>23521</th>\n",
              "      <td>3</td>\n",
              "      <td>0</td>\n",
              "      <td>1</td>\n",
              "      <td>5</td>\n",
              "      <td>11</td>\n",
              "      <td>0</td>\n",
              "      <td>4</td>\n",
              "      <td>4</td>\n",
              "      <td>2</td>\n",
              "      <td>7</td>\n",
              "    </tr>\n",
              "    <tr>\n",
              "      <th>23522</th>\n",
              "      <td>3</td>\n",
              "      <td>1</td>\n",
              "      <td>1</td>\n",
              "      <td>7</td>\n",
              "      <td>14</td>\n",
              "      <td>0</td>\n",
              "      <td>4</td>\n",
              "      <td>0</td>\n",
              "      <td>3</td>\n",
              "      <td>9</td>\n",
              "    </tr>\n",
              "  </tbody>\n",
              "</table>\n",
              "<p>22700 rows × 10 columns</p>\n",
              "</div>"
            ],
            "text/plain": [
              "       country  Type of Location  ...  Level of Educuation  Type of Job\n",
              "0            0                 0  ...                    3            9\n",
              "1            0                 0  ...                    0            4\n",
              "2            0                 1  ...                    5            9\n",
              "3            0                 0  ...                    2            3\n",
              "4            0                 1  ...                    2            5\n",
              "...        ...               ...  ...                  ...          ...\n",
              "23512        3                 0  ...                    0            7\n",
              "23519        3                 0  ...                    0            7\n",
              "23520        3                 0  ...                    3            7\n",
              "23521        3                 0  ...                    2            7\n",
              "23522        3                 1  ...                    3            9\n",
              "\n",
              "[22700 rows x 10 columns]"
            ]
          },
          "metadata": {
            "tags": []
          },
          "execution_count": 116
        }
      ]
    },
    {
      "cell_type": "markdown",
      "metadata": {
        "id": "95HbEOto4PrW"
      },
      "source": [
        "###Prinicple Component Analysis"
      ]
    },
    {
      "cell_type": "markdown",
      "metadata": {
        "id": "oml0kwQk_IXF"
      },
      "source": [
        "The variable data within the dataset is processed and computed to find the variance each of the attributes has on the state of having a bank account."
      ]
    },
    {
      "cell_type": "code",
      "metadata": {
        "id": "Fe2hQlvoKKmn"
      },
      "source": [
        "samp = sam.copy()"
      ],
      "execution_count": 117,
      "outputs": []
    },
    {
      "cell_type": "code",
      "metadata": {
        "id": "RCGwFIl3INAs",
        "outputId": "5f070660-db42-4dfa-89bf-ad3d62909126",
        "colab": {
          "base_uri": "https://localhost:8080/",
          "height": 243
        }
      },
      "source": [
        "from sklearn.preprocessing import StandardScaler\n",
        "\n",
        "sc = StandardScaler()\n",
        "samp = sc.fit_transform(samp)\n",
        "samp"
      ],
      "execution_count": 118,
      "outputs": [
        {
          "output_type": "execute_result",
          "data": {
            "text/plain": [
              "array([[-1.30056388, -0.80337069,  0.58114844, ..., -0.38411351,\n",
              "         0.82475002,  1.16028809],\n",
              "       [-1.30056388, -0.80337069, -1.72073075, ...,  1.62264751,\n",
              "        -1.67738729, -0.45714105],\n",
              "       [-1.30056388,  1.24475539,  0.58114844, ...,  0.619267  ,\n",
              "         2.49284155,  1.16028809],\n",
              "       ...,\n",
              "       [ 1.96945274, -0.80337069,  0.58114844, ...,  0.619267  ,\n",
              "         0.82475002,  0.51331643],\n",
              "       [ 1.96945274, -0.80337069,  0.58114844, ...,  1.62264751,\n",
              "        -0.00929575,  0.51331643],\n",
              "       [ 1.96945274,  1.24475539,  0.58114844, ..., -2.39087453,\n",
              "         0.82475002,  1.16028809]])"
            ]
          },
          "metadata": {
            "tags": []
          },
          "execution_count": 118
        }
      ]
    },
    {
      "cell_type": "code",
      "metadata": {
        "id": "0QBfHHOiKahy",
        "outputId": "da9df2d6-9c50-43b5-df1b-2dd9ab79d385",
        "colab": {
          "base_uri": "https://localhost:8080/",
          "height": 52
        }
      },
      "source": [
        "from sklearn.decomposition import PCA\n",
        "\n",
        "pca = PCA()\n",
        "samp = pca.fit_transform(samp)\n",
        "\n",
        "ev = pca.explained_variance_ratio_\n",
        "\n",
        "ev"
      ],
      "execution_count": 119,
      "outputs": [
        {
          "output_type": "execute_result",
          "data": {
            "text/plain": [
              "array([0.19271175, 0.1606037 , 0.15475363, 0.10182862, 0.08255872,\n",
              "       0.08095657, 0.07219888, 0.05725031, 0.0538095 , 0.04332833])"
            ]
          },
          "metadata": {
            "tags": []
          },
          "execution_count": 119
        }
      ]
    },
    {
      "cell_type": "code",
      "metadata": {
        "id": "T4ZU0MxzKVi3",
        "outputId": "ac488f18-d1c1-4cf0-e499-4eff43e2662d",
        "colab": {
          "base_uri": "https://localhost:8080/",
          "height": 139
        }
      },
      "source": [
        "from sklearn.decomposition import PCA\n",
        "\n",
        "pca = PCA(n_components=1)\n",
        "samp_pca = pca.fit_transform(samp)\n",
        "samp_pca"
      ],
      "execution_count": 120,
      "outputs": [
        {
          "output_type": "execute_result",
          "data": {
            "text/plain": [
              "array([[ 0.17010939],\n",
              "       [ 0.63475185],\n",
              "       [-0.00439116],\n",
              "       ...,\n",
              "       [-1.05156807],\n",
              "       [-0.86222827],\n",
              "       [-1.08532194]])"
            ]
          },
          "metadata": {
            "tags": []
          },
          "execution_count": 120
        }
      ]
    },
    {
      "cell_type": "markdown",
      "metadata": {
        "id": "mRD_3n6I9pc0"
      },
      "source": [
        "The weighting of the attributes that are used in finding the PCA are as follows:"
      ]
    },
    {
      "cell_type": "code",
      "metadata": {
        "id": "z04t7mkq9zdx",
        "outputId": "5e478e88-bd9f-419f-8a25-155642c05d10",
        "colab": {
          "base_uri": "https://localhost:8080/",
          "height": 52
        }
      },
      "source": [
        "ev"
      ],
      "execution_count": 135,
      "outputs": [
        {
          "output_type": "execute_result",
          "data": {
            "text/plain": [
              "array([0.19271175, 0.1606037 , 0.15475363, 0.10182862, 0.08255872,\n",
              "       0.08095657, 0.07219888, 0.05725031, 0.0538095 , 0.04332833])"
            ]
          },
          "metadata": {
            "tags": []
          },
          "execution_count": 135
        }
      ]
    },
    {
      "cell_type": "markdown",
      "metadata": {
        "id": "r7b_oqxz4Wm2"
      },
      "source": [
        "###Linear Discriminant Analysis"
      ]
    },
    {
      "cell_type": "markdown",
      "metadata": {
        "id": "Rcv7yEGj_yns"
      },
      "source": [
        "The variable data within the dataset is processed and computed to find the variance the state of having a bank account has relative to the available data within the datase.."
      ]
    },
    {
      "cell_type": "code",
      "metadata": {
        "id": "dJ_5q_uwJGDU"
      },
      "source": [
        "saml = sam.copy()"
      ],
      "execution_count": 121,
      "outputs": []
    },
    {
      "cell_type": "code",
      "metadata": {
        "id": "a78bEr6D54kJ",
        "outputId": "5a6ffc09-3b7c-42a6-c587-dbd0606c52eb",
        "colab": {
          "base_uri": "https://localhost:8080/",
          "height": 139
        }
      },
      "source": [
        "from sklearn.preprocessing import StandardScaler\n",
        "sc = StandardScaler()\n",
        "saml = sc.fit_transform(saml)\n",
        "\n",
        "from sklearn.discriminant_analysis import LinearDiscriminantAnalysis as LDA\n",
        "lda = LDA(n_components=1)\n",
        "saml = lda.fit_transform(saml, unsam)\n",
        "saml"
      ],
      "execution_count": 122,
      "outputs": [
        {
          "output_type": "execute_result",
          "data": {
            "text/plain": [
              "array([[ 0.60376623],\n",
              "       [-1.23631839],\n",
              "       [ 2.74086959],\n",
              "       ...,\n",
              "       [-0.39311242],\n",
              "       [-1.22404067],\n",
              "       [ 0.11957138]])"
            ]
          },
          "metadata": {
            "tags": []
          },
          "execution_count": 122
        }
      ]
    },
    {
      "cell_type": "markdown",
      "metadata": {
        "id": "ysnGcFZvPG6L"
      },
      "source": [
        "#Implementing the solution"
      ]
    },
    {
      "cell_type": "markdown",
      "metadata": {
        "id": "A4HSKuYFAD2Z"
      },
      "source": [
        "Using the data that has been processed above. The singular dimension of the data is now used to predict the outcome of new samples that will be collected."
      ]
    },
    {
      "cell_type": "markdown",
      "metadata": {
        "id": "VBOFQFoyR_1U"
      },
      "source": [
        "##PCA"
      ]
    },
    {
      "cell_type": "code",
      "metadata": {
        "id": "Iqt64r0MQovd"
      },
      "source": [
        "from sklearn.model_selection import train_test_split\n",
        "samp_train, samp_test, unsam_train, unsam_test = train_test_split(samp, yn, test_size=0.2, random_state=0)"
      ],
      "execution_count": 132,
      "outputs": []
    },
    {
      "cell_type": "code",
      "metadata": {
        "id": "-GMIFWSQT4Mr"
      },
      "source": [
        "from sklearn.ensemble import RandomForestClassifier\n",
        "\n",
        "classifier = RandomForestClassifier(max_depth=2, random_state=0)\n",
        "classifier.fit(samp_train, unsam_train)\n",
        "samp_pred = classifier.predict(samp_test)"
      ],
      "execution_count": 133,
      "outputs": []
    },
    {
      "cell_type": "code",
      "metadata": {
        "id": "qAUOE4wsUo5q",
        "outputId": "6109461e-6a9d-4817-90a9-3eff1b8d6844",
        "colab": {
          "base_uri": "https://localhost:8080/",
          "height": 400
        }
      },
      "source": [
        "from sklearn.metrics import confusion_matrix\n",
        "from sklearn.metrics import accuracy_score\n",
        "\n",
        "cm = confusion_matrix(unsam_train, samp_pred)\n",
        "\n",
        "print('Accuracy' + str(accuracy_score(y_test, y_pred)))"
      ],
      "execution_count": 134,
      "outputs": [
        {
          "output_type": "error",
          "ename": "ValueError",
          "evalue": "ignored",
          "traceback": [
            "\u001b[0;31m---------------------------------------------------------------------------\u001b[0m",
            "\u001b[0;31mValueError\u001b[0m                                Traceback (most recent call last)",
            "\u001b[0;32m<ipython-input-134-593c35a3d6f7>\u001b[0m in \u001b[0;36m<module>\u001b[0;34m()\u001b[0m\n\u001b[1;32m      2\u001b[0m \u001b[0;32mfrom\u001b[0m \u001b[0msklearn\u001b[0m\u001b[0;34m.\u001b[0m\u001b[0mmetrics\u001b[0m \u001b[0;32mimport\u001b[0m \u001b[0maccuracy_score\u001b[0m\u001b[0;34m\u001b[0m\u001b[0;34m\u001b[0m\u001b[0m\n\u001b[1;32m      3\u001b[0m \u001b[0;34m\u001b[0m\u001b[0m\n\u001b[0;32m----> 4\u001b[0;31m \u001b[0mcm\u001b[0m \u001b[0;34m=\u001b[0m \u001b[0mconfusion_matrix\u001b[0m\u001b[0;34m(\u001b[0m\u001b[0munsam_train\u001b[0m\u001b[0;34m,\u001b[0m \u001b[0msamp_pred\u001b[0m\u001b[0;34m)\u001b[0m\u001b[0;34m\u001b[0m\u001b[0;34m\u001b[0m\u001b[0m\n\u001b[0m\u001b[1;32m      5\u001b[0m \u001b[0;34m\u001b[0m\u001b[0m\n\u001b[1;32m      6\u001b[0m \u001b[0mprint\u001b[0m\u001b[0;34m(\u001b[0m\u001b[0;34m'Accuracy'\u001b[0m \u001b[0;34m+\u001b[0m \u001b[0mstr\u001b[0m\u001b[0;34m(\u001b[0m\u001b[0maccuracy_score\u001b[0m\u001b[0;34m(\u001b[0m\u001b[0my_test\u001b[0m\u001b[0;34m,\u001b[0m \u001b[0my_pred\u001b[0m\u001b[0;34m)\u001b[0m\u001b[0;34m)\u001b[0m\u001b[0;34m)\u001b[0m\u001b[0;34m\u001b[0m\u001b[0;34m\u001b[0m\u001b[0m\n",
            "\u001b[0;32m/usr/local/lib/python3.6/dist-packages/sklearn/metrics/_classification.py\u001b[0m in \u001b[0;36mconfusion_matrix\u001b[0;34m(y_true, y_pred, labels, sample_weight, normalize)\u001b[0m\n\u001b[1;32m    266\u001b[0m \u001b[0;34m\u001b[0m\u001b[0m\n\u001b[1;32m    267\u001b[0m     \"\"\"\n\u001b[0;32m--> 268\u001b[0;31m     \u001b[0my_type\u001b[0m\u001b[0;34m,\u001b[0m \u001b[0my_true\u001b[0m\u001b[0;34m,\u001b[0m \u001b[0my_pred\u001b[0m \u001b[0;34m=\u001b[0m \u001b[0m_check_targets\u001b[0m\u001b[0;34m(\u001b[0m\u001b[0my_true\u001b[0m\u001b[0;34m,\u001b[0m \u001b[0my_pred\u001b[0m\u001b[0;34m)\u001b[0m\u001b[0;34m\u001b[0m\u001b[0;34m\u001b[0m\u001b[0m\n\u001b[0m\u001b[1;32m    269\u001b[0m     \u001b[0;32mif\u001b[0m \u001b[0my_type\u001b[0m \u001b[0;32mnot\u001b[0m \u001b[0;32min\u001b[0m \u001b[0;34m(\u001b[0m\u001b[0;34m\"binary\"\u001b[0m\u001b[0;34m,\u001b[0m \u001b[0;34m\"multiclass\"\u001b[0m\u001b[0;34m)\u001b[0m\u001b[0;34m:\u001b[0m\u001b[0;34m\u001b[0m\u001b[0;34m\u001b[0m\u001b[0m\n\u001b[1;32m    270\u001b[0m         \u001b[0;32mraise\u001b[0m \u001b[0mValueError\u001b[0m\u001b[0;34m(\u001b[0m\u001b[0;34m\"%s is not supported\"\u001b[0m \u001b[0;34m%\u001b[0m \u001b[0my_type\u001b[0m\u001b[0;34m)\u001b[0m\u001b[0;34m\u001b[0m\u001b[0;34m\u001b[0m\u001b[0m\n",
            "\u001b[0;32m/usr/local/lib/python3.6/dist-packages/sklearn/metrics/_classification.py\u001b[0m in \u001b[0;36m_check_targets\u001b[0;34m(y_true, y_pred)\u001b[0m\n\u001b[1;32m     78\u001b[0m     \u001b[0my_pred\u001b[0m \u001b[0;34m:\u001b[0m \u001b[0marray\u001b[0m \u001b[0;32mor\u001b[0m \u001b[0mindicator\u001b[0m \u001b[0mmatrix\u001b[0m\u001b[0;34m\u001b[0m\u001b[0;34m\u001b[0m\u001b[0m\n\u001b[1;32m     79\u001b[0m     \"\"\"\n\u001b[0;32m---> 80\u001b[0;31m     \u001b[0mcheck_consistent_length\u001b[0m\u001b[0;34m(\u001b[0m\u001b[0my_true\u001b[0m\u001b[0;34m,\u001b[0m \u001b[0my_pred\u001b[0m\u001b[0;34m)\u001b[0m\u001b[0;34m\u001b[0m\u001b[0;34m\u001b[0m\u001b[0m\n\u001b[0m\u001b[1;32m     81\u001b[0m     \u001b[0mtype_true\u001b[0m \u001b[0;34m=\u001b[0m \u001b[0mtype_of_target\u001b[0m\u001b[0;34m(\u001b[0m\u001b[0my_true\u001b[0m\u001b[0;34m)\u001b[0m\u001b[0;34m\u001b[0m\u001b[0;34m\u001b[0m\u001b[0m\n\u001b[1;32m     82\u001b[0m     \u001b[0mtype_pred\u001b[0m \u001b[0;34m=\u001b[0m \u001b[0mtype_of_target\u001b[0m\u001b[0;34m(\u001b[0m\u001b[0my_pred\u001b[0m\u001b[0;34m)\u001b[0m\u001b[0;34m\u001b[0m\u001b[0;34m\u001b[0m\u001b[0m\n",
            "\u001b[0;32m/usr/local/lib/python3.6/dist-packages/sklearn/utils/validation.py\u001b[0m in \u001b[0;36mcheck_consistent_length\u001b[0;34m(*arrays)\u001b[0m\n\u001b[1;32m    210\u001b[0m     \u001b[0;32mif\u001b[0m \u001b[0mlen\u001b[0m\u001b[0;34m(\u001b[0m\u001b[0muniques\u001b[0m\u001b[0;34m)\u001b[0m \u001b[0;34m>\u001b[0m \u001b[0;36m1\u001b[0m\u001b[0;34m:\u001b[0m\u001b[0;34m\u001b[0m\u001b[0;34m\u001b[0m\u001b[0m\n\u001b[1;32m    211\u001b[0m         raise ValueError(\"Found input variables with inconsistent numbers of\"\n\u001b[0;32m--> 212\u001b[0;31m                          \" samples: %r\" % [int(l) for l in lengths])\n\u001b[0m\u001b[1;32m    213\u001b[0m \u001b[0;34m\u001b[0m\u001b[0m\n\u001b[1;32m    214\u001b[0m \u001b[0;34m\u001b[0m\u001b[0m\n",
            "\u001b[0;31mValueError\u001b[0m: Found input variables with inconsistent numbers of samples: [18160, 4540]"
          ]
        }
      ]
    },
    {
      "cell_type": "markdown",
      "metadata": {
        "id": "itopmP25SDYu"
      },
      "source": [
        "##LCA"
      ]
    },
    {
      "cell_type": "code",
      "metadata": {
        "id": "wXAcwi1xQLs5"
      },
      "source": [
        "from sklearn.model_selection import train_test_split\n",
        "saml_train, saml_test, unsam_train, unsam_test = train_test_split(saml, yn, test_size=0.2, random_state=0)"
      ],
      "execution_count": 127,
      "outputs": []
    },
    {
      "cell_type": "code",
      "metadata": {
        "id": "7L6OdkR5dLJp"
      },
      "source": [
        "from sklearn.ensemble import RandomForestClassifier\n",
        "\n",
        "classifier = RandomForestClassifier(max_depth=2, random_state=0)\n",
        "classifier.fit(saml_train, unsam_train)\n",
        "saml_pred = classifier.predict(saml_test)"
      ],
      "execution_count": 128,
      "outputs": []
    },
    {
      "cell_type": "code",
      "metadata": {
        "id": "nIhNsQq0dTQs",
        "outputId": "0da1bd8a-215b-4390-9b9a-b7c47b111394",
        "colab": {
          "base_uri": "https://localhost:8080/",
          "height": 365
        }
      },
      "source": [
        "from sklearn.metrics import confusion_matrix\n",
        "from sklearn.metrics import accuracy_score\n",
        "\n",
        "cm = confusion_matrix(unsam_train, saml_pred)"
      ],
      "execution_count": 130,
      "outputs": [
        {
          "output_type": "error",
          "ename": "ValueError",
          "evalue": "ignored",
          "traceback": [
            "\u001b[0;31m---------------------------------------------------------------------------\u001b[0m",
            "\u001b[0;31mValueError\u001b[0m                                Traceback (most recent call last)",
            "\u001b[0;32m<ipython-input-130-287bdddea5e4>\u001b[0m in \u001b[0;36m<module>\u001b[0;34m()\u001b[0m\n\u001b[1;32m      2\u001b[0m \u001b[0;32mfrom\u001b[0m \u001b[0msklearn\u001b[0m\u001b[0;34m.\u001b[0m\u001b[0mmetrics\u001b[0m \u001b[0;32mimport\u001b[0m \u001b[0maccuracy_score\u001b[0m\u001b[0;34m\u001b[0m\u001b[0;34m\u001b[0m\u001b[0m\n\u001b[1;32m      3\u001b[0m \u001b[0;34m\u001b[0m\u001b[0m\n\u001b[0;32m----> 4\u001b[0;31m \u001b[0mcm\u001b[0m \u001b[0;34m=\u001b[0m \u001b[0mconfusion_matrix\u001b[0m\u001b[0;34m(\u001b[0m\u001b[0munsam_train\u001b[0m\u001b[0;34m,\u001b[0m \u001b[0msaml_pred\u001b[0m\u001b[0;34m)\u001b[0m\u001b[0;34m\u001b[0m\u001b[0;34m\u001b[0m\u001b[0m\n\u001b[0m",
            "\u001b[0;32m/usr/local/lib/python3.6/dist-packages/sklearn/metrics/_classification.py\u001b[0m in \u001b[0;36mconfusion_matrix\u001b[0;34m(y_true, y_pred, labels, sample_weight, normalize)\u001b[0m\n\u001b[1;32m    266\u001b[0m \u001b[0;34m\u001b[0m\u001b[0m\n\u001b[1;32m    267\u001b[0m     \"\"\"\n\u001b[0;32m--> 268\u001b[0;31m     \u001b[0my_type\u001b[0m\u001b[0;34m,\u001b[0m \u001b[0my_true\u001b[0m\u001b[0;34m,\u001b[0m \u001b[0my_pred\u001b[0m \u001b[0;34m=\u001b[0m \u001b[0m_check_targets\u001b[0m\u001b[0;34m(\u001b[0m\u001b[0my_true\u001b[0m\u001b[0;34m,\u001b[0m \u001b[0my_pred\u001b[0m\u001b[0;34m)\u001b[0m\u001b[0;34m\u001b[0m\u001b[0;34m\u001b[0m\u001b[0m\n\u001b[0m\u001b[1;32m    269\u001b[0m     \u001b[0;32mif\u001b[0m \u001b[0my_type\u001b[0m \u001b[0;32mnot\u001b[0m \u001b[0;32min\u001b[0m \u001b[0;34m(\u001b[0m\u001b[0;34m\"binary\"\u001b[0m\u001b[0;34m,\u001b[0m \u001b[0;34m\"multiclass\"\u001b[0m\u001b[0;34m)\u001b[0m\u001b[0;34m:\u001b[0m\u001b[0;34m\u001b[0m\u001b[0;34m\u001b[0m\u001b[0m\n\u001b[1;32m    270\u001b[0m         \u001b[0;32mraise\u001b[0m \u001b[0mValueError\u001b[0m\u001b[0;34m(\u001b[0m\u001b[0;34m\"%s is not supported\"\u001b[0m \u001b[0;34m%\u001b[0m \u001b[0my_type\u001b[0m\u001b[0;34m)\u001b[0m\u001b[0;34m\u001b[0m\u001b[0;34m\u001b[0m\u001b[0m\n",
            "\u001b[0;32m/usr/local/lib/python3.6/dist-packages/sklearn/metrics/_classification.py\u001b[0m in \u001b[0;36m_check_targets\u001b[0;34m(y_true, y_pred)\u001b[0m\n\u001b[1;32m     78\u001b[0m     \u001b[0my_pred\u001b[0m \u001b[0;34m:\u001b[0m \u001b[0marray\u001b[0m \u001b[0;32mor\u001b[0m \u001b[0mindicator\u001b[0m \u001b[0mmatrix\u001b[0m\u001b[0;34m\u001b[0m\u001b[0;34m\u001b[0m\u001b[0m\n\u001b[1;32m     79\u001b[0m     \"\"\"\n\u001b[0;32m---> 80\u001b[0;31m     \u001b[0mcheck_consistent_length\u001b[0m\u001b[0;34m(\u001b[0m\u001b[0my_true\u001b[0m\u001b[0;34m,\u001b[0m \u001b[0my_pred\u001b[0m\u001b[0;34m)\u001b[0m\u001b[0;34m\u001b[0m\u001b[0;34m\u001b[0m\u001b[0m\n\u001b[0m\u001b[1;32m     81\u001b[0m     \u001b[0mtype_true\u001b[0m \u001b[0;34m=\u001b[0m \u001b[0mtype_of_target\u001b[0m\u001b[0;34m(\u001b[0m\u001b[0my_true\u001b[0m\u001b[0;34m)\u001b[0m\u001b[0;34m\u001b[0m\u001b[0;34m\u001b[0m\u001b[0m\n\u001b[1;32m     82\u001b[0m     \u001b[0mtype_pred\u001b[0m \u001b[0;34m=\u001b[0m \u001b[0mtype_of_target\u001b[0m\u001b[0;34m(\u001b[0m\u001b[0my_pred\u001b[0m\u001b[0;34m)\u001b[0m\u001b[0;34m\u001b[0m\u001b[0;34m\u001b[0m\u001b[0m\n",
            "\u001b[0;32m/usr/local/lib/python3.6/dist-packages/sklearn/utils/validation.py\u001b[0m in \u001b[0;36mcheck_consistent_length\u001b[0;34m(*arrays)\u001b[0m\n\u001b[1;32m    210\u001b[0m     \u001b[0;32mif\u001b[0m \u001b[0mlen\u001b[0m\u001b[0;34m(\u001b[0m\u001b[0muniques\u001b[0m\u001b[0;34m)\u001b[0m \u001b[0;34m>\u001b[0m \u001b[0;36m1\u001b[0m\u001b[0;34m:\u001b[0m\u001b[0;34m\u001b[0m\u001b[0;34m\u001b[0m\u001b[0m\n\u001b[1;32m    211\u001b[0m         raise ValueError(\"Found input variables with inconsistent numbers of\"\n\u001b[0;32m--> 212\u001b[0;31m                          \" samples: %r\" % [int(l) for l in lengths])\n\u001b[0m\u001b[1;32m    213\u001b[0m \u001b[0;34m\u001b[0m\u001b[0m\n\u001b[1;32m    214\u001b[0m \u001b[0;34m\u001b[0m\u001b[0m\n",
            "\u001b[0;31mValueError\u001b[0m: Found input variables with inconsistent numbers of samples: [18160, 4540]"
          ]
        }
      ]
    },
    {
      "cell_type": "markdown",
      "metadata": {
        "id": "EsZPialTAV7R"
      },
      "source": [
        "#Challenging the solution"
      ]
    },
    {
      "cell_type": "markdown",
      "metadata": {
        "id": "86J9AozrAaJ8"
      },
      "source": [
        "As seen above within the data analysis most of the acquired data is heavily biased on the rural areas on the countries described in the dataset."
      ]
    },
    {
      "cell_type": "markdown",
      "metadata": {
        "id": "MqG5SmE2BJIa"
      },
      "source": [
        "#Follow up questions"
      ]
    },
    {
      "cell_type": "markdown",
      "metadata": {
        "id": "SWCEdH-wBs6X"
      },
      "source": [
        "From the above the following questions have come up:\n",
        "1. Can the data be adjusted to accomodate the variance of population per country?\n",
        "2. Is there a prediction that can be made for people most likely not to have a bank account and is that information usefull?\n",
        "3. How heavily does that data vary with the selected sample size and will stratifying be indicative of the whole population for any given strata?"
      ]
    },
    {
      "cell_type": "markdown",
      "metadata": {
        "id": "1P1wMqUPCygN"
      },
      "source": [
        "#Do we need other data to answer our question?"
      ]
    },
    {
      "cell_type": "markdown",
      "metadata": {
        "id": "SXHF0nu5C4KK"
      },
      "source": [
        "Yes. From all the data analysed above, there is very little data whereby the samples have a bias to having a preference to having a bank account."
      ]
    }
  ]
}