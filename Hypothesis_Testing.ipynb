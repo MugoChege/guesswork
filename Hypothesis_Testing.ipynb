{
  "nbformat": 4,
  "nbformat_minor": 0,
  "metadata": {
    "colab": {
      "name": "Hypothesis Testing.ipynb",
      "provenance": []
    },
    "kernelspec": {
      "name": "python3",
      "display_name": "Python 3"
    }
  },
  "cells": [
    {
      "cell_type": "markdown",
      "metadata": {
        "id": "SpeRu20GiBMV"
      },
      "source": [
        "#Variables used in the notebook"
      ]
    },
    {
      "cell_type": "markdown",
      "metadata": {
        "id": "QQj6pR_HiJhX"
      },
      "source": [
        "#Prerequisites"
      ]
    },
    {
      "cell_type": "code",
      "metadata": {
        "id": "I_MyOf8tiMz5"
      },
      "source": [
        "import pandas as pd\n",
        "import numpy as np\n",
        "import matplotlib.pyplot as plt\n",
        "import seaborn as sns"
      ],
      "execution_count": null,
      "outputs": []
    },
    {
      "cell_type": "markdown",
      "metadata": {
        "id": "zNIBS1hCjjox"
      },
      "source": [
        "##Loading data"
      ]
    },
    {
      "cell_type": "code",
      "metadata": {
        "id": "oEuEwBdCi4gz"
      },
      "source": [
        "with open(\"/content/autolib_daily_events_postal_code.csv\",'r') as r:\n",
        "  blue = pd.read_csv(r , delimiter = ',')"
      ],
      "execution_count": null,
      "outputs": []
    },
    {
      "cell_type": "code",
      "metadata": {
        "id": "K4AvOuFnjXxl",
        "outputId": "5f6d43db-b2e2-47d6-9f6a-c9e0cb02ab83",
        "colab": {
          "base_uri": "https://localhost:8080/"
        }
      },
      "source": [
        "blue.head(10)"
      ],
      "execution_count": null,
      "outputs": [
        {
          "output_type": "execute_result",
          "data": {
            "text/html": [
              "<div>\n",
              "<style scoped>\n",
              "    .dataframe tbody tr th:only-of-type {\n",
              "        vertical-align: middle;\n",
              "    }\n",
              "\n",
              "    .dataframe tbody tr th {\n",
              "        vertical-align: top;\n",
              "    }\n",
              "\n",
              "    .dataframe thead th {\n",
              "        text-align: right;\n",
              "    }\n",
              "</style>\n",
              "<table border=\"1\" class=\"dataframe\">\n",
              "  <thead>\n",
              "    <tr style=\"text-align: right;\">\n",
              "      <th></th>\n",
              "      <th>Postal code</th>\n",
              "      <th>date</th>\n",
              "      <th>n_daily_data_points</th>\n",
              "      <th>dayOfWeek</th>\n",
              "      <th>day_type</th>\n",
              "      <th>BlueCars_taken_sum</th>\n",
              "      <th>BlueCars_returned_sum</th>\n",
              "      <th>Utilib_taken_sum</th>\n",
              "      <th>Utilib_returned_sum</th>\n",
              "      <th>Utilib_14_taken_sum</th>\n",
              "      <th>Utilib_14_returned_sum</th>\n",
              "      <th>Slots_freed_sum</th>\n",
              "      <th>Slots_taken_sum</th>\n",
              "    </tr>\n",
              "  </thead>\n",
              "  <tbody>\n",
              "    <tr>\n",
              "      <th>0</th>\n",
              "      <td>75001</td>\n",
              "      <td>1/1/2018</td>\n",
              "      <td>1440</td>\n",
              "      <td>0</td>\n",
              "      <td>weekday</td>\n",
              "      <td>110</td>\n",
              "      <td>103</td>\n",
              "      <td>3</td>\n",
              "      <td>2</td>\n",
              "      <td>10</td>\n",
              "      <td>9</td>\n",
              "      <td>22</td>\n",
              "      <td>20</td>\n",
              "    </tr>\n",
              "    <tr>\n",
              "      <th>1</th>\n",
              "      <td>75001</td>\n",
              "      <td>1/2/2018</td>\n",
              "      <td>1438</td>\n",
              "      <td>1</td>\n",
              "      <td>weekday</td>\n",
              "      <td>98</td>\n",
              "      <td>94</td>\n",
              "      <td>1</td>\n",
              "      <td>1</td>\n",
              "      <td>8</td>\n",
              "      <td>8</td>\n",
              "      <td>23</td>\n",
              "      <td>22</td>\n",
              "    </tr>\n",
              "    <tr>\n",
              "      <th>2</th>\n",
              "      <td>75001</td>\n",
              "      <td>1/3/2018</td>\n",
              "      <td>1439</td>\n",
              "      <td>2</td>\n",
              "      <td>weekday</td>\n",
              "      <td>138</td>\n",
              "      <td>139</td>\n",
              "      <td>0</td>\n",
              "      <td>0</td>\n",
              "      <td>2</td>\n",
              "      <td>2</td>\n",
              "      <td>27</td>\n",
              "      <td>27</td>\n",
              "    </tr>\n",
              "    <tr>\n",
              "      <th>3</th>\n",
              "      <td>75001</td>\n",
              "      <td>1/4/2018</td>\n",
              "      <td>1320</td>\n",
              "      <td>3</td>\n",
              "      <td>weekday</td>\n",
              "      <td>104</td>\n",
              "      <td>104</td>\n",
              "      <td>2</td>\n",
              "      <td>2</td>\n",
              "      <td>9</td>\n",
              "      <td>8</td>\n",
              "      <td>25</td>\n",
              "      <td>21</td>\n",
              "    </tr>\n",
              "    <tr>\n",
              "      <th>4</th>\n",
              "      <td>75001</td>\n",
              "      <td>1/5/2018</td>\n",
              "      <td>1440</td>\n",
              "      <td>4</td>\n",
              "      <td>weekday</td>\n",
              "      <td>114</td>\n",
              "      <td>117</td>\n",
              "      <td>3</td>\n",
              "      <td>3</td>\n",
              "      <td>6</td>\n",
              "      <td>6</td>\n",
              "      <td>18</td>\n",
              "      <td>20</td>\n",
              "    </tr>\n",
              "    <tr>\n",
              "      <th>5</th>\n",
              "      <td>75001</td>\n",
              "      <td>1/6/2018</td>\n",
              "      <td>1437</td>\n",
              "      <td>5</td>\n",
              "      <td>weekend</td>\n",
              "      <td>187</td>\n",
              "      <td>185</td>\n",
              "      <td>6</td>\n",
              "      <td>6</td>\n",
              "      <td>7</td>\n",
              "      <td>8</td>\n",
              "      <td>38</td>\n",
              "      <td>35</td>\n",
              "    </tr>\n",
              "    <tr>\n",
              "      <th>6</th>\n",
              "      <td>75001</td>\n",
              "      <td>1/7/2018</td>\n",
              "      <td>1440</td>\n",
              "      <td>6</td>\n",
              "      <td>weekend</td>\n",
              "      <td>180</td>\n",
              "      <td>180</td>\n",
              "      <td>2</td>\n",
              "      <td>2</td>\n",
              "      <td>10</td>\n",
              "      <td>9</td>\n",
              "      <td>34</td>\n",
              "      <td>34</td>\n",
              "    </tr>\n",
              "    <tr>\n",
              "      <th>7</th>\n",
              "      <td>75001</td>\n",
              "      <td>1/8/2018</td>\n",
              "      <td>1438</td>\n",
              "      <td>0</td>\n",
              "      <td>weekday</td>\n",
              "      <td>84</td>\n",
              "      <td>83</td>\n",
              "      <td>3</td>\n",
              "      <td>3</td>\n",
              "      <td>10</td>\n",
              "      <td>10</td>\n",
              "      <td>14</td>\n",
              "      <td>15</td>\n",
              "    </tr>\n",
              "    <tr>\n",
              "      <th>8</th>\n",
              "      <td>75001</td>\n",
              "      <td>1/9/2018</td>\n",
              "      <td>1439</td>\n",
              "      <td>1</td>\n",
              "      <td>weekday</td>\n",
              "      <td>81</td>\n",
              "      <td>84</td>\n",
              "      <td>1</td>\n",
              "      <td>1</td>\n",
              "      <td>4</td>\n",
              "      <td>4</td>\n",
              "      <td>15</td>\n",
              "      <td>15</td>\n",
              "    </tr>\n",
              "    <tr>\n",
              "      <th>9</th>\n",
              "      <td>75001</td>\n",
              "      <td>1/10/2018</td>\n",
              "      <td>1440</td>\n",
              "      <td>2</td>\n",
              "      <td>weekday</td>\n",
              "      <td>88</td>\n",
              "      <td>85</td>\n",
              "      <td>5</td>\n",
              "      <td>5</td>\n",
              "      <td>11</td>\n",
              "      <td>11</td>\n",
              "      <td>23</td>\n",
              "      <td>22</td>\n",
              "    </tr>\n",
              "  </tbody>\n",
              "</table>\n",
              "</div>"
            ],
            "text/plain": [
              "   Postal code       date  ...  Slots_freed_sum  Slots_taken_sum\n",
              "0        75001   1/1/2018  ...               22               20\n",
              "1        75001   1/2/2018  ...               23               22\n",
              "2        75001   1/3/2018  ...               27               27\n",
              "3        75001   1/4/2018  ...               25               21\n",
              "4        75001   1/5/2018  ...               18               20\n",
              "5        75001   1/6/2018  ...               38               35\n",
              "6        75001   1/7/2018  ...               34               34\n",
              "7        75001   1/8/2018  ...               14               15\n",
              "8        75001   1/9/2018  ...               15               15\n",
              "9        75001  1/10/2018  ...               23               22\n",
              "\n",
              "[10 rows x 13 columns]"
            ]
          },
          "metadata": {
            "tags": []
          },
          "execution_count": 6
        }
      ]
    },
    {
      "cell_type": "code",
      "metadata": {
        "id": "RTmaleo-jdJJ",
        "outputId": "9accac52-fd67-408f-ca17-47322bb25a63",
        "colab": {
          "base_uri": "https://localhost:8080/"
        }
      },
      "source": [
        "blue.tail(10)"
      ],
      "execution_count": null,
      "outputs": [
        {
          "output_type": "execute_result",
          "data": {
            "text/html": [
              "<div>\n",
              "<style scoped>\n",
              "    .dataframe tbody tr th:only-of-type {\n",
              "        vertical-align: middle;\n",
              "    }\n",
              "\n",
              "    .dataframe tbody tr th {\n",
              "        vertical-align: top;\n",
              "    }\n",
              "\n",
              "    .dataframe thead th {\n",
              "        text-align: right;\n",
              "    }\n",
              "</style>\n",
              "<table border=\"1\" class=\"dataframe\">\n",
              "  <thead>\n",
              "    <tr style=\"text-align: right;\">\n",
              "      <th></th>\n",
              "      <th>Postal code</th>\n",
              "      <th>date</th>\n",
              "      <th>n_daily_data_points</th>\n",
              "      <th>dayOfWeek</th>\n",
              "      <th>day_type</th>\n",
              "      <th>BlueCars_taken_sum</th>\n",
              "      <th>BlueCars_returned_sum</th>\n",
              "      <th>Utilib_taken_sum</th>\n",
              "      <th>Utilib_returned_sum</th>\n",
              "      <th>Utilib_14_taken_sum</th>\n",
              "      <th>Utilib_14_returned_sum</th>\n",
              "      <th>Slots_freed_sum</th>\n",
              "      <th>Slots_taken_sum</th>\n",
              "    </tr>\n",
              "  </thead>\n",
              "  <tbody>\n",
              "    <tr>\n",
              "      <th>16075</th>\n",
              "      <td>95880</td>\n",
              "      <td>6/10/2018</td>\n",
              "      <td>1440</td>\n",
              "      <td>6</td>\n",
              "      <td>weekend</td>\n",
              "      <td>34</td>\n",
              "      <td>32</td>\n",
              "      <td>0</td>\n",
              "      <td>0</td>\n",
              "      <td>1</td>\n",
              "      <td>0</td>\n",
              "      <td>0</td>\n",
              "      <td>0</td>\n",
              "    </tr>\n",
              "    <tr>\n",
              "      <th>16076</th>\n",
              "      <td>95880</td>\n",
              "      <td>6/11/2018</td>\n",
              "      <td>1440</td>\n",
              "      <td>0</td>\n",
              "      <td>weekday</td>\n",
              "      <td>17</td>\n",
              "      <td>18</td>\n",
              "      <td>0</td>\n",
              "      <td>0</td>\n",
              "      <td>0</td>\n",
              "      <td>0</td>\n",
              "      <td>0</td>\n",
              "      <td>0</td>\n",
              "    </tr>\n",
              "    <tr>\n",
              "      <th>16077</th>\n",
              "      <td>95880</td>\n",
              "      <td>6/12/2018</td>\n",
              "      <td>1439</td>\n",
              "      <td>1</td>\n",
              "      <td>weekday</td>\n",
              "      <td>25</td>\n",
              "      <td>25</td>\n",
              "      <td>0</td>\n",
              "      <td>0</td>\n",
              "      <td>0</td>\n",
              "      <td>0</td>\n",
              "      <td>0</td>\n",
              "      <td>0</td>\n",
              "    </tr>\n",
              "    <tr>\n",
              "      <th>16078</th>\n",
              "      <td>95880</td>\n",
              "      <td>6/13/2018</td>\n",
              "      <td>1440</td>\n",
              "      <td>2</td>\n",
              "      <td>weekday</td>\n",
              "      <td>12</td>\n",
              "      <td>13</td>\n",
              "      <td>0</td>\n",
              "      <td>0</td>\n",
              "      <td>1</td>\n",
              "      <td>1</td>\n",
              "      <td>0</td>\n",
              "      <td>0</td>\n",
              "    </tr>\n",
              "    <tr>\n",
              "      <th>16079</th>\n",
              "      <td>95880</td>\n",
              "      <td>6/14/2018</td>\n",
              "      <td>1439</td>\n",
              "      <td>3</td>\n",
              "      <td>weekday</td>\n",
              "      <td>15</td>\n",
              "      <td>13</td>\n",
              "      <td>0</td>\n",
              "      <td>0</td>\n",
              "      <td>0</td>\n",
              "      <td>0</td>\n",
              "      <td>0</td>\n",
              "      <td>0</td>\n",
              "    </tr>\n",
              "    <tr>\n",
              "      <th>16080</th>\n",
              "      <td>95880</td>\n",
              "      <td>6/15/2018</td>\n",
              "      <td>1440</td>\n",
              "      <td>4</td>\n",
              "      <td>weekday</td>\n",
              "      <td>15</td>\n",
              "      <td>10</td>\n",
              "      <td>0</td>\n",
              "      <td>0</td>\n",
              "      <td>2</td>\n",
              "      <td>3</td>\n",
              "      <td>0</td>\n",
              "      <td>0</td>\n",
              "    </tr>\n",
              "    <tr>\n",
              "      <th>16081</th>\n",
              "      <td>95880</td>\n",
              "      <td>6/16/2018</td>\n",
              "      <td>1440</td>\n",
              "      <td>5</td>\n",
              "      <td>weekend</td>\n",
              "      <td>19</td>\n",
              "      <td>19</td>\n",
              "      <td>0</td>\n",
              "      <td>0</td>\n",
              "      <td>2</td>\n",
              "      <td>1</td>\n",
              "      <td>0</td>\n",
              "      <td>0</td>\n",
              "    </tr>\n",
              "    <tr>\n",
              "      <th>16082</th>\n",
              "      <td>95880</td>\n",
              "      <td>6/17/2018</td>\n",
              "      <td>1440</td>\n",
              "      <td>6</td>\n",
              "      <td>weekend</td>\n",
              "      <td>33</td>\n",
              "      <td>35</td>\n",
              "      <td>1</td>\n",
              "      <td>1</td>\n",
              "      <td>0</td>\n",
              "      <td>0</td>\n",
              "      <td>0</td>\n",
              "      <td>0</td>\n",
              "    </tr>\n",
              "    <tr>\n",
              "      <th>16083</th>\n",
              "      <td>95880</td>\n",
              "      <td>6/18/2018</td>\n",
              "      <td>1440</td>\n",
              "      <td>0</td>\n",
              "      <td>weekday</td>\n",
              "      <td>11</td>\n",
              "      <td>14</td>\n",
              "      <td>3</td>\n",
              "      <td>5</td>\n",
              "      <td>2</td>\n",
              "      <td>2</td>\n",
              "      <td>0</td>\n",
              "      <td>0</td>\n",
              "    </tr>\n",
              "    <tr>\n",
              "      <th>16084</th>\n",
              "      <td>95880</td>\n",
              "      <td>6/19/2018</td>\n",
              "      <td>1370</td>\n",
              "      <td>1</td>\n",
              "      <td>weekday</td>\n",
              "      <td>2</td>\n",
              "      <td>2</td>\n",
              "      <td>2</td>\n",
              "      <td>1</td>\n",
              "      <td>0</td>\n",
              "      <td>0</td>\n",
              "      <td>0</td>\n",
              "      <td>0</td>\n",
              "    </tr>\n",
              "  </tbody>\n",
              "</table>\n",
              "</div>"
            ],
            "text/plain": [
              "       Postal code       date  ...  Slots_freed_sum  Slots_taken_sum\n",
              "16075        95880  6/10/2018  ...                0                0\n",
              "16076        95880  6/11/2018  ...                0                0\n",
              "16077        95880  6/12/2018  ...                0                0\n",
              "16078        95880  6/13/2018  ...                0                0\n",
              "16079        95880  6/14/2018  ...                0                0\n",
              "16080        95880  6/15/2018  ...                0                0\n",
              "16081        95880  6/16/2018  ...                0                0\n",
              "16082        95880  6/17/2018  ...                0                0\n",
              "16083        95880  6/18/2018  ...                0                0\n",
              "16084        95880  6/19/2018  ...                0                0\n",
              "\n",
              "[10 rows x 13 columns]"
            ]
          },
          "metadata": {
            "tags": []
          },
          "execution_count": 7
        }
      ]
    },
    {
      "cell_type": "markdown",
      "metadata": {
        "id": "CtavDbSZjzoj"
      },
      "source": [
        "##Data understanding"
      ]
    },
    {
      "cell_type": "code",
      "metadata": {
        "id": "DvbbOTLRkU5P"
      },
      "source": [
        "toclean = blue.copy()"
      ],
      "execution_count": null,
      "outputs": []
    },
    {
      "cell_type": "code",
      "metadata": {
        "id": "G4aqAZiik6xK"
      },
      "source": [
        "des = pd.DataFrame(toclean.isnull().sum())\n",
        "typ = pd.DataFrame(toclean.dtypes)\n",
        "des = pd.merge(des , typ, right_index = True , left_index = True)\n",
        "des.columns = ['Number of nulls', 'Data Types']\n",
        "des[\"Max\"] = ''\n",
        "des['Min'] = ''"
      ],
      "execution_count": null,
      "outputs": []
    },
    {
      "cell_type": "code",
      "metadata": {
        "id": "V7BCHSS3pxuR"
      },
      "source": [
        "for r , rows in des.iterrows():\n",
        "  if rows['Data Types'] == 'int64':\n",
        "    des.loc[r, 'Max'] = toclean[r].max()\n",
        "    des.loc[r, 'Min'] = toclean[r].min()"
      ],
      "execution_count": null,
      "outputs": []
    },
    {
      "cell_type": "code",
      "metadata": {
        "id": "FLx3smq-q-yd",
        "outputId": "13feb583-d9ab-46aa-a3ba-d8a9681799a5",
        "colab": {
          "base_uri": "https://localhost:8080/"
        }
      },
      "source": [
        "des"
      ],
      "execution_count": null,
      "outputs": [
        {
          "output_type": "execute_result",
          "data": {
            "text/html": [
              "<div>\n",
              "<style scoped>\n",
              "    .dataframe tbody tr th:only-of-type {\n",
              "        vertical-align: middle;\n",
              "    }\n",
              "\n",
              "    .dataframe tbody tr th {\n",
              "        vertical-align: top;\n",
              "    }\n",
              "\n",
              "    .dataframe thead th {\n",
              "        text-align: right;\n",
              "    }\n",
              "</style>\n",
              "<table border=\"1\" class=\"dataframe\">\n",
              "  <thead>\n",
              "    <tr style=\"text-align: right;\">\n",
              "      <th></th>\n",
              "      <th>Number of nulls</th>\n",
              "      <th>Data Types</th>\n",
              "      <th>Max</th>\n",
              "      <th>Min</th>\n",
              "    </tr>\n",
              "  </thead>\n",
              "  <tbody>\n",
              "    <tr>\n",
              "      <th>Postal code</th>\n",
              "      <td>0</td>\n",
              "      <td>int64</td>\n",
              "      <td>95880</td>\n",
              "      <td>75001</td>\n",
              "    </tr>\n",
              "    <tr>\n",
              "      <th>date</th>\n",
              "      <td>0</td>\n",
              "      <td>object</td>\n",
              "      <td></td>\n",
              "      <td></td>\n",
              "    </tr>\n",
              "    <tr>\n",
              "      <th>n_daily_data_points</th>\n",
              "      <td>0</td>\n",
              "      <td>int64</td>\n",
              "      <td>1440</td>\n",
              "      <td>1174</td>\n",
              "    </tr>\n",
              "    <tr>\n",
              "      <th>dayOfWeek</th>\n",
              "      <td>0</td>\n",
              "      <td>int64</td>\n",
              "      <td>6</td>\n",
              "      <td>0</td>\n",
              "    </tr>\n",
              "    <tr>\n",
              "      <th>day_type</th>\n",
              "      <td>0</td>\n",
              "      <td>object</td>\n",
              "      <td></td>\n",
              "      <td></td>\n",
              "    </tr>\n",
              "    <tr>\n",
              "      <th>BlueCars_taken_sum</th>\n",
              "      <td>0</td>\n",
              "      <td>int64</td>\n",
              "      <td>1352</td>\n",
              "      <td>0</td>\n",
              "    </tr>\n",
              "    <tr>\n",
              "      <th>BlueCars_returned_sum</th>\n",
              "      <td>0</td>\n",
              "      <td>int64</td>\n",
              "      <td>1332</td>\n",
              "      <td>0</td>\n",
              "    </tr>\n",
              "    <tr>\n",
              "      <th>Utilib_taken_sum</th>\n",
              "      <td>0</td>\n",
              "      <td>int64</td>\n",
              "      <td>54</td>\n",
              "      <td>0</td>\n",
              "    </tr>\n",
              "    <tr>\n",
              "      <th>Utilib_returned_sum</th>\n",
              "      <td>0</td>\n",
              "      <td>int64</td>\n",
              "      <td>58</td>\n",
              "      <td>0</td>\n",
              "    </tr>\n",
              "    <tr>\n",
              "      <th>Utilib_14_taken_sum</th>\n",
              "      <td>0</td>\n",
              "      <td>int64</td>\n",
              "      <td>100</td>\n",
              "      <td>0</td>\n",
              "    </tr>\n",
              "    <tr>\n",
              "      <th>Utilib_14_returned_sum</th>\n",
              "      <td>0</td>\n",
              "      <td>int64</td>\n",
              "      <td>101</td>\n",
              "      <td>0</td>\n",
              "    </tr>\n",
              "    <tr>\n",
              "      <th>Slots_freed_sum</th>\n",
              "      <td>0</td>\n",
              "      <td>int64</td>\n",
              "      <td>360</td>\n",
              "      <td>0</td>\n",
              "    </tr>\n",
              "    <tr>\n",
              "      <th>Slots_taken_sum</th>\n",
              "      <td>0</td>\n",
              "      <td>int64</td>\n",
              "      <td>359</td>\n",
              "      <td>0</td>\n",
              "    </tr>\n",
              "  </tbody>\n",
              "</table>\n",
              "</div>"
            ],
            "text/plain": [
              "                        Number of nulls Data Types    Max    Min\n",
              "Postal code                           0      int64  95880  75001\n",
              "date                                  0     object              \n",
              "n_daily_data_points                   0      int64   1440   1174\n",
              "dayOfWeek                             0      int64      6      0\n",
              "day_type                              0     object              \n",
              "BlueCars_taken_sum                    0      int64   1352      0\n",
              "BlueCars_returned_sum                 0      int64   1332      0\n",
              "Utilib_taken_sum                      0      int64     54      0\n",
              "Utilib_returned_sum                   0      int64     58      0\n",
              "Utilib_14_taken_sum                   0      int64    100      0\n",
              "Utilib_14_returned_sum                0      int64    101      0\n",
              "Slots_freed_sum                       0      int64    360      0\n",
              "Slots_taken_sum                       0      int64    359      0"
            ]
          },
          "metadata": {
            "tags": []
          },
          "execution_count": 11
        }
      ]
    },
    {
      "cell_type": "code",
      "metadata": {
        "id": "HmF2vl8Sh21B",
        "outputId": "dc122132-cfe1-46e3-b73c-54b7946e4d32",
        "colab": {
          "base_uri": "https://localhost:8080/"
        }
      },
      "source": [
        "toclean['date'].unique()"
      ],
      "execution_count": null,
      "outputs": [
        {
          "output_type": "execute_result",
          "data": {
            "text/plain": [
              "array(['1/1/2018', '1/2/2018', '1/3/2018', '1/4/2018', '1/5/2018',\n",
              "       '1/6/2018', '1/7/2018', '1/8/2018', '1/9/2018', '1/10/2018',\n",
              "       '1/11/2018', '1/12/2018', '1/13/2018', '1/14/2018', '1/15/2018',\n",
              "       '1/16/2018', '1/17/2018', '1/18/2018', '1/19/2018', '1/20/2018',\n",
              "       '1/21/2018', '1/22/2018', '1/23/2018', '1/24/2018', '1/25/2018',\n",
              "       '1/26/2018', '1/27/2018', '1/28/2018', '1/29/2018', '1/30/2018',\n",
              "       '1/31/2018', '2/1/2018', '2/2/2018', '2/3/2018', '2/4/2018',\n",
              "       '2/5/2018', '2/6/2018', '2/7/2018', '2/8/2018', '2/9/2018',\n",
              "       '2/10/2018', '2/11/2018', '2/12/2018', '2/13/2018', '2/14/2018',\n",
              "       '2/15/2018', '2/16/2018', '2/17/2018', '2/18/2018', '2/19/2018',\n",
              "       '2/20/2018', '2/21/2018', '2/22/2018', '2/23/2018', '2/24/2018',\n",
              "       '2/28/2018', '3/1/2018', '3/2/2018', '3/3/2018', '3/4/2018',\n",
              "       '3/5/2018', '3/6/2018', '3/7/2018', '3/8/2018', '3/9/2018',\n",
              "       '3/10/2018', '3/11/2018', '3/12/2018', '3/13/2018', '3/14/2018',\n",
              "       '3/15/2018', '3/16/2018', '3/17/2018', '3/18/2018', '3/19/2018',\n",
              "       '3/20/2018', '3/21/2018', '3/22/2018', '3/23/2018', '3/24/2018',\n",
              "       '3/25/2018', '3/26/2018', '3/27/2018', '3/28/2018', '3/29/2018',\n",
              "       '3/30/2018', '3/31/2018', '4/1/2018', '4/2/2018', '4/3/2018',\n",
              "       '4/4/2018', '4/5/2018', '4/6/2018', '4/7/2018', '4/8/2018',\n",
              "       '4/9/2018', '4/10/2018', '4/11/2018', '4/12/2018', '4/13/2018',\n",
              "       '4/14/2018', '4/15/2018', '4/16/2018', '4/17/2018', '4/18/2018',\n",
              "       '4/19/2018', '4/20/2018', '4/21/2018', '4/22/2018', '4/23/2018',\n",
              "       '4/24/2018', '4/25/2018', '4/26/2018', '4/27/2018', '4/28/2018',\n",
              "       '4/29/2018', '4/30/2018', '5/1/2018', '5/2/2018', '5/3/2018',\n",
              "       '5/4/2018', '5/5/2018', '5/6/2018', '5/7/2018', '5/8/2018',\n",
              "       '5/20/2018', '5/21/2018', '5/22/2018', '5/23/2018', '5/24/2018',\n",
              "       '5/25/2018', '5/26/2018', '5/27/2018', '5/28/2018', '5/29/2018',\n",
              "       '5/30/2018', '5/31/2018', '6/1/2018', '6/2/2018', '6/3/2018',\n",
              "       '6/4/2018', '6/5/2018', '6/6/2018', '6/7/2018', '6/8/2018',\n",
              "       '6/9/2018', '6/10/2018', '6/11/2018', '6/12/2018', '6/13/2018',\n",
              "       '6/14/2018', '6/15/2018', '6/16/2018', '6/17/2018', '6/18/2018',\n",
              "       '6/19/2018'], dtype=object)"
            ]
          },
          "metadata": {
            "tags": []
          },
          "execution_count": 12
        }
      ]
    },
    {
      "cell_type": "code",
      "metadata": {
        "id": "9I-OEc8fh-xi",
        "outputId": "20733019-37ca-42f0-9da1-14e0e72167e9",
        "colab": {
          "base_uri": "https://localhost:8080/"
        }
      },
      "source": [
        "toclean['day_type'].unique()"
      ],
      "execution_count": null,
      "outputs": [
        {
          "output_type": "execute_result",
          "data": {
            "text/plain": [
              "array(['weekday', 'weekend'], dtype=object)"
            ]
          },
          "metadata": {
            "tags": []
          },
          "execution_count": 13
        }
      ]
    },
    {
      "cell_type": "code",
      "metadata": {
        "id": "iv8B1pUbiJ2C",
        "outputId": "7713369c-8e39-487e-ac8a-b37d22e51982",
        "colab": {
          "base_uri": "https://localhost:8080/"
        }
      },
      "source": [
        "toclean['Postal code'].unique()"
      ],
      "execution_count": null,
      "outputs": [
        {
          "output_type": "execute_result",
          "data": {
            "text/plain": [
              "array([75001, 75002, 75003, 75004, 75005, 75006, 75007, 75008, 75009,\n",
              "       75010, 75011, 75012, 75013, 75014, 75015, 75016, 75017, 75018,\n",
              "       75019, 75020, 75112, 75116, 78000, 78140, 78150, 91330, 91370,\n",
              "       91400, 92000, 92100, 92110, 92120, 92130, 92140, 92150, 92160,\n",
              "       92170, 92190, 92200, 92210, 92220, 92230, 92240, 92250, 92260,\n",
              "       92270, 92290, 92300, 92310, 92320, 92330, 92340, 92350, 92360,\n",
              "       92370, 92380, 92390, 92400, 92410, 92420, 92500, 92600, 92700,\n",
              "       92800, 93100, 93110, 93130, 93150, 93170, 93200, 93230, 93260,\n",
              "       93300, 93310, 93350, 93360, 93370, 93390, 93400, 93440, 93500,\n",
              "       93600, 93700, 93800, 94000, 94100, 94110, 94120, 94130, 94140,\n",
              "       94150, 94160, 94220, 94230, 94300, 94340, 94410, 94450, 94500,\n",
              "       94700, 94800, 95100, 95870, 95880])"
            ]
          },
          "metadata": {
            "tags": []
          },
          "execution_count": 14
        }
      ]
    },
    {
      "cell_type": "code",
      "metadata": {
        "id": "yCdhyl3_iYzD",
        "outputId": "4f6039fb-4e04-43ba-fedc-e423132a4298",
        "colab": {
          "base_uri": "https://localhost:8080/"
        }
      },
      "source": [
        "len(toclean['Postal code'].unique())"
      ],
      "execution_count": null,
      "outputs": [
        {
          "output_type": "execute_result",
          "data": {
            "text/plain": [
              "104"
            ]
          },
          "metadata": {
            "tags": []
          },
          "execution_count": 15
        }
      ]
    },
    {
      "cell_type": "markdown",
      "metadata": {
        "id": "HJwYwlypilvX"
      },
      "source": [
        "##Data Cleaning"
      ]
    },
    {
      "cell_type": "markdown",
      "metadata": {
        "id": "gvO514w0xc9V"
      },
      "source": [
        "###Outliers\n"
      ]
    },
    {
      "cell_type": "code",
      "metadata": {
        "id": "w3WOaLVayCr8",
        "outputId": "feb64635-c078-4882-ca5b-60120336a922",
        "colab": {
          "base_uri": "https://localhost:8080/"
        }
      },
      "source": [
        "toclean.boxplot(['BlueCars_taken_sum'])"
      ],
      "execution_count": null,
      "outputs": [
        {
          "output_type": "execute_result",
          "data": {
            "text/plain": [
              "<matplotlib.axes._subplots.AxesSubplot at 0x7f45c33427b8>"
            ]
          },
          "metadata": {
            "tags": []
          },
          "execution_count": 16
        },
        {
          "output_type": "display_data",
          "data": {
            "image/png": "[encoded data removed]",
            "text/plain": [
              "<Figure size 432x288 with 1 Axes>"
            ]
          },
          "metadata": {
            "tags": [],
            "needs_background": "light"
          }
        }
      ]
    },
    {
      "cell_type": "code",
      "metadata": {
        "id": "2OC7x1GF6E4A",
        "outputId": "4e285c80-53ac-4e04-de77-0f942027a5e8",
        "colab": {
          "base_uri": "https://localhost:8080/"
        }
      },
      "source": [
        "toclean.boxplot(['BlueCars_returned_sum'])"
      ],
      "execution_count": null,
      "outputs": [
        {
          "output_type": "execute_result",
          "data": {
            "text/plain": [
              "<matplotlib.axes._subplots.AxesSubplot at 0x7f45c3294a20>"
            ]
          },
          "metadata": {
            "tags": []
          },
          "execution_count": 17
        },
        {
          "output_type": "display_data",
          "data": {
            "image/png": "[encoded data removed]",
            "text/plain": [
              "<Figure size 432x288 with 1 Axes>"
            ]
          },
          "metadata": {
            "tags": [],
            "needs_background": "light"
          }
        }
      ]
    },
    {
      "cell_type": "code",
      "metadata": {
        "id": "meM3RCctHTNR"
      },
      "source": [
        "fin = toclean.copy()\n",
        "out = ['BlueCars_taken_sum' , 'BlueCars_returned_sum' ]\n",
        "for z in out:\n",
        "  q1 = fin[z].quantile(0.25)\n",
        "  q3 = fin[z].quantile(0.75)\n",
        "  iqr = q3 - q1\n",
        "  lim = iqr * 1.5\n",
        "  fin = fin [fin[z] >= (q1 - lim)]\n",
        "  fin = fin [fin[z] <= (q3 + lim)]"
      ],
      "execution_count": null,
      "outputs": []
    },
    {
      "cell_type": "code",
      "metadata": {
        "id": "O5qPTpMbJfqN",
        "outputId": "0a0ee6ce-d935-4ff4-9cd4-8b4a168e7b5a",
        "colab": {
          "base_uri": "https://localhost:8080/"
        }
      },
      "source": [
        "fin.shape"
      ],
      "execution_count": null,
      "outputs": [
        {
          "output_type": "execute_result",
          "data": {
            "text/plain": [
              "(12810, 13)"
            ]
          },
          "metadata": {
            "tags": []
          },
          "execution_count": 19
        }
      ]
    },
    {
      "cell_type": "code",
      "metadata": {
        "id": "qdZc7wV3J03o",
        "outputId": "6db46ad6-6d02-43e7-a780-dabea29fc412",
        "colab": {
          "base_uri": "https://localhost:8080/"
        }
      },
      "source": [
        "toclean.shape"
      ],
      "execution_count": null,
      "outputs": [
        {
          "output_type": "execute_result",
          "data": {
            "text/plain": [
              "(16085, 13)"
            ]
          },
          "metadata": {
            "tags": []
          },
          "execution_count": 20
        }
      ]
    },
    {
      "cell_type": "code",
      "metadata": {
        "id": "JFor_T8tJsgC",
        "outputId": "bf630d0a-c032-44b3-8ad5-c8b331b0f32b",
        "colab": {
          "base_uri": "https://localhost:8080/"
        }
      },
      "source": [
        "fin.boxplot(['BlueCars_returned_sum'])"
      ],
      "execution_count": null,
      "outputs": [
        {
          "output_type": "execute_result",
          "data": {
            "text/plain": [
              "<matplotlib.axes._subplots.AxesSubplot at 0x7f45c2dba6d8>"
            ]
          },
          "metadata": {
            "tags": []
          },
          "execution_count": 21
        },
        {
          "output_type": "display_data",
          "data": {
            "image/png": "[encoded data removed]",
            "text/plain": [
              "<Figure size 432x288 with 1 Axes>"
            ]
          },
          "metadata": {
            "tags": [],
            "needs_background": "light"
          }
        }
      ]
    },
    {
      "cell_type": "code",
      "metadata": {
        "id": "66C79q10KHgV",
        "outputId": "321cf61f-2115-4524-bedf-ad6104f65308",
        "colab": {
          "base_uri": "https://localhost:8080/"
        }
      },
      "source": [
        "fin.boxplot(['BlueCars_taken_sum'])"
      ],
      "execution_count": null,
      "outputs": [
        {
          "output_type": "execute_result",
          "data": {
            "text/plain": [
              "<matplotlib.axes._subplots.AxesSubplot at 0x7f45c1aa4978>"
            ]
          },
          "metadata": {
            "tags": []
          },
          "execution_count": 22
        },
        {
          "output_type": "display_data",
          "data": {
            "image/png": "[encoded data removed]",
            "text/plain": [
              "<Figure size 432x288 with 1 Axes>"
            ]
          },
          "metadata": {
            "tags": [],
            "needs_background": "light"
          }
        }
      ]
    },
    {
      "cell_type": "code",
      "metadata": {
        "id": "6AA1hi6mKbS9",
        "outputId": "c21057af-ccd3-4e4c-f8d3-019036165114",
        "colab": {
          "base_uri": "https://localhost:8080/"
        }
      },
      "source": [
        "out = ['BlueCars_taken_sum' , 'BlueCars_returned_sum' ]\n",
        "for z in out:\n",
        "  print (z)\n",
        "  print (\"The max is\", fin[z].max())\n",
        "  print (\"The third quantile is\", fin[z].quantile(0.75))\n",
        "  print (\"The first quantile is\", fin[z].quantile(0.25))\n",
        "  print (\"The min is\", fin[z].min())\n",
        "  print ()\n",
        "  print ()"
      ],
      "execution_count": null,
      "outputs": [
        {
          "output_type": "stream",
          "text": [
            "BlueCars_taken_sum\n",
            "The max is 208\n",
            "The third quantile is 65.0\n",
            "The first quantile is 16.0\n",
            "The min is 0\n",
            "\n",
            "\n",
            "BlueCars_returned_sum\n",
            "The max is 177\n",
            "The third quantile is 65.0\n",
            "The first quantile is 16.0\n",
            "The min is 0\n",
            "\n",
            "\n"
          ],
          "name": "stdout"
        }
      ]
    },
    {
      "cell_type": "markdown",
      "metadata": {
        "id": "WVV2J14fMgBB"
      },
      "source": [
        "###Dropping of columns"
      ]
    },
    {
      "cell_type": "code",
      "metadata": {
        "id": "wdLnWJIpLokz"
      },
      "source": [
        "toclean = fin.copy()\n",
        "y = toclean.columns\n",
        "toclean.drop(columns=y[-6:] , inplace= True)"
      ],
      "execution_count": null,
      "outputs": []
    },
    {
      "cell_type": "code",
      "metadata": {
        "id": "hootZItWMKm0",
        "outputId": "0121fd00-2deb-4c19-cb8f-405ad83fd5aa",
        "colab": {
          "base_uri": "https://localhost:8080/"
        }
      },
      "source": [
        "toclean.reset_index(inplace = True)\n",
        "toclean"
      ],
      "execution_count": null,
      "outputs": [
        {
          "output_type": "execute_result",
          "data": {
            "text/html": [
              "<div>\n",
              "<style scoped>\n",
              "    .dataframe tbody tr th:only-of-type {\n",
              "        vertical-align: middle;\n",
              "    }\n",
              "\n",
              "    .dataframe tbody tr th {\n",
              "        vertical-align: top;\n",
              "    }\n",
              "\n",
              "    .dataframe thead th {\n",
              "        text-align: right;\n",
              "    }\n",
              "</style>\n",
              "<table border=\"1\" class=\"dataframe\">\n",
              "  <thead>\n",
              "    <tr style=\"text-align: right;\">\n",
              "      <th></th>\n",
              "      <th>index</th>\n",
              "      <th>Postal code</th>\n",
              "      <th>date</th>\n",
              "      <th>n_daily_data_points</th>\n",
              "      <th>dayOfWeek</th>\n",
              "      <th>day_type</th>\n",
              "      <th>BlueCars_taken_sum</th>\n",
              "      <th>BlueCars_returned_sum</th>\n",
              "    </tr>\n",
              "  </thead>\n",
              "  <tbody>\n",
              "    <tr>\n",
              "      <th>0</th>\n",
              "      <td>0</td>\n",
              "      <td>75001</td>\n",
              "      <td>1/1/2018</td>\n",
              "      <td>1440</td>\n",
              "      <td>0</td>\n",
              "      <td>weekday</td>\n",
              "      <td>110</td>\n",
              "      <td>103</td>\n",
              "    </tr>\n",
              "    <tr>\n",
              "      <th>1</th>\n",
              "      <td>1</td>\n",
              "      <td>75001</td>\n",
              "      <td>1/2/2018</td>\n",
              "      <td>1438</td>\n",
              "      <td>1</td>\n",
              "      <td>weekday</td>\n",
              "      <td>98</td>\n",
              "      <td>94</td>\n",
              "    </tr>\n",
              "    <tr>\n",
              "      <th>2</th>\n",
              "      <td>2</td>\n",
              "      <td>75001</td>\n",
              "      <td>1/3/2018</td>\n",
              "      <td>1439</td>\n",
              "      <td>2</td>\n",
              "      <td>weekday</td>\n",
              "      <td>138</td>\n",
              "      <td>139</td>\n",
              "    </tr>\n",
              "    <tr>\n",
              "      <th>3</th>\n",
              "      <td>3</td>\n",
              "      <td>75001</td>\n",
              "      <td>1/4/2018</td>\n",
              "      <td>1320</td>\n",
              "      <td>3</td>\n",
              "      <td>weekday</td>\n",
              "      <td>104</td>\n",
              "      <td>104</td>\n",
              "    </tr>\n",
              "    <tr>\n",
              "      <th>4</th>\n",
              "      <td>4</td>\n",
              "      <td>75001</td>\n",
              "      <td>1/5/2018</td>\n",
              "      <td>1440</td>\n",
              "      <td>4</td>\n",
              "      <td>weekday</td>\n",
              "      <td>114</td>\n",
              "      <td>117</td>\n",
              "    </tr>\n",
              "    <tr>\n",
              "      <th>...</th>\n",
              "      <td>...</td>\n",
              "      <td>...</td>\n",
              "      <td>...</td>\n",
              "      <td>...</td>\n",
              "      <td>...</td>\n",
              "      <td>...</td>\n",
              "      <td>...</td>\n",
              "      <td>...</td>\n",
              "    </tr>\n",
              "    <tr>\n",
              "      <th>12805</th>\n",
              "      <td>16080</td>\n",
              "      <td>95880</td>\n",
              "      <td>6/15/2018</td>\n",
              "      <td>1440</td>\n",
              "      <td>4</td>\n",
              "      <td>weekday</td>\n",
              "      <td>15</td>\n",
              "      <td>10</td>\n",
              "    </tr>\n",
              "    <tr>\n",
              "      <th>12806</th>\n",
              "      <td>16081</td>\n",
              "      <td>95880</td>\n",
              "      <td>6/16/2018</td>\n",
              "      <td>1440</td>\n",
              "      <td>5</td>\n",
              "      <td>weekend</td>\n",
              "      <td>19</td>\n",
              "      <td>19</td>\n",
              "    </tr>\n",
              "    <tr>\n",
              "      <th>12807</th>\n",
              "      <td>16082</td>\n",
              "      <td>95880</td>\n",
              "      <td>6/17/2018</td>\n",
              "      <td>1440</td>\n",
              "      <td>6</td>\n",
              "      <td>weekend</td>\n",
              "      <td>33</td>\n",
              "      <td>35</td>\n",
              "    </tr>\n",
              "    <tr>\n",
              "      <th>12808</th>\n",
              "      <td>16083</td>\n",
              "      <td>95880</td>\n",
              "      <td>6/18/2018</td>\n",
              "      <td>1440</td>\n",
              "      <td>0</td>\n",
              "      <td>weekday</td>\n",
              "      <td>11</td>\n",
              "      <td>14</td>\n",
              "    </tr>\n",
              "    <tr>\n",
              "      <th>12809</th>\n",
              "      <td>16084</td>\n",
              "      <td>95880</td>\n",
              "      <td>6/19/2018</td>\n",
              "      <td>1370</td>\n",
              "      <td>1</td>\n",
              "      <td>weekday</td>\n",
              "      <td>2</td>\n",
              "      <td>2</td>\n",
              "    </tr>\n",
              "  </tbody>\n",
              "</table>\n",
              "<p>12810 rows × 8 columns</p>\n",
              "</div>"
            ],
            "text/plain": [
              "       index  Postal code  ... BlueCars_taken_sum  BlueCars_returned_sum\n",
              "0          0        75001  ...                110                    103\n",
              "1          1        75001  ...                 98                     94\n",
              "2          2        75001  ...                138                    139\n",
              "3          3        75001  ...                104                    104\n",
              "4          4        75001  ...                114                    117\n",
              "...      ...          ...  ...                ...                    ...\n",
              "12805  16080        95880  ...                 15                     10\n",
              "12806  16081        95880  ...                 19                     19\n",
              "12807  16082        95880  ...                 33                     35\n",
              "12808  16083        95880  ...                 11                     14\n",
              "12809  16084        95880  ...                  2                      2\n",
              "\n",
              "[12810 rows x 8 columns]"
            ]
          },
          "metadata": {
            "tags": []
          },
          "execution_count": 25
        }
      ]
    },
    {
      "cell_type": "markdown",
      "metadata": {
        "id": "GOcQyZE9NSgE"
      },
      "source": [
        "#Analysis"
      ]
    },
    {
      "cell_type": "code",
      "metadata": {
        "id": "awGR2Jq2Nhcb"
      },
      "source": [
        "proc = toclean.copy()"
      ],
      "execution_count": null,
      "outputs": []
    },
    {
      "cell_type": "markdown",
      "metadata": {
        "id": "zUYeYC9VkXRg"
      },
      "source": [
        "####The mean of the postal codes"
      ]
    },
    {
      "cell_type": "code",
      "metadata": {
        "id": "ban0ytOAiq6v"
      },
      "source": [
        "g = proc.groupby(['Postal code']).mean()"
      ],
      "execution_count": null,
      "outputs": []
    },
    {
      "cell_type": "code",
      "metadata": {
        "id": "IHg7cGnnlMDS"
      },
      "source": [
        "h = g.columns\n",
        "g = g.drop(columns = h[:-2])\n",
        "g.sort_values(['BlueCars_taken_sum'], ascending = False, inplace = True)"
      ],
      "execution_count": null,
      "outputs": []
    },
    {
      "cell_type": "code",
      "metadata": {
        "id": "wS4I1kqllrrZ",
        "outputId": "d068d64d-338b-4040-cd17-7f3dfee293f6",
        "colab": {
          "base_uri": "https://localhost:8080/",
          "height": 455
        }
      },
      "source": [
        "g"
      ],
      "execution_count": null,
      "outputs": [
        {
          "output_type": "execute_result",
          "data": {
            "text/html": [
              "<div>\n",
              "<style scoped>\n",
              "    .dataframe tbody tr th:only-of-type {\n",
              "        vertical-align: middle;\n",
              "    }\n",
              "\n",
              "    .dataframe tbody tr th {\n",
              "        vertical-align: top;\n",
              "    }\n",
              "\n",
              "    .dataframe thead th {\n",
              "        text-align: right;\n",
              "    }\n",
              "</style>\n",
              "<table border=\"1\" class=\"dataframe\">\n",
              "  <thead>\n",
              "    <tr style=\"text-align: right;\">\n",
              "      <th></th>\n",
              "      <th>BlueCars_taken_sum</th>\n",
              "      <th>BlueCars_returned_sum</th>\n",
              "    </tr>\n",
              "    <tr>\n",
              "      <th>Postal code</th>\n",
              "      <th></th>\n",
              "      <th></th>\n",
              "    </tr>\n",
              "  </thead>\n",
              "  <tbody>\n",
              "    <tr>\n",
              "      <th>75003</th>\n",
              "      <td>155.642857</td>\n",
              "      <td>147.785714</td>\n",
              "    </tr>\n",
              "    <tr>\n",
              "      <th>75004</th>\n",
              "      <td>154.712329</td>\n",
              "      <td>154.315068</td>\n",
              "    </tr>\n",
              "    <tr>\n",
              "      <th>75002</th>\n",
              "      <td>151.747475</td>\n",
              "      <td>150.515152</td>\n",
              "    </tr>\n",
              "    <tr>\n",
              "      <th>92000</th>\n",
              "      <td>149.720721</td>\n",
              "      <td>148.648649</td>\n",
              "    </tr>\n",
              "    <tr>\n",
              "      <th>92300</th>\n",
              "      <td>149.486486</td>\n",
              "      <td>149.036036</td>\n",
              "    </tr>\n",
              "    <tr>\n",
              "      <th>...</th>\n",
              "      <td>...</td>\n",
              "      <td>...</td>\n",
              "    </tr>\n",
              "    <tr>\n",
              "      <th>93150</th>\n",
              "      <td>5.258278</td>\n",
              "      <td>5.225166</td>\n",
              "    </tr>\n",
              "    <tr>\n",
              "      <th>94100</th>\n",
              "      <td>4.832258</td>\n",
              "      <td>4.812903</td>\n",
              "    </tr>\n",
              "    <tr>\n",
              "      <th>93370</th>\n",
              "      <td>3.744966</td>\n",
              "      <td>3.731544</td>\n",
              "    </tr>\n",
              "    <tr>\n",
              "      <th>93390</th>\n",
              "      <td>3.630952</td>\n",
              "      <td>3.595238</td>\n",
              "    </tr>\n",
              "    <tr>\n",
              "      <th>93440</th>\n",
              "      <td>3.443709</td>\n",
              "      <td>3.483444</td>\n",
              "    </tr>\n",
              "  </tbody>\n",
              "</table>\n",
              "<p>104 rows × 2 columns</p>\n",
              "</div>"
            ],
            "text/plain": [
              "             BlueCars_taken_sum  BlueCars_returned_sum\n",
              "Postal code                                           \n",
              "75003                155.642857             147.785714\n",
              "75004                154.712329             154.315068\n",
              "75002                151.747475             150.515152\n",
              "92000                149.720721             148.648649\n",
              "92300                149.486486             149.036036\n",
              "...                         ...                    ...\n",
              "93150                  5.258278               5.225166\n",
              "94100                  4.832258               4.812903\n",
              "93370                  3.744966               3.731544\n",
              "93390                  3.630952               3.595238\n",
              "93440                  3.443709               3.483444\n",
              "\n",
              "[104 rows x 2 columns]"
            ]
          },
          "metadata": {
            "tags": []
          },
          "execution_count": 29
        }
      ]
    },
    {
      "cell_type": "markdown",
      "metadata": {
        "id": "L-BudqzHmi8Y"
      },
      "source": [
        "#### The days of the week"
      ]
    },
    {
      "cell_type": "code",
      "metadata": {
        "id": "88saf3_smp1D"
      },
      "source": [
        "g = proc.groupby(['dayOfWeek']).mean()"
      ],
      "execution_count": null,
      "outputs": []
    },
    {
      "cell_type": "code",
      "metadata": {
        "id": "Y7ttJOeSm3La"
      },
      "source": [
        "h = g.columns \n",
        "g = g.drop(columns = h[:-2])"
      ],
      "execution_count": null,
      "outputs": []
    },
    {
      "cell_type": "code",
      "metadata": {
        "id": "kW_S452VnLoP",
        "outputId": "2784ef0b-dfe6-42ad-9668-3d516017faa6",
        "colab": {
          "base_uri": "https://localhost:8080/",
          "height": 300
        }
      },
      "source": [
        "g"
      ],
      "execution_count": null,
      "outputs": [
        {
          "output_type": "execute_result",
          "data": {
            "text/html": [
              "<div>\n",
              "<style scoped>\n",
              "    .dataframe tbody tr th:only-of-type {\n",
              "        vertical-align: middle;\n",
              "    }\n",
              "\n",
              "    .dataframe tbody tr th {\n",
              "        vertical-align: top;\n",
              "    }\n",
              "\n",
              "    .dataframe thead th {\n",
              "        text-align: right;\n",
              "    }\n",
              "</style>\n",
              "<table border=\"1\" class=\"dataframe\">\n",
              "  <thead>\n",
              "    <tr style=\"text-align: right;\">\n",
              "      <th></th>\n",
              "      <th>BlueCars_taken_sum</th>\n",
              "      <th>BlueCars_returned_sum</th>\n",
              "    </tr>\n",
              "    <tr>\n",
              "      <th>dayOfWeek</th>\n",
              "      <th></th>\n",
              "      <th></th>\n",
              "    </tr>\n",
              "  </thead>\n",
              "  <tbody>\n",
              "    <tr>\n",
              "      <th>0</th>\n",
              "      <td>43.134274</td>\n",
              "      <td>43.660920</td>\n",
              "    </tr>\n",
              "    <tr>\n",
              "      <th>1</th>\n",
              "      <td>42.626105</td>\n",
              "      <td>42.943838</td>\n",
              "    </tr>\n",
              "    <tr>\n",
              "      <th>2</th>\n",
              "      <td>45.201635</td>\n",
              "      <td>45.572207</td>\n",
              "    </tr>\n",
              "    <tr>\n",
              "      <th>3</th>\n",
              "      <td>44.744518</td>\n",
              "      <td>44.984649</td>\n",
              "    </tr>\n",
              "    <tr>\n",
              "      <th>4</th>\n",
              "      <td>48.049751</td>\n",
              "      <td>47.285240</td>\n",
              "    </tr>\n",
              "    <tr>\n",
              "      <th>5</th>\n",
              "      <td>51.382048</td>\n",
              "      <td>50.543728</td>\n",
              "    </tr>\n",
              "    <tr>\n",
              "      <th>6</th>\n",
              "      <td>53.680249</td>\n",
              "      <td>53.538766</td>\n",
              "    </tr>\n",
              "  </tbody>\n",
              "</table>\n",
              "</div>"
            ],
            "text/plain": [
              "           BlueCars_taken_sum  BlueCars_returned_sum\n",
              "dayOfWeek                                           \n",
              "0                   43.134274              43.660920\n",
              "1                   42.626105              42.943838\n",
              "2                   45.201635              45.572207\n",
              "3                   44.744518              44.984649\n",
              "4                   48.049751              47.285240\n",
              "5                   51.382048              50.543728\n",
              "6                   53.680249              53.538766"
            ]
          },
          "metadata": {
            "tags": []
          },
          "execution_count": 32
        }
      ]
    },
    {
      "cell_type": "code",
      "metadata": {
        "id": "qHwbFSIWojTW",
        "outputId": "a87ee655-d7a0-4d2b-c8d6-cd81acb78e2c",
        "colab": {
          "base_uri": "https://localhost:8080/"
        }
      },
      "source": [
        "er = toclean[toclean['day_type'] == 'weekend']\n",
        "er['dayOfWeek'].unique()"
      ],
      "execution_count": null,
      "outputs": [
        {
          "output_type": "execute_result",
          "data": {
            "text/plain": [
              "array([6, 5])"
            ]
          },
          "metadata": {
            "tags": []
          },
          "execution_count": 33
        }
      ]
    },
    {
      "cell_type": "code",
      "metadata": {
        "id": "2KmO6CTepH_R"
      },
      "source": [
        "dayconv= {\n",
        "    0 : 'Monday',\n",
        "    1 : 'Tuesday',\n",
        "    2 : 'Wednesday',\n",
        "    3 : 'Thurday',\n",
        "    4 : 'Friday',\n",
        "    5 : 'Saturday',\n",
        "    6 : 'Sunday'\n",
        "}"
      ],
      "execution_count": null,
      "outputs": []
    },
    {
      "cell_type": "code",
      "metadata": {
        "id": "95vnSEOHn2ke",
        "outputId": "9298ed0b-16f4-43a8-cb11-1a30159fb236",
        "colab": {
          "base_uri": "https://localhost:8080/",
          "height": 284
        }
      },
      "source": [
        "plt.bar((g.index),g['BlueCars_taken_sum'])"
      ],
      "execution_count": null,
      "outputs": [
        {
          "output_type": "execute_result",
          "data": {
            "text/plain": [
              "<BarContainer object of 7 artists>"
            ]
          },
          "metadata": {
            "tags": []
          },
          "execution_count": 35
        },
        {
          "output_type": "display_data",
          "data": {
            "image/png": "[encoded data removed]",
            "text/plain": [
              "<Figure size 432x288 with 1 Axes>"
            ]
          },
          "metadata": {
            "tags": [],
            "needs_background": "light"
          }
        }
      ]
    },
    {
      "cell_type": "code",
      "metadata": {
        "id": "oSfUEgwIoFGC",
        "outputId": "50a9967a-e6d3-4b0a-98d9-f86b92fcb0e0",
        "colab": {
          "base_uri": "https://localhost:8080/",
          "height": 284
        }
      },
      "source": [
        "plt.bar(g.index,g['BlueCars_returned_sum'])"
      ],
      "execution_count": null,
      "outputs": [
        {
          "output_type": "execute_result",
          "data": {
            "text/plain": [
              "<BarContainer object of 7 artists>"
            ]
          },
          "metadata": {
            "tags": []
          },
          "execution_count": 36
        },
        {
          "output_type": "display_data",
          "data": {
            "image/png": "[encoded data removed]",
            "text/plain": [
              "<Figure size 432x288 with 1 Axes>"
            ]
          },
          "metadata": {
            "tags": [],
            "needs_background": "light"
          }
        }
      ]
    },
    {
      "cell_type": "code",
      "metadata": {
        "id": "4V_oj4PCoSzG",
        "outputId": "5b8f2b6c-aa82-436e-f447-31c8ba22b1f4",
        "colab": {
          "base_uri": "https://localhost:8080/",
          "height": 295
        }
      },
      "source": [
        "g.plot.bar(stacked = True)"
      ],
      "execution_count": null,
      "outputs": [
        {
          "output_type": "execute_result",
          "data": {
            "text/plain": [
              "<matplotlib.axes._subplots.AxesSubplot at 0x7f45c1aae358>"
            ]
          },
          "metadata": {
            "tags": []
          },
          "execution_count": 37
        },
        {
          "output_type": "display_data",
          "data": {
            "image/png": "[encoded data removed]",
            "text/plain": [
              "<Figure size 432x288 with 1 Axes>"
            ]
          },
          "metadata": {
            "tags": [],
            "needs_background": "light"
          }
        }
      ]
    },
    {
      "cell_type": "markdown",
      "metadata": {
        "id": "qfdx7XA_1PRH"
      },
      "source": [
        "####Ratios\n"
      ]
    },
    {
      "cell_type": "code",
      "metadata": {
        "id": "p8ABunos1pq6"
      },
      "source": [
        "g = proc.groupby(['day_type']).mean()"
      ],
      "execution_count": null,
      "outputs": []
    },
    {
      "cell_type": "code",
      "metadata": {
        "id": "qdf1xHJt13XO"
      },
      "source": [
        "h = g.columns \n",
        "g = g.drop(columns = h[:-2])"
      ],
      "execution_count": null,
      "outputs": []
    },
    {
      "cell_type": "code",
      "metadata": {
        "id": "-Ck7-Kpw2Go3",
        "outputId": "6c8d22ee-60fa-451f-9003-0ca9c93f3605",
        "colab": {
          "base_uri": "https://localhost:8080/",
          "height": 334
        }
      },
      "source": [
        "g.plot.bar(stacked= True)"
      ],
      "execution_count": null,
      "outputs": [
        {
          "output_type": "execute_result",
          "data": {
            "text/plain": [
              "<matplotlib.axes._subplots.AxesSubplot at 0x7f45c192ada0>"
            ]
          },
          "metadata": {
            "tags": []
          },
          "execution_count": 40
        },
        {
          "output_type": "display_data",
          "data": {
            "image/png": "[encoded data removed]",
            "text/plain": [
              "<Figure size 432x288 with 1 Axes>"
            ]
          },
          "metadata": {
            "tags": [],
            "needs_background": "light"
          }
        }
      ]
    },
    {
      "cell_type": "code",
      "metadata": {
        "id": "wCFlueGJ1UA2",
        "outputId": "0cd5c387-4005-4c3b-c938-b26019140ee6",
        "colab": {
          "base_uri": "https://localhost:8080/",
          "height": 322
        }
      },
      "source": [
        "plt.pie(g.sum())"
      ],
      "execution_count": null,
      "outputs": [
        {
          "output_type": "execute_result",
          "data": {
            "text/plain": [
              "([<matplotlib.patches.Wedge at 0x7f45c182c1d0>,\n",
              "  <matplotlib.patches.Wedge at 0x7f45c182c710>],\n",
              " [Text(-0.0030392142945753443, 1.0999958014358382, ''),\n",
              "  Text(0.003039214294575454, -1.0999958014358382, '')])"
            ]
          },
          "metadata": {
            "tags": []
          },
          "execution_count": 41
        },
        {
          "output_type": "display_data",
          "data": {
            "image/png": "[encoded data removed]",
            "text/plain": [
              "<Figure size 432x288 with 1 Axes>"
            ]
          },
          "metadata": {
            "tags": []
          }
        }
      ]
    },
    {
      "cell_type": "markdown",
      "metadata": {
        "id": "2DtrAtr_2jT5"
      },
      "source": [
        "#Hypothesis testing"
      ]
    },
    {
      "cell_type": "markdown",
      "metadata": {
        "id": "vYj8ZCBlZl1s"
      },
      "source": [
        "#Problem statement"
      ]
    },
    {
      "cell_type": "markdown",
      "metadata": {
        "id": "6UcJ5DKnZqDE"
      },
      "source": [
        "Here we are looking at the data of vehicles being taken from and returned to stations for a car sharing company. The data is collected of the cars being borrowed and returned within a period of days and within a number of stations. Some investigation on the following will be done within this study:\n",
        "1.\tThe cars taken correlation with the cars returned.\n",
        "2.\tThe difference in the activity within weekends and weekdays.\n",
        "3.\tSampling methods that can be used to represent the data that are indicative of the whole dataset.\n"
      ]
    },
    {
      "cell_type": "markdown",
      "metadata": {
        "id": "6NSAq7DEbgqx"
      },
      "source": [
        "The hypotheses that are formed from the aforementioned are the following:\n",
        "1.\tNull hypothesis: The average of the cars borrowed, and the cars returned is similar. Alternate hypothesis: The average of the borrowed and returned cars is not similar.\n",
        "2.\tNull hypothesis: The activity (borrowing and returning of vehicles) is more on the weekday than on a weekend. Alternate hypothesis: The activity (borrowing and returning of vehicles) is more on the weekday than on a weekend\n",
        "3.\tNull hypothesis: Random samples of postal codes can be picked that will be indicative of the activity of the population. Alternative hypothesis: Random samples of postal codes cannot be picked that will be indicative of the activity of the population.\n"
      ]
    },
    {
      "cell_type": "markdown",
      "metadata": {
        "id": "d6ajPgUBfPfj"
      },
      "source": [
        "The reasons for the hypothesis above in order is to find out the following:\n",
        "1.\tIs there enough data to conclude that the stations are in isolation and we can dismiss that one car can be borrowed from one station and be returned to another?\n",
        "2.\tIs the usage of the vehicles based primarily for workers or for leisure and if so which of them has a heavier bias?\n",
        "3.\tCan the dataset be reduced to a smaller size for easier processing?\n"
      ]
    },
    {
      "cell_type": "markdown",
      "metadata": {
        "id": "D-kQPSl-qebu"
      },
      "source": [
        "#Data Description"
      ]
    },
    {
      "cell_type": "markdown",
      "metadata": {
        "id": "mx0AyFBKo-xs"
      },
      "source": [
        "The data entails the number of data points that were aggregated and the vehicles. Due to the occurrence of the aggregation points being 1440; it is believed that the aggregation was one every minute of the day."
      ]
    },
    {
      "cell_type": "markdown",
      "metadata": {
        "id": "ZHpuN-x6psx1"
      },
      "source": [
        "Due to the data cleaning that was done earlier; the vehicle information that is not under the scope of this study has already been eliminated from the dataset."
      ]
    },
    {
      "cell_type": "markdown",
      "metadata": {
        "id": "1asvcatJsDyp"
      },
      "source": [
        "The data that shall be looked at are the following:\n",
        "\n",
        "\n",
        "*   Postal Code\n",
        "*   Date\n",
        "*   Data Points\n",
        "*   Day of the week\n",
        "*   Day type\n",
        "*   Bluecars Taken \n",
        "*   Bluecars Returned\n",
        "\n",
        "\n",
        "\n",
        "\n",
        "\n",
        "\n"
      ]
    },
    {
      "cell_type": "markdown",
      "metadata": {
        "id": "TUMG232mq5j2"
      },
      "source": [
        "#Hypothesis Testing Procedure"
      ]
    },
    {
      "cell_type": "markdown",
      "metadata": {
        "id": "WeaIM8ia2Oes"
      },
      "source": [
        "The procedure that shall be used respectively to test the hypothesis that have been mentioned above are the following:\n"
      ]
    },
    {
      "cell_type": "markdown",
      "metadata": {
        "id": "peawOxFIW2BC"
      },
      "source": [
        "###Mathematical Functions"
      ]
    },
    {
      "cell_type": "code",
      "metadata": {
        "id": "iQWWjDeBvVlX"
      },
      "source": [
        "def ztest(h0, h1, sdev , pop):\n",
        "  r = (h1 - h0)/(sdev/(pop**0.5))\n",
        "  return r"
      ],
      "execution_count": null,
      "outputs": []
    },
    {
      "cell_type": "code",
      "metadata": {
        "id": "llhKUfhZw8ia"
      },
      "source": [
        "def ttest(h0,h1,v0,v1,p0,p1):\n",
        "  r = (abs(h0-h1))/(((v0/p0)+(v1/p1))**0.5)\n",
        "  return r"
      ],
      "execution_count": null,
      "outputs": []
    },
    {
      "cell_type": "markdown",
      "metadata": {
        "id": "gfOvfWguA5aT"
      },
      "source": [
        "###Test 1"
      ]
    },
    {
      "cell_type": "markdown",
      "metadata": {
        "id": "f21U1uJFhb17"
      },
      "source": [
        "For Test 1; the z score shall be sought after, and a double tail normal distribution shall be used for the seeking of the validity of the hypothesis"
      ]
    },
    {
      "cell_type": "code",
      "metadata": {
        "id": "hPo0PaYREz9M",
        "outputId": "703ff7dc-0d2d-47f7-bf84-3e4cd4385e7d",
        "colab": {
          "base_uri": "https://localhost:8080/",
          "height": 300
        }
      },
      "source": [
        "stat = proc.describe()\n",
        "stat"
      ],
      "execution_count": null,
      "outputs": [
        {
          "output_type": "execute_result",
          "data": {
            "text/html": [
              "<div>\n",
              "<style scoped>\n",
              "    .dataframe tbody tr th:only-of-type {\n",
              "        vertical-align: middle;\n",
              "    }\n",
              "\n",
              "    .dataframe tbody tr th {\n",
              "        vertical-align: top;\n",
              "    }\n",
              "\n",
              "    .dataframe thead th {\n",
              "        text-align: right;\n",
              "    }\n",
              "</style>\n",
              "<table border=\"1\" class=\"dataframe\">\n",
              "  <thead>\n",
              "    <tr style=\"text-align: right;\">\n",
              "      <th></th>\n",
              "      <th>index</th>\n",
              "      <th>Postal code</th>\n",
              "      <th>n_daily_data_points</th>\n",
              "      <th>dayOfWeek</th>\n",
              "      <th>BlueCars_taken_sum</th>\n",
              "      <th>BlueCars_returned_sum</th>\n",
              "    </tr>\n",
              "  </thead>\n",
              "  <tbody>\n",
              "    <tr>\n",
              "      <th>count</th>\n",
              "      <td>12810.000000</td>\n",
              "      <td>12810.000000</td>\n",
              "      <td>12810.000000</td>\n",
              "      <td>12810.000000</td>\n",
              "      <td>12810.000000</td>\n",
              "      <td>12810.000000</td>\n",
              "    </tr>\n",
              "    <tr>\n",
              "      <th>mean</th>\n",
              "      <td>9499.261124</td>\n",
              "      <td>91638.487822</td>\n",
              "      <td>1431.029196</td>\n",
              "      <td>2.934660</td>\n",
              "      <td>46.851288</td>\n",
              "      <td>46.823731</td>\n",
              "    </tr>\n",
              "    <tr>\n",
              "      <th>std</th>\n",
              "      <td>3973.021951</td>\n",
              "      <td>4875.451081</td>\n",
              "      <td>33.725980</td>\n",
              "      <td>2.002464</td>\n",
              "      <td>41.473763</td>\n",
              "      <td>41.163345</td>\n",
              "    </tr>\n",
              "    <tr>\n",
              "      <th>min</th>\n",
              "      <td>0.000000</td>\n",
              "      <td>75001.000000</td>\n",
              "      <td>1174.000000</td>\n",
              "      <td>0.000000</td>\n",
              "      <td>0.000000</td>\n",
              "      <td>0.000000</td>\n",
              "    </tr>\n",
              "    <tr>\n",
              "      <th>25%</th>\n",
              "      <td>6349.250000</td>\n",
              "      <td>92220.000000</td>\n",
              "      <td>1439.000000</td>\n",
              "      <td>1.000000</td>\n",
              "      <td>16.000000</td>\n",
              "      <td>16.000000</td>\n",
              "    </tr>\n",
              "    <tr>\n",
              "      <th>50%</th>\n",
              "      <td>9654.500000</td>\n",
              "      <td>92650.000000</td>\n",
              "      <td>1440.000000</td>\n",
              "      <td>3.000000</td>\n",
              "      <td>33.000000</td>\n",
              "      <td>33.000000</td>\n",
              "    </tr>\n",
              "    <tr>\n",
              "      <th>75%</th>\n",
              "      <td>12881.750000</td>\n",
              "      <td>93800.000000</td>\n",
              "      <td>1440.000000</td>\n",
              "      <td>5.000000</td>\n",
              "      <td>65.000000</td>\n",
              "      <td>65.000000</td>\n",
              "    </tr>\n",
              "    <tr>\n",
              "      <th>max</th>\n",
              "      <td>16084.000000</td>\n",
              "      <td>95880.000000</td>\n",
              "      <td>1440.000000</td>\n",
              "      <td>6.000000</td>\n",
              "      <td>208.000000</td>\n",
              "      <td>177.000000</td>\n",
              "    </tr>\n",
              "  </tbody>\n",
              "</table>\n",
              "</div>"
            ],
            "text/plain": [
              "              index   Postal code  ...  BlueCars_taken_sum  BlueCars_returned_sum\n",
              "count  12810.000000  12810.000000  ...        12810.000000           12810.000000\n",
              "mean    9499.261124  91638.487822  ...           46.851288              46.823731\n",
              "std     3973.021951   4875.451081  ...           41.473763              41.163345\n",
              "min        0.000000  75001.000000  ...            0.000000               0.000000\n",
              "25%     6349.250000  92220.000000  ...           16.000000              16.000000\n",
              "50%     9654.500000  92650.000000  ...           33.000000              33.000000\n",
              "75%    12881.750000  93800.000000  ...           65.000000              65.000000\n",
              "max    16084.000000  95880.000000  ...          208.000000             177.000000\n",
              "\n",
              "[8 rows x 6 columns]"
            ]
          },
          "metadata": {
            "tags": []
          },
          "execution_count": 50
        }
      ]
    },
    {
      "cell_type": "code",
      "metadata": {
        "id": "0pVpjRdHGWmJ",
        "outputId": "c6ea5448-6aba-4256-ecfd-64f81f3a5d4f",
        "colab": {
          "base_uri": "https://localhost:8080/"
        }
      },
      "source": [
        "zscore = ttest(stat.iloc[1,4] , stat.iloc[1,5] , stat.iloc[2,4], stat.iloc[0,4] )\n",
        "zscore"
      ],
      "execution_count": null,
      "outputs": [
        {
          "output_type": "execute_result",
          "data": {
            "text/plain": [
              "-0.0015225032886933645"
            ]
          },
          "metadata": {
            "tags": []
          },
          "execution_count": 62
        }
      ]
    },
    {
      "cell_type": "markdown",
      "metadata": {
        "id": "NRSH_Q3iCxyB"
      },
      "source": [
        "###Test 2"
      ]
    },
    {
      "cell_type": "markdown",
      "metadata": {
        "id": "4BGyEDMlhefE"
      },
      "source": [
        "For Test 2; The t test shall be used since there are two summarised samples which are the weekday summary and the weekend summary as per the resultant table. Again, a double tail distribution shall be used for validity."
      ]
    },
    {
      "cell_type": "code",
      "metadata": {
        "id": "2HjjhcbBF0dN",
        "outputId": "3578e55d-5dc3-4b4c-e9ab-5ccf09e31b9f",
        "colab": {
          "base_uri": "https://localhost:8080/",
          "height": 300
        }
      },
      "source": [
        "g = proc.groupby(['day_type']).sum()\n",
        "stat = g.describe()\n",
        "stat"
      ],
      "execution_count": null,
      "outputs": [
        {
          "output_type": "execute_result",
          "data": {
            "text/html": [
              "<div>\n",
              "<style scoped>\n",
              "    .dataframe tbody tr th:only-of-type {\n",
              "        vertical-align: middle;\n",
              "    }\n",
              "\n",
              "    .dataframe tbody tr th {\n",
              "        vertical-align: top;\n",
              "    }\n",
              "\n",
              "    .dataframe thead th {\n",
              "        text-align: right;\n",
              "    }\n",
              "</style>\n",
              "<table border=\"1\" class=\"dataframe\">\n",
              "  <thead>\n",
              "    <tr style=\"text-align: right;\">\n",
              "      <th></th>\n",
              "      <th>index</th>\n",
              "      <th>Postal code</th>\n",
              "      <th>n_daily_data_points</th>\n",
              "      <th>dayOfWeek</th>\n",
              "      <th>BlueCars_taken_sum</th>\n",
              "      <th>BlueCars_returned_sum</th>\n",
              "    </tr>\n",
              "  </thead>\n",
              "  <tbody>\n",
              "    <tr>\n",
              "      <th>count</th>\n",
              "      <td>2.000000e+00</td>\n",
              "      <td>2.000000e+00</td>\n",
              "      <td>2.000000e+00</td>\n",
              "      <td>2.00000</td>\n",
              "      <td>2.000000</td>\n",
              "      <td>2.000000</td>\n",
              "    </tr>\n",
              "    <tr>\n",
              "      <th>mean</th>\n",
              "      <td>6.084277e+07</td>\n",
              "      <td>5.869445e+08</td>\n",
              "      <td>9.165742e+06</td>\n",
              "      <td>18796.50000</td>\n",
              "      <td>300082.500000</td>\n",
              "      <td>299906.000000</td>\n",
              "    </tr>\n",
              "    <tr>\n",
              "      <th>std</th>\n",
              "      <td>3.819817e+07</td>\n",
              "      <td>3.746572e+08</td>\n",
              "      <td>5.852215e+06</td>\n",
              "      <td>700.74282</td>\n",
              "      <td>163946.242752</td>\n",
              "      <td>166110.696609</td>\n",
              "    </tr>\n",
              "    <tr>\n",
              "      <th>min</th>\n",
              "      <td>3.383258e+07</td>\n",
              "      <td>3.220219e+08</td>\n",
              "      <td>5.027601e+06</td>\n",
              "      <td>18301.00000</td>\n",
              "      <td>184155.000000</td>\n",
              "      <td>182448.000000</td>\n",
              "    </tr>\n",
              "    <tr>\n",
              "      <th>25%</th>\n",
              "      <td>4.733768e+07</td>\n",
              "      <td>4.544832e+08</td>\n",
              "      <td>7.096672e+06</td>\n",
              "      <td>18548.75000</td>\n",
              "      <td>242118.750000</td>\n",
              "      <td>241177.000000</td>\n",
              "    </tr>\n",
              "    <tr>\n",
              "      <th>50%</th>\n",
              "      <td>6.084277e+07</td>\n",
              "      <td>5.869445e+08</td>\n",
              "      <td>9.165742e+06</td>\n",
              "      <td>18796.50000</td>\n",
              "      <td>300082.500000</td>\n",
              "      <td>299906.000000</td>\n",
              "    </tr>\n",
              "    <tr>\n",
              "      <th>75%</th>\n",
              "      <td>7.434786e+07</td>\n",
              "      <td>7.194058e+08</td>\n",
              "      <td>1.123481e+07</td>\n",
              "      <td>19044.25000</td>\n",
              "      <td>358046.250000</td>\n",
              "      <td>358635.000000</td>\n",
              "    </tr>\n",
              "    <tr>\n",
              "      <th>max</th>\n",
              "      <td>8.785295e+07</td>\n",
              "      <td>8.518672e+08</td>\n",
              "      <td>1.330388e+07</td>\n",
              "      <td>19292.00000</td>\n",
              "      <td>416010.000000</td>\n",
              "      <td>417364.000000</td>\n",
              "    </tr>\n",
              "  </tbody>\n",
              "</table>\n",
              "</div>"
            ],
            "text/plain": [
              "              index   Postal code  ...  BlueCars_taken_sum  BlueCars_returned_sum\n",
              "count  2.000000e+00  2.000000e+00  ...            2.000000               2.000000\n",
              "mean   6.084277e+07  5.869445e+08  ...       300082.500000          299906.000000\n",
              "std    3.819817e+07  3.746572e+08  ...       163946.242752          166110.696609\n",
              "min    3.383258e+07  3.220219e+08  ...       184155.000000          182448.000000\n",
              "25%    4.733768e+07  4.544832e+08  ...       242118.750000          241177.000000\n",
              "50%    6.084277e+07  5.869445e+08  ...       300082.500000          299906.000000\n",
              "75%    7.434786e+07  7.194058e+08  ...       358046.250000          358635.000000\n",
              "max    8.785295e+07  8.518672e+08  ...       416010.000000          417364.000000\n",
              "\n",
              "[8 rows x 6 columns]"
            ]
          },
          "metadata": {
            "tags": []
          },
          "execution_count": 61
        }
      ]
    },
    {
      "cell_type": "code",
      "metadata": {
        "id": "4cPeAjPIBI1Y",
        "outputId": "fabc5eea-7281-44b8-ecc4-88af7e21de8b",
        "colab": {
          "base_uri": "https://localhost:8080/"
        }
      },
      "source": [
        "tscore = ttest(stat.iloc[1,4] , stat.iloc[1,5] , (stat.iloc[2,4])** 2, (stat.iloc[2,5])** 2, stat.iloc[0,4], stat.iloc[0,5] )\n",
        "tscore"
      ],
      "execution_count": null,
      "outputs": [
        {
          "output_type": "execute_result",
          "data": {
            "text/plain": [
              "0.0010694894358103883"
            ]
          },
          "metadata": {
            "tags": []
          },
          "execution_count": 64
        }
      ]
    },
    {
      "cell_type": "markdown",
      "metadata": {
        "id": "mPlJadNHKwL3"
      },
      "source": [
        "###Test 3"
      ]
    },
    {
      "cell_type": "markdown",
      "metadata": {
        "id": "6NozBYy4hh--"
      },
      "source": [
        "For Test 3; Both a combination of the t test and the z test shall be used in evaluating the postal code data vs the whole population to the given significance values. A double tail distribution shall be used."
      ]
    },
    {
      "cell_type": "code",
      "metadata": {
        "id": "c7-po0KhL3dK",
        "outputId": "fc64a40a-662b-4d16-a2d7-a602a8e77185",
        "colab": {
          "base_uri": "https://localhost:8080/",
          "height": 424
        }
      },
      "source": [
        "t = proc.copy()\n",
        "t['sum'] = t['BlueCars_taken_sum'] + t['BlueCars_returned_sum']\n",
        "t"
      ],
      "execution_count": null,
      "outputs": [
        {
          "output_type": "execute_result",
          "data": {
            "text/html": [
              "<div>\n",
              "<style scoped>\n",
              "    .dataframe tbody tr th:only-of-type {\n",
              "        vertical-align: middle;\n",
              "    }\n",
              "\n",
              "    .dataframe tbody tr th {\n",
              "        vertical-align: top;\n",
              "    }\n",
              "\n",
              "    .dataframe thead th {\n",
              "        text-align: right;\n",
              "    }\n",
              "</style>\n",
              "<table border=\"1\" class=\"dataframe\">\n",
              "  <thead>\n",
              "    <tr style=\"text-align: right;\">\n",
              "      <th></th>\n",
              "      <th>index</th>\n",
              "      <th>Postal code</th>\n",
              "      <th>date</th>\n",
              "      <th>n_daily_data_points</th>\n",
              "      <th>dayOfWeek</th>\n",
              "      <th>day_type</th>\n",
              "      <th>BlueCars_taken_sum</th>\n",
              "      <th>BlueCars_returned_sum</th>\n",
              "      <th>sum</th>\n",
              "    </tr>\n",
              "  </thead>\n",
              "  <tbody>\n",
              "    <tr>\n",
              "      <th>0</th>\n",
              "      <td>0</td>\n",
              "      <td>75001</td>\n",
              "      <td>1/1/2018</td>\n",
              "      <td>1440</td>\n",
              "      <td>0</td>\n",
              "      <td>weekday</td>\n",
              "      <td>110</td>\n",
              "      <td>103</td>\n",
              "      <td>213</td>\n",
              "    </tr>\n",
              "    <tr>\n",
              "      <th>1</th>\n",
              "      <td>1</td>\n",
              "      <td>75001</td>\n",
              "      <td>1/2/2018</td>\n",
              "      <td>1438</td>\n",
              "      <td>1</td>\n",
              "      <td>weekday</td>\n",
              "      <td>98</td>\n",
              "      <td>94</td>\n",
              "      <td>192</td>\n",
              "    </tr>\n",
              "    <tr>\n",
              "      <th>2</th>\n",
              "      <td>2</td>\n",
              "      <td>75001</td>\n",
              "      <td>1/3/2018</td>\n",
              "      <td>1439</td>\n",
              "      <td>2</td>\n",
              "      <td>weekday</td>\n",
              "      <td>138</td>\n",
              "      <td>139</td>\n",
              "      <td>277</td>\n",
              "    </tr>\n",
              "    <tr>\n",
              "      <th>3</th>\n",
              "      <td>3</td>\n",
              "      <td>75001</td>\n",
              "      <td>1/4/2018</td>\n",
              "      <td>1320</td>\n",
              "      <td>3</td>\n",
              "      <td>weekday</td>\n",
              "      <td>104</td>\n",
              "      <td>104</td>\n",
              "      <td>208</td>\n",
              "    </tr>\n",
              "    <tr>\n",
              "      <th>4</th>\n",
              "      <td>4</td>\n",
              "      <td>75001</td>\n",
              "      <td>1/5/2018</td>\n",
              "      <td>1440</td>\n",
              "      <td>4</td>\n",
              "      <td>weekday</td>\n",
              "      <td>114</td>\n",
              "      <td>117</td>\n",
              "      <td>231</td>\n",
              "    </tr>\n",
              "    <tr>\n",
              "      <th>...</th>\n",
              "      <td>...</td>\n",
              "      <td>...</td>\n",
              "      <td>...</td>\n",
              "      <td>...</td>\n",
              "      <td>...</td>\n",
              "      <td>...</td>\n",
              "      <td>...</td>\n",
              "      <td>...</td>\n",
              "      <td>...</td>\n",
              "    </tr>\n",
              "    <tr>\n",
              "      <th>12805</th>\n",
              "      <td>16080</td>\n",
              "      <td>95880</td>\n",
              "      <td>6/15/2018</td>\n",
              "      <td>1440</td>\n",
              "      <td>4</td>\n",
              "      <td>weekday</td>\n",
              "      <td>15</td>\n",
              "      <td>10</td>\n",
              "      <td>25</td>\n",
              "    </tr>\n",
              "    <tr>\n",
              "      <th>12806</th>\n",
              "      <td>16081</td>\n",
              "      <td>95880</td>\n",
              "      <td>6/16/2018</td>\n",
              "      <td>1440</td>\n",
              "      <td>5</td>\n",
              "      <td>weekend</td>\n",
              "      <td>19</td>\n",
              "      <td>19</td>\n",
              "      <td>38</td>\n",
              "    </tr>\n",
              "    <tr>\n",
              "      <th>12807</th>\n",
              "      <td>16082</td>\n",
              "      <td>95880</td>\n",
              "      <td>6/17/2018</td>\n",
              "      <td>1440</td>\n",
              "      <td>6</td>\n",
              "      <td>weekend</td>\n",
              "      <td>33</td>\n",
              "      <td>35</td>\n",
              "      <td>68</td>\n",
              "    </tr>\n",
              "    <tr>\n",
              "      <th>12808</th>\n",
              "      <td>16083</td>\n",
              "      <td>95880</td>\n",
              "      <td>6/18/2018</td>\n",
              "      <td>1440</td>\n",
              "      <td>0</td>\n",
              "      <td>weekday</td>\n",
              "      <td>11</td>\n",
              "      <td>14</td>\n",
              "      <td>25</td>\n",
              "    </tr>\n",
              "    <tr>\n",
              "      <th>12809</th>\n",
              "      <td>16084</td>\n",
              "      <td>95880</td>\n",
              "      <td>6/19/2018</td>\n",
              "      <td>1370</td>\n",
              "      <td>1</td>\n",
              "      <td>weekday</td>\n",
              "      <td>2</td>\n",
              "      <td>2</td>\n",
              "      <td>4</td>\n",
              "    </tr>\n",
              "  </tbody>\n",
              "</table>\n",
              "<p>12810 rows × 9 columns</p>\n",
              "</div>"
            ],
            "text/plain": [
              "       index  Postal code  ... BlueCars_returned_sum  sum\n",
              "0          0        75001  ...                   103  213\n",
              "1          1        75001  ...                    94  192\n",
              "2          2        75001  ...                   139  277\n",
              "3          3        75001  ...                   104  208\n",
              "4          4        75001  ...                   117  231\n",
              "...      ...          ...  ...                   ...  ...\n",
              "12805  16080        95880  ...                    10   25\n",
              "12806  16081        95880  ...                    19   38\n",
              "12807  16082        95880  ...                    35   68\n",
              "12808  16083        95880  ...                    14   25\n",
              "12809  16084        95880  ...                     2    4\n",
              "\n",
              "[12810 rows x 9 columns]"
            ]
          },
          "metadata": {
            "tags": []
          },
          "execution_count": 73
        }
      ]
    },
    {
      "cell_type": "code",
      "metadata": {
        "id": "87k_u2ecMRzS",
        "outputId": "47a6ae71-3167-429d-d9c4-a7e43e47733b",
        "colab": {
          "base_uri": "https://localhost:8080/",
          "height": 300
        }
      },
      "source": [
        "pstat = t.describe()\n",
        "pstat"
      ],
      "execution_count": null,
      "outputs": [
        {
          "output_type": "execute_result",
          "data": {
            "text/html": [
              "<div>\n",
              "<style scoped>\n",
              "    .dataframe tbody tr th:only-of-type {\n",
              "        vertical-align: middle;\n",
              "    }\n",
              "\n",
              "    .dataframe tbody tr th {\n",
              "        vertical-align: top;\n",
              "    }\n",
              "\n",
              "    .dataframe thead th {\n",
              "        text-align: right;\n",
              "    }\n",
              "</style>\n",
              "<table border=\"1\" class=\"dataframe\">\n",
              "  <thead>\n",
              "    <tr style=\"text-align: right;\">\n",
              "      <th></th>\n",
              "      <th>index</th>\n",
              "      <th>Postal code</th>\n",
              "      <th>n_daily_data_points</th>\n",
              "      <th>dayOfWeek</th>\n",
              "      <th>BlueCars_taken_sum</th>\n",
              "      <th>BlueCars_returned_sum</th>\n",
              "      <th>sum</th>\n",
              "    </tr>\n",
              "  </thead>\n",
              "  <tbody>\n",
              "    <tr>\n",
              "      <th>count</th>\n",
              "      <td>12810.000000</td>\n",
              "      <td>12810.000000</td>\n",
              "      <td>12810.000000</td>\n",
              "      <td>12810.000000</td>\n",
              "      <td>12810.000000</td>\n",
              "      <td>12810.000000</td>\n",
              "      <td>12810.000000</td>\n",
              "    </tr>\n",
              "    <tr>\n",
              "      <th>mean</th>\n",
              "      <td>9499.261124</td>\n",
              "      <td>91638.487822</td>\n",
              "      <td>1431.029196</td>\n",
              "      <td>2.934660</td>\n",
              "      <td>46.851288</td>\n",
              "      <td>46.823731</td>\n",
              "      <td>93.675020</td>\n",
              "    </tr>\n",
              "    <tr>\n",
              "      <th>std</th>\n",
              "      <td>3973.021951</td>\n",
              "      <td>4875.451081</td>\n",
              "      <td>33.725980</td>\n",
              "      <td>2.002464</td>\n",
              "      <td>41.473763</td>\n",
              "      <td>41.163345</td>\n",
              "      <td>82.448223</td>\n",
              "    </tr>\n",
              "    <tr>\n",
              "      <th>min</th>\n",
              "      <td>0.000000</td>\n",
              "      <td>75001.000000</td>\n",
              "      <td>1174.000000</td>\n",
              "      <td>0.000000</td>\n",
              "      <td>0.000000</td>\n",
              "      <td>0.000000</td>\n",
              "      <td>0.000000</td>\n",
              "    </tr>\n",
              "    <tr>\n",
              "      <th>25%</th>\n",
              "      <td>6349.250000</td>\n",
              "      <td>92220.000000</td>\n",
              "      <td>1439.000000</td>\n",
              "      <td>1.000000</td>\n",
              "      <td>16.000000</td>\n",
              "      <td>16.000000</td>\n",
              "      <td>32.000000</td>\n",
              "    </tr>\n",
              "    <tr>\n",
              "      <th>50%</th>\n",
              "      <td>9654.500000</td>\n",
              "      <td>92650.000000</td>\n",
              "      <td>1440.000000</td>\n",
              "      <td>3.000000</td>\n",
              "      <td>33.000000</td>\n",
              "      <td>33.000000</td>\n",
              "      <td>66.000000</td>\n",
              "    </tr>\n",
              "    <tr>\n",
              "      <th>75%</th>\n",
              "      <td>12881.750000</td>\n",
              "      <td>93800.000000</td>\n",
              "      <td>1440.000000</td>\n",
              "      <td>5.000000</td>\n",
              "      <td>65.000000</td>\n",
              "      <td>65.000000</td>\n",
              "      <td>129.000000</td>\n",
              "    </tr>\n",
              "    <tr>\n",
              "      <th>max</th>\n",
              "      <td>16084.000000</td>\n",
              "      <td>95880.000000</td>\n",
              "      <td>1440.000000</td>\n",
              "      <td>6.000000</td>\n",
              "      <td>208.000000</td>\n",
              "      <td>177.000000</td>\n",
              "      <td>374.000000</td>\n",
              "    </tr>\n",
              "  </tbody>\n",
              "</table>\n",
              "</div>"
            ],
            "text/plain": [
              "              index   Postal code  ...  BlueCars_returned_sum           sum\n",
              "count  12810.000000  12810.000000  ...           12810.000000  12810.000000\n",
              "mean    9499.261124  91638.487822  ...              46.823731     93.675020\n",
              "std     3973.021951   4875.451081  ...              41.163345     82.448223\n",
              "min        0.000000  75001.000000  ...               0.000000      0.000000\n",
              "25%     6349.250000  92220.000000  ...              16.000000     32.000000\n",
              "50%     9654.500000  92650.000000  ...              33.000000     66.000000\n",
              "75%    12881.750000  93800.000000  ...              65.000000    129.000000\n",
              "max    16084.000000  95880.000000  ...             177.000000    374.000000\n",
              "\n",
              "[8 rows x 7 columns]"
            ]
          },
          "metadata": {
            "tags": []
          },
          "execution_count": 80
        }
      ]
    },
    {
      "cell_type": "code",
      "metadata": {
        "id": "hapf26fKOgHG"
      },
      "source": [
        "mean = pstat.iloc[1,6]\n",
        "pop = pstat.iloc[0,6]\n",
        "sdev = pstat.iloc[2,6]"
      ],
      "execution_count": null,
      "outputs": []
    },
    {
      "cell_type": "code",
      "metadata": {
        "id": "V0M8cjcTNQYM"
      },
      "source": [
        "postalstats = pd.DataFrame(proc[('Postal code')].value_counts())\n",
        "postalstats.columns = ['Population']\n",
        "postalstats['Mean'] = ''\n",
        "postalstats['SDev'] = ''\n",
        "postalstats['zscore'] = ''\n",
        "postalstats['ttest'] = ''"
      ],
      "execution_count": null,
      "outputs": []
    },
    {
      "cell_type": "code",
      "metadata": {
        "id": "3Ea0R9DyPvIi"
      },
      "source": [
        "for e , row in postalstats.iterrows():\n",
        "  postalstats.loc[e , 'Mean'] = t[t['Postal code'] == e]['sum'].mean()\n",
        "  postalstats.loc[e , 'SDev'] = t[t['Postal code'] == e]['sum'].std()"
      ],
      "execution_count": null,
      "outputs": []
    },
    {
      "cell_type": "code",
      "metadata": {
        "id": "rbF_YXKXSSxi"
      },
      "source": [
        "for z , row in postalstats.iterrows():\n",
        "  if row['Population'] >= 30:\n",
        "    postalstats.loc[z , 'zscore'] = ztest( row['Mean'], mean, row['SDev'] , row['Population'])\n",
        "  else:\n",
        "    postalstats.loc[z , 'ttest'] = ttest(row['Mean'], mean, (row['SDev'])**2 , sdev**2 , row['Population'], pop) "
      ],
      "execution_count": null,
      "outputs": []
    },
    {
      "cell_type": "code",
      "metadata": {
        "id": "Wer3RC5SNspe",
        "outputId": "9df44260-5205-4a8d-9178-fd97f72a6d71",
        "colab": {
          "base_uri": "https://localhost:8080/",
          "height": 424
        }
      },
      "source": [
        "postalstats"
      ],
      "execution_count": null,
      "outputs": [
        {
          "output_type": "execute_result",
          "data": {
            "text/html": [
              "<div>\n",
              "<style scoped>\n",
              "    .dataframe tbody tr th:only-of-type {\n",
              "        vertical-align: middle;\n",
              "    }\n",
              "\n",
              "    .dataframe tbody tr th {\n",
              "        vertical-align: top;\n",
              "    }\n",
              "\n",
              "    .dataframe thead th {\n",
              "        text-align: right;\n",
              "    }\n",
              "</style>\n",
              "<table border=\"1\" class=\"dataframe\">\n",
              "  <thead>\n",
              "    <tr style=\"text-align: right;\">\n",
              "      <th></th>\n",
              "      <th>Population</th>\n",
              "      <th>Mean</th>\n",
              "      <th>SDev</th>\n",
              "      <th>zscore</th>\n",
              "      <th>ttest</th>\n",
              "    </tr>\n",
              "  </thead>\n",
              "  <tbody>\n",
              "    <tr>\n",
              "      <th>94130</th>\n",
              "      <td>156</td>\n",
              "      <td>76.7756</td>\n",
              "      <td>31.251</td>\n",
              "      <td>6.75412</td>\n",
              "      <td></td>\n",
              "    </tr>\n",
              "    <tr>\n",
              "      <th>92400</th>\n",
              "      <td>156</td>\n",
              "      <td>209.269</td>\n",
              "      <td>43.7526</td>\n",
              "      <td>-32.9985</td>\n",
              "      <td></td>\n",
              "    </tr>\n",
              "    <tr>\n",
              "      <th>92230</th>\n",
              "      <td>156</td>\n",
              "      <td>106.679</td>\n",
              "      <td>22.5606</td>\n",
              "      <td>-7.19953</td>\n",
              "      <td></td>\n",
              "    </tr>\n",
              "    <tr>\n",
              "      <th>92270</th>\n",
              "      <td>156</td>\n",
              "      <td>54.609</td>\n",
              "      <td>16.5376</td>\n",
              "      <td>29.5046</td>\n",
              "      <td></td>\n",
              "    </tr>\n",
              "    <tr>\n",
              "      <th>92310</th>\n",
              "      <td>156</td>\n",
              "      <td>108.526</td>\n",
              "      <td>28.7453</td>\n",
              "      <td>-6.45269</td>\n",
              "      <td></td>\n",
              "    </tr>\n",
              "    <tr>\n",
              "      <th>...</th>\n",
              "      <td>...</td>\n",
              "      <td>...</td>\n",
              "      <td>...</td>\n",
              "      <td>...</td>\n",
              "      <td>...</td>\n",
              "    </tr>\n",
              "    <tr>\n",
              "      <th>75007</th>\n",
              "      <td>2</td>\n",
              "      <td>29</td>\n",
              "      <td>11.3137</td>\n",
              "      <td></td>\n",
              "      <td>8.05107</td>\n",
              "    </tr>\n",
              "    <tr>\n",
              "      <th>75014</th>\n",
              "      <td>2</td>\n",
              "      <td>67.5</td>\n",
              "      <td>19.0919</td>\n",
              "      <td></td>\n",
              "      <td>1.93607</td>\n",
              "    </tr>\n",
              "    <tr>\n",
              "      <th>75010</th>\n",
              "      <td>2</td>\n",
              "      <td>65</td>\n",
              "      <td>36.7696</td>\n",
              "      <td></td>\n",
              "      <td>1.10245</td>\n",
              "    </tr>\n",
              "    <tr>\n",
              "      <th>75018</th>\n",
              "      <td>2</td>\n",
              "      <td>82.5</td>\n",
              "      <td>26.163</td>\n",
              "      <td></td>\n",
              "      <td>0.603587</td>\n",
              "    </tr>\n",
              "    <tr>\n",
              "      <th>75017</th>\n",
              "      <td>2</td>\n",
              "      <td>93.5</td>\n",
              "      <td>20.5061</td>\n",
              "      <td></td>\n",
              "      <td>0.0120551</td>\n",
              "    </tr>\n",
              "  </tbody>\n",
              "</table>\n",
              "<p>104 rows × 5 columns</p>\n",
              "</div>"
            ],
            "text/plain": [
              "       Population     Mean     SDev   zscore      ttest\n",
              "94130         156  76.7756   31.251  6.75412           \n",
              "92400         156  209.269  43.7526 -32.9985           \n",
              "92230         156  106.679  22.5606 -7.19953           \n",
              "92270         156   54.609  16.5376  29.5046           \n",
              "92310         156  108.526  28.7453 -6.45269           \n",
              "...           ...      ...      ...      ...        ...\n",
              "75007           2       29  11.3137             8.05107\n",
              "75014           2     67.5  19.0919             1.93607\n",
              "75010           2       65  36.7696             1.10245\n",
              "75018           2     82.5   26.163            0.603587\n",
              "75017           2     93.5  20.5061           0.0120551\n",
              "\n",
              "[104 rows x 5 columns]"
            ]
          },
          "metadata": {
            "tags": []
          },
          "execution_count": 103
        }
      ]
    },
    {
      "cell_type": "markdown",
      "metadata": {
        "id": "hCjpJxp-n_kP"
      },
      "source": [
        "#Hypothesis Testing Results"
      ]
    },
    {
      "cell_type": "markdown",
      "metadata": {
        "id": "OrNeekxJajEP"
      },
      "source": [
        "The results shall be tested in the following way. For the z score values the critical values with the significance value of 0.05 and 0.01 shall respectively be compared to 1.645 and 2.33."
      ]
    },
    {
      "cell_type": "markdown",
      "metadata": {
        "id": "AlAPu1fLhxCi"
      },
      "source": [
        "Using the above:"
      ]
    },
    {
      "cell_type": "markdown",
      "metadata": {
        "id": "EBOllQHfbY2k"
      },
      "source": [
        "###Test 1"
      ]
    },
    {
      "cell_type": "code",
      "metadata": {
        "id": "uX3nMyvAbjkK",
        "outputId": "6a702e4c-6751-4597-95fb-4065ff33c023",
        "colab": {
          "base_uri": "https://localhost:8080/"
        }
      },
      "source": [
        "abs(zscore) > 1.645"
      ],
      "execution_count": null,
      "outputs": [
        {
          "output_type": "execute_result",
          "data": {
            "text/plain": [
              "False"
            ]
          },
          "metadata": {
            "tags": []
          },
          "execution_count": 105
        }
      ]
    },
    {
      "cell_type": "code",
      "metadata": {
        "id": "kkOLZAh1bxfw",
        "outputId": "4992de23-6841-4cd9-c3ac-b7a748f157f7",
        "colab": {
          "base_uri": "https://localhost:8080/"
        }
      },
      "source": [
        "abs(zscore) > 2.33"
      ],
      "execution_count": null,
      "outputs": [
        {
          "output_type": "execute_result",
          "data": {
            "text/plain": [
              "False"
            ]
          },
          "metadata": {
            "tags": []
          },
          "execution_count": 106
        }
      ]
    },
    {
      "cell_type": "markdown",
      "metadata": {
        "id": "YIvS10Jdb4i-"
      },
      "source": [
        "With the results above the null hypothesis is not rejected since the means of the vehicles taken and those returned are within the test similar."
      ]
    },
    {
      "cell_type": "markdown",
      "metadata": {
        "id": "JeqdZ7EUcMNe"
      },
      "source": [
        "###Test 2"
      ]
    },
    {
      "cell_type": "code",
      "metadata": {
        "id": "90wLR39qiC8a"
      },
      "source": [
        "from scipy import stats"
      ],
      "execution_count": null,
      "outputs": []
    },
    {
      "cell_type": "code",
      "metadata": {
        "id": "Cfb3JunfiErh",
        "outputId": "e6c261d8-5218-4b18-8e5a-d823b7a59fb3",
        "colab": {
          "base_uri": "https://localhost:8080/"
        }
      },
      "source": [
        "N = 2\n",
        "df = 2*N - 2\n",
        "stats.t.cdf(tscore, df=df)"
      ],
      "execution_count": null,
      "outputs": [
        {
          "output_type": "execute_result",
          "data": {
            "text/plain": [
              "0.5003781215081099"
            ]
          },
          "metadata": {
            "tags": []
          },
          "execution_count": 122
        }
      ]
    },
    {
      "cell_type": "markdown",
      "metadata": {
        "id": "vyfF0AO8hsTX"
      },
      "source": [
        "For the second test: The null hypothesis is rejected. There is a 50% probability that Borrowing cars on a weekday is more than borrowing cars on a weekend."
      ]
    },
    {
      "cell_type": "markdown",
      "metadata": {
        "id": "xXPEvO1ZcdR-"
      },
      "source": [
        "###Test 3"
      ]
    },
    {
      "cell_type": "code",
      "metadata": {
        "id": "9_jPDpGgckvZ"
      },
      "source": [
        "tes = postalstats[postalstats['zscore'] != '']\n",
        "tes.drop(columns= ['Population', 'Mean', 'SDev','ttest'], inplace =True)\n",
        "tes['0.05'] = abs(tes['zscore']) > 1.645\n",
        "tes['0.01'] = abs(tes['zscore']) > 2.33\n"
      ],
      "execution_count": null,
      "outputs": []
    },
    {
      "cell_type": "code",
      "metadata": {
        "id": "P1rJRUV_eGiA",
        "outputId": "0fd1c472-e00e-40ca-da67-e8354689eba7",
        "colab": {
          "base_uri": "https://localhost:8080/",
          "height": 143
        }
      },
      "source": [
        "tes[tes['0.05'] == False]"
      ],
      "execution_count": null,
      "outputs": [
        {
          "output_type": "execute_result",
          "data": {
            "text/html": [
              "<div>\n",
              "<style scoped>\n",
              "    .dataframe tbody tr th:only-of-type {\n",
              "        vertical-align: middle;\n",
              "    }\n",
              "\n",
              "    .dataframe tbody tr th {\n",
              "        vertical-align: top;\n",
              "    }\n",
              "\n",
              "    .dataframe thead th {\n",
              "        text-align: right;\n",
              "    }\n",
              "</style>\n",
              "<table border=\"1\" class=\"dataframe\">\n",
              "  <thead>\n",
              "    <tr style=\"text-align: right;\">\n",
              "      <th></th>\n",
              "      <th>zscore</th>\n",
              "      <th>0.05</th>\n",
              "      <th>0.01</th>\n",
              "    </tr>\n",
              "  </thead>\n",
              "  <tbody>\n",
              "    <tr>\n",
              "      <th>93500</th>\n",
              "      <td>0.0365587</td>\n",
              "      <td>False</td>\n",
              "      <td>False</td>\n",
              "    </tr>\n",
              "    <tr>\n",
              "      <th>94120</th>\n",
              "      <td>0.773766</td>\n",
              "      <td>False</td>\n",
              "      <td>False</td>\n",
              "    </tr>\n",
              "    <tr>\n",
              "      <th>78000</th>\n",
              "      <td>1.05089</td>\n",
              "      <td>False</td>\n",
              "      <td>False</td>\n",
              "    </tr>\n",
              "  </tbody>\n",
              "</table>\n",
              "</div>"
            ],
            "text/plain": [
              "          zscore   0.05   0.01\n",
              "93500  0.0365587  False  False\n",
              "94120   0.773766  False  False\n",
              "78000    1.05089  False  False"
            ]
          },
          "metadata": {
            "tags": []
          },
          "execution_count": 114
        }
      ]
    },
    {
      "cell_type": "code",
      "metadata": {
        "id": "e4G5iKkWeUgC",
        "outputId": "35f3a475-5ac6-43cb-b1ee-e6e665f08b2b",
        "colab": {
          "base_uri": "https://localhost:8080/",
          "height": 143
        }
      },
      "source": [
        "tes[tes['0.01'] == False]"
      ],
      "execution_count": null,
      "outputs": [
        {
          "output_type": "execute_result",
          "data": {
            "text/html": [
              "<div>\n",
              "<style scoped>\n",
              "    .dataframe tbody tr th:only-of-type {\n",
              "        vertical-align: middle;\n",
              "    }\n",
              "\n",
              "    .dataframe tbody tr th {\n",
              "        vertical-align: top;\n",
              "    }\n",
              "\n",
              "    .dataframe thead th {\n",
              "        text-align: right;\n",
              "    }\n",
              "</style>\n",
              "<table border=\"1\" class=\"dataframe\">\n",
              "  <thead>\n",
              "    <tr style=\"text-align: right;\">\n",
              "      <th></th>\n",
              "      <th>zscore</th>\n",
              "      <th>0.05</th>\n",
              "      <th>0.01</th>\n",
              "    </tr>\n",
              "  </thead>\n",
              "  <tbody>\n",
              "    <tr>\n",
              "      <th>93500</th>\n",
              "      <td>0.0365587</td>\n",
              "      <td>False</td>\n",
              "      <td>False</td>\n",
              "    </tr>\n",
              "    <tr>\n",
              "      <th>94120</th>\n",
              "      <td>0.773766</td>\n",
              "      <td>False</td>\n",
              "      <td>False</td>\n",
              "    </tr>\n",
              "    <tr>\n",
              "      <th>78000</th>\n",
              "      <td>1.05089</td>\n",
              "      <td>False</td>\n",
              "      <td>False</td>\n",
              "    </tr>\n",
              "  </tbody>\n",
              "</table>\n",
              "</div>"
            ],
            "text/plain": [
              "          zscore   0.05   0.01\n",
              "93500  0.0365587  False  False\n",
              "94120   0.773766  False  False\n",
              "78000    1.05089  False  False"
            ]
          },
          "metadata": {
            "tags": []
          },
          "execution_count": 115
        }
      ]
    },
    {
      "cell_type": "markdown",
      "metadata": {
        "id": "agUwYW-AeeiA"
      },
      "source": [
        "Using the z test the only stations that can be used as indicative of the whole scope of the dataset are the ones above which have similar statistics to the whole population"
      ]
    },
    {
      "cell_type": "markdown",
      "metadata": {
        "id": "A_6Yt01Hhu9N"
      },
      "source": [
        "For the third test: The null hypothesis is rejected. There are three stations (93500,94120 and 78000) can be used as vague indicators of the whole population as per the study."
      ]
    },
    {
      "cell_type": "markdown",
      "metadata": {
        "id": "g-D9qp_PoDCa"
      },
      "source": [
        "#Discussion of Test Sensitivity  "
      ]
    },
    {
      "cell_type": "markdown",
      "metadata": {
        "id": "UzILRPlvjEbA"
      },
      "source": [
        "From the data tested above; the sensitivity changes are the same. Meaning that the data has a sililar prescision that in all cases where the changes in sensitivity could be applied, The results showed no difference."
      ]
    },
    {
      "cell_type": "markdown",
      "metadata": {
        "id": "5IGyqd46oGma"
      },
      "source": [
        "#Summary and Conclusions"
      ]
    },
    {
      "cell_type": "markdown",
      "metadata": {
        "id": "sablkjaHjhAO"
      },
      "source": [
        "The Postal codes 93500,94120 and 78000 are the most indicative representation of the whole dataset."
      ]
    },
    {
      "cell_type": "markdown",
      "metadata": {
        "id": "aTots_EFiRH7"
      },
      "source": [
        "Vehicles that are borrowed have a good chance of being returned."
      ]
    },
    {
      "cell_type": "markdown",
      "metadata": {
        "id": "-hrmN0HZiR8g"
      },
      "source": [
        "There is a good chance that the borrowing and returning of cars within weekdays are higher than on weekends"
      ]
    }
  ]
}